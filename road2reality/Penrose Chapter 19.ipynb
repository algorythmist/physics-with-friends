{
 "cells": [
  {
   "cell_type": "markdown",
   "id": "691abc48",
   "metadata": {},
   "source": [
    "# Chapter 19"
   ]
  },
  {
   "cell_type": "markdown",
   "id": "1b77efc5",
   "metadata": {},
   "source": [
    "$F = \n",
    "\\begin{bmatrix}\n",
    "0 & E_1 & E_2 & E_3\\\\\n",
    "- E_1 & 0 & -B_3 & B_2\\\\\n",
    "- E_2 & B_3 & 0 & -B_1\\\\\n",
    "- E_3 & -B_2 & B_1 & 0 \n",
    "\\end{bmatrix}\n",
    "$"
   ]
  },
  {
   "cell_type": "markdown",
   "id": "5825fc7d",
   "metadata": {},
   "source": [
    "Hodge Dual takes an antisymmetric $k$-tensor to an antisymmetric $n-k$ tensor, where $n$ is the dimension of the vector space.\n",
    "\n",
    "$F$ is an anti 2-tensor in 4 dimension, so Hodge dual is also a 2 tensor. The current J is a 1-tensor, so dual takes it to a 3-tensor.\n",
    "In index notation, the dual is computed via\n",
    "$$\n",
    "*F_{ab} = \\frac{1}{2}\\epsilon_{abcd} F^{cd}\n",
    "$$\n",
    "\n",
    "$$\n",
    "*j_{abc} = \\epsilon_{abcd} j^d\n",
    "$$"
   ]
  },
  {
   "cell_type": "markdown",
   "id": "8ece1954",
   "metadata": {},
   "source": [
    "Problem 19.1: Check the duals for F and j"
   ]
  },
  {
   "cell_type": "markdown",
   "id": "50866d9f",
   "metadata": {},
   "source": [
    "Maxwell's equations:\n",
    "\n",
    "$dF = 0\\\\\n",
    "d*F = 4\\pi j$\n"
   ]
  },
  {
   "cell_type": "markdown",
   "id": "e121ef11-b378-47c4-bef5-1726ded0b190",
   "metadata": {},
   "source": [
    "### Problem 19.1\n",
    "\n",
    "Show that "
   ]
  },
  {
   "cell_type": "markdown",
   "id": "8f122bbe",
   "metadata": {},
   "source": [
    "### 19.6 Axiomatic definition of exterior derivative\n",
    "$d(a+b) = da+db$\n",
    "\n",
    "$d(a \\wedge b) =  da\\wedge b + (-1)^p a\\wedge db$ (a p-form)\n",
    "\n",
    "$d^2 = 0 $"
   ]
  },
  {
   "cell_type": "markdown",
   "id": "a2116689",
   "metadata": {},
   "source": [
    "Problem 12.11: Show $d(Adx+Bdy) = (\\partial B/\\partial x - \\partial A / \\partial y) dx\\wedge dy$\n",
    "\n",
    "Problem 12.12: If $a = df$ then $da = 0$: follows from thirt axiom of exterior derivative\n",
    "\n",
    "Fundamental theorem of calculus:\n",
    "$\n",
    "\\int_R d*J = \\int_{\\partial R} *J \n",
    "$"
   ]
  },
  {
   "cell_type": "markdown",
   "id": "b59c7da7",
   "metadata": {},
   "source": [
    "In index notation $dF_{abc} = \\frac{\\partial}{\\partial x^{[a}} F_{bc]} := \\partial_{[a}F_{bc]}$"
   ]
  },
  {
   "cell_type": "markdown",
   "id": "cb8219ce",
   "metadata": {},
   "source": [
    "Problem 12.14: Show the coordinare definition above satisfies the axioms"
   ]
  },
  {
   "cell_type": "markdown",
   "id": "35ee8752",
   "metadata": {},
   "source": [
    "$\\partial_a F^{ab} = 4\\pi j^b$ How to get this? From which $d*j =0$ i.e. $\\partial_a j^a = 0 $"
   ]
  },
  {
   "cell_type": "markdown",
   "id": "2be45b2d",
   "metadata": {},
   "source": []
  }
 ],
 "metadata": {
  "kernelspec": {
   "display_name": "Python 3 (ipykernel)",
   "language": "python",
   "name": "python3"
  },
  "language_info": {
   "codemirror_mode": {
    "name": "ipython",
    "version": 3
   },
   "file_extension": ".py",
   "mimetype": "text/x-python",
   "name": "python",
   "nbconvert_exporter": "python",
   "pygments_lexer": "ipython3",
   "version": "3.10.13"
  },
  "widgets": {
   "application/vnd.jupyter.widget-state+json": {
    "state": {},
    "version_major": 2,
    "version_minor": 0
   }
  }
 },
 "nbformat": 4,
 "nbformat_minor": 5
}
