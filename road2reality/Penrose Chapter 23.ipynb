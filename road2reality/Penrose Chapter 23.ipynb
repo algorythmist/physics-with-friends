{
 "cells": [
  {
   "cell_type": "markdown",
   "id": "0a1e7f99",
   "metadata": {},
   "source": [
    "# Road to Reality Chapter 23"
   ]
  },
  {
   "cell_type": "markdown",
   "id": "56d4a7f7",
   "metadata": {},
   "source": [
    "#### Define bras, kets, brackets\n",
    "$\n",
    "\\newcommand{\\ket}[1]{\\left|{#1}\\right\\rangle}\n",
    "\\newcommand{\\bra}[1]{\\left\\langle{#1}\\right|}\n",
    "\\newcommand{\\braket}[2]{\\left\\langle{#1}\\middle|{#2}\\right\\rangle}\n",
    "$"
   ]
  },
  {
   "cell_type": "markdown",
   "id": "d62ee193",
   "metadata": {},
   "source": [
    "### Problem 23.1\n",
    "\n",
    "Explain the vanishing of the divergence of the electric and magnetic fields\n",
    "\n",
    "#### Answer\n",
    "\n",
    "This follows directly from Maxwell's equation whenever the charge $q$ is 0\n"
   ]
  },
  {
   "cell_type": "markdown",
   "id": "34c379e6",
   "metadata": {},
   "source": [
    "### Problem 23.2\n",
    "\n",
    "Let $\\Omega = \\ket{u}\\ket{d} - \\ket{d}\\ket{u}$. What factor normalizes it?\n",
    "\n",
    "#### Answer\n",
    "\n",
    "$|\\Omega|^2 = \\braket{\\Omega}{\\Omega} = (\\bra{du}-\\bra{ud})(\\ket{ud} - \\ket{du} = 2$\n",
    "\n",
    "so $|\\Omega| = \\sqrt{2}$ and the normalizing factor is\n",
    "$\\frac{1}{\\sqrt{2}}$"
   ]
  },
  {
   "cell_type": "markdown",
   "id": "ab4cfee2",
   "metadata": {},
   "source": [
    "### Problem 23.4\n",
    "\n",
    "Why is the spin of $\\Omega$ 1?\n",
    "\n",
    "#### Answer\n",
    "\n",
    "For a vector space of dimension $n$, the space of alternating $k$-tensors has dimension ${n \\choose k}$. \n",
    "In this case, this is ${2 \\choose 2} = 1$"
   ]
  },
  {
   "cell_type": "markdown",
   "id": "46db2a06",
   "metadata": {},
   "source": [
    "### Problem 23.4\n",
    "\n",
    "Show that $\\Omega$ cannot be written as a product of kets.\n",
    "\n",
    "#### Solution\n",
    "Suppose $\\ket{\\Omega} = \\ket{a}\\ket{b}$\n",
    "\n",
    "$$\n",
    "\\ket{a}\\ket{b}$ = (a_u\\ket{u}+a_d\\ket{d})(b_u\\ket{u}+b_d\\ket{d}) = \\\\\n",
    "a_u b_u\\ket{uu}+a_d b_u\\ket{du} + a_d b_u\\ket{du}+ a_d b_d\\ket{dd}\n",
    "$$\n",
    "\n",
    "Then we must have \n",
    "\n",
    "$$\n",
    "a_u b_u = 0 \\\\\n",
    "a_d b_d = 0\n",
    "$$\n",
    "\n",
    "But then, either $a_d b_u$ or $a_u b_d$ would have to be 0 as well"
   ]
  },
  {
   "cell_type": "code",
   "execution_count": null,
   "id": "bee1405b",
   "metadata": {},
   "outputs": [],
   "source": []
  }
 ],
 "metadata": {
  "kernelspec": {
   "display_name": "physics-with-friends",
   "language": "python",
   "name": "physics-with-friends"
  },
  "language_info": {
   "codemirror_mode": {
    "name": "ipython",
    "version": 3
   },
   "file_extension": ".py",
   "mimetype": "text/x-python",
   "name": "python",
   "nbconvert_exporter": "python",
   "pygments_lexer": "ipython3",
   "version": "3.10.9"
  }
 },
 "nbformat": 4,
 "nbformat_minor": 5
}
