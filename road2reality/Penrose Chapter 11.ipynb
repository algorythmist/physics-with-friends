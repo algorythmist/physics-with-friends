{
 "cells": [
  {
   "cell_type": "markdown",
   "id": "1621f49f",
   "metadata": {},
   "source": [
    "# Road to Reality Chapter 11"
   ]
  },
  {
   "cell_type": "markdown",
   "id": "0743a72c",
   "metadata": {},
   "source": [
    "## Problem 11.1\n",
    "\n",
    "Use the relations $i^2 = j^2 = k^2 = ijk = -1$, to derive $ij = -ji, jk = -kj, ki = -ik$\n",
    "\n",
    "\n",
    "### Solution\n",
    "\n",
    "Start with $ijk = -1$. First multiply from the right with i to get $jk = i$. \n",
    "Then multiply from the left with k to get $ij = k$. Putting the two together, $jkj = k$.\n",
    "Finally, multiply from the right with j to get $jk = -kj$. The other relations are obtained in a similar way."
   ]
  },
  {
   "cell_type": "markdown",
   "id": "7a215b40",
   "metadata": {},
   "source": [
    "## Problem 11.3\n",
    "Let $q = t +ui+ vj + wk$. Show that $q^{-1} = \\bar{q}(q\\bar{q})^{-1}$ where $\\bar{q} = t - ui - vj - wk$.\n",
    "\n",
    "### Solution\n",
    "\n",
    "As shown in the text, $q\\bar{q} \\bar{q}q = t^2+u^2+v^2+w^2$ is a scalar. Multiplying the expression above by q, we get\n",
    "\n",
    "$$\n",
    "q^{-1}q = \\bar{q}(q\\bar{q})^{-1}q= \\frac{q\\bar{q}}{q\\bar{q}} = 1\n",
    "$$"
   ]
  },
  {
   "cell_type": "markdown",
   "id": "748472d7",
   "metadata": {},
   "source": [
    "## Problem 11.6 \n",
    "Find the geometrical nature of the composition of two reflections in 3D Euclidean plane\n",
    "\n",
    "### Answer\n",
    "A rotation"
   ]
  },
  {
   "cell_type": "markdown",
   "id": "64f62729",
   "metadata": {},
   "source": [
    "## Problem 11.7\n",
    "Show that \n",
    "$i = \\gamma_2\\gamma_3, j = \\gamma_3\\gamma_1, k = \\gamma_1\\gamma_2$\n",
    "satisfy the quaternion algebra.\n",
    "\n",
    "### Solution\n",
    "\n",
    "\n",
    "$i^2 = \\gamma_2\\gamma_3\\gamma_2\\gamma_3 =  -\\gamma_2^2 \\gamma_3^2 = -1$\n",
    "\n",
    "$j,k$ follow similarly.\n",
    "\n",
    "$ijk = \\gamma_2\\gamma_3\\gamma_3\\gamma_1\\gamma_1\\gamma_2 = \n",
    "\\gamma_2\\gamma_3^2 \\gamma_1^2 \\gamma_2 = \\gamma_2^2 = -1$"
   ]
  },
  {
   "cell_type": "markdown",
   "id": "7ce9d8e9",
   "metadata": {},
   "source": [
    "## Problem 11.8\n",
    "Show that in an n-dimensional space, the number of independent products $\\gamma_1 \\ldots \\gamma_k$ is \n",
    "${n \\choose k} = \\frac{n!}{(n-k)!k!}$\n",
    "\n",
    "### Solution \n",
    "Once we recognize that the formula in the book is ${n \\choose k}$, the explanation is quite simple. \n",
    "\n",
    "Reordering any selection of k elements results in the same expression with a possible change of sign. Furthermore, we can only have one of each because $\\gamma_i^2 = 0$. Consequently the number of independent components is formed by choosing $k$ elements out of set of $n$, which is to say ${n \\choose k}$."
   ]
  },
  {
   "cell_type": "markdown",
   "id": "9d06f8fd",
   "metadata": {},
   "source": [
    "## Problem 11.9\n",
    "Show $a∧b = - b\\wedge a$\n",
    "\n",
    "### Solution\n",
    "\n",
    "$$\n",
    "a\\wedge b = \\sum a_i b_j \\eta_i\\wedge\\eta_j = -\\sum a_i b_j \\eta_j\\wedge\\eta_i \n",
    "= -b\\wedge a\n",
    "$$"
   ]
  },
  {
   "cell_type": "markdown",
   "id": "e1f0f7ae",
   "metadata": {},
   "source": [
    "## Problem 11.10\n",
    "Write $a∧b$ fully for $n = 2$\n",
    "\n",
    "### Solution\n",
    "\n",
    "$$\n",
    "(a_1 \\eta_1 + a_2 \\eta_2)\\wedge(b_1 \\eta_1 + b_2 \\eta_2) =  \\\\\n",
    "a_1 b_1 \\eta_1\\wedge \\eta_1 + a_1 b_2 \\eta_1\\wedge \\eta_2 + a_2 b_1 \\eta_2\\wedge \\eta_1 + a_2 b_2 \\eta_2\\wedge \\eta_2 = \\\\\n",
    "a_1 b_2 \\eta_1\\wedge \\eta_2 + a_2 b_1 \\eta_2\\wedge \\eta_2 = \\\\\n",
    "(a_1 b_2 - a_2 b_1)\\eta_1\\wedge \\eta_2\n",
    "$$"
   ]
  },
  {
   "cell_type": "markdown",
   "id": "16db7bd5",
   "metadata": {},
   "source": [
    "## Problem 11.12\n",
    "Show the that the wedge product remains unaltered if $a$ is replaced by $(a+b)$ where $b$ is any other vector involved in the product.\n",
    "\n",
    "### Solution\n",
    "This follows directly from the distributivity of the wedge product and the fact that $b\\wedge b = 0$.\n"
   ]
  },
  {
   "cell_type": "markdown",
   "id": "9cc617d0",
   "metadata": {},
   "source": [
    "## Problem 11.13\n",
    "Show that for 2 general elements P of grade p and Q of grade q, \n",
    "$$\n",
    "P\\wedge Q = (-1)^{pq}Q\\wedge P\n",
    "$$"
   ]
  },
  {
   "cell_type": "markdown",
   "id": "c4b9c162",
   "metadata": {},
   "source": [
    "## Problem 11.14\n",
    "Deduce that $P∧P = 0$ if $p$ is odd\n",
    "\n",
    "### Solution\n",
    "In this case, $P∧P = -P∧P$, so $P∧P = 0$"
   ]
  }
 ],
 "metadata": {
  "kernelspec": {
   "display_name": "physics-with-friends",
   "language": "python",
   "name": "physics-with-friends"
  },
  "language_info": {
   "codemirror_mode": {
    "name": "ipython",
    "version": 3
   },
   "file_extension": ".py",
   "mimetype": "text/x-python",
   "name": "python",
   "nbconvert_exporter": "python",
   "pygments_lexer": "ipython3",
   "version": "3.10.13"
  },
  "widgets": {
   "application/vnd.jupyter.widget-state+json": {
    "state": {},
    "version_major": 2,
    "version_minor": 0
   }
  }
 },
 "nbformat": 4,
 "nbformat_minor": 5
}
