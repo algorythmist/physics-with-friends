{
 "cells": [
  {
   "cell_type": "markdown",
   "id": "0a1e7f99",
   "metadata": {},
   "source": [
    "# Road to Reality Chapter 22"
   ]
  },
  {
   "cell_type": "code",
   "execution_count": 1,
   "id": "32eec3bc",
   "metadata": {},
   "outputs": [],
   "source": [
    "import numpy as np\n",
    "import matplotlib.pyplot as plt"
   ]
  },
  {
   "cell_type": "markdown",
   "id": "56d4a7f7",
   "metadata": {},
   "source": [
    "#### Define bras, kets, brackets\n",
    "$\n",
    "\\newcommand{\\ket}[1]{\\left|{#1}\\right\\rangle}\n",
    "\\newcommand{\\bra}[1]{\\left\\langle{#1}\\right|}\n",
    "\\newcommand{\\braket}[2]{\\left\\langle{#1}\\middle|{#2}\\right\\rangle}\n",
    "$"
   ]
  },
  {
   "cell_type": "markdown",
   "id": "1605b91e",
   "metadata": {},
   "source": [
    "## Operators and Notation\n",
    "\n",
    "Operators are denoted with capital letters $A$. The Hermitian conjugate is usually denoted by $A^\\dagger$ but in Penrose it is $A^*$. The complex conjugate of a scalar $a$ is denoted by either $\\bar{a}$ or $a^*$.\n",
    "\n",
    "An operator is \n",
    "\n",
    "- Hermitian if $H^* = H$\n",
    "\n",
    "- Normal if $N^*N = NN^*$\n",
    "\n",
    "- Unitary if $U^*U = UU^* = I$\n"
   ]
  },
  {
   "cell_type": "markdown",
   "id": "d62ee193",
   "metadata": {},
   "source": [
    "### Problem 22.2\n",
    "\n",
    "Explain why $\\braket{\\phi}{\\psi}$ converges if $\\braket{\\phi}{\\phi}$ and \n",
    "$\\braket{\\psi}{\\psi}$ both converge.\n",
    "\n",
    "#### Solution\n",
    "It follows from Schwartz inequality\n",
    "\n",
    "$$\n",
    "|\\braket{\\phi}{\\psi}|^2 ≤ \\braket{\\phi}{\\phi}\\braket{\\psi}{\\psi}\n",
    "$$"
   ]
  },
  {
   "cell_type": "markdown",
   "id": "a66a6982",
   "metadata": {},
   "source": [
    "### Problem 22.3\n",
    "If they are normalizable, they converge, so the inner product is defined"
   ]
  },
  {
   "cell_type": "markdown",
   "id": "4283c057",
   "metadata": {},
   "source": [
    "### Problem 22.6\n",
    "\n",
    "If I did this right\n",
    "\n",
    "$$\n",
    "<\\phi,\\psi> = \\frac{1}{2}\\left[|\\phi+\\psi|^2 - |\\phi+i\\psi|^2\\right]\n",
    "$$\n"
   ]
  },
  {
   "cell_type": "markdown",
   "id": "a10a6ac2",
   "metadata": {},
   "source": [
    "### Problem 22.7\n",
    "\n",
    "I can think of two ways to derive the Leibniz property for an inner product. \n",
    "\n",
    "The first is to assume that the inner product is given in integral form $∫ \\bar{\\psi}\\phi$ and interchange the derivative with the integral. This is not very satisfactory because it assumes a specific inner product form.\n",
    "\n",
    "Another way is to assume the Hilbert space separable (as is customary) and pick a basis $\\ket{e_i}$.\n",
    "Two arbitrary time-dependent states can be expressed in terms of this basis\n",
    "\n",
    "$$\n",
    "\\phi(t) - \\sum_ia_i(t)\\ket{e_i}\\\\\n",
    "\\psi(t) - \\sum_ib_i(t)\\ket{e_i}\\\\\n",
    "$$\n",
    "\n",
    "Then the inner product in terms of this basis is given by\n",
    "\n",
    "$$\n",
    "\\braket{\\phi(t)}{\\psi(t)} = \\sum_i \\bar{a_i}(t)b_i(t)\n",
    "$$\n",
    "\n",
    "And the Leibniz rule becomes apparent, since it applies to normal product of functions."
   ]
  },
  {
   "cell_type": "markdown",
   "id": "d44808e0",
   "metadata": {},
   "source": [
    "### Problem 22.9\n",
    "\n",
    "Let $\\psi = A\\phi$. Remember $\\dot{\\phi} = -iH\\phi$ ($\\hbar$ omitted)\n",
    "\n",
    "$$\n",
    "\\frac{d}{dt}\\braket{\\phi}{\\psi} = \\braket{\\dot{\\phi}}{\\psi}+\\braket{\\phi}{\\dot{\\psi}} = \\\\\n",
    "\\braket{\\dot{\\phi}}{A\\phi}+\\braket{\\phi}{A\\dot{\\phi}} = \\\\\n",
    "\\braket{-iH\\phi}{A\\phi}+\\braket{\\phi}{-iAH\\phi} = \\\\\n",
    "i\\braket{\\phi}{HA\\phi}-i\\braket{\\phi}{AH\\phi} = \\\n",
    "-i \\bra{\\phi}[H,A]\\ket{\\phi} \n",
    "$$"
   ]
  },
  {
   "cell_type": "markdown",
   "id": "5860a822",
   "metadata": {},
   "source": [
    "Since $\\phi$ is arbitrary,\n",
    "\n",
    "$$\n",
    "\\frac{dA}{dt} = \\frac{-i}{\\hbar}[H,A]\n",
    "$$\n",
    "\n",
    "where I have restored $\\hbar$."
   ]
  },
  {
   "cell_type": "markdown",
   "id": "3c1cb300",
   "metadata": {},
   "source": [
    "### Problem 22.10\n",
    "Show that the eigenvalues of a Hermitian operator are real\n",
    "\n",
    "#### Solution\n",
    "\n",
    "Start with $\\bra{\\phi}H\\ket{\\phi} = \\lambda\\braket{\\phi}{\\phi}$ and take complex conjugates of both sides\n",
    "\n",
    "$$\n",
    "\\bra{\\phi}H^\\dagger\\ket{\\phi} = \\bar{\\lambda}\\braket{\\phi}{\\phi} \\implies\\\\\n",
    "\\bra{\\phi}H\\ket{\\phi} = \\bar{\\lambda}\\braket{\\phi}{\\phi}\n",
    "$$\n",
    "\n",
    "comparing this with the original expression, we conclude $\\bar{\\lambda} = \\lambda$."
   ]
  },
  {
   "cell_type": "markdown",
   "id": "542ab352",
   "metadata": {},
   "source": [
    "### Problem 22.11\n",
    "\n",
    "A *normal operator* commutes with its adjoint:\n",
    "\n",
    "$$\n",
    "N^*N = NN^*\n",
    "$$\n",
    "\n",
    "Show that a normal operator has orthogonal eigenvectors\n",
    "\n",
    "#### Preliminaries\n",
    "\n",
    "First, let's establish some facts about Hermitian operators\n",
    "\n",
    "**Proposition**: A Hermitian operator has real eigenvalues.\n",
    "\n",
    "**Proof** Let $\\psi$ be the unit eigenvector of the eigenvalue $\\lambda$. Note that by the definition of the Hermitian operator,\n",
    "$\\bra{\\psi}H\\ket{\\psi} = \\bra{\\psi}H\\ket{\\psi}^*$.\n",
    "\n",
    "$\n",
    "\\lambda = \\lambda \\braket{\\psi}{\\psi} = \\braket{\\psi}{\\lambda \\psi} = \\bra{\\psi}H\\ket{\\psi} = \n",
    "\\bra{\\psi}H\\ket{\\psi}* = \\braket{\\psi}{\\lambda \\psi}^* = \\lambda^*\\braket{\\psi}{\\psi} = \\lambda^*\n",
    "$\n",
    "\n"
   ]
  },
  {
   "cell_type": "markdown",
   "id": "368e91da",
   "metadata": {},
   "source": [
    "**Proposition**: The eigenvectors of a Hermitian operator corresponding to different eigenvalues are orthogonal.\n",
    "\n",
    "**Proof** Let $\\lambda_1, \\lambda_2$ be distinct eigenvalues with eigenvectors $\\ket{\\psi_1}, \\ket{\\psi_2}$\n",
    "\n",
    "$$\n",
    "(H-\\lambda_1I)\\ket{\\psi_1} = 0 \\implies\\\\\n",
    "\\bra{\\psi_2}H\\ket{\\psi_1} = \\lambda_1 \\braket{\\psi_2}{\\psi_1} \\implies\\\\\n",
    "\\braket{H\\psi_2}{\\psi_1} = \\lambda_1 \\braket{\\psi_2}{\\psi_1} \\implies\\\\\n",
    "\\lambda_2^* \\braket{\\psi_2}{\\psi_1} = \\lambda_1 \\braket{\\psi_2}{\\psi_1} \\implies\\\\\n",
    "\\lambda_2 \\braket{\\psi_2}{\\psi_1} = \\lambda_1 \\braket{\\psi_2}{\\psi_1}\n",
    "$$\n",
    "\n",
    "And since the lambdas are distinct, we conclude that $\\braket{\\psi_2}{\\psi_1} = 0$."
   ]
  },
  {
   "cell_type": "markdown",
   "id": "75f51289",
   "metadata": {},
   "source": [
    "Moving on to Normal operators\n",
    "\n",
    "**Proposistion**: if an normal operator N has eigevalue $\\lambda$, then $N^*$ has eigenvalue $\\lambda^*$ with the same eignevector(s).\n",
    "\n",
    "Let $\\lambda$ be an eigenvalue of N with eigenvector $\\ket{\\psi}$. Then $(N-\\lambda I)\\ket{\\psi} = 0$. Consequently\n",
    "\n",
    "$$\n",
    "\\bra{\\psi}(N^*-\\lambda^* I)(N-\\lambda I)\\ket{\\psi} = 0 \\implies\\\\\n",
    "\\bra{\\psi}N^*N\\ket{\\psi} + |\\lambda|^2 - \\lambda^*\\bra{\\psi}N\\ket{\\psi} - \\lambda\\bra{\\psi}N^*\\ket{\\psi} = 0 \\implies\\\\\n",
    "\\bra{\\psi}N^*N\\ket{\\psi} - \\lambda\\bra{\\psi}N^*\\ket{\\psi} = 0 \n",
    "$$\n",
    "\n",
    "Where I have used $\\bra{\\psi}N\\ket{\\psi} = \\lambda\\braket{\\psi}{\\psi}$ to cancel the two middle terms. So we have \n",
    "$$\n",
    "\\bra{\\psi}N^*N\\ket{\\psi} = \\lambda\\bra{\\psi}N^*\\ket{\\psi} \n",
    "$$\n",
    "\n",
    "but observe that $N^*N$ is Hermitean, therefore the term on the left is a real number, which means it is equal to its complex conjugate. This means:\n",
    "\n",
    "$$\n",
    "\\lambda\\bra{\\psi}N^*\\ket{\\psi}  = \\lambda^*(\\bra{\\psi}N^*\\ket{\\psi})* =  \\lambda^*\\bra{\\psi}N\\ket{\\psi} = |\\lambda|^2\n",
    "$$\n",
    "\n",
    "from which we condlude that $N^*\\ket{\\psi}  =  \\lambda^*\\ket{\\psi}$\n"
   ]
  },
  {
   "cell_type": "markdown",
   "id": "458bb54a",
   "metadata": {},
   "source": [
    "**Proposition**: The eigenvectors of a Normal operator corresponding to different eigenvalues are orthogonal.\n",
    "\n",
    "**Proof** \n",
    "\n",
    "$$\n",
    "\\bra{\\psi_2}N\\ket{\\psi_1} = \\lambda_1\\braket{\\psi_2}{\\psi_1} \\implies\\\\\n",
    "\\bra{\\psi_1}N^*\\ket{\\psi_2} = \\lambda_1^*\\braket{\\psi_1}{\\psi_2}\n",
    "$$\n",
    "\n",
    "On the other hand\n",
    "\n",
    "$$\n",
    "\\bra{\\psi_1}N^*\\ket{\\psi_2} = \\lambda_2^*\\braket{\\psi_1}{\\psi_2} \n",
    "$$\n",
    "\n",
    "Therefore $\\lambda_1^*\\braket{\\psi_1}{\\psi_2} = \\lambda_2^*\\braket{\\psi_1}{\\psi_2}$,\n",
    "and since the lambda are distinct, we must conclude that $\\braket{\\psi_1}{\\psi_2} = 0$.\n"
   ]
  },
  {
   "cell_type": "markdown",
   "id": "91cc3ed2",
   "metadata": {},
   "source": [
    "### Problem 22.12\n",
    "\n",
    "Show that the following expression takes the value 1 only of the eigenvector are proportional\n",
    "\n",
    "$$\n",
    "\\frac{\\braket{\\phi}{\\psi}\\braket{\\psi}{\\phi}}{|\\psi|^2|\\phi|^2}\n",
    "$$\n",
    "\n",
    "#### Solution\n",
    "\n",
    "Follows from Schwartz inequality\n"
   ]
  },
  {
   "cell_type": "markdown",
   "id": "233bbae8",
   "metadata": {},
   "source": [
    "### Problem 22.13\n",
    "Show that if an observable Q satisfies a polynomial equation, so does every single eigenvalue.\n",
    "\n",
    "#### Solution\n",
    "\n",
    "Suppose $p(Q) = 0$ for some polynomial $p$. Then for each eigenvector $q_i, p(Q)q_i = 0$.\n",
    "Expanding $p(Q)$ and using the fact that $Q^n q_i = \\lambda^n q_i$, it also follows that \n",
    "$p(\\lambda_i)q_i = 0$, and since $q_i$ is not 0, we conclude $p(\\lambda_i) = 0$."
   ]
  },
  {
   "cell_type": "markdown",
   "id": "c5214532",
   "metadata": {},
   "source": [
    "### Problem 22.14\n",
    "If E is a projection operator, show that $E\\ket{\\psi}$ and $(I-E)\\ket{\\psi}$ are orthogonal\n",
    "\n",
    "#### Solution\n",
    "$$\n",
    "\\braket{E\\psi}{(I-E)\\psi} = \\braket{E\\psi}{\\psi} - \\braket{E\\psi}{E\\psi} =\\\\\n",
    "\\braket{\\psi}{E\\psi} - \\braket{\\psi}{E^2\\psi} = \\braket{\\psi}{E\\psi} - \\braket{\\psi}{E\\psi} = 0\n",
    "$$\n",
    "\n",
    "or more simply\n",
    "\n",
    "$$\n",
    "E(I-E) = E - E^2 = E - E = 0\n",
    "$$"
   ]
  },
  {
   "cell_type": "markdown",
   "id": "64dc2586",
   "metadata": {},
   "source": [
    "### Problem 22.15\n",
    "\n",
    "The norm is reduced by a projection\n",
    "\n",
    "#### Solution\n",
    "\n",
    "Let x be a vector. Since Ex and (1-E)x are orthogonal, the triangle inequality holds with equality\n",
    "\n",
    "$$\n",
    "|x| = |Ex +(1-E)x| = |Ex| + |(1-E)x|\n",
    "$$\n",
    "\n",
    "from which it follows, $|Ex| ≤ |x|$"
   ]
  },
  {
   "cell_type": "markdown",
   "id": "b68801ab",
   "metadata": {},
   "source": [
    "### Problem 22.16\n",
    "\n",
    "Polarization needs to be conserved. The total polarization after splitting will be + polarization in the initial direction, - polarization in the opposite direction. In order for them to add up to the original, the polarization in the opposite direction must be negative.\n"
   ]
  },
  {
   "cell_type": "markdown",
   "id": "7cd955b6",
   "metadata": {},
   "source": [
    "### Problem 22.17\n",
    "\n",
    "Let $E_{\\tau}$ be the projection that projects to the space spanned by $\\tau+, \\tau-$\n",
    "and $E_{\\rho}$ the corresponding projection onto the $\\rho$ space.\n",
    "\n",
    "Since the state is The state is $\\ket{\\tau+} + \\ket{\\rho-}$, we have\n",
    "\n",
    "$$\n",
    "E_{\\rho}(\\ket{\\tau+} + \\ket{\\rho-}) = E_{\\rho}\\ket{\\tau+} + E_{\\rho}\\ket{\\rho-} = 0 + \\ket{\\rho-} \n",
    "$$"
   ]
  },
  {
   "cell_type": "markdown",
   "id": "53e71380",
   "metadata": {},
   "source": [
    "### Problem 22.18\n",
    "\n",
    "The correspondence with quaternions is given by $(l_1, l_2, l_3) \\rightarrow \\frac{1}{2}(i, j, k)$.\n",
    "    \n",
    "The commutation relations follow from the properties of quaternions."
   ]
  },
  {
   "cell_type": "markdown",
   "id": "121c6555",
   "metadata": {},
   "source": [
    "### Problem 22.19 \n",
    "Explain the relationship between Pauli matrices and Quaternions\n",
    "\n",
    "#### Answer\n",
    "\n",
    "For each Pauli matrix $\\sigma_j$, define $q_j = i\\sigma_j$.\n",
    "Then the $q_j$ reproduce the algebra of quaternions:\n",
    "\n",
    "$$\n",
    "q_1 q_2 q_3 = q_j^2 = -1\n",
    "$$"
   ]
  },
  {
   "cell_type": "markdown",
   "id": "3d5ad296",
   "metadata": {},
   "source": [
    "### Problem 22.20\n",
    "\n",
    "If we continuously exponentiate  one of the Pauli matrices until we get an entire rotation through $2\\pi$,\n",
    "we find that we get the operator $-I$.\n",
    "\n",
    "#### Solution\n",
    "\n",
    "The problem, as stated, is simply wrong. Exponentiating any Pauli matrix we get\n",
    "\n",
    "$$\n",
    "e^{iθ\\sigma} = I\\cos{\\theta} + i\\sigma\\sin{\\theta}\n",
    "$$\n",
    "\n",
    "When $θ = 2\\pi$, this becomes $I$, not $-I$\n",
    "\n",
    "The question really has to do with proper representations of $SU(2)$, a topic not covered so far. \n",
    "It turns out that in order to obtain a proper representation of $SU(2)$ one has to use not the Pauli matrices themselves, \n",
    "but rather the matrices $i\\sigma/2$. With the one over two factor introduced, we get \n",
    "\n",
    "$$\n",
    "e^{iθ\\sigma/2} = I\\cos{\\theta/2} + i\\sigma\\sin{\\theta/2}\n",
    "$$\n",
    "\n",
    "so if we set $\\theta$ to $2\\pi$ we obtain the desired result.\n",
    "\n",
    "The reason that the Pauli matrices themselves are not a proper representation is because they do not satisfy a Lie Algebra. We have:\n",
    "\n",
    "$$\n",
    "[\\sigma _{j},\\sigma _{k}]=2i\\varepsilon _{jk\\ell }\\,\\sigma _{\\ell }\n",
    "$$\n",
    "\n",
    "Whereas if we set $S_i = i\\sigma_i/2$, then\n",
    "$$\n",
    "[S _{j},S _{k}]= -\\varepsilon _{jk\\ell }\\,S_{\\ell }\n",
    "$$\n",
    "\n"
   ]
  },
  {
   "cell_type": "markdown",
   "id": "3ec73b2f",
   "metadata": {},
   "source": [
    "### Problem 22.21\n",
    "\n",
    "I think all that this is trying to say is that there are $n$ values between $-n/2$ and $n/2$ incremented by integer values.\n",
    "\n",
    "$n=1, -1/2, 1/2$\n",
    "\n",
    "$n=2, -1, 0, 1$\n",
    "\n",
    "$n=3, -3/2, -1/2, 1/2, 3/2$\n",
    "\n",
    "etc.."
   ]
  },
  {
   "cell_type": "markdown",
   "id": "7a0a1e5b",
   "metadata": {},
   "source": [
    "### Problem 22.22\n",
    "\n",
    "Show that $J^2$ commutes with each $L_i$\n",
    "\n",
    "#### Solution\n",
    "\n",
    "It is obvious that $[L_1, L_1^2] = 0$, so we need to work the other commutators\n",
    "\n",
    "$$\n",
    "[L_1, L_2^2] = L_2[L_1,L_2] + [L_1,L_2]L_2 = L_2 L_3 + L_3 L_2\n",
    "$$\n",
    "\n",
    "Similarly\n",
    "$$\n",
    "[L_1, L_3^2] = L_3[L_1,L_3] + [L_1,L_3]L_3 = -L_3 L_2 - L_2 L_3\n",
    "$$\n",
    "\n",
    "Adding them all up\n",
    "\n",
    "$$\n",
    "[L_1, J^2] = [L_1, L_1^2]+ [L_1, L_2^2]+[L_1, L_3^2] = \\\\\n",
    "0 + L_2 L_3 + L_3 L_2 -L_3 L_2 - L_2 L_3 = 0\n",
    "$$\n",
    "\n",
    "(I have omitted $i\\hbar$ but this does not change anything)\n"
   ]
  },
  {
   "cell_type": "markdown",
   "id": "da2e9ece",
   "metadata": {},
   "source": [
    "### Problem 22.23\n",
    "\n",
    "Let $L^+ = L_1 + iL_2, L^- = L_1 - iL_2$.\n",
    "\n",
    "1) Work out their commutators with $L_3$\n",
    "\n",
    "2) Work out $J^2$ in terms of $L^+, L^-$ and $L_3$.\n",
    "\n",
    "3) Show that if $\\ket{\\psi}$ is an eigenvector of $L_3$, then so is $L^+\\ket{\\psi}$ and $L^-\\ket{\\psi}$ and find it's eigenvalue\n",
    "\n",
    "4) Show that if $\\psi$ belongs to a finite-dimensional irreducible representation space spanned by such eigenstates,\n",
    "then the dimension is an integer $2j$ where $j(j+1)$ is an eigenvalue of $J^2$ for all states in the space.\n",
    "\n",
    "#### Solution\n",
    "\n",
    "1) $[L^+, L_3] = -\\hbar L^+$, $[L^-, L_3] = \\hbar L^-$\n",
    "\n",
    "2) $J^2 = L_3^2 + \\frac{1}{2}(L^+ L^- + L^- L^+)$\n",
    "\n",
    "3) from (1), $L^+ L3 = L_3 L^+ - ℏ L^+ \\implies L_3 L^+ = L^+ L3 + ℏ L^+ $\n",
    "\n",
    "so, $L_3 L^+ \\ket{\\psi} = (L^+ L_3 + ℏ L^+ )\\ket{\\psi} = (\\lambda+\\hbar)L^+\\ket{\\psi}$\n",
    "\n",
    "Also $L_3 L^- =  L^- L_3 - ℏ L^-$, so that $L_3 L^- \\ket{\\psi} = (L^- L_3 - ℏ L^- )\\ket{\\psi} = (\\lambda-\\hbar)L^-\\ket{\\psi}$\n",
    "\n",
    "4) TODO"
   ]
  },
  {
   "cell_type": "markdown",
   "id": "8f560acd",
   "metadata": {},
   "source": [
    "### Problem 22.24\n",
    "\n",
    "Momentum is the generator of space translation, so a 0 momentum implies no translation in space."
   ]
  },
  {
   "cell_type": "markdown",
   "id": "58e308af",
   "metadata": {},
   "source": [
    "### Problem 22.25\n",
    "\n",
    "$$\n",
    "\\braket{(a,b)}{(w,z)} = (a^* \\bra{0} + b^* \\bra{1})(w\\ket{0} + z\\ket{1}) = a^* w + b^* z \n",
    "$$\n",
    "\n",
    "where the orthonormality of $\\ket{0}, \\ket{1}$ has been used."
   ]
  },
  {
   "cell_type": "code",
   "execution_count": null,
   "id": "409d4c16",
   "metadata": {},
   "outputs": [],
   "source": []
  }
 ],
 "metadata": {
  "kernelspec": {
   "display_name": "computational-physics",
   "language": "python",
   "name": "computational-physics"
  },
  "language_info": {
   "codemirror_mode": {
    "name": "ipython",
    "version": 3
   },
   "file_extension": ".py",
   "mimetype": "text/x-python",
   "name": "python",
   "nbconvert_exporter": "python",
   "pygments_lexer": "ipython3",
   "version": "3.10.6"
  },
  "latex_envs": {
   "LaTeX_envs_menu_present": true,
   "autoclose": false,
   "autocomplete": true,
   "bibliofile": "biblio.bib",
   "cite_by": "apalike",
   "current_citInitial": 1,
   "eqLabelWithNumbers": true,
   "eqNumInitial": 1,
   "hotkeys": {
    "equation": "Ctrl-E",
    "itemize": "Ctrl-I"
   },
   "labels_anchors": false,
   "latex_user_defs": false,
   "report_style_numbering": false,
   "user_envs_cfg": false
  }
 },
 "nbformat": 4,
 "nbformat_minor": 5
}
