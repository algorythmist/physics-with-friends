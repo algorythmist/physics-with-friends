{
 "cells": [
  {
   "cell_type": "markdown",
   "id": "a90d3be0",
   "metadata": {},
   "source": [
    "# Road to Reality Chapter 12"
   ]
  },
  {
   "cell_type": "markdown",
   "id": "d665dddc",
   "metadata": {},
   "source": [
    "## Overview \n",
    "\n",
    "Coordinates of vectors and covectors\n",
    "\n",
    "Vector\n",
    "\n",
    "$$\n",
    "\\xi = \\sum_{i=1}^n \\xi^i \\frac{\\partial}{\\partial x^i}\n",
    "$$\n",
    "\n",
    "Coverctor\n",
    "\n",
    "$$\n",
    "\\omega = \\sum_{i=1}^n  \\omega_i dx^i\n",
    "$$\n",
    "\n",
    "$$\n",
    "\\omega \\cdot \\xi =  \\sum\\limits_{i=1}^n \\omega_i \\xi^i\n",
    "$$\n",
    "\n",
    "The components of the p-form \n",
    "$$\n",
    "\\textbf{a} \\wedge \\textbf{b} \\wedge \\cdots \\wedge \\textbf{c}\n",
    "$$\n",
    "are given by\n",
    "$$\n",
    "a^{[r}b^s \\cdots c^{u]}\n",
    "$$\n",
    "\n",
    "Where \n",
    "$$\n",
    "a^{[i_1 \\ldots i_k]} = \\frac{1}{k!} \\sum\\limits_{\\sigma} sgn(\\sigma) \n",
    "a^{\\sigma(i_1) \\ldots \\sigma(i_k)} \n",
    "$$\n",
    "\n",
    "where $\\sigma$ stands for any of the permutations of $k$ symbols.\n"
   ]
  },
  {
   "cell_type": "markdown",
   "id": "48dd53d8",
   "metadata": {},
   "source": [
    "## Algebraic (axiomatic) definition of Vector Field \n",
    "\n",
    "The {\\em Vector Field} X is defined as an operator on scalar functions f,g. \n",
    "\n",
    "1. $X(f+g) = X(f)+X(g)$ (VF1)\n",
    "2. $X(fg) = fX(g)+gX(f)$ (VF2)\n",
    "3. $X(k) = 0$ if $k$ is a constant(VF3)\n",
    "\n"
   ]
  },
  {
   "cell_type": "markdown",
   "id": "65c4110c",
   "metadata": {},
   "source": [
    "## Algebraic (axiomatic) definition of 1-form\n",
    "\n",
    "A 1-form $\\omega$ in defined as a linear operator on vector fields \n",
    "\n",
    "\n",
    "1. $\\omega \\cdot(X+Y) = \\omega · X + \\omega· Y$ \n",
    "2. $\\omega · (fX) = f(\\omega · X)$\n",
    "3. $(\\omega+\\phi)\\cdot X = \\omega· X + \\phi· X$\n",
    "4. $(f\\omega)· X = f(\\omega· X)$\n",
    "\n",
    "where $X, Y$ are vector fields, $\\omega,\\phi$ are 1-forms and $f$ is a scalar field (function).\n",
    "\n",
    "For any scalar function $f$ define a 1-form $df$ by\n",
    "$$\n",
    "df\\cdot X \\equiv X(f)\n",
    "$$"
   ]
  },
  {
   "cell_type": "markdown",
   "id": "9c4ba785",
   "metadata": {},
   "source": [
    "## Axiomatic Definition of Exterior Derivative\n",
    "\n",
    "1. $d(\\omega+\\phi) = d\\omega + d\\phi$\n",
    "2. $d(\\omega∧ \\phi) = d\\omega∧ \\phi+(-1)^p \\omega\\wedge d\\phi$, where $\\omega$ is a $p$-form\n",
    "3. $d(d\\omega) = 0$"
   ]
  },
  {
   "cell_type": "markdown",
   "id": "f1644ec8",
   "metadata": {},
   "source": [
    "### Problem 12.1\n",
    "Why the configuration space of the rotations of the rigid body has 6 degrees of freedom.\n",
    "\n",
    "#### Answer\n",
    "3 degrees needed to specify the position of the body.\n",
    "3 degrees to specify the rotations. \n",
    "There are many ways to pick the rotation coordinates. One example: Pick an axis of rotation, the pick two angles to describe the point on a sphere around the axis.\n"
   ]
  },
  {
   "cell_type": "markdown",
   "id": "abfa0a51",
   "metadata": {},
   "source": [
    "### Problem 12.2 \n",
    "See end of the notebook"
   ]
  },
  {
   "cell_type": "markdown",
   "id": "cce4b972",
   "metadata": {},
   "source": [
    "### Problem 12.3\n",
    "If $x$ is a vector and $f$ a function, define the co-vector $df \\cdot x := x(f)$. Show that it satisfies linearity\n",
    " \n",
    "#### Solution\n",
    "\n",
    "$$\n",
    "df \\cdot (x+y) = (x+y)(f) = x(f) + y(f)\n",
    " = df \\cdot x + df \\cdot y\n",
    "$$\n"
   ]
  },
  {
   "cell_type": "markdown",
   "id": "e53b48bd",
   "metadata": {},
   "source": [
    "### Problem 12.4\n",
    "Each co-vector $a$ determines an $(n-1)-dimensional$ plane element defined by $a \\cdot v = 0$. In particular, $a=df$ defines the vector orthogonal to the surfaces where $f$ is constant. Why?\n",
    "\n",
    "#### Solution\n",
    "For any vector $v$ such that $df \\cdot v = 0$, we have (by the definition)\n",
    "$v(f) = 0 \\rightarrow \\sum_i v_i \\partial_i f = 0$, which can only happen if\n",
    "$\\partial_i f = 0$ in every direction, or equivalently $f$ is constant.\n"
   ]
  },
  {
   "cell_type": "markdown",
   "id": "9012af02",
   "metadata": {},
   "source": [
    "### Problem 12.5\n",
    "Show that the components of $dx^2$ (index denotes the second coordinate, not a power) are $(0, 1, 0, \\ldots, 0)$\n",
    "\n",
    "#### Solution\n",
    "Follows directly from the definition"
   ]
  },
  {
   "cell_type": "markdown",
   "id": "452cc65a",
   "metadata": {},
   "source": [
    "### Problem 12.6\n",
    "Show that the expression $a\\cdot X = \\sum\\limits_{i=1}^n a_i X^i$ is consistent with the definition $df\\cdot X \\equiv X(f)$.\n",
    "\n",
    "#### Solution\n",
    "$$\n",
    "df\\cdot X = (\\sum\\limits_{i=1}^n a_i dx^i)\\cdot(\\sum\\limits_{j=1}^n X^j ∂ x^j)) = \\\\\n",
    "\\sum_{ij} a_iX^j dx^i(∂ x^j) = \\sum_{ij} a_iX^j \\delta_j^i = \\sum_i a_i X^i\n",
    "$$\n"
   ]
  },
  {
   "cell_type": "markdown",
   "id": "2224c611",
   "metadata": {},
   "source": [
    "### Problem 12.7\n",
    "Explain why $\\phi_{rs \\cdots u} = \\phi_{[rs \\cdots u]}$ for an antisymmetric form.\n",
    "\n",
    "#### Solution\n",
    "\n",
    "From the definition:\n",
    "$$\n",
    "\\phi_{[i_1 \\ldots i_k]} = \\frac{1}{k!} \\sum\\limits_{\\sigma} sgn(\\sigma) \n",
    "\\phi_{\\sigma(i_1) \\ldots \\sigma(i_k)} \n",
    "$$\n",
    "For every even permutation, we get $\\phi_{\\sigma(i_1) \\ldots \\sigma(i_k)} = \\phi_{[i_1 \\ldots i_k]}$,\n",
    "whereas for everry odd permutation, $\\phi_{\\sigma(i_1) \\ldots \\sigma(i_k)} = -\\phi_{[i_1 \\ldots i_k]}$.\n",
    "\n",
    "Since the odd permutations are counted with a minus (-) sign, the overall contribution is $+\\phi_{[i_1 \\ldots i_k]}$, \n",
    "consequently all $k!$ elements in the sum are equal to $\\phi_{[i_1 \\ldots i_k]}$.\n",
    "Thus:\n",
    "\n",
    "$$\n",
    "\\phi_{rs \\cdots u} = \\phi_{[rs \\cdots u]}\n",
    "$$\n"
   ]
  },
  {
   "cell_type": "markdown",
   "id": "9d6cb192",
   "metadata": {},
   "source": [
    "### Problem 12.8\n",
    "Show that the wedge product $\\phi \\wedge \\chi$ is given in component form by \n",
    "\n",
    "$$\n",
    "\\phi_{[rs \\cdots u}\\chi_{jk \\cdots m]}\n",
    "$$\n"
   ]
  },
  {
   "cell_type": "markdown",
   "id": "8447c9c9",
   "metadata": {},
   "source": [
    "### Problem 12.9\n",
    "\n",
    "$\\int_a^b \\alpha$ is given by $\\int_a^b f(x)dx$ in a particular coordinate system.\n",
    "Transforming to a different coordinate system via the invertible transformation $x = g(y)$, the explicit integral expression becomes\n",
    "\n",
    "$$\n",
    "\\int_{g^{-1}(a)}^{g^{-1}(b)} (f\\circ g)(y)g'(y)dy\n",
    "$$\n",
    "\n",
    "TODO: Finish explanation by showing $dx = g'(x)dy$"
   ]
  },
  {
   "cell_type": "markdown",
   "id": "41560451",
   "metadata": {},
   "source": [
    "### Problem 12.10\n",
    "Evaluate $\\int_{-\\infty}^{\\infty} e^{-x^2}dx$ \n",
    "\n",
    "#### Solution\n",
    "$$\n",
    "\\int_{-\\infty}^{\\infty} e^{-x^2}dx = \\sqrt{\\pi}\n",
    "$$\n",
    "\n",
    "The trick is to evaluate $\\int_{-\\infty}^{\\infty} dx e^{-x^2} \\int_{-\\infty}^{\\infty} dy e^{-y^2} = \\int_{-\\infty}^{\\infty}\\int_{-\\infty}^{\\infty}dx\\wedge dy e^{-(x^2+y^2)} $  by changing to polar coordinates.\n",
    "\n",
    "We must compute the area element $dx\\wedge dy$ under the polar coordinate transformation:\n",
    "$$\n",
    "dx = r\\cos\\theta\\\\\n",
    "dy = r\\sin\\theta\\\\\n",
    "$$\n",
    "\n",
    "$$\n",
    "\\begin{eqnarray}\n",
    "dx = d(r\\cos\\theta) &= \\\\\n",
    "dr\\wedge(\\cos\\theta) - r\\wedge d(\\cos\\theta) &= \\\\\n",
    "\\cos\\theta dr + r\\sin\\theta d\\theta\n",
    "\\end{eqnarray}\n",
    "$$\n",
    "\n",
    "Similarily, $dy = \\sin\\theta dr - r\\cos\\theta d\\theta$.\n",
    "\n",
    "$$\n",
    "\\begin{eqnarray}\n",
    "dx\\wedge dy &= \\\\\n",
    "(\\cos\\theta dr + r\\sin\\theta d\\theta)\\wedge (\\sin\\theta dr - r\\cos\\theta d\\theta)  &= \\\\\n",
    "-r\\cos^2\\theta dr∧ dθ + r\\sin^2\\theta dθ∧ dr &= \\\\\n",
    "r(\\cos^2\\theta + \\sin^2\\theta)dθ∧ dr &=\\\\\n",
    "rdθ∧ dr\n",
    "\\end{eqnarray}\n",
    "$$"
   ]
  },
  {
   "cell_type": "markdown",
   "id": "8f2a6270",
   "metadata": {},
   "source": [
    "### Problem 12.11\n",
    "Show $d(Adx+Bdy) = (\\partial B/\\partial x - ∂ A/\\partial y) dx\\wedge dy$\n",
    "\n",
    "#### Solution\n",
    "By axiom (1) of exterior derivative:\n",
    "$d(Adx+Bdy) = d(Adx)+d(Bdy)$\n",
    "\n",
    "By axioms 2 and 3 \n",
    "$d(Adx)+d(Bdy) = dA∧ dx + dB \\wedge dy$\n",
    "\n",
    "Now, $dA = \\partial A /∂x dx + \\partial A /∂y dy$ and $dB = \\partial B /∂x dx + \\partial B /∂y dy$\n",
    "\n",
    "Plugging this in the above expression and keeping in mind $dx\\wedge dx = dy\\wedge dy = $, \n",
    "we get\n",
    "\n",
    "$$\n",
    "\\partial A /∂y dy∧ dx + \\partial B /∂x dx∧ dy =\\\\\n",
    "(\\partial B /∂x - \\partial A /∂y ) dx∧ dy = \n",
    "$$\n"
   ]
  },
  {
   "cell_type": "markdown",
   "id": "97657a24",
   "metadata": {},
   "source": [
    "### Problem 12.12\n",
    "Why if $a = df$, then $da = 0$\n",
    "\n",
    "#### Answer\n",
    "By axiom (3) of exterior derivative, if $a = df$ then $da = d(df) = 0$"
   ]
  },
  {
   "cell_type": "markdown",
   "id": "f1db95a0",
   "metadata": {},
   "source": [
    "### Problem 12.13\n",
    "Prove the Poincare lemma for p=1\n",
    "\n",
    "#### Solution\n",
    "Let $a$ be a 1-form. In a local coordinate system it has an expression as $a = Adx + Bdy$.\n",
    "Since $da$, the result of problem 12.11 implies $da = (\\partial B /∂x - \\partial A /∂y ) dx∧ dy = 0$,\n",
    "which means $\\partial B /∂x = \\partial A /∂y$.\n",
    "\n",
    "Define $f$ by\n",
    "\n",
    "$$\n",
    "f ≡ ∫ Adx + ∫ Bdy \n",
    "$$\n",
    "\n",
    "Then\n",
    "\n",
    "$$\n",
    "\\frac{\\partial f}{∂ x} = ∫ \\frac{\\partial A}{∂ x}dx+∫ \\frac{\\partial B}{∂ x}dy = \\\\\n",
    "∫ \\frac{\\partial A}{∂ x}dx+∫ \\frac{\\partial A}{∂ y}dy = ∫ dA = A\n",
    "$$\n",
    "\n",
    "whereas\n",
    "\n",
    "$$\n",
    "\\frac{\\partial f}{∂ y} = ∫ \\frac{\\partial A}{∂ y}dx+∫ \\frac{\\partial B}{∂ y}dy = \\\\\n",
    "∫ \\frac{\\partial B}{∂ x}dx+∫ \\frac{\\partial B}{∂ y}dy = ∫ dB = B\n",
    "$$\n",
    "\n",
    "so we have shown that there is a function $f$ such that\n",
    "$a = Adx+Bdy = \\frac{\\partial f}{∂ x}dx+\\frac{\\partial f}{∂ y}dy = df$"
   ]
  },
  {
   "cell_type": "markdown",
   "id": "39c4f997",
   "metadata": {},
   "source": [
    "The next two problems concern the coordinate expression of the exterior derivative\n",
    "\n",
    "$$\n",
    "(d\\omega)_{i i_1\\ldots i_k} = \\partial_{[i}\\omega_{i_1\\ldots i_k]}\n",
    "$$\n"
   ]
  },
  {
   "cell_type": "markdown",
   "id": "9b19c978",
   "metadata": {},
   "source": [
    "### Problem 12.14\n",
    "Show that the axioms of the exterior derivative are satisfied by the expression above\n",
    "\n",
    "#### Solution: TODO"
   ]
  },
  {
   "cell_type": "markdown",
   "id": "4e6e4fd3",
   "metadata": {},
   "source": [
    "### Problem 12.15\n",
    "Show that the coordinate definitions gives the same quantity $d\\omega$ whatever choice of coordinates is made,\n",
    "where the transformation of components of a form is defined by the requirement that the form be unaltered by the coordinate change.\n",
    "\n",
    "Hitnt: Look at **\\$13.8**\n",
    "\n",
    "#### Solution: TODO"
   ]
  },
  {
   "cell_type": "markdown",
   "id": "74bfb584",
   "metadata": {},
   "source": [
    "### Problem 12.16\n",
    "Apart from the index notation being very confusing, I do not think that the terms are properly defined. \n",
    "In the expression $a_{[r\\ldots t} a_{u]v\\ldots w} = 0$\n",
    "there is no explanation for what the $a_u$ (with one index) stand for, not what is the second set of subscripts outside the bracket.\n",
    "\n",
    "I think what this exercise is trying to say is that if $a$ is a p-form and one can find p independent 1-forms \n",
    "$a^1, \\ldots, a^p$ such that $a\\wedge a^i = 0 \\forall i$, then $a$ is simple. "
   ]
  },
  {
   "cell_type": "markdown",
   "id": "c47b396f",
   "metadata": {},
   "source": [
    "## Configuration space of Rotations\n",
    "\n",
    "Problems 12.2 and 12.17 address the topological structure of SO(3), which seems to be better placed in chapter 13.\n",
    "Even so, I think notions from topology are ultimately required.\n",
    "The main point they try to establish is that the manifold is not simply connected. \n",
    "\n",
    "### Problem 12.17\n",
    "Represent a 3D rotation as a vector pointing along the rotation axis of length equal to the angle or rotation. \n",
    "Show that the topology of R is equivalent (homeomorphic? homotopic?) to a solid ball of radious $\\pi$ bounded by an ordinary sphere where each point of the sphere is identified with its antipodal point.\n",
    "\n",
    "Give a direct argument to show why a closed loop representing a $2\\pi$ rotation cannot be continuously deformed to a point."
   ]
  },
  {
   "cell_type": "code",
   "execution_count": null,
   "id": "83295284",
   "metadata": {},
   "outputs": [],
   "source": []
  }
 ],
 "metadata": {
  "kernelspec": {
   "display_name": "Python 3 (ipykernel)",
   "language": "python",
   "name": "python3"
  },
  "language_info": {
   "codemirror_mode": {
    "name": "ipython",
    "version": 3
   },
   "file_extension": ".py",
   "mimetype": "text/x-python",
   "name": "python",
   "nbconvert_exporter": "python",
   "pygments_lexer": "ipython3",
   "version": "3.10.13"
  }
 },
 "nbformat": 4,
 "nbformat_minor": 5
}
