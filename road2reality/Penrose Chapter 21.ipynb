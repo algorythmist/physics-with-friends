{
 "cells": [
  {
   "cell_type": "markdown",
   "id": "0a1e7f99",
   "metadata": {},
   "source": [
    "# Road to Reality Chapter 21"
   ]
  },
  {
   "cell_type": "code",
   "execution_count": 3,
   "id": "32eec3bc",
   "metadata": {},
   "outputs": [],
   "source": [
    "import numpy as np\n",
    "import matplotlib.pyplot as plt"
   ]
  },
  {
   "cell_type": "markdown",
   "id": "86ab7b3b",
   "metadata": {},
   "source": [
    "### Problem 21.1\n",
    "\n",
    "$$\n",
    "D^2 e^{ix} = D(ie^{ix}) = -e^{ix} \\rightarrow\\\\\n",
    "(1+D^2)e^{ix} = e^{ix} - e^{ix} = 0\n",
    "$$\n",
    "\n",
    "The relationships follow by decomposing in real and imaginary parts "
   ]
  },
  {
   "cell_type": "markdown",
   "id": "d62ee193",
   "metadata": {},
   "source": [
    "### Problem 21.2\n",
    "\n",
    "To find a specific solution, we perform the trick of inverting the operator $1+D^2$:\n",
    "\n",
    "$$\n",
    "(1+D^2)^1 x^2 = (1 - D^2 + D^4 - \\ldots )x^2 = x^2 - 2\n",
    "$$\n",
    "\n",
    "so the general solution is \n",
    "\n",
    "$$\n",
    "y(x) = x^2 - 2 +c_1 \\cos(x) + c_2 \\sin(x)\n",
    "$$"
   ]
  },
  {
   "cell_type": "markdown",
   "id": "a66a6982",
   "metadata": {},
   "source": [
    "### Problem 21.3\n",
    "\n",
    "The procedure \"missed\" the solution that are in the Kernel of the operator $1+D^2$"
   ]
  },
  {
   "cell_type": "markdown",
   "id": "4283c057",
   "metadata": {},
   "source": [
    "### Problem 21.4\n",
    "\n",
    "$D_i x^j - x^i D_j = \\delta^i_j$ means $D_i x^i - x^i D_i = 1$, whereas it is 0 for different $i,j$"
   ]
  },
  {
   "cell_type": "markdown",
   "id": "51774da9",
   "metadata": {},
   "source": [
    "### Problem 21.5 \n",
    "Solve Scrodinger for a particle in uniform gravitational field.\n",
    "\n",
    "#### Solution\n",
    "\n",
    "This is not easy as the time-independent equation cannot be solved with elementary functions, but requires Airy functions. A solution is provided here: https://scipython.com/book2/chapter-8-scipy/examples/a-quantum-particle-in-a-gravitational-field/\n",
    "\n"
   ]
  },
  {
   "cell_type": "markdown",
   "id": "3d4e6ee1",
   "metadata": {},
   "source": [
    "### Problem 21.6\n",
    "\n",
    "#### Solution attempt\n",
    "\n",
    "Define the coordinate transformation\n",
    "\n",
    "$$\n",
    "ζ = z - gt^2/2\\\\\n",
    "\\tau = t \n",
    "$$\n",
    "\n",
    "Then \n",
    "$$\n",
    "\\frac{\\partial^2 \\psi}{\\partial z^2} = \\frac{\\partial^2 \\Psi}{\\partial \\zeta^2}\\\\\n",
    "\\frac{\\partial \\psi}{\\partial t} = -g\\tau\\frac{\\partial \\Psi}{\\partial \\zeta} + \\frac{∂ \\Psi}{\\partial\\tau}\\\\\n",
    "$$\n",
    "\n",
    "The tranformed Schrodinger equation is\n",
    "\n",
    "$$\n",
    "iℏ (\\frac{\\partial \\Psi}{\\partial \\tau} - g\\tau\\frac{\\partial \\Psi}{\\partial \\zeta}) =\n",
    "-\\frac{\\hbar^2}{2m}\\frac{\\partial^2 \\Psi}{\\partial \\zeta^2}\n",
    "$$\n",
    "\n",
    "I cannot easily see how to solve this or how it connects to the transformation suggested in the book.\n",
    "Is the point that Penrose is making that the function is transformed only by a phase difference?\n"
   ]
  },
  {
   "cell_type": "markdown",
   "id": "26f547c7",
   "metadata": {},
   "source": [
    "### Problem 21.7\n",
    "\n",
    "This is easy to see. Assume $H = H(x_1,x_2)$ only whereas $p$ is proportional to $\\partial / \\partial x_3$\n",
    "\n",
    "Then $\\partial / \\partial x_3 H(x_1, x_2) ϕ =  H(x_1, x_2)\\partial\\phi / \\partial x_3$,\n",
    "so the operators commute."
   ]
  },
  {
   "cell_type": "markdown",
   "id": "0e0840a2",
   "metadata": {},
   "source": [
    "### Problem 21.10\n",
    "\n",
    "$$\n",
    "P^ax_a = (E, -P)\\cdot(t, x) = Et - P\\cdot x \\rightarrow\\\\\n",
    "e^{-iP^ax_a/\\hbar} = e^{-iEt/\\hbar}e^{iP\\cdot x/\\hbar}\n",
    "$$"
   ]
  },
  {
   "cell_type": "markdown",
   "id": "f5011eea",
   "metadata": {},
   "source": [
    "### Problem 21.11\n",
    "\n",
    "Replacing $C$ by $C+iD$, we get\n",
    "$$\n",
    "(x-C-iD)^2 = (x-C)^2-D^2 + 2i(x-C)D\n",
    "$$\n",
    "\n",
    "\n",
    "so, we can decompose the exponential as\n",
    "\n",
    "$$\n",
    "Ae^{B^2[(x-C)^2-D^2]}e^{2iB^2D(x-C)}\n",
    "$$\n",
    "\n",
    "The peaks occur at the points where the real exponent is 0, so at $x = C \\pm D$"
   ]
  },
  {
   "cell_type": "markdown",
   "id": "fd4b1247",
   "metadata": {},
   "source": [
    "### Problem 21.14\n",
    "\n",
    "To avoid cumbersome notation, let's concentrate on one dimension\n",
    "\n",
    "$$\n",
    "\\psi(x) = \\frac{1}{\\sqrt{2}} ∫ \\bar{\\psi}(p)e^{ipx/\\hbar}dp\n",
    "$$\n",
    "\n",
    "Let's first replace $\\psi(x)$ by $i\\hbar\\partial\\psi/\\partial x$:\n",
    "\n",
    "$$\n",
    "i\\hbar\\partial\\psi(x)/\\partial x=  i\\hbar\\ \\frac{1}{\\sqrt{2}} ∫ \\bar{\\psi}(p)\\partial e^{ipx/\\hbar} / \\partial x dp = \\\\\n",
    "i\\hbar\\ \\frac{1}{\\sqrt{2}}  ∫ ip/\\hbar  \\bar{\\psi}(p) e^{ipx/\\hbar} dp = \\\\\n",
    "-  \\frac{1}{\\sqrt{2}}  ∫ p \\bar{\\psi}(p) e^{ipx/\\hbar}\n",
    "$$\n",
    "\n",
    "So $\\bar{\\psi}(p)$ has been actually replaced by $-p\\bar{\\psi}(p)$.\n",
    "\n",
    "The expression for $x\\psi(x)$ can be obtained by applying the same calculation to the inverse Fourier transform:\n",
    "\n",
    "$$\n",
    "\\bar{\\psi}(p) = \\frac{1}{\\sqrt{2}} ∫ \\psi(x)e^{-ipx/\\hbar}dx\n",
    "$$\n",
    "\n"
   ]
  },
  {
   "cell_type": "markdown",
   "id": "37ada792",
   "metadata": {},
   "source": [
    "### Problem 21.15\n",
    "\n",
    "Show that the Fourier transform of $ψ = A e^{-B^2(x-C)^2}$ is $\\frac{Ae^{iω C}}{B\\sqrt{2}}e^{-iCp}e^{-(p-\\omega)^2/4B^2}$\n",
    "\n",
    "### TODO"
   ]
  },
  {
   "cell_type": "code",
   "execution_count": null,
   "id": "b9e61606",
   "metadata": {},
   "outputs": [],
   "source": []
  }
 ],
 "metadata": {
  "kernelspec": {
   "display_name": "computational-physics",
   "language": "python",
   "name": "computational-physics"
  },
  "language_info": {
   "codemirror_mode": {
    "name": "ipython",
    "version": 3
   },
   "file_extension": ".py",
   "mimetype": "text/x-python",
   "name": "python",
   "nbconvert_exporter": "python",
   "pygments_lexer": "ipython3",
   "version": "3.10.6"
  },
  "latex_envs": {
   "LaTeX_envs_menu_present": true,
   "autoclose": false,
   "autocomplete": true,
   "bibliofile": "biblio.bib",
   "cite_by": "apalike",
   "current_citInitial": 1,
   "eqLabelWithNumbers": true,
   "eqNumInitial": 1,
   "hotkeys": {
    "equation": "Ctrl-E",
    "itemize": "Ctrl-I"
   },
   "labels_anchors": false,
   "latex_user_defs": false,
   "report_style_numbering": false,
   "user_envs_cfg": false
  }
 },
 "nbformat": 4,
 "nbformat_minor": 5
}
