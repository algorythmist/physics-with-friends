{
 "cells": [
  {
   "cell_type": "markdown",
   "id": "0a1e7f99",
   "metadata": {},
   "source": [
    "# Road to Reality Chapter 29"
   ]
  },
  {
   "cell_type": "markdown",
   "id": "56d4a7f7",
   "metadata": {},
   "source": [
    "#### Define bras, kets, brackets\n",
    "$\n",
    "\\newcommand{\\ket}[1]{\\left|{#1}\\right\\rangle}\n",
    "\\newcommand{\\bra}[1]{\\left\\langle{#1}\\right|}\n",
    "\\newcommand{\\braket}[2]{\\left\\langle{#1}\\middle|{#2}\\right\\rangle}\n",
    "$"
   ]
  },
  {
   "cell_type": "markdown",
   "id": "d030a2a6",
   "metadata": {},
   "source": [
    "## The Density Matrix\n",
    "\n",
    "$$\n",
    "\\rho = \\sum_i p_i \\ket{\\psi_i}\\bra{\\psi_i}\n",
    "$$\n",
    "\n",
    "where $p_i \\geq 0, \\sum_i p_i = 1, ||\\psi_i|| = 1$"
   ]
  },
  {
   "cell_type": "markdown",
   "id": "d62ee193",
   "metadata": {},
   "source": [
    "### Problem 29.1\n",
    "\n",
    "Explain why $E_i\\ket{\\psi}$ is the result of a measurement given by $Q = \\sum_i q_i E_i$ applied to $\\ket{\\psi}$.\n",
    "Can you prove that a general finite-dimensional Hermitian operator has this form?\n",
    "\n",
    "#### Solution\n",
    "In fact the solution applies to any normal operator where the $q_i$ are not necessarily real. We need to use the fact that any normal operator has a complete orthonormal set or eigenvectors.\n",
    "\n",
    "Since the eigenvectors form a complete set $\\ket{x_i}$, any state can be expressed as\n",
    "\n",
    "$$\n",
    "\\ket{\\psi} = \\sum_i \\alpha_i \\ket{x_i}\n",
    "$$\n",
    "\n",
    "The action of $Q$ on $\\ket{\\psi}$ is \n",
    "\n",
    "$$\n",
    "Q\\ket{\\psi} = \\sum_i \\alpha_i Q\\ket{x_i} = \\sum_i \\alpha_i q_i\\ket{x_i}\n",
    "$$\n",
    "\n",
    "Now consider the action of the operator $\\sum_i q_i \\ket{x_i}\\bra{x_i}$ on $\\ket{\\psi}$:\n",
    "\n",
    "$$\n",
    "\\sum_i q_i \\ket{x_i}\\bra{x_i}\\ket{\\psi} = \\sum_i q_i\\ket{x_i}\\bra{x_i}\\sum_j a_j \\ket{x_j} =\\\\\n",
    "\\sum_{ij}q_i a_j \\braket{x_i}{x_j} \\ket{x_j} = \\sum_{ij}q_i a_j \\delta_{ij} \\ket{x_j} =\\\\\n",
    "\\sum_i q_i a_i \\ket{x_i} \n",
    "$$\n",
    "\n",
    "Therefore both operators act in the same way."
   ]
  },
  {
   "cell_type": "markdown",
   "id": "34c379e6",
   "metadata": {},
   "source": [
    "### Problem 29.2\n",
    "\n",
    "Prove the following properties of the density matrix:\n",
    "\n",
    "i) $\\rho = \\rho^\\dagger$\n",
    "\n",
    "ii) $\\bra{\\psi}\\rho\\ket{\\psi} \\geq 0$ for all $\\psi$\n",
    "\n",
    "iii) $tr(\\rho) = 1$\n",
    "\n",
    "\n",
    "#### Solution\n",
    "\n",
    "i) $\\rho^\\dagger = \\sum_i p_i^* (\\ket{\\psi_i}\\bra{\\psi_i})^\\dagger = \\sum_i p_i \\ket{\\psi_i}\\bra{\\psi_i} = \\rho $\n",
    "\n",
    "ii) $\\bra{\\psi}\\rho\\ket{\\psi}  = \\sum_i p_i \\braket{\\psi}{\\psi_i}\\braket{\\psi_i}{\\psi} =\n",
    "\\sum_i p_i |\\braket{\\psi}{\\psi_i}|^2 \\geq 0$\n",
    "\n",
    "iii) $tr(\\rho) = \\sum_i p_i tr(\\ket{\\psi_i}\\bra{\\psi_i}) = \\sum_i p_i |\\psi_i| =  \\sum_i p_i = 1$"
   ]
  }
 ],
 "metadata": {
  "kernelspec": {
   "display_name": "computational-physics",
   "language": "python",
   "name": "computational-physics"
  },
  "language_info": {
   "codemirror_mode": {
    "name": "ipython",
    "version": 3
   },
   "file_extension": ".py",
   "mimetype": "text/x-python",
   "name": "python",
   "nbconvert_exporter": "python",
   "pygments_lexer": "ipython3",
   "version": "3.10.6"
  },
  "latex_envs": {
   "LaTeX_envs_menu_present": true,
   "autoclose": false,
   "autocomplete": true,
   "bibliofile": "biblio.bib",
   "cite_by": "apalike",
   "current_citInitial": 1,
   "eqLabelWithNumbers": true,
   "eqNumInitial": 1,
   "hotkeys": {
    "equation": "Ctrl-E",
    "itemize": "Ctrl-I"
   },
   "labels_anchors": false,
   "latex_user_defs": false,
   "report_style_numbering": false,
   "user_envs_cfg": false
  }
 },
 "nbformat": 4,
 "nbformat_minor": 5
}
