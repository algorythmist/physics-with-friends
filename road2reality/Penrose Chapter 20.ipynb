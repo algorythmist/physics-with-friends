{
 "cells": [
  {
   "cell_type": "markdown",
   "id": "0a1e7f99",
   "metadata": {},
   "source": [
    "# Road to Reality Chapter 20"
   ]
  },
  {
   "cell_type": "code",
   "execution_count": 3,
   "id": "32eec3bc",
   "metadata": {},
   "outputs": [],
   "source": [
    "import numpy as np\n",
    "import matplotlib.pyplot as plt"
   ]
  },
  {
   "cell_type": "markdown",
   "id": "9f4c897b",
   "metadata": {},
   "source": [
    "## Euler Lagrange Equations\n",
    "$\\frac{\\partial L}{\\partial q_i} = \\frac{d}{dt} \\frac{{\\partial L}}{{\\partial \\dot{q_i}}}$\n",
    "\n",
    "where $L = T - V$"
   ]
  },
  {
   "cell_type": "markdown",
   "id": "2e884f99",
   "metadata": {},
   "source": [
    "### Problem 20.1\n",
    "For a single particle, $T = \\frac{1}{2}mv^2 = \\frac{m}{2}(\\dot{x}^2 + \\dot{y}^2 + \\dot{z}^2)$\n",
    "\n",
    "The potential is 0 in the x and y directions, and $mgz$ in the z direction so\n",
    "\n",
    "$L = \\frac{m}{2}(\\dot{x}^2 + \\dot{y}^2 + \\dot{z}^2) -mgz$\n",
    "\n",
    "To obtain the parabolic motion, it suffices to solve on a plane perpendicular to the earth, say the x direction.\n",
    "\n",
    "The EL equation in the x direction yields\n",
    "\n",
    "$\\frac{\\partial L}{\\partial x} = 0 → m\\ddot{x} 0 → v = v_x(0)$\n",
    "\n",
    "In the z-direction the EL equation yields\n",
    "$ m\\ddot{z} = -mg \\rightarrow \\ddot{z} = -g$\n",
    "\n",
    "The system can be solved to produce a parabola in the x-z plane."
   ]
  },
  {
   "cell_type": "markdown",
   "id": "8d0a8cc6",
   "metadata": {},
   "source": [
    "## Solution for a projectile with initial velocity\n",
    "\n",
    "$\n",
    "\\dot{v_x} = 0\\\\\n",
    "\\dot{v_z} = -gz\n",
    "$\n",
    "\n",
    "m := mass\n",
    "\n",
    "g := Gravitational acceleration near earth"
   ]
  },
  {
   "cell_type": "code",
   "execution_count": 1,
   "id": "ad01e6e3",
   "metadata": {},
   "outputs": [],
   "source": [
    "g = 9.81  # Acceleration due to gravity (m/s^2)\n",
    "\n",
    "def exact_solution(v0, phi):\n",
    "    \"\"\"\n",
    "    :param v0: initial velocity magnitude\n",
    "    :param phi: initial angle\n",
    "    :return: \n",
    "    \"\"\"\n",
    "    impact_time = 2 * v0 * np.sin(phi) / g\n",
    "    t = np.linspace(0, impact_time, 1000)\n",
    "    x = v0 * np.cos(phi) * t\n",
    "    z = v0 * np.sin(phi) * t - (g * t ** 2) / 2\n",
    "    return x, z\n"
   ]
  },
  {
   "cell_type": "code",
   "execution_count": 10,
   "id": "61241470",
   "metadata": {},
   "outputs": [
    {
     "data": {
      "text/plain": [
       "Text(0.5, 1.0, 'Projectile with no air resistance')"
      ]
     },
     "execution_count": 10,
     "metadata": {},
     "output_type": "execute_result"
    },
    {
     "data": {
      "image/png": "[encoded data removed]",
      "text/plain": [
       "<Figure size 432x288 with 1 Axes>"
      ]
     },
     "metadata": {
      "needs_background": "light"
     },
     "output_type": "display_data"
    }
   ],
   "source": [
    "x, z = exact_solution(10, np.pi/3)\n",
    "plt.plot(x,z)\n",
    "plt.grid(alpha=.4, linestyle='--')\n",
    "plt.axis('equal')\n",
    "plt.xlim(0, 10)\n",
    "plt.ylim(0, 2)\n",
    "plt.title('Projectile with no air resistance')"
   ]
  },
  {
   "cell_type": "markdown",
   "id": "07475c63",
   "metadata": {},
   "source": [
    "### Problem 20.2\n",
    "If $S = dp∧ dq$ why is $dS = 0$\n",
    "\n",
    "### Solution\n",
    "$ dS = d(dp∧ dq) = d^2p∧ dq + dp ∧ d^2p = 0$ because $d^2 = 0 $\n"
   ]
  },
  {
   "cell_type": "markdown",
   "id": "4d13acd7",
   "metadata": {},
   "source": [
    "## Hamilton equations\n",
    "\n",
    "Define $p_i := \\frac{\\partial L}{\\partial q_i}$ (H1)\n",
    "\n",
    "Define $H := \\dot{q^i}\\frac{\\partial L}{\\partial \\dot{q_i}} - L$ (H2)\n",
    "\n",
    "Then\n",
    "\n",
    "$\\frac{dp_i}{dt} = -\\frac{\\partial{H}}{\\partial q^i}, \\frac{dq^i}{dt} = -\\frac{\\partial{H}}{\\partial p_i}$"
   ]
  },
  {
   "cell_type": "markdown",
   "id": "5f5dd344",
   "metadata": {},
   "source": [
    "### Problem 20.3\n",
    "Explain why a vector fields on $T^*(C)$ given by\n",
    "\n",
    "$$\n",
    "\\frac{\\partial{H}}{\\partial p_i}\\frac{\\partial}{\\partial q^i} - \\frac{\\partial{H}}{\\partial q^i}\\frac{\\partial}{\\partial p_i}\n",
    "$$\n",
    "\n",
    "#### Intuition \n",
    "The configuraton space C is the space of (generalized) positions. It is an N-dimensional manifold. Each tangent space T(p) is also an N-dimensional manifold. \n",
    "The Tanget Bundle is $T(C) = CxT$ which makes it a 2N-dimenstional manifold,\n",
    "consequently so is $T^*(C)$.\n",
    "\n",
    "The \"velocity\" at every point of $T^*(C)$ is given by \n",
    "$\\dot{q}^a\\frac{\\partial}{\\partial q^a} + \\dot{p}_a\\frac{\\partial}{\\partial p_a}$\n",
    "and the answer follows from Hamilton's equations."
   ]
  },
  {
   "cell_type": "markdown",
   "id": "7a116826",
   "metadata": {},
   "source": [
    "### Problem 20.4\n",
    "\n",
    "Using (H1) we find that the definition of p coincides with the \"normal\" definition $p_i = \\frac{\\dot{x^i}}{2m}$.\n",
    "Using (H2) we can simply obtain H from L:\n",
    "\n",
    "$ H = \\sum \\dot{x}^i x^i- L = \\sum (x^i)^2 - 1/2 \\sum \\dot{x^i}^2 + mgz = \\sum \\frac{p_i^2}{2m} + mgz$"
   ]
  },
  {
   "cell_type": "markdown",
   "id": "15dc7273",
   "metadata": {},
   "source": [
    "### Problem 20.5\n",
    "Explain why $\\omega/2\\pi$ is the frequency. Why the graph looks like a sine curve. Why is it the general solution?\n",
    "\n",
    "### Solution\n",
    "$$\n",
    "q = acos(\\omega t) + b\\sin(\\omega t)\\\\\n",
    "\\dot{q} = a\\omega\\cos(\\omega t) + b\\omega\\sin(\\omega t)\\\\\n",
    "\\ddot{q} = -a\\omega^2\\sin(\\omega t) - b\\omega^2\\cos(\\omega t)\\\\\n",
    "\\rightarrow \\ddot{q} = -\\omega^2 q\\\\\n",
    "$$\n",
    "\n",
    "$\\omega2\\pi$ is the frequency because $cos(2πn \\frac{\\omega}{2\\pi}) = cos(\\frac{\\omega}{2\\pi})$"
   ]
  },
  {
   "cell_type": "markdown",
   "id": "9747ad38",
   "metadata": {},
   "source": [
    "### Problem 20.6\n",
    "Derive the full equation for a pendulum\n",
    "\n",
    "TODO"
   ]
  },
  {
   "cell_type": "markdown",
   "id": "0e173ae2",
   "metadata": {},
   "source": [
    "### Problem 20.7\n",
    "Explain why for a stable equilibrium, $q^i = 0$ represents a local minumum of the potential energy.\n",
    "\n",
    "#### Explanation\n",
    "The potential energy is proportional to position and not negative (in this problem). Therefore 0 is a local minimum.\n"
   ]
  },
  {
   "cell_type": "markdown",
   "id": "1ce68548",
   "metadata": {},
   "source": [
    "### Problem 20.8\n",
    "$ H = constant + \\frac{1}{2}Q_{ab}q^a q^b + \\frac{1}{2}P^{ab}p_a p_b$\n",
    "\n",
    "#### Explanation\n",
    "At any extremum  (including unstable) we have $\\nabla H = 0$, which is why linear terms vanish in all cases.\n",
    "For a local minimum Q and P are proportional to $\\nabla^2 H$ which is positive definite and symmetric."
   ]
  },
  {
   "cell_type": "markdown",
   "id": "2b73389c",
   "metadata": {},
   "source": [
    "### Problem 20.9 \n",
    "Prove that the product of positive definite (PD) matrices has positive eigenvalues. \n",
    "Hint: Show that the inverse of a PD matrix is PD.\n",
    "\n",
    "#### Solution\n",
    "\n",
    "To prove that the inverse of PD is PD, diagonalize the matrix, invert it, and put it back together. (details need to be worked out)\n",
    "\n",
    "Let $l$ be an eigenvalue of W with eignenvector v. Then\n",
    "\n",
    "$$\n",
    "Wv = lv \\rightarrow\\\\\n",
    "PQv = lv \\rightarrow\\\\\n",
    "Qv = lP^{-1}v \\rightarrow\\\\\n",
    "v^T Qv = l v^T P^{-1}v \\rightarrow\\\\\n",
    "l = \\frac{v^T Qv}{v^T P^{-1}v }\n",
    "$$\n",
    "\n",
    "where both the numerator and denominator are positive because of the PD property of P and Q"
   ]
  },
  {
   "cell_type": "markdown",
   "id": "d38da904",
   "metadata": {},
   "source": [
    "### Problem 20.12\n",
    "Let $q_1,q_2$ be eigenvectors of W corresponding to distinct eigenvalues $\\omega_1, \\omega_2$. Show that \n",
    "$q_1^TQq_2 = 0$\n",
    "\n",
    "#### Solution\n",
    "Because Q is symmetric we have $q_1^TQq_2 = q_2^TQq_1$.\n",
    "\n",
    "Now,\n",
    "$$q_1^T Q q_2 = q_1^T P^{-1}Wq_2 = \\omega_2 q_1^T P^{-1}q_2$$\n",
    "\n",
    "whereas\n",
    "\n",
    "$$q_2^T Q q_1 = q_2^T P^{-1}Wq_1 = \\omega_1 q_2^T P^{-1}q_1$$\n",
    "\n",
    "But since P is symmetri, $q_1^T P^{-1}q_2 = q_2^T P^{-1}q_1$\n",
    "\n",
    "which would imply $\\omega_1 = \\omega_2$ unless $q_1^T Q q_2 = 0$."
   ]
  },
  {
   "cell_type": "markdown",
   "id": "7ebed2e7",
   "metadata": {},
   "source": [
    "### Problem 20.17\n",
    "If L is independent of generalized positions q, then p is constant in time.\n",
    "\n",
    "#### Solution\n",
    "$\\frac{\\partial L}{\\partial q_i} = \\frac{d}{dt} \\frac{{\\partial L}}{{\\partial \\dot{q_i}}}$\n",
    "where $\\frac{\\partial L}{\\partial q_i} = 0$ and $\\frac{{\\partial L}}{{\\partial \\dot{q_i}}} = p_i$\n",
    "\n",
    "Therefore $\\dot{p_i} = 0$"
   ]
  },
  {
   "cell_type": "code",
   "execution_count": null,
   "id": "29eaab2e",
   "metadata": {},
   "outputs": [],
   "source": []
  }
 ],
 "metadata": {
  "kernelspec": {
   "display_name": "road2reality",
   "language": "python",
   "name": "road2reality"
  },
  "language_info": {
   "codemirror_mode": {
    "name": "ipython",
    "version": 3
   },
   "file_extension": ".py",
   "mimetype": "text/x-python",
   "name": "python",
   "nbconvert_exporter": "python",
   "pygments_lexer": "ipython3",
   "version": "3.9.11"
  }
 },
 "nbformat": 4,
 "nbformat_minor": 5
}
