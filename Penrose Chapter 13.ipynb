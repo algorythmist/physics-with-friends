{
 "cells": [
  {
   "cell_type": "markdown",
   "id": "4f27d033",
   "metadata": {},
   "source": [
    "# Chapter 13"
   ]
  },
  {
   "cell_type": "markdown",
   "id": "771c2e4a",
   "metadata": {},
   "source": [
    "### Problem 13.1\n",
    "\n",
    "Assume $1a=a$ and $a^{-1}a = 1$. Deduce $a1=a$ and $aa^{-1} = 1$.\n",
    "\n",
    "Show that assuming  $a1=a$ and $a^{-1}a = 1$ is insufficient."
   ]
  },
  {
   "cell_type": "markdown",
   "id": "220f33c9",
   "metadata": {},
   "source": [
    "### Problem 13.2\n",
    "Explain why every vector space is an abelian group.\n",
    "\n",
    "#### Answer\n",
    "Addition satisfies the axioms of a group and furthermore $v+w = w+v$"
   ]
  },
  {
   "cell_type": "markdown",
   "id": "e77555b1",
   "metadata": {},
   "source": [
    "### Problem 13.3\n",
    "\n",
    "\n",
    "#### Solution\n",
    "Just tream them as operators on complex numbers $z$. For example:\n",
    "\n",
    "$Ci(z) = \\bar{iz} = -i\\bar{z} = -iCz$ "
   ]
  },
  {
   "cell_type": "markdown",
   "id": "c659dccb",
   "metadata": {},
   "source": [
    "### Problem 13.4\n",
    "Show that the reflections of the square on $\\mathbb{C}$ ($D_4$)can be obtain by the four relations:\n",
    "$i^4 = 1, C^2 = 1, Ci=i^3C$\n",
    "\n",
    "#### Solution\n",
    "$i^4 = 1 \\implies (i^2)^2 = 1 \\implies (-1)^2 = 1$\n",
    "\n",
    "$Ci = i^3C = i^2 iC = -iC$\n",
    "\n",
    "$C(-1) = Ci^2 = i^3Ci = i^6C = (-1)^3C = -C$"
   ]
  },
  {
   "cell_type": "markdown",
   "id": "ff270c98",
   "metadata": {},
   "source": [
    "### Problem 13.5\n",
    "Verify the subgroups of $D_4$"
   ]
  },
  {
   "cell_type": "markdown",
   "id": "5822a1a0",
   "metadata": {},
   "source": [
    "### Problem 13.6\n",
    "Find all non-normal subgroups of $D_4$\n"
   ]
  },
  {
   "cell_type": "markdown",
   "id": "69b8707d",
   "metadata": {},
   "source": [
    "### Problem 13.7\n",
    "Find the only non-trivial normal subgroup of $O(3)$\n"
   ]
  },
  {
   "cell_type": "markdown",
   "id": "8aba7cd9",
   "metadata": {},
   "source": [
    "### Problem 13.8 \n",
    "Verify that the cosets of a normal subgroup form a group. Show that this is not the case if the subgroup is not normal."
   ]
  },
  {
   "cell_type": "markdown",
   "id": "3bc5c88c",
   "metadata": {},
   "source": [
    "### Problem 13.9 \n",
    "Show $|G/S| = |G|/|S|$\n",
    "\n",
    "#### Solution\n",
    "Let $|G| = n, |S| = k$.\n",
    "We observe that\n",
    "\n",
    "1. The cosets are dsjoint\n",
    "2. All cosets have the same number of elements $k$.\n",
    "\n",
    "So $|G| = (\\textrm{# cosets})|S| \\implies |S| \\textrm{ divides } |G|$ and $|G/S| = (\\textrm{# cosets}) = |G|/|S|$."
   ]
  },
  {
   "cell_type": "markdown",
   "id": "b14ba87e",
   "metadata": {},
   "source": [
    "### Problem 13.10\n",
    "Verify that $G\\times H$ is a group and $(G\\times H)/G \\cong G$.\n",
    "\n",
    "#### Solution\n",
    "$G\\times\\{e\\}$ is a subgrpup of $G\\times H$ which is normal because $(g,h)(G\\times\\{e\\}) = G\\times\\{h\\} = (G\\times\\{e\\})(g,h)$.\n",
    "Furthermore $G\\times\\{e\\} \\cong G$ in the obvious way. This explains the notation $(G\\times H)/G$.\n",
    "\n",
    "The cosets  $(g,h)(G\\times\\{e\\})$ are precicelly the subsets $G\\times\\{h\\}$. \n",
    "Define a function $\\phi: G\\times H \\rightarrow H$ by $\\phi(G\\times\\{h\\}) = h$. \n",
    "It is easy to verify this is an isomorphism.\n"
   ]
  },
  {
   "cell_type": "markdown",
   "id": "57b41528",
   "metadata": {},
   "source": [
    "### Problems 13.12 -13.16\n",
    "Linear algebra review"
   ]
  },
  {
   "cell_type": "markdown",
   "id": "3b6f6c88",
   "metadata": {},
   "source": [
    "### Problem 13.17\n",
    "If $Tv = 0$, $T$ maps the vector space to a lower dimension subspace.\n",
    "\n",
    "#### Solution\n",
    "Let $e_1, \\ldots e_n$ by a basis and $v = v^ie_i$. \n",
    "\n",
    "$Tv = 0 \\implies v^iTe_i = 0$, which means the rows $Te_i$ are linearly dependent, so they span a space of at most $n-1$ dimensions.\n"
   ]
  },
  {
   "cell_type": "markdown",
   "id": "cb4e71ee",
   "metadata": {},
   "source": [
    "### Problem 13.18 \n",
    "Show that if T is non-singular, then it has an inverse.\n",
    "\n",
    "#### Solution\n",
    "If $v_1 \\neq v_2$ then $Tv_1 ≠ Tv_2$. otherwise we would have $T(v_1 - v_2) = 0$. \n",
    "So $T$ is injective. It remains to show $T$ is surjective.\n",
    "\n",
    "Let $e_i$ be a basis for $V$ and let $w_i = e_i$. It then follows that the $w_i$ are linearly independent (show this), therefore they span $V$, so $T$ is onto.\n"
   ]
  },
  {
   "cell_type": "markdown",
   "id": "dedc33ee",
   "metadata": {},
   "source": [
    "## Group Representations\n",
    "\n",
    "### Definition: \n",
    "A representation of a group $G$ is a homomorphism $\\rho: G → GL(n)$, from some $n$. \n",
    "The representation in faithful if $\\rho$ is injective. In this case $\\rho(G)$ is a subgroup of $GL(n)$\n",
    "so $\\rho(G)$ is isomorphic to $G$."
   ]
  },
  {
   "cell_type": "markdown",
   "id": "7a3e3171",
   "metadata": {},
   "source": [
    "### Problem 13.32\n",
    "Show that any finite group with $|G| = n$ has a representation in $GL(n)$. \n",
    "\n",
    "#### Solution\n",
    "\n",
    "Let $V(G)$ be the free vector space consisting of elements $v = a_1g_1 + a_2g_2 +\\ldots +a_ng_n$. \n",
    "Then each $g ∈ G$ acts a linear operator on $V(G)$ with $gv = a_1gg_1 + a_2gg_2 +\\ldots +a_ngg_n$.\n",
    "\n",
    "**TODO**: Continue"
   ]
  },
  {
   "cell_type": "markdown",
   "id": "b2db8092",
   "metadata": {},
   "source": [
    "### Problem 13.33\n",
    "\n",
    "If the group is abelian, $aba^{-1}b^{-1} = aa^{-1}bb^{-1} = ee = e$"
   ]
  },
  {
   "cell_type": "code",
   "execution_count": null,
   "id": "bddaa4ab",
   "metadata": {},
   "outputs": [],
   "source": []
  }
 ],
 "metadata": {
  "kernelspec": {
   "display_name": "Python 3 (ipykernel)",
   "language": "python",
   "name": "python3"
  },
  "language_info": {
   "codemirror_mode": {
    "name": "ipython",
    "version": 3
   },
   "file_extension": ".py",
   "mimetype": "text/x-python",
   "name": "python",
   "nbconvert_exporter": "python",
   "pygments_lexer": "ipython3",
   "version": "3.8.8"
  }
 },
 "nbformat": 4,
 "nbformat_minor": 5
}
