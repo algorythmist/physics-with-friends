{
 "cells": [
  {
   "cell_type": "markdown",
   "id": "38887a23-250b-4fac-8843-3e9119207e21",
   "metadata": {},
   "source": [
    "# Lagrangian formulation\n",
    "\n",
    "## Single Particle\n",
    "\n",
    "Minimizing the action\n",
    "\n",
    "$$\n",
    "S = \\int L(q, \\dot{q}) \\,dt\n",
    "$$\n",
    "\n",
    "yields the Euler Lagrange equations:\n",
    "\n",
    "$$\n",
    "\\frac{d}{dt}\\frac{\\partial L}{\\partial \\dot{q}} - \\frac{\\partial L}{\\partial q} = 0\n",
    "$$\n",
    "\n",
    "\n",
    "Define $p := \\frac{\\partial L}{\\partial \\dot{q}}$, and define the Hamiltonian by\n",
    "\n",
    "$$\n",
    "H = p\\dot{q} - L\n",
    "$$\n",
    "\n",
    "To get\n",
    "\n",
    "$$\n",
    "\\frac{\\partial H}{\\partial p } = \\dot{q} ; \\frac{\\partial H}{\\partial q } = -\\dot{p}\n",
    "$$"
   ]
  },
  {
   "cell_type": "markdown",
   "id": "3d3bc111-620e-4f7b-ab04-518c1717cdd7",
   "metadata": {},
   "source": [
    "## Multi-Particle\n",
    "\n",
    "$$\n",
    "S = \\int L(q_i, \\dot{q_i}) \\,dt\n",
    "$$\n",
    "\n",
    "\n",
    "Euler Lagrange equations:\n",
    "\n",
    "$$\n",
    "\\sum_i \\frac{d}{dt}\\frac{\\partial L}{\\partial \\dot{q_i}} = \\sum_i \\frac{\\partial L}{\\partial q_i}  \\implies \\sum_i \\dot{p_i} = \\sum_i \\frac{\\partial L}{\\partial q_i}\n",
    "$$\n"
   ]
  },
  {
   "cell_type": "markdown",
   "id": "c769d46c-a202-476f-bc42-9164660c0738",
   "metadata": {},
   "source": [
    "## 1-D Field\n",
    "\n",
    "$q_i(t) \\rightarrow \\phi(x,t)$\n",
    "\n",
    "$\\sum_i \\rightarrow \\int dx$\n",
    "\n",
    "\n",
    "$$\n",
    "S = \\int L(q_i, \\dot{q_i}) \\,dt \\rightarrow \\int dt dx \\mathcal{L}[\\phi(x,t), \\partial_t \\phi(x,t), \\partial_x \\phi(x,t)]\n",
    "$$\n"
   ]
  },
  {
   "cell_type": "markdown",
   "id": "174fd865-88f8-40a6-b0b0-a87e8e52cdb8",
   "metadata": {},
   "source": [
    "## (n+1)-D Field\n",
    "\n",
    "\n",
    "$$\n",
    "S \\rightarrow  \\int dt \\int d^n x \\mathcal{L}(\\phi, \\nabla_x \\phi, \\phi_{,t}) \\rightarrow \\int d^{n+1}x \\mathcal{L}(\\phi, \\phi_{,\\mu})\n",
    "$$\n"
   ]
  },
  {
   "cell_type": "markdown",
   "id": "77c0b554-fa72-4270-9d95-4bc51ff92f0a",
   "metadata": {},
   "source": [
    "The Euler Lagrange equations become\n",
    "\n",
    "$$\n",
    "\\partial_{\\mu} \\frac{\\partial \\mathcal{L}}{\\partial \\phi_{,\\mu}} - \\frac{\\partial \\mathcal{L}}{\\partial\\phi} = 0\n",
    "$$"
   ]
  },
  {
   "cell_type": "markdown",
   "id": "c99a645a-2f89-4422-b0cd-402635882d1c",
   "metadata": {},
   "source": [
    "Energy-Momentum density and Hamiltonian\n",
    "\n",
    "$$\n",
    "\\Pi^\\mu := \\frac{\\partial \\mathcal{L}}{\\partial \\phi_{,\\mu}}\n",
    "$$\n",
    "\n",
    "$$\n",
    "\\pi(x,t) = \\Pi^0(x,t) = \\partial_0 \\phi(x,t) = \\dot{\\phi}\n",
    "$$\n"
   ]
  },
  {
   "cell_type": "code",
   "execution_count": null,
   "id": "ed042319-56b3-4f7a-8067-ad975cb04324",
   "metadata": {},
   "outputs": [],
   "source": []
  }
 ],
 "metadata": {
  "kernelspec": {
   "display_name": "physics-with-friends",
   "language": "python",
   "name": "physics-with-friends"
  },
  "language_info": {
   "codemirror_mode": {
    "name": "ipython",
    "version": 3
   },
   "file_extension": ".py",
   "mimetype": "text/x-python",
   "name": "python",
   "nbconvert_exporter": "python",
   "pygments_lexer": "ipython3",
   "version": "3.11.9"
  }
 },
 "nbformat": 4,
 "nbformat_minor": 5
}
