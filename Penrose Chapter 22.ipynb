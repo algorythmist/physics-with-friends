{
 "cells": [
  {
   "cell_type": "markdown",
   "id": "0a1e7f99",
   "metadata": {},
   "source": [
    "# Road to Reality Chapter 22"
   ]
  },
  {
   "cell_type": "code",
   "execution_count": 3,
   "id": "32eec3bc",
   "metadata": {},
   "outputs": [],
   "source": [
    "import numpy as np\n",
    "import matplotlib.pyplot as plt"
   ]
  },
  {
   "cell_type": "markdown",
   "id": "56d4a7f7",
   "metadata": {},
   "source": [
    "#### Define bras, kets, brackets\n",
    "$\n",
    "\\newcommand{\\ket}[1]{\\left|{#1}\\right\\rangle}\n",
    "\\newcommand{\\bra}[1]{\\left\\langle{#1}\\right|}\n",
    "\\newcommand{\\braket}[2]{\\left\\langle{#1}\\middle|{#2}\\right\\rangle}\n",
    "$"
   ]
  },
  {
   "cell_type": "markdown",
   "id": "d62ee193",
   "metadata": {},
   "source": [
    "### Problem 22.2\n",
    "\n",
    "Explain why $\\braket{\\phi}{\\psi}$ converges if $\\braket{\\phi}{\\phi}$ and \n",
    "$\\braket{\\psi}{\\psi}$ both converge.\n",
    "\n",
    "#### Solution\n",
    "It follows from Schwartz inequality\n",
    "\n",
    "$$\n",
    "|\\braket{\\phi}{\\psi}|^2 ≤ \\braket{\\phi}{\\phi}\\braket{\\psi}{\\psi}\n",
    "$$"
   ]
  },
  {
   "cell_type": "markdown",
   "id": "a66a6982",
   "metadata": {},
   "source": [
    "### Problem 22.3\n",
    "If they are normalizable, they converge, so the inner product is defined"
   ]
  },
  {
   "cell_type": "markdown",
   "id": "4283c057",
   "metadata": {},
   "source": [
    "### Problem 22.6\n",
    "\n",
    "If I did this right\n",
    "\n",
    "$$\n",
    "<\\phi,\\psi> = \\frac{1}{2}\\left[|\\phi+\\psi|^2 - |\\phi+i\\psi|^2\\right]\n",
    "$$\n"
   ]
  },
  {
   "cell_type": "markdown",
   "id": "a10a6ac2",
   "metadata": {},
   "source": [
    "### Problem 22.7\n",
    "\n",
    "I can think of two ways to derive the Leiniz property for an inner product. \n",
    "\n",
    "The first is to assume that the inner product is given in integral form $∫ \\bar{\\psi}\\phi$ and interchange the derivative with the integral. This is not very satisfactory because it assumes a specific inner product form.\n",
    "\n",
    "Another way is to assume the Hilbert space separable (as is customary) and pick a basis $\\ket{e_i}$.\n",
    "Two aritrary time-dependent states can be expressed in terms of this basis\n",
    "\n",
    "$$\n",
    "\\phi(t) - \\sum_ia_i(t)\\ket{e_i}\\\\\n",
    "\\psi(t) - \\sum_ib_i(t)\\ket{e_i}\\\\\n",
    "$$\n",
    "\n",
    "Then the inner product in terms of this basis is given by\n",
    "\n",
    "$$\n",
    "\\braket{\\phi(t)}{\\psi(t)} = \\sum_i \\bar{a_i}(t)b_i(t)\n",
    "$$\n",
    "\n",
    "And the Leinitz rule becomes apparent, since it applies to normal product of functions."
   ]
  },
  {
   "cell_type": "markdown",
   "id": "d44808e0",
   "metadata": {},
   "source": [
    "### Problem 22.9\n",
    "\n",
    "Let $\\psi = A\\phi$. Remember $\\dot{\\phi} = -iH\\phi$ ($\\hbar$ omitted)\n",
    "\n",
    "$$\n",
    "\\frac{d}{dt}\\braket{\\phi}{\\psi} = \\braket{\\dot{\\phi}}{\\psi}+\\braket{\\phi}{\\dot{\\psi}} = \\\\\n",
    "\\braket{\\dot{\\phi}}{A\\phi}+\\braket{\\phi}{A\\dot{\\phi}} = \\\\\n",
    "\\braket{-iH\\phi}{A\\phi}+\\braket{\\phi}{-iAH\\phi} = \\\\\n",
    "i\\braket{\\phi}{HA\\phi}-i\\braket{\\phi}{AH\\phi} = \\\n",
    "-i \\bra{\\phi}[H,A]\\ket{\\phi} \n",
    "$$"
   ]
  },
  {
   "cell_type": "markdown",
   "id": "5860a822",
   "metadata": {},
   "source": [
    "Since $\\phi$ is arbitrary,\n",
    "\n",
    "$$\n",
    "\\frac{dA}{dt} = \\frac{-i}{\\hbar}[H,A]\n",
    "$$\n",
    "\n",
    "where I have restored $\\hbar$."
   ]
  },
  {
   "cell_type": "markdown",
   "id": "3c1cb300",
   "metadata": {},
   "source": [
    "### Problem 22.10\n",
    "Show that the eigenvalues of a Hermitean operator are real\n",
    "\n",
    "#### Solution\n",
    "\n",
    "Start with $\\bra{\\phi}H\\ket{\\phi} = \\lambda\\braket{\\phi}{\\phi}$ and take complex conjugates of both sides\n",
    "\n",
    "$$\n",
    "\\bra{\\phi}H^\\dagger\\ket{\\phi} = \\bar{\\lambda}\\braket{\\phi}{\\phi} \\implies\\\\\n",
    "\\bra{\\phi}H\\ket{\\phi} = \\bar{\\lambda}\\braket{\\phi}{\\phi}\n",
    "$$\n",
    "\n",
    "comparing this with the original expression, we conclude $\\bar{\\lambda} = \\lambda$."
   ]
  },
  {
   "cell_type": "markdown",
   "id": "542ab352",
   "metadata": {},
   "source": [
    "### Problem 22.11\n",
    "\n",
    "Show that a normal operator has orthogonal eigenvectors\n",
    "\n",
    "TODO"
   ]
  },
  {
   "cell_type": "markdown",
   "id": "91cc3ed2",
   "metadata": {},
   "source": [
    "### Problem 22.12\n",
    "\n",
    "Show that the following expression takes the value 1 only of the eigenvector are proportional\n",
    "\n",
    "$$\n",
    "\\frac{\\braket{\\phi}{\\psi}\\braket{\\psi}{\\phi}}{|\\psi|^2|\\phi|^2}\n",
    "$$\n",
    "\n",
    "#### Solution\n",
    "\n",
    "Follows from Schwatz inequality\n"
   ]
  },
  {
   "cell_type": "markdown",
   "id": "233bbae8",
   "metadata": {},
   "source": [
    "### Problem 22.13\n",
    "Show that if an observable Q satisfies a polynomial equation, so does every single eigenvalue.\n",
    "\n",
    "#### Solution\n",
    "\n",
    "Suppose $p(Q) = 0$ for some polynomial $p$. Then for each eigenvector $q_i, p(Q)q_i = 0$.\n",
    "Expanding $p(Q)$ and using the fact that $Q^n q_i = \\lambda^n q_i$, it also follows that \n",
    "$p(\\lambda_i)q_i = 0$, and since $q_i$ is not 0, we conclude $p(\\lambda_i) = 0$."
   ]
  },
  {
   "cell_type": "markdown",
   "id": "c5214532",
   "metadata": {},
   "source": [
    "### Problem 22.14\n",
    "If E is a projection operator, show that $E\\ket{\\psi}$ and $(I-E)\\ket{\\psi}$ are orthogonal\n",
    "\n",
    "#### Solution\n",
    "$$\n",
    "\\braket{E\\psi}{(I-E)\\psi} = \\braket{E\\psi}{\\psi} - \\braket{E\\psi}{E\\psi} =\\\\\n",
    "\\braket{\\psi}{E\\psi} - \\braket{\\psi}{E^2\\psi} = \\braket{\\psi}{E\\psi} - \\braket{\\psi}{E\\psi} = 0\n",
    "$$\n",
    "\n",
    "or more simply\n",
    "\n",
    "$$\n",
    "E(I-E) = E - E^2 = E - E = 0\n",
    "$$"
   ]
  },
  {
   "cell_type": "markdown",
   "id": "64dc2586",
   "metadata": {},
   "source": [
    "### Problem 22.15\n",
    "\n",
    "The norm is reduced by a projection\n",
    "\n",
    "#### Solution\n",
    "\n",
    "Let x be a vector. Since Ex and (1-E)x are orthogonal, the triangle inequality holds with equality\n",
    "\n",
    "$$\n",
    "|x| = |Ex +(1-E)x| = |Ex| + |(1-E)x|\n",
    "$$\n",
    "\n",
    "from which it follows, $|Ex| ≤ |x|$"
   ]
  },
  {
   "cell_type": "markdown",
   "id": "b68801ab",
   "metadata": {},
   "source": [
    "### Problem 22.16\n",
    "\n",
    "Polarization needs to be conserved. The total polarization after pliting will be + polarization in the initial direction, - polarization in the oposite direction. In order for them to add up to the original, the polarization in the oposite direction must be negative.\n"
   ]
  },
  {
   "cell_type": "markdown",
   "id": "121c6555",
   "metadata": {},
   "source": [
    "### Problem 22.19 \n",
    "Explain the relationship between Pauli matrices and Quaternions\n",
    "\n",
    "#### Answer\n",
    "\n",
    "For each Pauli matrix $\\sigma_j$, define $q_j = i\\sigma_j$.\n",
    "Then the $q_j$ reproduce the algebra of quaternions:\n",
    "\n",
    "$$\n",
    "q_1 q_2 q_3 = q_j^2 = -1\n",
    "$$"
   ]
  },
  {
   "cell_type": "markdown",
   "id": "3d5ad296",
   "metadata": {},
   "source": [
    "### Problem 22.20\n",
    "\n",
    "If we continuously exponentiate  one of the Pauli matrices until we get an entire rotation through $2\\pi$,\n",
    "we find that we get the operator $-I$.\n",
    "\n",
    "#### Solution\n",
    "\n",
    "The problem, as stated, is simply wrong. Exponentiating any Pauli matrix we get\n",
    "\n",
    "$$\n",
    "e^{iθ\\sigma} = I\\cos{\\theta} + i\\sigma\\sin{\\theta}\n",
    "$$\n",
    "\n",
    "When $θ = 2\\pi$, this becomes $I$, not $-I$\n",
    "\n",
    "The question really has to do with proper representations of $SU(2)$, a topic not covered so far. \n",
    "It turns out that in order to obtain a proper representation of $SU(2)$ one has to use not the Pauli matrices themselves, \n",
    "but rather the matrices $i\\sigma/2$. With the one over two factor introduced, we get \n",
    "\n",
    "$$\n",
    "e^{iθ\\sigma/2} = I\\cos{\\theta/2} + i\\sigma\\sin{\\theta/2}\n",
    "$$\n",
    "\n",
    "so if we set $\\theta$ to $2\\pi$ we obtain the desired result.\n",
    "\n",
    "The reason that the Pauli matrices themselves are not a proper representation is because they do not satisfy a Lie Algebra. We have:\n",
    "\n",
    "$$\n",
    "[\\sigma _{j},\\sigma _{k}]=2i\\varepsilon _{jk\\ell }\\,\\sigma _{\\ell }\n",
    "$$\n",
    "\n",
    "Whereas if we set $S_i = i\\sigma_i/2$, then\n",
    "$$\n",
    "[S _{j},S _{k}]= -\\varepsilon _{jk\\ell }\\,S_{\\ell }\n",
    "$$\n",
    "\n"
   ]
  },
  {
   "cell_type": "markdown",
   "id": "7a0a1e5b",
   "metadata": {},
   "source": [
    "### Problem 22.22\n",
    "\n",
    "Show that $J^2$ commutes with each $L_i$\n",
    "\n",
    "#### Solution\n",
    "\n",
    "It is obvious that $[L_1, L_1^2] = 0$, so we need to work the other commutators\n",
    "\n",
    "$$\n",
    "[L_1, L_2^2] = L_2[L_1,L_2] + [L_1,L_2]L_2 = L_2 L_3 + L_3 L_2\n",
    "$$\n",
    "\n",
    "Similarly\n",
    "$$\n",
    "[L_1, L_3^2] = L_3[L_1,L_3] + [L_1,L_3]L_3 = -L_3 L_2 - L_2 L_3\n",
    "$$\n",
    "\n",
    "Adding them all up\n",
    "\n",
    "$$\n",
    "[L_1, J^2] = [L1, L_1^2]+ [L1, L_2^2]+[L1, L_3^2] = \\\\\n",
    "0 + L_2 L_3 + L_3 L_2 -L_3 L_2 - L_2 L_3 = 0\n",
    "$$\n",
    "\n",
    "(I have ommited $i\\hbar$ but this does not change anything)\n"
   ]
  },
  {
   "cell_type": "markdown",
   "id": "fdc5855f",
   "metadata": {},
   "source": [
    "### Problem 22.23\n",
    "\n",
    "Consider the operators $L^+ = L_1 + iL_2$ and $L^- = L_1 - iL_2$ \n",
    "\n",
    "1. work out their commutators with L_3. \n",
    "2. Work out $J^2$ in terms of $L^\\pm$ and $L_3$. Show that if $\\ket{\\psi}$ is an eigenstate of $L_3$, then so also is each of $L\\ket{\\psi}$, whenever it is non-zero, and find its eigenvalue in terms of that of $\\ket{\\psi}$.\n",
    "3. Show that if $\\ket{\\psi}$. belongs to a finite-dimensional irreducible representation space spanned by such eigenstates, then the dimension is an integer $2j$, where $j(j + 1)$ is the eigenvalue of $J^2$ for all states.\n"
   ]
  },
  {
   "cell_type": "code",
   "execution_count": null,
   "id": "b8eeb0ce",
   "metadata": {},
   "outputs": [],
   "source": []
  }
 ],
 "metadata": {
  "kernelspec": {
   "display_name": "computational-physics",
   "language": "python",
   "name": "computational-physics"
  },
  "language_info": {
   "codemirror_mode": {
    "name": "ipython",
    "version": 3
   },
   "file_extension": ".py",
   "mimetype": "text/x-python",
   "name": "python",
   "nbconvert_exporter": "python",
   "pygments_lexer": "ipython3",
   "version": "3.9.10"
  }
 },
 "nbformat": 4,
 "nbformat_minor": 5
}
