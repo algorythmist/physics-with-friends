{
 "cells": [
  {
   "cell_type": "markdown",
   "id": "a13f9ac4",
   "metadata": {},
   "source": [
    "# Worked Examples of State Classification: Pure/Mixed × Single/Bipartite × Separable/Entangled\n",
    "\n",
    "This notebook provides concrete examples and short derivations for single qubit systems (pure and mixed), bipartite systems (pure and mixed), and entanglement.\n",
    "\n",
    "It uses only the standard python library `numpy`.\n",
    "\n",
    "Wayne Dam \\\n",
    "Meetup: Physics with Friends - Quantum Information Theory \\\n",
    "Oct. 2025\n"
   ]
  },
  {
   "cell_type": "code",
   "execution_count": 49,
   "id": "dc70d449",
   "metadata": {
    "ExecuteTime": {
     "end_time": "2025-10-23T00:20:52.503299Z",
     "start_time": "2025-10-23T00:20:52.501175Z"
    }
   },
   "outputs": [],
   "source": [
    "import numpy as np\n",
    "# import plotly.graph_objects as go\n",
    "# from IPython.display import display\n"
   ]
  },
  {
   "cell_type": "code",
   "execution_count": 50,
   "id": "933cd459",
   "metadata": {
    "ExecuteTime": {
     "end_time": "2025-10-23T00:20:52.517945Z",
     "start_time": "2025-10-23T00:20:52.513187Z"
    }
   },
   "outputs": [],
   "source": [
    "\n",
    "# === Pretty printing helpers: drop tiny imaginary parts and suppress small-exponent floats ===\n",
    "import numpy as np\n",
    "\n",
    "def _clean(x, tol=1e-12):\n",
    "    # Drop tiny imaginary parts. For arrays: cast to real if *all* imag parts are tiny;\n",
    "    # otherwise zero-out tiny imaginary entries elementwise while keeping genuine complex entries.\n",
    "    if np.isscalar(x):\n",
    "        return np.real_if_close(x)\n",
    "    a = np.asarray(x)\n",
    "    if np.iscomplexobj(a):\n",
    "        if np.all(np.abs(a.imag) < tol):\n",
    "            return a.real\n",
    "        b = a.copy()\n",
    "        b.imag[np.abs(b.imag) < tol] = 0.0\n",
    "        return b\n",
    "    return a\n",
    "\n",
    "def pp(*args, **kwargs):\n",
    "    # Clean results then print, so arrays/scalars don't show '+0.j' or tiny 1e-17 noise.\n",
    "    cleaned = [_clean(arg) for arg in args]\n",
    "    print(*cleaned, **kwargs)\n",
    "\n",
    "# Nicer numeric formatting in general:\n",
    "np.set_printoptions(precision=6, suppress=True)\n"
   ]
  },
  {
   "cell_type": "markdown",
   "id": "a3691dfc",
   "metadata": {},
   "source": [
    "## Examples and Checks\n",
    "\n",
    "Examples and checks (purity, PPT/negativity for 2-qubit states, Schmidt rank for pure bipartite states)."
   ]
  },
  {
   "cell_type": "code",
   "execution_count": 51,
   "id": "d1ff7cb7",
   "metadata": {
    "ExecuteTime": {
     "end_time": "2025-10-23T00:20:52.568249Z",
     "start_time": "2025-10-23T00:20:52.563867Z"
    }
   },
   "outputs": [],
   "source": [
    "import numpy as np\n",
    "\n",
    "def dag(x):\n",
    "    return np.conjugate(x.T)\n",
    "\n",
    "def dm(psi):\n",
    "    # Density matrix from state vector |psi>\n",
    "    psi = psi.reshape(-1,1)\n",
    "    return psi @ dag(psi)\n",
    "\n",
    "def kron(*args):\n",
    "    out = np.array([[1.0+0.0j]])\n",
    "    for a in args:\n",
    "        out = np.kron(out, a)\n",
    "    return out\n",
    "\n",
    "def purity(rho):\n",
    "    return float(np.real(np.trace(rho @ rho)))\n",
    "\n",
    "def partial_transpose_2x2(rho, sys='B'):\n",
    "    # Partial transpose for 2-qubit systems with ordering |00>,|01>,|10>,|11>.\n",
    "    # sys: 'A' or 'B' -- which subsystem to transpose.\n",
    "    rho = rho.reshape(2,2,2,2)  # indices iA,iB,jA,jB\n",
    "    if sys.upper() == 'A':\n",
    "        rho_pt = np.transpose(rho, (2,1,0,3))\n",
    "    else:\n",
    "        rho_pt = np.transpose(rho, (0,3,2,1))\n",
    "    return rho_pt.reshape(4,4)\n",
    "\n",
    "def negativity(rho, sys='B'):\n",
    "    # Sum of absolute values of negative eigenvalues of the partial transpose\n",
    "    pt = partial_transpose_2x2(rho, sys=sys)\n",
    "    evals = np.linalg.eigvalsh(pt)\n",
    "    neg_eigs = evals[evals < 0]\n",
    "    return float(np.sum(np.abs(neg_eigs)))\n",
    "\n",
    "def schmidt_rank_two_qubit_state(psi):\n",
    "    # Schmidt rank from singular values of reshaped 2x2 pure state\n",
    "    M = psi.reshape(2,2)\n",
    "    s = np.linalg.svd(M, compute_uv=False)\n",
    "    return int(np.sum(s > 1e-12)), s"
   ]
  },
  {
   "cell_type": "code",
   "execution_count": 52,
   "id": "518844d7d9c0ca40",
   "metadata": {
    "ExecuteTime": {
     "end_time": "2025-10-23T00:20:52.620770Z",
     "start_time": "2025-10-23T00:20:52.617278Z"
    }
   },
   "outputs": [],
   "source": [
    "# Standard basis kets: |0>, |1>.\n",
    "zero = np.array([1,0], dtype=complex)\n",
    "one  = np.array([0,1], dtype=complex)\n",
    "\n",
    "# Bell states\n",
    "phi_plus = (kron(zero, zero) + kron(one, one)) / np.sqrt(2)   # |Φ+>\n",
    "psi_minus = (kron(zero, one) - kron(one, zero)) / np.sqrt(2)  # |Ψ->"
   ]
  },
  {
   "cell_type": "code",
   "execution_count": 53,
   "id": "f16789d22b48057e",
   "metadata": {
    "ExecuteTime": {
     "end_time": "2025-10-23T00:20:52.639416Z",
     "start_time": "2025-10-23T00:20:52.630793Z"
    }
   },
   "outputs": [],
   "source": [
    "# Examples\n",
    "examples = {}\n",
    "\n",
    "# Single–Pure (N/A entanglement)\n",
    "psi_single_pure = zero  # |0>\n",
    "rho_single_pure = dm(psi_single_pure)\n",
    "examples[\"Single–Pure (N/A): |0>\"] = rho_single_pure\n",
    "\n",
    "# Single–Mixed (N/A entanglement)\n",
    "rho_single_mixed = 0.5 * np.eye(2)\n",
    "examples[\"Single–Mixed (N/A): ρ = I/2\"] = rho_single_mixed\n",
    "\n",
    "# Bipartite–Pure Separable: |0>⊗|1>\n",
    "psi_prod = kron(zero, one)\n",
    "rho_prod = dm(psi_prod)\n",
    "examples[\"Bipartite–Pure Separable: |0>⊗|1>\"] = rho_prod\n",
    "\n",
    "# Bipartite–Pure Entangled: |Φ+> = 1/√2 ( |01> + |10> )\n",
    "rho_phi_plus = dm(phi_plus)\n",
    "examples[\"Bipartite–Pure Entangled: |Φ+> = 1/√2 ( |01> + |10> )\"] = rho_phi_plus\n",
    "\n",
    "# Bipartite–Mixed Separable: 1/2(|00><00| + |11><11|)\n",
    "rho_00 = dm(kron(zero, zero))\n",
    "rho_11 = dm(kron(one, one))\n",
    "rho_mixed_sep = 0.5*(rho_00 + rho_11)\n",
    "examples[\"Bipartite–Mixed Separable: 1/2(|00><00| + |11><11|\"] = rho_mixed_sep\n",
    "\n",
    "# Bipartite–Mixed Entangled: Werner state with p=0.6 (> 1/3)\n",
    "p = 0.6\n",
    "rho_werner = p*dm(psi_minus) + (1-p)*(np.eye(4)/4)\n",
    "examples[\"Bipartite–Mixed Entangled (Werner, p=0.6): p*dm(|Φ-><Φ-|) + (1-p) I/4)\"] = rho_werner"
   ]
  },
  {
   "cell_type": "markdown",
   "id": "95b888d5",
   "metadata": {},
   "source": [
    "\n",
    "## Worked Examples\n",
    "\n",
    "Each example below is computed in **its own cell**, repeating the same calculations.\n"
   ]
  },
  {
   "cell_type": "markdown",
   "id": "3ced48f0",
   "metadata": {},
   "source": [
    "### Example: Single–Pure (N/A): |0>\n",
    "\n",
    "We will compute:\n",
    "- Dimension, trace, purity \\(\\mathrm{Tr}(\\rho^2)\\), and matrix rank\n",
    "- For 4×4 states: **negativity** (PPT criterion in 2×2)\n",
    "- If the 4×4 state is pure (purity ≈ 1): **Schmidt singular values** and **Schmidt rank**\n"
   ]
  },
  {
   "cell_type": "code",
   "execution_count": 54,
   "id": "bac28ac2",
   "metadata": {
    "ExecuteTime": {
     "end_time": "2025-10-23T00:20:52.697397Z",
     "start_time": "2025-10-23T00:20:52.689687Z"
    }
   },
   "outputs": [
    {
     "name": "stdout",
     "output_type": "stream",
     "text": [
      "\n",
      "=== Single–Pure (N/A): |0> ===\n",
      "ρ (density matrix):\n",
      "[[1. 0.]\n",
      " [0. 0.]]\n",
      "Dim: 2\n",
      "Trace: 1.0\n",
      "Purity Tr(rho^2): 1.0\n",
      "Matrix rank: 1\n"
     ]
    }
   ],
   "source": [
    "# --- NOTE ---\n",
    "# Worked example: Single–Pure (N/A): |0>\n",
    "\n",
    "name = 'Single–Pure (N/A): |0>'\n",
    "rho = examples[name]\n",
    "\n",
    "pp(\"\\n=== Single–Pure (N/A): |0> ===\")\n",
    "pp(\"ρ (density matrix):\")\n",
    "pp(rho)\n",
    "\n",
    "# --- Basic invariants ---\n",
    "pp(\"Dim:\", rho.shape[0])\n",
    "pp(\"Trace:\", np.trace(rho))\n",
    "pp(\"Purity Tr(rho^2):\", purity(rho))\n",
    "\n",
    "rank = np.linalg.matrix_rank(rho, tol=1e-12)\n",
    "pp(\"Matrix rank:\", rank)\n",
    "\n",
    "# --- Two-qubit specific: Negativity (PPT) ---\n",
    "if rho.shape == (4, 4):\n",
    "    neg = negativity(rho, sys='B')\n",
    "    pp(\"Negativity (PPT detects entanglement if >0 in 2x2):\", neg)\n",
    "    if np.isclose(np.real_if_close(neg), 0.0, atol=1e-12):\n",
    "        pp(\"PPT says: Separable (2x2 case)\")\n",
    "    else:\n",
    "        pp(\"PPT says: Entangled\")\n",
    "\n",
    "# --- Two-qubit pure states: Schmidt decomposition ---\n",
    "if rho.shape == (4, 4) and np.isclose(purity(rho), 1.0, atol=1e-12):\n",
    "    evals, evecs = np.linalg.eigh(rho)  # eigen-decomposition\n",
    "    psi = evecs[:, np.argmax(evals)]    # eigenvector for eigenvalue 1 (the pure state)\n",
    "    r, svals = schmidt_rank_two_qubit_state(psi)\n",
    "    pp(\"Schmidt singular values:\", svals)\n",
    "    pp(\"Schmidt rank:\", r)\n"
   ]
  },
  {
   "cell_type": "markdown",
   "id": "063ca2e9",
   "metadata": {},
   "source": [
    "\n",
    "**What to notice for _Single–Pure (N/A): |0>_**\n",
    "\n",
    "- How **dimension** and **matrix rank** relate to purity (rank 1 ⇒ purity = 1 for density matrices).\n",
    "- Whether the **trace** is exactly 1 (valid states must satisfy this).\n",
    "- For 4×4 (two-qubit) states:\n",
    "  - If **negativity** is **> 0** ⇒ entangled (PPT test is decisive for 2×2).\n",
    "  - If **negativity** is **0** ⇒ PPT-separable in 2×2; often a classical mixture.\n",
    "- For pure 4×4 states (purity ≈ 1): compare the **Schmidt rank** with entanglement.\n",
    "  - Schmidt rank 1 ⇒ product (separable) state.\n",
    "  - Schmidt rank 2 ⇒ entangled state.\n",
    "  \n",
    "**Quick checklist (tick after running the code above):**\n",
    "- [ ] Trace(ρ) = 1  \n",
    "- [ ] Purity Tr(ρ²) = 1 (pure) or < 1 (mixed)  \n",
    "- [ ] Rank(ρ): 1 for pure; >1 for mixed  \n",
    "- [ ] If 4×4: Negativity > 0? (entangled)  \n",
    "- [ ] If 4×4 & pure: Schmidt rank = 1 (separable) or 2 (entangled)\n"
   ]
  },
  {
   "cell_type": "markdown",
   "id": "6fe7eb02",
   "metadata": {},
   "source": [
    "### Example: Single–Mixed (N/A): ρ = I/2\n",
    "\n",
    "We will compute:\n",
    "- Dimension, trace, purity \\(\\mathrm{Tr}(\\rho^2)\\), and matrix rank\n",
    "- For 4×4 states: **negativity** (PPT criterion in 2×2)\n",
    "- If the 4×4 state is pure (purity ≈ 1): **Schmidt singular values** and **Schmidt rank**\n"
   ]
  },
  {
   "cell_type": "code",
   "execution_count": 55,
   "id": "da77a927",
   "metadata": {
    "ExecuteTime": {
     "end_time": "2025-10-23T00:20:52.760589Z",
     "start_time": "2025-10-23T00:20:52.753292Z"
    }
   },
   "outputs": [
    {
     "name": "stdout",
     "output_type": "stream",
     "text": [
      "\n",
      "=== Single–Mixed (N/A): ρ = I/2 ===\n",
      "ρ (density matrix):\n",
      "[[0.5 0. ]\n",
      " [0.  0.5]]\n",
      "Dim: 2\n",
      "Trace: 1.0\n",
      "Purity Tr(rho^2): 0.5\n",
      "Matrix rank: 2\n"
     ]
    }
   ],
   "source": [
    "# --- NOTE ---\n",
    "# Worked example: Single–Mixed (N/A): ρ = I/2\n",
    "\n",
    "name = 'Single–Mixed (N/A): ρ = I/2'\n",
    "rho = examples[name]\n",
    "\n",
    "pp(\"\\n=== Single–Mixed (N/A): ρ = I/2 ===\")\n",
    "pp(\"ρ (density matrix):\")\n",
    "pp(rho)\n",
    "\n",
    "# --- Basic invariants ---\n",
    "pp(\"Dim:\", rho.shape[0])\n",
    "pp(\"Trace:\", np.trace(rho))\n",
    "pp(\"Purity Tr(rho^2):\", purity(rho))\n",
    "\n",
    "rank = np.linalg.matrix_rank(rho, tol=1e-12)\n",
    "pp(\"Matrix rank:\", rank)\n",
    "\n",
    "# --- Two-qubit specific: Negativity (PPT) ---\n",
    "if rho.shape == (4, 4):\n",
    "    neg = negativity(rho, sys='B')\n",
    "    pp(\"Negativity (PPT detects entanglement if >0 in 2x2):\", neg)\n",
    "    if np.isclose(np.real_if_close(neg), 0.0, atol=1e-12):\n",
    "        pp(\"PPT says: Separable (2x2 case)\")\n",
    "    else:\n",
    "        pp(\"PPT says: Entangled\")\n",
    "\n",
    "# --- Two-qubit pure states: Schmidt decomposition ---\n",
    "if rho.shape == (4, 4) and np.isclose(purity(rho), 1.0, atol=1e-12):\n",
    "    evals, evecs = np.linalg.eigh(rho)  # eigen-decomposition\n",
    "    psi = evecs[:, np.argmax(evals)]    # eigenvector for eigenvalue 1 (the pure state)\n",
    "    r, svals = schmidt_rank_two_qubit_state(psi)\n",
    "    pp(\"Schmidt singular values:\", svals)\n",
    "    pp(\"Schmidt rank:\", r)\n"
   ]
  },
  {
   "cell_type": "markdown",
   "id": "dcac3207",
   "metadata": {},
   "source": [
    "\n",
    "**What to notice for _Single–Mixed (N/A): ρ = I/2_**\n",
    "\n",
    "- How **dimension** and **matrix rank** relate to purity (rank 1 ⇒ purity = 1 for density matrices).\n",
    "- Whether the **trace** is exactly 1 (valid states must satisfy this).\n",
    "- For 4×4 (two-qubit) states:\n",
    "  - If **negativity** is **> 0** ⇒ entangled (PPT test is decisive for 2×2).\n",
    "  - If **negativity** is **0** ⇒ PPT-separable in 2×2; often a classical mixture.\n",
    "- For pure 4×4 states (purity ≈ 1): compare the **Schmidt rank** with entanglement.\n",
    "  - Schmidt rank 1 ⇒ product (separable) state.\n",
    "  - Schmidt rank 2 ⇒ entangled state.\n",
    "  \n",
    "**Quick checklist (tick after running the code above):**\n",
    "- [ ] Trace(ρ) = 1  \n",
    "- [ ] Purity Tr(ρ²) = 1 (pure) or < 1 (mixed)  \n",
    "- [ ] Rank(ρ): 1 for pure; >1 for mixed  \n",
    "- [ ] If 4×4: Negativity > 0? (entangled)  \n",
    "- [ ] If 4×4 & pure: Schmidt rank = 1 (separable) or 2 (entangled)\n"
   ]
  },
  {
   "cell_type": "markdown",
   "id": "5becc0aa",
   "metadata": {},
   "source": [
    "### Example: Bipartite–Pure Separable: |0>⊗|1>\n",
    "\n",
    "We will compute:\n",
    "- Dimension, trace, purity \\(\\mathrm{Tr}(\\rho^2)\\), and matrix rank\n",
    "- For 4×4 states: **negativity** (PPT criterion in 2×2)\n",
    "- If the 4×4 state is pure (purity ≈ 1): **Schmidt singular values** and **Schmidt rank**\n"
   ]
  },
  {
   "cell_type": "code",
   "execution_count": 56,
   "id": "2041480f",
   "metadata": {
    "ExecuteTime": {
     "end_time": "2025-10-23T00:20:52.789372Z",
     "start_time": "2025-10-23T00:20:52.779663Z"
    }
   },
   "outputs": [
    {
     "name": "stdout",
     "output_type": "stream",
     "text": [
      "\n",
      "=== Bipartite–Pure Separable: |0>⊗|1> ===\n",
      "ρ (density matrix):\n",
      "[[0. 0. 0. 0.]\n",
      " [0. 1. 0. 0.]\n",
      " [0. 0. 0. 0.]\n",
      " [0. 0. 0. 0.]]\n",
      "Dim: 4\n",
      "Trace: 1.0\n",
      "Purity Tr(rho^2): 1.0\n",
      "Matrix rank: 1\n",
      "Negativity (PPT detects entanglement if >0 in 2x2): 0.0\n",
      "PPT says: Separable (2x2 case)\n",
      "Schmidt singular values: [1. 0.]\n",
      "Schmidt rank: 1\n"
     ]
    }
   ],
   "source": [
    "# --- NOTE ---\n",
    "# Worked example: Bipartite–Pure Separable: |0>⊗|1>\n",
    "\n",
    "name = 'Bipartite–Pure Separable: |0>⊗|1>'\n",
    "rho = examples[name]\n",
    "\n",
    "pp(\"\\n=== Bipartite–Pure Separable: |0>⊗|1> ===\")\n",
    "pp(\"ρ (density matrix):\")\n",
    "pp(rho)\n",
    "\n",
    "# --- Basic invariants ---\n",
    "pp(\"Dim:\", rho.shape[0])\n",
    "pp(\"Trace:\", np.trace(rho))\n",
    "pp(\"Purity Tr(rho^2):\", purity(rho))\n",
    "\n",
    "rank = np.linalg.matrix_rank(rho, tol=1e-12)\n",
    "pp(\"Matrix rank:\", rank)\n",
    "\n",
    "# --- Two-qubit specific: Negativity (PPT) ---\n",
    "if rho.shape == (4, 4):\n",
    "    neg = negativity(rho, sys='B')\n",
    "    pp(\"Negativity (PPT detects entanglement if >0 in 2x2):\", neg)\n",
    "    if np.isclose(np.real_if_close(neg), 0.0, atol=1e-12):\n",
    "        pp(\"PPT says: Separable (2x2 case)\")\n",
    "    else:\n",
    "        pp(\"PPT says: Entangled\")\n",
    "\n",
    "# --- Two-qubit pure states: Schmidt decomposition ---\n",
    "if rho.shape == (4, 4) and np.isclose(purity(rho), 1.0, atol=1e-12):\n",
    "    evals, evecs = np.linalg.eigh(rho)  # eigen-decomposition\n",
    "    psi = evecs[:, np.argmax(evals)]    # eigenvector for eigenvalue 1 (the pure state)\n",
    "    r, svals = schmidt_rank_two_qubit_state(psi)\n",
    "    pp(\"Schmidt singular values:\", svals)\n",
    "    pp(\"Schmidt rank:\", r)\n"
   ]
  },
  {
   "cell_type": "markdown",
   "id": "2a236b66",
   "metadata": {},
   "source": [
    "\n",
    "**What to notice for _Bipartite–Pure Separable: |0>⊗|1>_**\n",
    "\n",
    "- How **dimension** and **matrix rank** relate to purity (rank 1 ⇒ purity = 1 for density matrices).\n",
    "- Whether the **trace** is exactly 1 (valid states must satisfy this).\n",
    "- For 4×4 (two-qubit) states:\n",
    "  - If **negativity** is **> 0** ⇒ entangled (PPT test is decisive for 2×2).\n",
    "  - If **negativity** is **0** ⇒ PPT-separable in 2×2; often a classical mixture.\n",
    "- For pure 4×4 states (purity ≈ 1): compare the **Schmidt rank** with entanglement.\n",
    "  - Schmidt rank 1 ⇒ product (separable) state.\n",
    "  - Schmidt rank 2 ⇒ entangled state.\n",
    "  \n",
    "**Quick checklist (tick after running the code above):**\n",
    "- [ ] Trace(ρ) = 1  \n",
    "- [ ] Purity Tr(ρ²) = 1 (pure) or < 1 (mixed)  \n",
    "- [ ] Rank(ρ): 1 for pure; >1 for mixed  \n",
    "- [ ] If 4×4: Negativity > 0? (entangled)  \n",
    "- [ ] If 4×4 & pure: Schmidt rank = 1 (separable) or 2 (entangled)\n"
   ]
  },
  {
   "cell_type": "markdown",
   "id": "563db910",
   "metadata": {},
   "source": [
    "### Example: Bipartite–Pure Entangled: |Φ+> = 1/√2 ( |01> + |10> )\n",
    "\n",
    "We will compute:\n",
    "- Dimension, trace, purity \\(\\mathrm{Tr}(\\rho^2)\\), and matrix rank\n",
    "- For 4×4 states: **negativity** (PPT criterion in 2×2)\n",
    "- If the 4×4 state is pure (purity ≈ 1): **Schmidt singular values** and **Schmidt rank**\n"
   ]
  },
  {
   "cell_type": "code",
   "execution_count": 57,
   "id": "a69a2587",
   "metadata": {
    "ExecuteTime": {
     "end_time": "2025-10-23T00:20:52.843488Z",
     "start_time": "2025-10-23T00:20:52.836824Z"
    }
   },
   "outputs": [
    {
     "name": "stdout",
     "output_type": "stream",
     "text": [
      "\n",
      "=== Bipartite–Pure Entangled: |Φ+> = 1/√2 ( |01> + |10> ) ===\n",
      "ρ (density matrix):\n",
      "[[0.5 0.  0.  0.5]\n",
      " [0.  0.  0.  0. ]\n",
      " [0.  0.  0.  0. ]\n",
      " [0.5 0.  0.  0.5]]\n",
      "Dim: 4\n",
      "Trace: 0.9999999999999998\n",
      "Purity Tr(rho^2): 0.9999999999999996\n",
      "Matrix rank: 1\n",
      "Negativity (PPT detects entanglement if >0 in 2x2): 0.4999999999999999\n",
      "PPT says: Entangled\n",
      "Schmidt singular values: [0.70710678 0.70710678]\n",
      "Schmidt rank: 2\n"
     ]
    }
   ],
   "source": [
    "# --- NOTE ---\n",
    "# Worked example: Bipartite–Pure Entangled: |Φ+> = 1/√2 ( |01> + |10> )\n",
    "\n",
    "name = 'Bipartite–Pure Entangled: |Φ+> = 1/√2 ( |01> + |10> )'\n",
    "rho = examples[name]\n",
    "\n",
    "pp(\"\\n=== Bipartite–Pure Entangled: |Φ+> = 1/√2 ( |01> + |10> ) ===\")\n",
    "pp(\"ρ (density matrix):\")\n",
    "pp(rho)\n",
    "\n",
    "# --- Basic invariants ---\n",
    "pp(\"Dim:\", rho.shape[0])\n",
    "pp(\"Trace:\", np.trace(rho))\n",
    "pp(\"Purity Tr(rho^2):\", purity(rho))\n",
    "\n",
    "rank = np.linalg.matrix_rank(rho, tol=1e-12)\n",
    "pp(\"Matrix rank:\", rank)\n",
    "\n",
    "# --- Two-qubit specific: Negativity (PPT) ---\n",
    "if rho.shape == (4, 4):\n",
    "    neg = negativity(rho, sys='B')\n",
    "    pp(\"Negativity (PPT detects entanglement if >0 in 2x2):\", neg)\n",
    "    if np.isclose(np.real_if_close(neg), 0.0, atol=1e-12):\n",
    "        pp(\"PPT says: Separable (2x2 case)\")\n",
    "    else:\n",
    "        pp(\"PPT says: Entangled\")\n",
    "\n",
    "# --- Two-qubit pure states: Schmidt decomposition ---\n",
    "if rho.shape == (4, 4) and np.isclose(purity(rho), 1.0, atol=1e-12):\n",
    "    evals, evecs = np.linalg.eigh(rho)  # eigen-decomposition\n",
    "    psi = evecs[:, np.argmax(evals)]    # eigenvector for eigenvalue 1 (the pure state)\n",
    "    r, svals = schmidt_rank_two_qubit_state(psi)\n",
    "    pp(\"Schmidt singular values:\", svals)\n",
    "    pp(\"Schmidt rank:\", r)\n"
   ]
  },
  {
   "cell_type": "markdown",
   "id": "5f46a34c",
   "metadata": {},
   "source": [
    "\n",
    "**What to notice for _Bipartite–Pure Entangled: |Φ+> = 1/√2 ( |01> + |10> )_**\n",
    "\n",
    "- How **dimension** and **matrix rank** relate to purity (rank 1 ⇒ purity = 1 for density matrices).\n",
    "- Whether the **trace** is exactly 1 (valid states must satisfy this).\n",
    "- For 4×4 (two-qubit) states:\n",
    "  - If **negativity** is **> 0** ⇒ entangled (PPT test is decisive for 2×2).\n",
    "  - If **negativity** is **0** ⇒ PPT-separable in 2×2; often a classical mixture.\n",
    "- For pure 4×4 states (purity ≈ 1): compare the **Schmidt rank** with entanglement.\n",
    "  - Schmidt rank 1 ⇒ product (separable) state.\n",
    "  - Schmidt rank 2 ⇒ entangled state.\n",
    "  \n",
    "**Quick checklist (tick after running the code above):**\n",
    "- [ ] Trace(ρ) = 1  \n",
    "- [ ] Purity Tr(ρ²) = 1 (pure) or < 1 (mixed)  \n",
    "- [ ] Rank(ρ): 1 for pure; >1 for mixed  \n",
    "- [ ] If 4×4: Negativity > 0? (entangled)  \n",
    "- [ ] If 4×4 & pure: Schmidt rank = 1 (separable) or 2 (entangled)\n"
   ]
  },
  {
   "cell_type": "markdown",
   "id": "eb9e9ed4",
   "metadata": {},
   "source": [
    "### Example: Bipartite–Mixed Separable: 1/2(|00><00| + |11><11|\n",
    "\n",
    "We will compute:\n",
    "- Dimension, trace, purity \\(\\mathrm{Tr}(\\rho^2)\\), and matrix rank\n",
    "- For 4×4 states: **negativity** (PPT criterion in 2×2)\n",
    "- If the 4×4 state is pure (purity ≈ 1): **Schmidt singular values** and **Schmidt rank**\n"
   ]
  },
  {
   "cell_type": "code",
   "execution_count": 58,
   "id": "e5161bf9",
   "metadata": {
    "ExecuteTime": {
     "end_time": "2025-10-23T00:20:52.901374Z",
     "start_time": "2025-10-23T00:20:52.894623Z"
    }
   },
   "outputs": [
    {
     "name": "stdout",
     "output_type": "stream",
     "text": [
      "\n",
      "=== Bipartite–Mixed Separable: 1/2(|00><00| + |11><11| ===\n",
      "ρ (density matrix):\n",
      "[[0.5 0.  0.  0. ]\n",
      " [0.  0.  0.  0. ]\n",
      " [0.  0.  0.  0. ]\n",
      " [0.  0.  0.  0.5]]\n",
      "Dim: 4\n",
      "Trace: 1.0\n",
      "Purity Tr(rho^2): 0.5\n",
      "Matrix rank: 2\n",
      "Negativity (PPT detects entanglement if >0 in 2x2): 0.0\n",
      "PPT says: Separable (2x2 case)\n"
     ]
    }
   ],
   "source": [
    "# --- NOTE ---\n",
    "# Worked example: Bipartite–Mixed Separable: 1/2(|00><00| + |11><11|\n",
    "\n",
    "name = 'Bipartite–Mixed Separable: 1/2(|00><00| + |11><11|'\n",
    "rho = examples[name]\n",
    "\n",
    "pp(\"\\n=== Bipartite–Mixed Separable: 1/2(|00><00| + |11><11| ===\")\n",
    "pp(\"ρ (density matrix):\")\n",
    "pp(rho)\n",
    "\n",
    "# --- Basic invariants ---\n",
    "pp(\"Dim:\", rho.shape[0])\n",
    "pp(\"Trace:\", np.trace(rho))\n",
    "pp(\"Purity Tr(rho^2):\", purity(rho))\n",
    "\n",
    "rank = np.linalg.matrix_rank(rho, tol=1e-12)\n",
    "pp(\"Matrix rank:\", rank)\n",
    "\n",
    "# --- Two-qubit specific: Negativity (PPT) ---\n",
    "if rho.shape == (4, 4):\n",
    "    neg = negativity(rho, sys='B')\n",
    "    pp(\"Negativity (PPT detects entanglement if >0 in 2x2):\", neg)\n",
    "    if np.isclose(np.real_if_close(neg), 0.0, atol=1e-12):\n",
    "        pp(\"PPT says: Separable (2x2 case)\")\n",
    "    else:\n",
    "        pp(\"PPT says: Entangled\")\n",
    "\n",
    "# --- Two-qubit pure states: Schmidt decomposition ---\n",
    "if rho.shape == (4, 4) and np.isclose(purity(rho), 1.0, atol=1e-12):\n",
    "    evals, evecs = np.linalg.eigh(rho)  # eigen-decomposition\n",
    "    psi = evecs[:, np.argmax(evals)]    # eigenvector for eigenvalue 1 (the pure state)\n",
    "    r, svals = schmidt_rank_two_qubit_state(psi)\n",
    "    pp(\"Schmidt singular values:\", svals)\n",
    "    pp(\"Schmidt rank:\", r)\n"
   ]
  },
  {
   "cell_type": "markdown",
   "id": "3419e200",
   "metadata": {},
   "source": [
    "\n",
    "**What to notice for _Bipartite–Mixed Separable: 1/2(|00><00| + |11><11|_**\n",
    "\n",
    "- How **dimension** and **matrix rank** relate to purity (rank 1 ⇒ purity = 1 for density matrices).\n",
    "- Whether the **trace** is exactly 1 (valid states must satisfy this).\n",
    "- For 4×4 (two-qubit) states:\n",
    "  - If **negativity** is **> 0** ⇒ entangled (PPT test is decisive for 2×2).\n",
    "  - If **negativity** is **0** ⇒ PPT-separable in 2×2; often a classical mixture.\n",
    "- For pure 4×4 states (purity ≈ 1): compare the **Schmidt rank** with entanglement.\n",
    "  - Schmidt rank 1 ⇒ product (separable) state.\n",
    "  - Schmidt rank 2 ⇒ entangled state.\n",
    "  \n",
    "**Quick checklist (tick after running the code above):**\n",
    "- [ ] Trace(ρ) = 1  \n",
    "- [ ] Purity Tr(ρ²) = 1 (pure) or < 1 (mixed)  \n",
    "- [ ] Rank(ρ): 1 for pure; >1 for mixed  \n",
    "- [ ] If 4×4: Negativity > 0? (entangled)  \n",
    "- [ ] If 4×4 & pure: Schmidt rank = 1 (separable) or 2 (entangled)\n"
   ]
  },
  {
   "cell_type": "markdown",
   "id": "789103a6",
   "metadata": {},
   "source": [
    "### Example: Bipartite–Mixed Entangled (Werner, p=0.6): p*dm(|Φ-><Φ-|) + (1-p) I/4)\n",
    "\n",
    "We will compute:\n",
    "- Dimension, trace, purity \\(\\mathrm{Tr}(\\rho^2)\\), and matrix rank\n",
    "- For 4×4 states: **negativity** (PPT criterion in 2×2)\n",
    "- If the 4×4 state is pure (purity ≈ 1): **Schmidt singular values** and **Schmidt rank**\n"
   ]
  },
  {
   "cell_type": "code",
   "execution_count": 59,
   "id": "3a7c5bcc",
   "metadata": {
    "ExecuteTime": {
     "end_time": "2025-10-23T00:20:52.929890Z",
     "start_time": "2025-10-23T00:20:52.924192Z"
    }
   },
   "outputs": [
    {
     "name": "stdout",
     "output_type": "stream",
     "text": [
      "\n",
      "=== Bipartite–Mixed Entangled (Werner, p=0.6): p*dm(|Φ-><Φ-|) + (1-p) I/4) ===\n",
      "ρ (density matrix):\n",
      "[[ 0.1  0.   0.   0. ]\n",
      " [ 0.   0.4 -0.3  0. ]\n",
      " [ 0.  -0.3  0.4  0. ]\n",
      " [ 0.   0.   0.   0.1]]\n",
      "Dim: 4\n",
      "Trace: 0.9999999999999998\n",
      "Purity Tr(rho^2): 0.5199999999999998\n",
      "Matrix rank: 4\n",
      "Negativity (PPT detects entanglement if >0 in 2x2): 0.19999999999999993\n",
      "PPT says: Entangled\n"
     ]
    }
   ],
   "source": [
    "# --- NOTE ---\n",
    "# Worked example: Bipartite–Mixed Entangled (Werner, p=0.6): p*dm(|Φ-><Φ-|) + (1-p) I/4)\n",
    "\n",
    "name = 'Bipartite–Mixed Entangled (Werner, p=0.6): p*dm(|Φ-><Φ-|) + (1-p) I/4)'\n",
    "rho = examples[name]\n",
    "\n",
    "pp(\"\\n=== Bipartite–Mixed Entangled (Werner, p=0.6): p*dm(|Φ-><Φ-|) + (1-p) I/4) ===\")\n",
    "pp(\"ρ (density matrix):\")\n",
    "pp(rho)\n",
    "\n",
    "# --- Basic invariants ---\n",
    "pp(\"Dim:\", rho.shape[0])\n",
    "pp(\"Trace:\", np.trace(rho))\n",
    "pp(\"Purity Tr(rho^2):\", purity(rho))\n",
    "\n",
    "rank = np.linalg.matrix_rank(rho, tol=1e-12)\n",
    "pp(\"Matrix rank:\", rank)\n",
    "\n",
    "# --- Two-qubit specific: Negativity (PPT) ---\n",
    "if rho.shape == (4, 4):\n",
    "    neg = negativity(rho, sys='B')\n",
    "    pp(\"Negativity (PPT detects entanglement if >0 in 2x2):\", neg)\n",
    "    if np.isclose(np.real_if_close(neg), 0.0, atol=1e-12):\n",
    "        pp(\"PPT says: Separable (2x2 case)\")\n",
    "    else:\n",
    "        pp(\"PPT says: Entangled\")\n",
    "\n",
    "# --- Two-qubit pure states: Schmidt decomposition ---\n",
    "if rho.shape == (4, 4) and np.isclose(purity(rho), 1.0, atol=1e-12):\n",
    "    evals, evecs = np.linalg.eigh(rho)  # eigen-decomposition\n",
    "    psi = evecs[:, np.argmax(evals)]    # eigenvector for eigenvalue 1 (the pure state)\n",
    "    r, svals = schmidt_rank_two_qubit_state(psi)\n",
    "    pp(\"Schmidt singular values:\", svals)\n",
    "    pp(\"Schmidt rank:\", r)\n"
   ]
  },
  {
   "cell_type": "markdown",
   "id": "99112518",
   "metadata": {},
   "source": [
    "\n",
    "**What to notice for _Bipartite–Mixed Entangled (Werner, p=0.6): p*dm(|Φ-><Φ-|) + (1-p) I/4)_**\n",
    "\n",
    "- How **dimension** and **matrix rank** relate to purity (rank 1 ⇒ purity = 1 for density matrices).\n",
    "- Whether the **trace** is exactly 1 (valid states must satisfy this).\n",
    "- For 4×4 (two-qubit) states:\n",
    "  - If **negativity** is **> 0** ⇒ entangled (PPT test is decisive for 2×2).\n",
    "  - If **negativity** is **0** ⇒ PPT-separable in 2×2; often a classical mixture.\n",
    "- For pure 4×4 states (purity ≈ 1): compare the **Schmidt rank** with entanglement.\n",
    "  - Schmidt rank 1 ⇒ product (separable) state.\n",
    "  - Schmidt rank 2 ⇒ entangled state.\n",
    "  \n",
    "**Quick checklist (tick after running the code above):**\n",
    "- [ ] Trace(ρ) = 1  \n",
    "- [ ] Purity Tr(ρ²) = 1 (pure) or < 1 (mixed)  \n",
    "- [ ] Rank(ρ): 1 for pure; >1 for mixed  \n",
    "- [ ] If 4×4: Negativity > 0? (entangled)  \n",
    "- [ ] If 4×4 & pure: Schmidt rank = 1 (separable) or 2 (entangled)\n"
   ]
  },
  {
   "cell_type": "markdown",
   "id": "3a772837",
   "metadata": {},
   "source": [
    "## Derivations (inline LaTeX)\n",
    "\n",
    "### Pure vs. Mixed via $\\operatorname{Tr}(\\rho^2)$\n",
    "Let $\\rho$ be a density operator on a finite-dimensional Hilbert space.\n",
    "\n",
    "**Claim.** $\\rho$ is pure $\\iff \\operatorname{Tr}(\\rho^2)=1$.\n",
    "\n",
    "**Proof.** If $\\rho=|\\psi\\rangle\\!\\langle\\psi|$, then $\\rho^2=\\rho$ and $\\operatorname{Tr}(\\rho^2)=\\operatorname{Tr}(\\rho)=1$.\n",
    "Conversely, with $\\rho=\\sum_i \\lambda_i |i\\rangle\\!\\langle i|$ ($\\lambda_i\\ge0$, $\\sum_i\\lambda_i=1$), we have $\\operatorname{Tr}(\\rho^2)=\\sum_i\\lambda_i^2\\le 1$, with equality iff one eigenvalue is 1 (rank 1). $\\square$\n",
    "\n",
    "### Schmidt Decomposition and Pure-State Entanglement\n",
    "For $|\\psi\\rangle\\in \\mathcal H_A\\otimes\\mathcal H_B$, reshape coefficients into a matrix $M$ and take the SVD $M=U\\,\\mathrm{diag}(\\sqrt{\\lambda_i})\\,V^\\dagger$.\n",
    "This yields $|\\psi\\rangle=\\sum_i\\sqrt{\\lambda_i}\\,|u_i\\rangle\\otimes|v_i\\rangle$; the number of nonzero $\\lambda_i$ is the **Schmidt rank**. Separable $\\iff$ rank $=1$; entangled $\\iff$ rank $>1$.\n",
    "\n",
    "### Peres–Horodecki (PPT) Criterion in $2\\times2$ and $2\\times3$\n",
    "If $\\rho_{AB}$ is separable then $\\rho_{AB}^{T_B}\\ge0$. In $2\\times2$ and $2\\times3$, PPT is also sufficient; in higher dimensions, PPT is only necessary (PPT-entangled states exist).\n",
    "\n",
    "### Two-Qubit Werner State Threshold\n",
    "For $\\rho_W(p)=p|\\Psi^-\\rangle\\!\\langle\\Psi^-|+(1-p)\\tfrac{I}{4}$, the eigenvalues of $\\rho_W(p)^{T_B}$ are $\\{\\tfrac{1-3p}{4},\\tfrac{1+p}{4},\\tfrac{1+p}{4},\\tfrac{1+p}{4}\\}$, so negativity appears (and the state is entangled) iff $p>\\tfrac{1}{3}$."
   ]
  },
  {
   "cell_type": "markdown",
   "id": "0ba226ae",
   "metadata": {},
   "source": [
    "## Citations\n",
    "- **Nielsen & Chuang (N&C)**, *Quantum Computation and Quantum Information*, 2nd ed. — Ch. 2 (states), Sec. 2.5 (Schmidt).\n",
    "- **Watrous**, *The Theory of Quantum Information* — Early chapters (states, Schmidt), entanglement & PPT.\n",
    "- **Wilde**, *Quantum Information Theory*, 2nd ed. — Entanglement theory, PPT, Werner states.\n",
    "- **Khatri–Lami–Wilde**, *Principles of Quantum Communication Theory* — Modern treatment of states, channels, entanglement.\n",
    "- **Manenti & Motta**, *Quantum Information Science* — Density matrices, measurements, examples.\n",
    "- **Jacobs**, *Quantum Measurement Theory and its Applications* — System–probe measurement framework.\n",
    "\n",
    "Original papers: A. Peres, *Phys. Rev. Lett.* **77**, 1413 (1996); M. Horodecki, P. Horodecki, R. Horodecki, *Phys. Lett. A* **223**, 1–8 (1996)."
   ]
  },
  {
   "cell_type": "code",
   "execution_count": null,
   "id": "e99db8a8830daa9c",
   "metadata": {
    "ExecuteTime": {
     "end_time": "2025-10-23T00:20:52.981175Z",
     "start_time": "2025-10-23T00:20:52.979268Z"
    }
   },
   "outputs": [],
   "source": []
  },
  {
   "cell_type": "markdown",
   "id": "a3a27007",
   "metadata": {},
   "source": [
    "\n",
    "## Additional Practice Examples (two per case)\n",
    "\n",
    "Below we add two **new** examples for each major case:\n",
    "- Two-qubit **pure entangled**\n",
    "- Two-qubit **pure separable**\n",
    "- Two-qubit **mixed separable**\n",
    "- Two-qubit **mixed entangled**\n",
    "- Single-qubit **pure**\n",
    "- Single-qubit **mixed**\n",
    "\n",
    "Each example is fully commented and includes a **What to notice** block with a quick checklist.\n"
   ]
  },
  {
   "cell_type": "code",
   "execution_count": 60,
   "id": "e1876208",
   "metadata": {
    "ExecuteTime": {
     "end_time": "2025-10-23T00:20:53.086373Z",
     "start_time": "2025-10-23T00:20:53.048515Z"
    }
   },
   "outputs": [],
   "source": [
    "# --- SETUP for Additional Practice Examples ---\n",
    "# This cell defines convenient basis vectors, projectors, and helpers.\n",
    "# It also ensures `examples` exist, appending all new practice states into it.\n",
    "\n",
    "import numpy as np\n",
    "\n",
    "# Computational basis for 1 qubit\n",
    "zero = np.array([1, 0], dtype=complex)\n",
    "one  = np.array([0, 1], dtype=complex)\n",
    "\n",
    "# PLUS / MINUS and eigenstates of sigma_y\n",
    "plus  = (zero + one) / np.sqrt(2)\n",
    "minus = (zero - one) / np.sqrt(2)\n",
    "yplus  = (zero + 1j*one) / np.sqrt(2)\n",
    "yminus = (zero - 1j*one) / np.sqrt(2)\n",
    "\n",
    "proj = lambda v: np.outer(v, np.conjugate(v))\n",
    "kron = np.kron\n",
    "I2 = np.eye(2, dtype=complex)\n",
    "I4 = np.eye(4, dtype=complex)\n",
    "\n",
    "# Ensure examples dict exists\n",
    "try:\n",
    "    examples\n",
    "except NameError:\n",
    "    examples = {}\n",
    "\n",
    "# A small helper to add and announce a state\n",
    "def add_example(name, rho):\n",
    "    # Force Hermiticity + trace normalization (in case of rounding)\n",
    "    rho = 0.5*(rho + rho.conj().T)\n",
    "    tr = np.trace(rho)\n",
    "    if not np.isclose(tr, 1.0):\n",
    "        rho = rho / tr\n",
    "    examples[name] = rho\n"
   ]
  },
  {
   "cell_type": "markdown",
   "id": "bc5a6cbd",
   "metadata": {},
   "source": [
    "### Two-qubit — Pure Entangled"
   ]
  },
  {
   "cell_type": "markdown",
   "id": "42532dcd",
   "metadata": {},
   "source": [
    "#### Example: Bell Ψ+ (|01>+|10>)/√2\n",
    "\n",
    "A standard Bell state with maximal entanglement; expect purity=1, negativity>0, Schmidt rank 2.\n",
    "\n",
    "We'll compute the same diagnostics as before (dimension, trace, purity, rank; plus PPT-negativity and Schmidt data when applicable).\n"
   ]
  },
  {
   "cell_type": "code",
   "execution_count": 61,
   "id": "2cc0db84",
   "metadata": {
    "ExecuteTime": {
     "end_time": "2025-10-23T00:20:53.134965Z",
     "start_time": "2025-10-23T00:20:53.110552Z"
    }
   },
   "outputs": [
    {
     "name": "stdout",
     "output_type": "stream",
     "text": [
      "\n",
      "=== Bell Ψ+ (|01>+|10>)/√2 ===\n",
      "ρ (density matrix):\n",
      "[[0.  0.  0.  0. ]\n",
      " [0.  0.5 0.5 0. ]\n",
      " [0.  0.5 0.5 0. ]\n",
      " [0.  0.  0.  0. ]]\n",
      "Dim: 4\n",
      "Trace: 0.9999999999999998\n",
      "Purity Tr(rho^2): 0.9999999999999996\n",
      "Matrix rank: 1\n",
      "Negativity (PPT detects entanglement if >0 in 2x2): 0.4999999999999999\n",
      "PPT says: Entangled\n",
      "Schmidt singular values: [0.70710678 0.70710678]\n",
      "Schmidt rank: 2\n"
     ]
    }
   ],
   "source": [
    "# --- NOTE ---\n",
    "# Two-qubit — Pure Entangled — Bell Ψ+ (|01>+|10>)/√2\n",
    "# Construct the state explicitly and add it into `examples` for consistency with earlier cells.\n",
    "\n",
    "# Define the density matrix ρ for this example:\n",
    "psi = (kron(zero, one) + kron(one, zero)) / np.sqrt(2)\n",
    "rho = proj(psi)\n",
    "\n",
    "add_example(\"Bell Ψ+ (|01>+|10>)/√2\", rho)\n",
    "\n",
    "# Now run the standard diagnostics (identical to earlier examples):\n",
    "name = \"Bell Ψ+ (|01>+|10>)/√2\"\n",
    "rho = examples[name]\n",
    "\n",
    "pp(\"\\n=== Bell Ψ+ (|01>+|10>)/√2 ===\")\n",
    "pp(\"ρ (density matrix):\")\n",
    "pp(rho)\n",
    "\n",
    "pp(\"Dim:\", rho.shape[0])\n",
    "pp(\"Trace:\", np.trace(rho))\n",
    "pp(\"Purity Tr(rho^2):\", purity(rho))\n",
    "\n",
    "rank = np.linalg.matrix_rank(rho, tol=1e-12)\n",
    "pp(\"Matrix rank:\", rank)\n",
    "\n",
    "if rho.shape == (4, 4):\n",
    "    neg = negativity(rho, sys='B')\n",
    "    pp(\"Negativity (PPT detects entanglement if >0 in 2x2):\", neg)\n",
    "    if np.isclose(np.real_if_close(neg), 0.0, atol=1e-12):\n",
    "        pp(\"PPT says: Separable (2x2 case)\")\n",
    "    else:\n",
    "        pp(\"PPT says: Entangled\")\n",
    "\n",
    "if rho.shape == (4, 4) and np.isclose(purity(rho), 1.0, atol=1e-12):\n",
    "    evals, evecs = np.linalg.eigh(rho)\n",
    "    psi = evecs[:, np.argmax(evals)]\n",
    "    r, svals = schmidt_rank_two_qubit_state(psi)\n",
    "    pp(\"Schmidt singular values:\", svals)\n",
    "    pp(\"Schmidt rank:\", r)\n"
   ]
  },
  {
   "cell_type": "markdown",
   "id": "827c5e92",
   "metadata": {},
   "source": [
    "\n",
    "**What to notice for _Bell Ψ+ (|01>+|10>)/√2_**\n",
    "\n",
    "- How **dimension** and **matrix rank** relate to purity (rank 1 ⇒ purity = 1 for density matrices).\n",
    "- Whether the **trace** is exactly 1 (valid states must satisfy this).\n",
    "- For 4×4 (two-qubit) states:\n",
    "  - If **negativity** is **> 0** ⇒ entangled (PPT test is decisive for 2×2).\n",
    "  - If **negativity** is **0** ⇒ PPT-separable in 2×2; often a classical mixture.\n",
    "- For pure 4×4 states (purity ≈ 1): compare the **Schmidt rank** with entanglement.\n",
    "  - Schmidt rank 1 ⇒ product (separable) state.\n",
    "  - Schmidt rank 2 ⇒ entangled state.\n",
    "  \n",
    "**Quick checklist (tick after running the code above):**\n",
    "- [ ] Trace(ρ) = 1  \n",
    "- [ ] Purity Tr(ρ²) = 1 (pure) or < 1 (mixed)  \n",
    "- [ ] Rank(ρ): 1 for pure; >1 for mixed  \n",
    "- [ ] If 4×4: Negativity > 0? (entangled)  \n",
    "- [ ] If 4×4 & pure: Schmidt rank = 1 (separable) or 2 (entangled)\n"
   ]
  },
  {
   "cell_type": "markdown",
   "id": "a9cfcfca",
   "metadata": {},
   "source": [
    "#### Example: Partially entangled cos(π/6)|00> + sin(π/6)|11>\n",
    "\n",
    "A tunable pure entangled state; purity=1, Schmidt rank 2 (since both amplitudes nonzero), nonzero negativity.\n",
    "\n",
    "We'll compute the same diagnostics as before (dimension, trace, purity, rank; plus PPT-negativity and Schmidt data when applicable).\n"
   ]
  },
  {
   "cell_type": "code",
   "execution_count": 62,
   "id": "958f9889",
   "metadata": {
    "ExecuteTime": {
     "end_time": "2025-10-23T00:20:53.212523Z",
     "start_time": "2025-10-23T00:20:53.203560Z"
    }
   },
   "outputs": [
    {
     "name": "stdout",
     "output_type": "stream",
     "text": [
      "\n",
      "=== Partially entangled cos(π/6)|00> + sin(π/6)|11> ===\n",
      "ρ (density matrix):\n",
      "[[0.75      0.        0.        0.4330127]\n",
      " [0.        0.        0.        0.       ]\n",
      " [0.        0.        0.        0.       ]\n",
      " [0.4330127 0.        0.        0.25     ]]\n",
      "Dim: 4\n",
      "Trace: 1.0\n",
      "Purity Tr(rho^2): 1.0000000000000002\n",
      "Matrix rank: 1\n",
      "Negativity (PPT detects entanglement if >0 in 2x2): 0.4330127018922193\n",
      "PPT says: Entangled\n",
      "Schmidt singular values: [0.8660254 0.5      ]\n",
      "Schmidt rank: 2\n"
     ]
    }
   ],
   "source": [
    "# --- NOTE ---\n",
    "# Two-qubit — Pure Entangled — Partially entangled cos(π/6)|00> + sin(π/6)|11>\n",
    "# Construct the state explicitly and add it into `examples` for consistency with earlier cells.\n",
    "\n",
    "# Define the density matrix ρ for this example:\n",
    "theta = np.pi/6\n",
    "psi = np.cos(theta)*kron(zero, zero) + np.sin(theta)*kron(one, one)\n",
    "rho = proj(psi)\n",
    "\n",
    "add_example(\"Partially entangled cos(π/6)|00> + sin(π/6)|11>\", rho)\n",
    "\n",
    "# Now run the standard diagnostics (identical to earlier examples):\n",
    "name = \"Partially entangled cos(π/6)|00> + sin(π/6)|11>\"\n",
    "rho = examples[name]\n",
    "\n",
    "pp(\"\\n=== Partially entangled cos(π/6)|00> + sin(π/6)|11> ===\")\n",
    "pp(\"ρ (density matrix):\")\n",
    "pp(rho)\n",
    "\n",
    "pp(\"Dim:\", rho.shape[0])\n",
    "pp(\"Trace:\", np.trace(rho))\n",
    "pp(\"Purity Tr(rho^2):\", purity(rho))\n",
    "\n",
    "rank = np.linalg.matrix_rank(rho, tol=1e-12)\n",
    "pp(\"Matrix rank:\", rank)\n",
    "\n",
    "if rho.shape == (4, 4):\n",
    "    neg = negativity(rho, sys='B')\n",
    "    pp(\"Negativity (PPT detects entanglement if >0 in 2x2):\", neg)\n",
    "    if np.isclose(np.real_if_close(neg), 0.0, atol=1e-12):\n",
    "        pp(\"PPT says: Separable (2x2 case)\")\n",
    "    else:\n",
    "        pp(\"PPT says: Entangled\")\n",
    "\n",
    "if rho.shape == (4, 4) and np.isclose(purity(rho), 1.0, atol=1e-12):\n",
    "    evals, evecs = np.linalg.eigh(rho)\n",
    "    psi = evecs[:, np.argmax(evals)]\n",
    "    r, svals = schmidt_rank_two_qubit_state(psi)\n",
    "    pp(\"Schmidt singular values:\", svals)\n",
    "    pp(\"Schmidt rank:\", r)\n"
   ]
  },
  {
   "cell_type": "markdown",
   "id": "661c36cf",
   "metadata": {},
   "source": [
    "\n",
    "**What to notice for _Partially entangled cos(π/6)|00> + sin(π/6)|11>_**\n",
    "\n",
    "- How **dimension** and **matrix rank** relate to purity (rank 1 ⇒ purity = 1 for density matrices).\n",
    "- Whether the **trace** is exactly 1 (valid states must satisfy this).\n",
    "- For 4×4 (two-qubit) states:\n",
    "  - If **negativity** is **> 0** ⇒ entangled (PPT test is decisive for 2×2).\n",
    "  - If **negativity** is **0** ⇒ PPT-separable in 2×2; often a classical mixture.\n",
    "- For pure 4×4 states (purity ≈ 1): compare the **Schmidt rank** with entanglement.\n",
    "  - Schmidt rank 1 ⇒ product (separable) state.\n",
    "  - Schmidt rank 2 ⇒ entangled state.\n",
    "  \n",
    "**Quick checklist (tick after running the code above):**\n",
    "- [ ] Trace(ρ) = 1  \n",
    "- [ ] Purity Tr(ρ²) = 1 (pure) or < 1 (mixed)  \n",
    "- [ ] Rank(ρ): 1 for pure; >1 for mixed  \n",
    "- [ ] If 4×4: Negativity > 0? (entangled)  \n",
    "- [ ] If 4×4 & pure: Schmidt rank = 1 (separable) or 2 (entangled)\n"
   ]
  },
  {
   "cell_type": "markdown",
   "id": "d6dfada6",
   "metadata": {},
   "source": [
    "### Two-qubit — Pure Separable"
   ]
  },
  {
   "cell_type": "markdown",
   "id": "5eed3696",
   "metadata": {},
   "source": [
    "#### Example: |0> ⊗ |+>\n",
    "\n",
    "Product of single-qubit pure states; expect purity=1, negativity=0, Schmidt rank 1.\n",
    "\n",
    "We'll compute the same diagnostics as before (dimension, trace, purity, rank; plus PPT-negativity and Schmidt data when applicable).\n"
   ]
  },
  {
   "cell_type": "code",
   "execution_count": 63,
   "id": "b84b68f7",
   "metadata": {
    "ExecuteTime": {
     "end_time": "2025-10-23T00:20:53.273857Z",
     "start_time": "2025-10-23T00:20:53.261164Z"
    }
   },
   "outputs": [
    {
     "name": "stdout",
     "output_type": "stream",
     "text": [
      "\n",
      "=== |0> ⊗ |+> ===\n",
      "ρ (density matrix):\n",
      "[[0.5 0.5 0.  0. ]\n",
      " [0.5 0.5 0.  0. ]\n",
      " [0.  0.  0.  0. ]\n",
      " [0.  0.  0.  0. ]]\n",
      "Dim: 4\n",
      "Trace: 0.9999999999999998\n",
      "Purity Tr(rho^2): 0.9999999999999996\n",
      "Matrix rank: 1\n",
      "Negativity (PPT detects entanglement if >0 in 2x2): 0.0\n",
      "PPT says: Separable (2x2 case)\n",
      "Schmidt singular values: [1. 0.]\n",
      "Schmidt rank: 1\n"
     ]
    }
   ],
   "source": [
    "# --- NOTE ---\n",
    "# Two-qubit — Pure Separable — |0> ⊗ |+>\n",
    "# Construct the state explicitly and add it into `examples` for consistency with earlier cells.\n",
    "\n",
    "# Define the density matrix ρ for this example:\n",
    "psi = kron(zero, plus)\n",
    "rho = proj(psi)\n",
    "\n",
    "add_example(\"|0> ⊗ |+>\", rho)\n",
    "\n",
    "# Now run the standard diagnostics (identical to earlier examples):\n",
    "name = \"|0> ⊗ |+>\"\n",
    "rho = examples[name]\n",
    "\n",
    "pp(\"\\n=== |0> ⊗ |+> ===\")\n",
    "pp(\"ρ (density matrix):\")\n",
    "pp(rho)\n",
    "\n",
    "pp(\"Dim:\", rho.shape[0])\n",
    "pp(\"Trace:\", np.trace(rho))\n",
    "pp(\"Purity Tr(rho^2):\", purity(rho))\n",
    "\n",
    "rank = np.linalg.matrix_rank(rho, tol=1e-12)\n",
    "pp(\"Matrix rank:\", rank)\n",
    "\n",
    "if rho.shape == (4, 4):\n",
    "    neg = negativity(rho, sys='B')\n",
    "    pp(\"Negativity (PPT detects entanglement if >0 in 2x2):\", neg)\n",
    "    if np.isclose(np.real_if_close(neg), 0.0, atol=1e-12):\n",
    "        pp(\"PPT says: Separable (2x2 case)\")\n",
    "    else:\n",
    "        pp(\"PPT says: Entangled\")\n",
    "\n",
    "if rho.shape == (4, 4) and np.isclose(purity(rho), 1.0, atol=1e-12):\n",
    "    evals, evecs = np.linalg.eigh(rho)\n",
    "    psi = evecs[:, np.argmax(evals)]\n",
    "    r, svals = schmidt_rank_two_qubit_state(psi)\n",
    "    pp(\"Schmidt singular values:\", svals)\n",
    "    pp(\"Schmidt rank:\", r)\n"
   ]
  },
  {
   "cell_type": "markdown",
   "id": "b36a139e",
   "metadata": {},
   "source": [
    "\n",
    "**What to notice for _|0> ⊗ |+>_**\n",
    "\n",
    "- How **dimension** and **matrix rank** relate to purity (rank 1 ⇒ purity = 1 for density matrices).\n",
    "- Whether the **trace** is exactly 1 (valid states must satisfy this).\n",
    "- For 4×4 (two-qubit) states:\n",
    "  - If **negativity** is **> 0** ⇒ entangled (PPT test is decisive for 2×2).\n",
    "  - If **negativity** is **0** ⇒ PPT-separable in 2×2; often a classical mixture.\n",
    "- For pure 4×4 states (purity ≈ 1): compare the **Schmidt rank** with entanglement.\n",
    "  - Schmidt rank 1 ⇒ product (separable) state.\n",
    "  - Schmidt rank 2 ⇒ entangled state.\n",
    "  \n",
    "**Quick checklist (tick after running the code above):**\n",
    "- [ ] Trace(ρ) = 1  \n",
    "- [ ] Purity Tr(ρ²) = 1 (pure) or < 1 (mixed)  \n",
    "- [ ] Rank(ρ): 1 for pure; >1 for mixed  \n",
    "- [ ] If 4×4: Negativity > 0? (entangled)  \n",
    "- [ ] If 4×4 & pure: Schmidt rank = 1 (separable) or 2 (entangled)\n"
   ]
  },
  {
   "cell_type": "markdown",
   "id": "bf7c5ed2",
   "metadata": {},
   "source": [
    "#### Example: |1> ⊗ (cos(π/3)|0> + sin(π/3)|1>)\n",
    "\n",
    "Another product pure state; expect purity=1, negativity=0, Schmidt rank 1.\n",
    "\n",
    "We'll compute the same diagnostics as before (dimension, trace, purity, rank; plus PPT-negativity and Schmidt data when applicable).\n"
   ]
  },
  {
   "cell_type": "code",
   "execution_count": 64,
   "id": "db3e97a5",
   "metadata": {
    "ExecuteTime": {
     "end_time": "2025-10-23T00:20:53.307406Z",
     "start_time": "2025-10-23T00:20:53.296951Z"
    }
   },
   "outputs": [
    {
     "name": "stdout",
     "output_type": "stream",
     "text": [
      "\n",
      "=== |1> ⊗ (cos(π/3)|0> + sin(π/3)|1>) ===\n",
      "ρ (density matrix):\n",
      "[[0.        0.        0.        0.       ]\n",
      " [0.        0.        0.        0.       ]\n",
      " [0.        0.        0.25      0.4330127]\n",
      " [0.        0.        0.4330127 0.75     ]]\n",
      "Dim: 4\n",
      "Trace: 1.0\n",
      "Purity Tr(rho^2): 1.0\n",
      "Matrix rank: 1\n",
      "Negativity (PPT detects entanglement if >0 in 2x2): 2.7755575615628914e-17\n",
      "PPT says: Separable (2x2 case)\n",
      "Schmidt singular values: [1. 0.]\n",
      "Schmidt rank: 1\n"
     ]
    }
   ],
   "source": [
    "# --- NOTE ---\n",
    "# Two-qubit — Pure Separable — |1> ⊗ (cos(π/3)|0> + sin(π/3)|1>)\n",
    "# Construct the state explicitly and add it into `examples` for consistency with earlier cells.\n",
    "\n",
    "# Define the density matrix ρ for this example:\n",
    "phi = np.pi/3\n",
    "b = np.cos(phi)*zero + np.sin(phi)*one\n",
    "psi = kron(one, b)\n",
    "rho = proj(psi)\n",
    "\n",
    "add_example(\"|1> ⊗ (cos(π/3)|0> + sin(π/3)|1>)\", rho)\n",
    "\n",
    "# Now run the standard diagnostics (identical to earlier examples):\n",
    "name = \"|1> ⊗ (cos(π/3)|0> + sin(π/3)|1>)\"\n",
    "rho = examples[name]\n",
    "\n",
    "pp(\"\\n=== |1> ⊗ (cos(π/3)|0> + sin(π/3)|1>) ===\")\n",
    "pp(\"ρ (density matrix):\")\n",
    "pp(rho)\n",
    "\n",
    "pp(\"Dim:\", rho.shape[0])\n",
    "pp(\"Trace:\", np.trace(rho))\n",
    "pp(\"Purity Tr(rho^2):\", purity(rho))\n",
    "\n",
    "rank = np.linalg.matrix_rank(rho, tol=1e-12)\n",
    "pp(\"Matrix rank:\", rank)\n",
    "\n",
    "if rho.shape == (4, 4):\n",
    "    neg = negativity(rho, sys='B')\n",
    "    pp(\"Negativity (PPT detects entanglement if >0 in 2x2):\", neg)\n",
    "    if np.isclose(np.real_if_close(neg), 0.0, atol=1e-12):\n",
    "        pp(\"PPT says: Separable (2x2 case)\")\n",
    "    else:\n",
    "        pp(\"PPT says: Entangled\")\n",
    "\n",
    "if rho.shape == (4, 4) and np.isclose(purity(rho), 1.0, atol=1e-12):\n",
    "    evals, evecs = np.linalg.eigh(rho)\n",
    "    psi = evecs[:, np.argmax(evals)]\n",
    "    r, svals = schmidt_rank_two_qubit_state(psi)\n",
    "    pp(\"Schmidt singular values:\", svals)\n",
    "    pp(\"Schmidt rank:\", r)\n"
   ]
  },
  {
   "cell_type": "markdown",
   "id": "f66c2d31",
   "metadata": {},
   "source": [
    "\n",
    "**What to notice for _|1> ⊗ (cos(π/3)|0> + sin(π/3)|1>)_**\n",
    "\n",
    "- How **dimension** and **matrix rank** relate to purity (rank 1 ⇒ purity = 1 for density matrices).\n",
    "- Whether the **trace** is exactly 1 (valid states must satisfy this).\n",
    "- For 4×4 (two-qubit) states:\n",
    "  - If **negativity** is **> 0** ⇒ entangled (PPT test is decisive for 2×2).\n",
    "  - If **negativity** is **0** ⇒ PPT-separable in 2×2; often a classical mixture.\n",
    "- For pure 4×4 states (purity ≈ 1): compare the **Schmidt rank** with entanglement.\n",
    "  - Schmidt rank 1 ⇒ product (separable) state.\n",
    "  - Schmidt rank 2 ⇒ entangled state.\n",
    "  \n",
    "**Quick checklist (tick after running the code above):**\n",
    "- [ ] Trace(ρ) = 1  \n",
    "- [ ] Purity Tr(ρ²) = 1 (pure) or < 1 (mixed)  \n",
    "- [ ] Rank(ρ): 1 for pure; >1 for mixed  \n",
    "- [ ] If 4×4: Negativity > 0? (entangled)  \n",
    "- [ ] If 4×4 & pure: Schmidt rank = 1 (separable) or 2 (entangled)\n"
   ]
  },
  {
   "cell_type": "markdown",
   "id": "c5740bde",
   "metadata": {},
   "source": [
    "### Two-qubit — Mixed Separable"
   ]
  },
  {
   "cell_type": "markdown",
   "id": "4510f183",
   "metadata": {},
   "source": [
    "#### Example: 0.7|00><00| + 0.3|11><11|\n",
    "\n",
    "Classical mixture of two product states; PPT gives 0 negativity (separable), purity<1, rank>1.\n",
    "\n",
    "We'll compute the same diagnostics as before (dimension, trace, purity, rank; plus PPT-negativity and Schmidt data when applicable).\n"
   ]
  },
  {
   "cell_type": "code",
   "execution_count": 65,
   "id": "4d183806",
   "metadata": {
    "ExecuteTime": {
     "end_time": "2025-10-23T00:20:53.359945Z",
     "start_time": "2025-10-23T00:20:53.352710Z"
    }
   },
   "outputs": [
    {
     "name": "stdout",
     "output_type": "stream",
     "text": [
      "\n",
      "=== 0.7|00><00| + 0.3|11><11| ===\n",
      "ρ (density matrix):\n",
      "[[0.7 0.  0.  0. ]\n",
      " [0.  0.  0.  0. ]\n",
      " [0.  0.  0.  0. ]\n",
      " [0.  0.  0.  0.3]]\n",
      "Dim: 4\n",
      "Trace: 1.0\n",
      "Purity Tr(rho^2): 0.58\n",
      "Matrix rank: 2\n",
      "Negativity (PPT detects entanglement if >0 in 2x2): 0.0\n",
      "PPT says: Separable (2x2 case)\n"
     ]
    }
   ],
   "source": [
    "# --- NOTE ---\n",
    "# Two-qubit — Mixed Separable — 0.7|00><00| + 0.3|11><11|\n",
    "# Construct the state explicitly and add it into `examples` for consistency with earlier cells.\n",
    "\n",
    "# Define the density matrix ρ for this example:\n",
    "rho = 0.7*proj(kron(zero, zero)) + 0.3*proj(kron(one, one))\n",
    "\n",
    "add_example(\"0.7|00><00| + 0.3|11><11|\", rho)\n",
    "\n",
    "# Now run the standard diagnostics (identical to earlier examples):\n",
    "name = \"0.7|00><00| + 0.3|11><11|\"\n",
    "rho = examples[name]\n",
    "\n",
    "pp(\"\\n=== 0.7|00><00| + 0.3|11><11| ===\")\n",
    "pp(\"ρ (density matrix):\")\n",
    "pp(rho)\n",
    "\n",
    "pp(\"Dim:\", rho.shape[0])\n",
    "pp(\"Trace:\", np.trace(rho))\n",
    "pp(\"Purity Tr(rho^2):\", purity(rho))\n",
    "\n",
    "rank = np.linalg.matrix_rank(rho, tol=1e-12)\n",
    "pp(\"Matrix rank:\", rank)\n",
    "\n",
    "if rho.shape == (4, 4):\n",
    "    neg = negativity(rho, sys='B')\n",
    "    pp(\"Negativity (PPT detects entanglement if >0 in 2x2):\", neg)\n",
    "    if np.isclose(np.real_if_close(neg), 0.0, atol=1e-12):\n",
    "        pp(\"PPT says: Separable (2x2 case)\")\n",
    "    else:\n",
    "        pp(\"PPT says: Entangled\")\n",
    "\n",
    "if rho.shape == (4, 4) and np.isclose(purity(rho), 1.0, atol=1e-12):\n",
    "    evals, evecs = np.linalg.eigh(rho)\n",
    "    psi = evecs[:, np.argmax(evals)]\n",
    "    r, svals = schmidt_rank_two_qubit_state(psi)\n",
    "    pp(\"Schmidt singular values:\", svals)\n",
    "    pp(\"Schmidt rank:\", r)\n"
   ]
  },
  {
   "cell_type": "markdown",
   "id": "2110cc0f",
   "metadata": {},
   "source": [
    "\n",
    "**What to notice for _0.7|00><00| + 0.3|11><11|_**\n",
    "\n",
    "- How **dimension** and **matrix rank** relate to purity (rank 1 ⇒ purity = 1 for density matrices).\n",
    "- Whether the **trace** is exactly 1 (valid states must satisfy this).\n",
    "- For 4×4 (two-qubit) states:\n",
    "  - If **negativity** is **> 0** ⇒ entangled (PPT test is decisive for 2×2).\n",
    "  - If **negativity** is **0** ⇒ PPT-separable in 2×2; often a classical mixture.\n",
    "- For pure 4×4 states (purity ≈ 1): compare the **Schmidt rank** with entanglement.\n",
    "  - Schmidt rank 1 ⇒ product (separable) state.\n",
    "  - Schmidt rank 2 ⇒ entangled state.\n",
    "  \n",
    "**Quick checklist (tick after running the code above):**\n",
    "- [ ] Trace(ρ) = 1  \n",
    "- [ ] Purity Tr(ρ²) = 1 (pure) or < 1 (mixed)  \n",
    "- [ ] Rank(ρ): 1 for pure; >1 for mixed  \n",
    "- [ ] If 4×4: Negativity > 0? (entangled)  \n",
    "- [ ] If 4×4 & pure: Schmidt rank = 1 (separable) or 2 (entangled)\n"
   ]
  },
  {
   "cell_type": "markdown",
   "id": "a415ecff",
   "metadata": {},
   "source": [
    "#### Example: 0.5|01><01| + 0.5|10><10|\n",
    "\n",
    "Another classical mixture; separable with negativity 0, purity<1, rank>1.\n",
    "\n",
    "We'll compute the same diagnostics as before (dimension, trace, purity, rank; plus PPT-negativity and Schmidt data when applicable).\n"
   ]
  },
  {
   "cell_type": "code",
   "execution_count": 66,
   "id": "8122f2d0",
   "metadata": {
    "ExecuteTime": {
     "end_time": "2025-10-23T00:20:53.416551Z",
     "start_time": "2025-10-23T00:20:53.410391Z"
    }
   },
   "outputs": [
    {
     "name": "stdout",
     "output_type": "stream",
     "text": [
      "\n",
      "=== 0.5|01><01| + 0.5|10><10| ===\n",
      "ρ (density matrix):\n",
      "[[0.  0.  0.  0. ]\n",
      " [0.  0.5 0.  0. ]\n",
      " [0.  0.  0.5 0. ]\n",
      " [0.  0.  0.  0. ]]\n",
      "Dim: 4\n",
      "Trace: 1.0\n",
      "Purity Tr(rho^2): 0.5\n",
      "Matrix rank: 2\n",
      "Negativity (PPT detects entanglement if >0 in 2x2): 0.0\n",
      "PPT says: Separable (2x2 case)\n"
     ]
    }
   ],
   "source": [
    "# --- NOTE ---\n",
    "# Two-qubit — Mixed Separable — 0.5|01><01| + 0.5|10><10|\n",
    "# Construct the state explicitly and add it into `examples` for consistency with earlier cells.\n",
    "\n",
    "# Define the density matrix ρ for this example:\n",
    "rho = 0.5*proj(kron(zero, one)) + 0.5*proj(kron(one, zero))\n",
    "\n",
    "add_example(\"0.5|01><01| + 0.5|10><10|\", rho)\n",
    "\n",
    "# Now run the standard diagnostics (identical to earlier examples):\n",
    "name = \"0.5|01><01| + 0.5|10><10|\"\n",
    "rho = examples[name]\n",
    "\n",
    "pp(\"\\n=== 0.5|01><01| + 0.5|10><10| ===\")\n",
    "pp(\"ρ (density matrix):\")\n",
    "pp(rho)\n",
    "\n",
    "pp(\"Dim:\", rho.shape[0])\n",
    "pp(\"Trace:\", np.trace(rho))\n",
    "pp(\"Purity Tr(rho^2):\", purity(rho))\n",
    "\n",
    "rank = np.linalg.matrix_rank(rho, tol=1e-12)\n",
    "pp(\"Matrix rank:\", rank)\n",
    "\n",
    "if rho.shape == (4, 4):\n",
    "    neg = negativity(rho, sys='B')\n",
    "    pp(\"Negativity (PPT detects entanglement if >0 in 2x2):\", neg)\n",
    "    if np.isclose(np.real_if_close(neg), 0.0, atol=1e-12):\n",
    "        pp(\"PPT says: Separable (2x2 case)\")\n",
    "    else:\n",
    "        pp(\"PPT says: Entangled\")\n",
    "\n",
    "if rho.shape == (4, 4) and np.isclose(purity(rho), 1.0, atol=1e-12):\n",
    "    evals, evecs = np.linalg.eigh(rho)\n",
    "    psi = evecs[:, np.argmax(evals)]\n",
    "    r, svals = schmidt_rank_two_qubit_state(psi)\n",
    "    pp(\"Schmidt singular values:\", svals)\n",
    "    pp(\"Schmidt rank:\", r)\n"
   ]
  },
  {
   "cell_type": "markdown",
   "id": "dd68e0fe",
   "metadata": {},
   "source": [
    "\n",
    "**What to notice for _0.5|01><01| + 0.5|10><10|_**\n",
    "\n",
    "- How **dimension** and **matrix rank** relate to purity (rank 1 ⇒ purity = 1 for density matrices).\n",
    "- Whether the **trace** is exactly 1 (valid states must satisfy this).\n",
    "- For 4×4 (two-qubit) states:\n",
    "  - If **negativity** is **> 0** ⇒ entangled (PPT test is decisive for 2×2).\n",
    "  - If **negativity** is **0** ⇒ PPT-separable in 2×2; often a classical mixture.\n",
    "- For pure 4×4 states (purity ≈ 1): compare the **Schmidt rank** with entanglement.\n",
    "  - Schmidt rank 1 ⇒ product (separable) state.\n",
    "  - Schmidt rank 2 ⇒ entangled state.\n",
    "  \n",
    "**Quick checklist (tick after running the code above):**\n",
    "- [ ] Trace(ρ) = 1  \n",
    "- [ ] Purity Tr(ρ²) = 1 (pure) or < 1 (mixed)  \n",
    "- [ ] Rank(ρ): 1 for pure; >1 for mixed  \n",
    "- [ ] If 4×4: Negativity > 0? (entangled)  \n",
    "- [ ] If 4×4 & pure: Schmidt rank = 1 (separable) or 2 (entangled)\n"
   ]
  },
  {
   "cell_type": "markdown",
   "id": "9107cb79",
   "metadata": {},
   "source": [
    "### Two-qubit — Mixed Entangled"
   ]
  },
  {
   "cell_type": "markdown",
   "id": "682da3f6",
   "metadata": {},
   "source": [
    "#### Example: Werner(0.8)  0.8|Φ+><Φ+| + 0.2*I/4\n",
    "\n",
    "Werner state is entangled for p>1/3; expect negativity>0 (2×2 PPT detects entanglement).\n",
    "\n",
    "We'll compute the same diagnostics as before (dimension, trace, purity, rank; plus PPT-negativity and Schmidt data when applicable).\n"
   ]
  },
  {
   "cell_type": "code",
   "execution_count": 67,
   "id": "1ee7bec2",
   "metadata": {
    "ExecuteTime": {
     "end_time": "2025-10-23T00:20:53.444549Z",
     "start_time": "2025-10-23T00:20:53.437900Z"
    }
   },
   "outputs": [
    {
     "name": "stdout",
     "output_type": "stream",
     "text": [
      "\n",
      "=== Werner(0.8)  0.8|Φ+><Φ+| + 0.2*I/4 ===\n",
      "ρ (density matrix):\n",
      "[[0.45 0.   0.   0.4 ]\n",
      " [0.   0.05 0.   0.  ]\n",
      " [0.   0.   0.05 0.  ]\n",
      " [0.4  0.   0.   0.45]]\n",
      "Dim: 4\n",
      "Trace: 0.9999999999999998\n",
      "Purity Tr(rho^2): 0.7299999999999996\n",
      "Matrix rank: 4\n",
      "Negativity (PPT detects entanglement if >0 in 2x2): 0.3499999999999999\n",
      "PPT says: Entangled\n"
     ]
    }
   ],
   "source": [
    "# --- NOTE ---\n",
    "# Two-qubit — Mixed Entangled — Werner(0.8)  0.8|Φ+><Φ+| + 0.2*I/4\n",
    "# Construct the state explicitly and add it into `examples` for consistency with earlier cells.\n",
    "\n",
    "# Define the density matrix ρ for this example:\n",
    "phi_plus = (kron(zero, zero) + kron(one, one)) / np.sqrt(2)\n",
    "rho = 0.8*proj(phi_plus) + 0.2*(np.eye(4, dtype=complex)/4)\n",
    "\n",
    "add_example(\"Werner(0.8)  0.8|Φ+><Φ+| + 0.2*I/4\", rho)\n",
    "\n",
    "# Now run the standard diagnostics (identical to earlier examples):\n",
    "name = \"Werner(0.8)  0.8|Φ+><Φ+| + 0.2*I/4\"\n",
    "rho = examples[name]\n",
    "\n",
    "pp(\"\\n=== Werner(0.8)  0.8|Φ+><Φ+| + 0.2*I/4 ===\")\n",
    "pp(\"ρ (density matrix):\")\n",
    "pp(rho)\n",
    "\n",
    "pp(\"Dim:\", rho.shape[0])\n",
    "pp(\"Trace:\", np.trace(rho))\n",
    "pp(\"Purity Tr(rho^2):\", purity(rho))\n",
    "\n",
    "rank = np.linalg.matrix_rank(rho, tol=1e-12)\n",
    "pp(\"Matrix rank:\", rank)\n",
    "\n",
    "if rho.shape == (4, 4):\n",
    "    neg = negativity(rho, sys='B')\n",
    "    pp(\"Negativity (PPT detects entanglement if >0 in 2x2):\", neg)\n",
    "    if np.isclose(np.real_if_close(neg), 0.0, atol=1e-12):\n",
    "        pp(\"PPT says: Separable (2x2 case)\")\n",
    "    else:\n",
    "        pp(\"PPT says: Entangled\")\n",
    "\n",
    "if rho.shape == (4, 4) and np.isclose(purity(rho), 1.0, atol=1e-12):\n",
    "    evals, evecs = np.linalg.eigh(rho)\n",
    "    psi = evecs[:, np.argmax(evals)]\n",
    "    r, svals = schmidt_rank_two_qubit_state(psi)\n",
    "    pp(\"Schmidt singular values:\", svals)\n",
    "    pp(\"Schmidt rank:\", r)\n"
   ]
  },
  {
   "cell_type": "markdown",
   "id": "f9053954",
   "metadata": {},
   "source": [
    "\n",
    "**What to notice for _Werner(0.8)  0.8|Φ+><Φ+| + 0.2*I/4_**\n",
    "\n",
    "- How **dimension** and **matrix rank** relate to purity (rank 1 ⇒ purity = 1 for density matrices).\n",
    "- Whether the **trace** is exactly 1 (valid states must satisfy this).\n",
    "- For 4×4 (two-qubit) states:\n",
    "  - If **negativity** is **> 0** ⇒ entangled (PPT test is decisive for 2×2).\n",
    "  - If **negativity** is **0** ⇒ PPT-separable in 2×2; often a classical mixture.\n",
    "- For pure 4×4 states (purity ≈ 1): compare the **Schmidt rank** with entanglement.\n",
    "  - Schmidt rank 1 ⇒ product (separable) state.\n",
    "  - Schmidt rank 2 ⇒ entangled state.\n",
    "  \n",
    "**Quick checklist (tick after running the code above):**\n",
    "- [ ] Trace(ρ) = 1  \n",
    "- [ ] Purity Tr(ρ²) = 1 (pure) or < 1 (mixed)  \n",
    "- [ ] Rank(ρ): 1 for pure; >1 for mixed  \n",
    "- [ ] If 4×4: Negativity > 0? (entangled)  \n",
    "- [ ] If 4×4 & pure: Schmidt rank = 1 (separable) or 2 (entangled)\n"
   ]
  },
  {
   "cell_type": "markdown",
   "id": "ff7cc44a",
   "metadata": {},
   "source": [
    "#### Example: Isotropic(0.6)  0.6|Φ+><Φ+| + 0.4*I/4\n",
    "\n",
    "Isotropic state also entangled for α>1/3 in 2×2; expect negativity>0.\n",
    "\n",
    "We'll compute the same diagnostics as before (dimension, trace, purity, rank; plus PPT-negativity and Schmidt data when applicable).\n"
   ]
  },
  {
   "cell_type": "code",
   "execution_count": 68,
   "id": "d1e56492",
   "metadata": {
    "ExecuteTime": {
     "end_time": "2025-10-23T00:20:53.502895Z",
     "start_time": "2025-10-23T00:20:53.497575Z"
    }
   },
   "outputs": [
    {
     "name": "stdout",
     "output_type": "stream",
     "text": [
      "\n",
      "=== Isotropic(0.6)  0.6|Φ+><Φ+| + 0.4*I/4 ===\n",
      "ρ (density matrix):\n",
      "[[0.4 0.  0.  0.3]\n",
      " [0.  0.1 0.  0. ]\n",
      " [0.  0.  0.1 0. ]\n",
      " [0.3 0.  0.  0.4]]\n",
      "Dim: 4\n",
      "Trace: 0.9999999999999998\n",
      "Purity Tr(rho^2): 0.5199999999999998\n",
      "Matrix rank: 4\n",
      "Negativity (PPT detects entanglement if >0 in 2x2): 0.19999999999999996\n",
      "PPT says: Entangled\n"
     ]
    }
   ],
   "source": [
    "# --- NOTE ---\n",
    "# Two-qubit — Mixed Entangled — Isotropic(0.6)  0.6|Φ+><Φ+| + 0.4*I/4\n",
    "# Construct the state explicitly and add it into `examples` for consistency with earlier cells.\n",
    "\n",
    "# Define the density matrix ρ for this example:\n",
    "phi_plus = (kron(zero, zero) + kron(one, one)) / np.sqrt(2)\n",
    "rho = 0.6*proj(phi_plus) + 0.4*(np.eye(4, dtype=complex)/4)\n",
    "\n",
    "add_example(\"Isotropic(0.6)  0.6|Φ+><Φ+| + 0.4*I/4\", rho)\n",
    "\n",
    "# Now run the standard diagnostics (identical to earlier examples):\n",
    "name = \"Isotropic(0.6)  0.6|Φ+><Φ+| + 0.4*I/4\"\n",
    "rho = examples[name]\n",
    "\n",
    "pp(\"\\n=== Isotropic(0.6)  0.6|Φ+><Φ+| + 0.4*I/4 ===\")\n",
    "pp(\"ρ (density matrix):\")\n",
    "pp(rho)\n",
    "\n",
    "pp(\"Dim:\", rho.shape[0])\n",
    "pp(\"Trace:\", np.trace(rho))\n",
    "pp(\"Purity Tr(rho^2):\", purity(rho))\n",
    "\n",
    "rank = np.linalg.matrix_rank(rho, tol=1e-12)\n",
    "pp(\"Matrix rank:\", rank)\n",
    "\n",
    "if rho.shape == (4, 4):\n",
    "    neg = negativity(rho, sys='B')\n",
    "    pp(\"Negativity (PPT detects entanglement if >0 in 2x2):\", neg)\n",
    "    if np.isclose(np.real_if_close(neg), 0.0, atol=1e-12):\n",
    "        pp(\"PPT says: Separable (2x2 case)\")\n",
    "    else:\n",
    "        pp(\"PPT says: Entangled\")\n",
    "\n",
    "if rho.shape == (4, 4) and np.isclose(purity(rho), 1.0, atol=1e-12):\n",
    "    evals, evecs = np.linalg.eigh(rho)\n",
    "    psi = evecs[:, np.argmax(evals)]\n",
    "    r, svals = schmidt_rank_two_qubit_state(psi)\n",
    "    pp(\"Schmidt singular values:\", svals)\n",
    "    pp(\"Schmidt rank:\", r)\n"
   ]
  },
  {
   "cell_type": "markdown",
   "id": "187bbd1c",
   "metadata": {},
   "source": [
    "\n",
    "**What to notice for _Isotropic(0.6)  0.6|Φ+><Φ+| + 0.4*I/4_**\n",
    "\n",
    "- How **dimension** and **matrix rank** relate to purity (rank 1 ⇒ purity = 1 for density matrices).\n",
    "- Whether the **trace** is exactly 1 (valid states must satisfy this).\n",
    "- For 4×4 (two-qubit) states:\n",
    "  - If **negativity** is **> 0** ⇒ entangled (PPT test is decisive for 2×2).\n",
    "  - If **negativity** is **0** ⇒ PPT-separable in 2×2; often a classical mixture.\n",
    "- For pure 4×4 states (purity ≈ 1): compare the **Schmidt rank** with entanglement.\n",
    "  - Schmidt rank 1 ⇒ product (separable) state.\n",
    "  - Schmidt rank 2 ⇒ entangled state.\n",
    "  \n",
    "**Quick checklist (tick after running the code above):**\n",
    "- [ ] Trace(ρ) = 1  \n",
    "- [ ] Purity Tr(ρ²) = 1 (pure) or < 1 (mixed)  \n",
    "- [ ] Rank(ρ): 1 for pure; >1 for mixed  \n",
    "- [ ] If 4×4: Negativity > 0? (entangled)  \n",
    "- [ ] If 4×4 & pure: Schmidt rank = 1 (separable) or 2 (entangled)\n"
   ]
  },
  {
   "cell_type": "markdown",
   "id": "649814ba",
   "metadata": {},
   "source": [
    "### Single-qubit — Pure"
   ]
  },
  {
   "cell_type": "markdown",
   "id": "99aaa49f",
   "metadata": {},
   "source": [
    "#### Example: |+><+| (X-eigenstate)\n",
    "\n",
    "Pure single-qubit state; purity=1, rank 1.\n",
    "\n",
    "We'll compute the same diagnostics as before (dimension, trace, purity, rank; plus PPT-negativity and Schmidt data when applicable).\n"
   ]
  },
  {
   "cell_type": "code",
   "execution_count": 69,
   "id": "7b26eec3",
   "metadata": {
    "ExecuteTime": {
     "end_time": "2025-10-23T00:20:53.562015Z",
     "start_time": "2025-10-23T00:20:53.556326Z"
    }
   },
   "outputs": [
    {
     "name": "stdout",
     "output_type": "stream",
     "text": [
      "\n",
      "=== |+><+| (X-eigenstate) ===\n",
      "ρ (density matrix):\n",
      "[[0.5 0.5]\n",
      " [0.5 0.5]]\n",
      "Dim: 2\n",
      "Trace: 0.9999999999999998\n",
      "Purity Tr(rho^2): 0.9999999999999996\n",
      "Matrix rank: 1\n"
     ]
    }
   ],
   "source": [
    "# --- NOTE ---\n",
    "# Single-qubit — Pure — |+><+| (X-eigenstate)\n",
    "# Construct the state explicitly and add it into `examples` for consistency with earlier cells.\n",
    "\n",
    "# Define the density matrix ρ for this example:\n",
    "rho = proj(plus)\n",
    "\n",
    "add_example(\"|+><+| (X-eigenstate)\", rho)\n",
    "\n",
    "# Now run the standard diagnostics (identical to earlier examples):\n",
    "name = \"|+><+| (X-eigenstate)\"\n",
    "rho = examples[name]\n",
    "\n",
    "pp(\"\\n=== |+><+| (X-eigenstate) ===\")\n",
    "pp(\"ρ (density matrix):\")\n",
    "pp(rho)\n",
    "\n",
    "pp(\"Dim:\", rho.shape[0])\n",
    "pp(\"Trace:\", np.trace(rho))\n",
    "pp(\"Purity Tr(rho^2):\", purity(rho))\n",
    "\n",
    "rank = np.linalg.matrix_rank(rho, tol=1e-12)\n",
    "pp(\"Matrix rank:\", rank)\n",
    "\n",
    "if rho.shape == (4, 4):\n",
    "    neg = negativity(rho, sys='B')\n",
    "    pp(\"Negativity (PPT detects entanglement if >0 in 2x2):\", neg)\n",
    "    if np.isclose(np.real_if_close(neg), 0.0, atol=1e-12):\n",
    "        pp(\"PPT says: Separable (2x2 case)\")\n",
    "    else:\n",
    "        pp(\"PPT says: Entangled\")\n",
    "\n",
    "if rho.shape == (4, 4) and np.isclose(purity(rho), 1.0, atol=1e-12):\n",
    "    evals, evecs = np.linalg.eigh(rho)\n",
    "    psi = evecs[:, np.argmax(evals)]\n",
    "    r, svals = schmidt_rank_two_qubit_state(psi)\n",
    "    pp(\"Schmidt singular values:\", svals)\n",
    "    pp(\"Schmidt rank:\", r)\n"
   ]
  },
  {
   "cell_type": "markdown",
   "id": "a8bce13f",
   "metadata": {},
   "source": [
    "\n",
    "**What to notice for _|+><+| (X-eigenstate)_**\n",
    "\n",
    "- How **dimension** and **matrix rank** relate to purity (rank 1 ⇒ purity = 1 for density matrices).\n",
    "- Whether the **trace** is exactly 1 (valid states must satisfy this).\n",
    "- For 4×4 (two-qubit) states:\n",
    "  - If **negativity** is **> 0** ⇒ entangled (PPT test is decisive for 2×2).\n",
    "  - If **negativity** is **0** ⇒ PPT-separable in 2×2; often a classical mixture.\n",
    "- For pure 4×4 states (purity ≈ 1): compare the **Schmidt rank** with entanglement.\n",
    "  - Schmidt rank 1 ⇒ product (separable) state.\n",
    "  - Schmidt rank 2 ⇒ entangled state.\n",
    "  \n",
    "**Quick checklist (tick after running the code above):**\n",
    "- [ ] Trace(ρ) = 1  \n",
    "- [ ] Purity Tr(ρ²) = 1 (pure) or < 1 (mixed)  \n",
    "- [ ] Rank(ρ): 1 for pure; >1 for mixed  \n",
    "- [ ] If 4×4: Negativity > 0? (entangled)  \n",
    "- [ ] If 4×4 & pure: Schmidt rank = 1 (separable) or 2 (entangled)\n"
   ]
  },
  {
   "cell_type": "markdown",
   "id": "a7a6e7b8",
   "metadata": {},
   "source": [
    "#### Example: |y+><y+| (Y-eigenstate)\n",
    "\n",
    "Another pure single-qubit state; purity=1, rank 1.\n",
    "\n",
    "We'll compute the same diagnostics as before (dimension, trace, purity, rank; plus PPT-negativity and Schmidt data when applicable).\n"
   ]
  },
  {
   "cell_type": "code",
   "execution_count": 70,
   "id": "bccba31b",
   "metadata": {
    "ExecuteTime": {
     "end_time": "2025-10-23T00:20:53.592818Z",
     "start_time": "2025-10-23T00:20:53.587493Z"
    }
   },
   "outputs": [
    {
     "name": "stdout",
     "output_type": "stream",
     "text": [
      "\n",
      "=== |y+><y+| (Y-eigenstate) ===\n",
      "ρ (density matrix):\n",
      "[[0.5+0.j  0. -0.5j]\n",
      " [0. +0.5j 0.5+0.j ]]\n",
      "Dim: 2\n",
      "Trace: 0.9999999999999998\n",
      "Purity Tr(rho^2): 0.9999999999999996\n",
      "Matrix rank: 1\n"
     ]
    }
   ],
   "source": [
    "# --- NOTE ---\n",
    "# Single-qubit — Pure — |y+><y+| (Y-eigenstate)\n",
    "# Construct the state explicitly and add it into `examples` for consistency with earlier cells.\n",
    "\n",
    "# Define the density matrix ρ for this example:\n",
    "rho = proj(yplus)\n",
    "\n",
    "add_example(\"|y+><y+| (Y-eigenstate)\", rho)\n",
    "\n",
    "# Now run the standard diagnostics (identical to earlier examples):\n",
    "name = \"|y+><y+| (Y-eigenstate)\"\n",
    "rho = examples[name]\n",
    "\n",
    "pp(\"\\n=== |y+><y+| (Y-eigenstate) ===\")\n",
    "pp(\"ρ (density matrix):\")\n",
    "pp(rho)\n",
    "\n",
    "pp(\"Dim:\", rho.shape[0])\n",
    "pp(\"Trace:\", np.trace(rho))\n",
    "pp(\"Purity Tr(rho^2):\", purity(rho))\n",
    "\n",
    "rank = np.linalg.matrix_rank(rho, tol=1e-12)\n",
    "pp(\"Matrix rank:\", rank)\n",
    "\n",
    "if rho.shape == (4, 4):\n",
    "    neg = negativity(rho, sys='B')\n",
    "    pp(\"Negativity (PPT detects entanglement if >0 in 2x2):\", neg)\n",
    "    if np.isclose(np.real_if_close(neg), 0.0, atol=1e-12):\n",
    "        pp(\"PPT says: Separable (2x2 case)\")\n",
    "    else:\n",
    "        pp(\"PPT says: Entangled\")\n",
    "\n",
    "if rho.shape == (4, 4) and np.isclose(purity(rho), 1.0, atol=1e-12):\n",
    "    evals, evecs = np.linalg.eigh(rho)\n",
    "    psi = evecs[:, np.argmax(evals)]\n",
    "    r, svals = schmidt_rank_two_qubit_state(psi)\n",
    "    pp(\"Schmidt singular values:\", svals)\n",
    "    pp(\"Schmidt rank:\", r)\n"
   ]
  },
  {
   "cell_type": "markdown",
   "id": "f6b7555c",
   "metadata": {},
   "source": [
    "\n",
    "**What to notice for _|y+><y+| (Y-eigenstate)_**\n",
    "\n",
    "- How **dimension** and **matrix rank** relate to purity (rank 1 ⇒ purity = 1 for density matrices).\n",
    "- Whether the **trace** is exactly 1 (valid states must satisfy this).\n",
    "- For 4×4 (two-qubit) states:\n",
    "  - If **negativity** is **> 0** ⇒ entangled (PPT test is decisive for 2×2).\n",
    "  - If **negativity** is **0** ⇒ PPT-separable in 2×2; often a classical mixture.\n",
    "- For pure 4×4 states (purity ≈ 1): compare the **Schmidt rank** with entanglement.\n",
    "  - Schmidt rank 1 ⇒ product (separable) state.\n",
    "  - Schmidt rank 2 ⇒ entangled state.\n",
    "  \n",
    "**Quick checklist (tick after running the code above):**\n",
    "- [ ] Trace(ρ) = 1  \n",
    "- [ ] Purity Tr(ρ²) = 1 (pure) or < 1 (mixed)  \n",
    "- [ ] Rank(ρ): 1 for pure; >1 for mixed  \n",
    "- [ ] If 4×4: Negativity > 0? (entangled)  \n",
    "- [ ] If 4×4 & pure: Schmidt rank = 1 (separable) or 2 (entangled)\n"
   ]
  },
  {
   "cell_type": "markdown",
   "id": "1824dd7a",
   "metadata": {},
   "source": [
    "### Single-qubit — Mixed"
   ]
  },
  {
   "cell_type": "markdown",
   "id": "6276f87f",
   "metadata": {},
   "source": [
    "#### Example: 0.8|0><0| + 0.2|1><1|\n",
    "\n",
    "Classical mixture on Z basis; purity<1, rank up to 2.\n",
    "\n",
    "We'll compute the same diagnostics as before (dimension, trace, purity, rank; plus PPT-negativity and Schmidt data when applicable).\n"
   ]
  },
  {
   "cell_type": "code",
   "execution_count": 71,
   "id": "64f7cc9f",
   "metadata": {
    "ExecuteTime": {
     "end_time": "2025-10-23T00:20:53.657076Z",
     "start_time": "2025-10-23T00:20:53.651908Z"
    }
   },
   "outputs": [
    {
     "name": "stdout",
     "output_type": "stream",
     "text": [
      "\n",
      "=== 0.8|0><0| + 0.2|1><1| ===\n",
      "ρ (density matrix):\n",
      "[[0.8 0. ]\n",
      " [0.  0.2]]\n",
      "Dim: 2\n",
      "Trace: 1.0\n",
      "Purity Tr(rho^2): 0.6800000000000002\n",
      "Matrix rank: 2\n"
     ]
    }
   ],
   "source": [
    "# --- NOTE ---\n",
    "# Single-qubit — Mixed — 0.8|0><0| + 0.2|1><1|\n",
    "# Construct the state explicitly and add it into `examples` for consistency with earlier cells.\n",
    "\n",
    "# Define the density matrix ρ for this example:\n",
    "rho = 0.8*proj(zero) + 0.2*proj(one)\n",
    "\n",
    "add_example(\"0.8|0><0| + 0.2|1><1|\", rho)\n",
    "\n",
    "# Now run the standard diagnostics (identical to earlier examples):\n",
    "name = \"0.8|0><0| + 0.2|1><1|\"\n",
    "rho = examples[name]\n",
    "\n",
    "pp(\"\\n=== 0.8|0><0| + 0.2|1><1| ===\")\n",
    "pp(\"ρ (density matrix):\")\n",
    "pp(rho)\n",
    "\n",
    "pp(\"Dim:\", rho.shape[0])\n",
    "pp(\"Trace:\", np.trace(rho))\n",
    "pp(\"Purity Tr(rho^2):\", purity(rho))\n",
    "\n",
    "rank = np.linalg.matrix_rank(rho, tol=1e-12)\n",
    "pp(\"Matrix rank:\", rank)\n",
    "\n",
    "if rho.shape == (4, 4):\n",
    "    neg = negativity(rho, sys='B')\n",
    "    pp(\"Negativity (PPT detects entanglement if >0 in 2x2):\", neg)\n",
    "    if np.isclose(np.real_if_close(neg), 0.0, atol=1e-12):\n",
    "        pp(\"PPT says: Separable (2x2 case)\")\n",
    "    else:\n",
    "        pp(\"PPT says: Entangled\")\n",
    "\n",
    "if rho.shape == (4, 4) and np.isclose(purity(rho), 1.0, atol=1e-12):\n",
    "    evals, evecs = np.linalg.eigh(rho)\n",
    "    psi = evecs[:, np.argmax(evals)]\n",
    "    r, svals = schmidt_rank_two_qubit_state(psi)\n",
    "    pp(\"Schmidt singular values:\", svals)\n",
    "    pp(\"Schmidt rank:\", r)\n"
   ]
  },
  {
   "cell_type": "markdown",
   "id": "dd43adb6",
   "metadata": {},
   "source": [
    "\n",
    "**What to notice for _0.8|0><0| + 0.2|1><1|_**\n",
    "\n",
    "- How **dimension** and **matrix rank** relate to purity (rank 1 ⇒ purity = 1 for density matrices).\n",
    "- Whether the **trace** is exactly 1 (valid states must satisfy this).\n",
    "- For 4×4 (two-qubit) states:\n",
    "  - If **negativity** is **> 0** ⇒ entangled (PPT test is decisive for 2×2).\n",
    "  - If **negativity** is **0** ⇒ PPT-separable in 2×2; often a classical mixture.\n",
    "- For pure 4×4 states (purity ≈ 1): compare the **Schmidt rank** with entanglement.\n",
    "  - Schmidt rank 1 ⇒ product (separable) state.\n",
    "  - Schmidt rank 2 ⇒ entangled state.\n",
    "  \n",
    "**Quick checklist (tick after running the code above):**\n",
    "- [ ] Trace(ρ) = 1  \n",
    "- [ ] Purity Tr(ρ²) = 1 (pure) or < 1 (mixed)  \n",
    "- [ ] Rank(ρ): 1 for pure; >1 for mixed  \n",
    "- [ ] If 4×4: Negativity > 0? (entangled)  \n",
    "- [ ] If 4×4 & pure: Schmidt rank = 1 (separable) or 2 (entangled)\n"
   ]
  },
  {
   "cell_type": "markdown",
   "id": "227916cc",
   "metadata": {},
   "source": [
    "#### Example: I/2 (maximally mixed)\n",
    "\n",
    "Completely mixed state; purity=1/2, rank 2.\n",
    "\n",
    "We'll compute the same diagnostics as before (dimension, trace, purity, rank; plus PPT-negativity and Schmidt data when applicable).\n"
   ]
  },
  {
   "cell_type": "code",
   "execution_count": 72,
   "id": "6dbc421b",
   "metadata": {
    "ExecuteTime": {
     "end_time": "2025-10-23T00:20:53.722202Z",
     "start_time": "2025-10-23T00:20:53.715866Z"
    }
   },
   "outputs": [
    {
     "name": "stdout",
     "output_type": "stream",
     "text": [
      "\n",
      "=== I/2 (maximally mixed) ===\n",
      "ρ (density matrix):\n",
      "[[0.5 0. ]\n",
      " [0.  0.5]]\n",
      "Dim: 2\n",
      "Trace: 1.0\n",
      "Purity Tr(rho^2): 0.5\n",
      "Matrix rank: 2\n"
     ]
    }
   ],
   "source": [
    "# --- NOTE ---\n",
    "# Single-qubit — Mixed — I/2 (maximally mixed)\n",
    "# Construct the state explicitly and add it into `examples` for consistency with earlier cells.\n",
    "\n",
    "# Define the density matrix ρ for this example:\n",
    "rho = np.eye(2, dtype=complex)/2\n",
    "\n",
    "add_example(\"I/2 (maximally mixed)\", rho)\n",
    "\n",
    "# Now run the standard diagnostics (identical to earlier examples):\n",
    "name = \"I/2 (maximally mixed)\"\n",
    "rho = examples[name]\n",
    "\n",
    "pp(\"\\n=== I/2 (maximally mixed) ===\")\n",
    "pp(\"ρ (density matrix):\")\n",
    "pp(rho)\n",
    "\n",
    "pp(\"Dim:\", rho.shape[0])\n",
    "pp(\"Trace:\", np.trace(rho))\n",
    "pp(\"Purity Tr(rho^2):\", purity(rho))\n",
    "\n",
    "rank = np.linalg.matrix_rank(rho, tol=1e-12)\n",
    "pp(\"Matrix rank:\", rank)\n",
    "\n",
    "if rho.shape == (4, 4):\n",
    "    neg = negativity(rho, sys='B')\n",
    "    pp(\"Negativity (PPT detects entanglement if >0 in 2x2):\", neg)\n",
    "    if np.isclose(np.real_if_close(neg), 0.0, atol=1e-12):\n",
    "        pp(\"PPT says: Separable (2x2 case)\")\n",
    "    else:\n",
    "        pp(\"PPT says: Entangled\")\n",
    "\n",
    "if rho.shape == (4, 4) and np.isclose(purity(rho), 1.0, atol=1e-12):\n",
    "    evals, evecs = np.linalg.eigh(rho)\n",
    "    psi = evecs[:, np.argmax(evals)]\n",
    "    r, svals = schmidt_rank_two_qubit_state(psi)\n",
    "    pp(\"Schmidt singular values:\", svals)\n",
    "    pp(\"Schmidt rank:\", r)\n"
   ]
  },
  {
   "cell_type": "markdown",
   "id": "85368c98",
   "metadata": {},
   "source": [
    "\n",
    "**What to notice for _I/2 (maximally mixed)_**\n",
    "\n",
    "- How **dimension** and **matrix rank** relate to purity (rank 1 ⇒ purity = 1 for density matrices).\n",
    "- Whether the **trace** is exactly 1 (valid states must satisfy this).\n",
    "- For 4×4 (two-qubit) states:\n",
    "  - If **negativity** is **> 0** ⇒ entangled (PPT test is decisive for 2×2).\n",
    "  - If **negativity** is **0** ⇒ PPT-separable in 2×2; often a classical mixture.\n",
    "- For pure 4×4 states (purity ≈ 1): compare the **Schmidt rank** with entanglement.\n",
    "  - Schmidt rank 1 ⇒ product (separable) state.\n",
    "  - Schmidt rank 2 ⇒ entangled state.\n",
    "  \n",
    "**Quick checklist (tick after running the code above):**\n",
    "- [ ] Trace(ρ) = 1  \n",
    "- [ ] Purity Tr(ρ²) = 1 (pure) or < 1 (mixed)  \n",
    "- [ ] Rank(ρ): 1 for pure; >1 for mixed  \n",
    "- [ ] If 4×4: Negativity > 0? (entangled)  \n",
    "- [ ] If 4×4 & pure: Schmidt rank = 1 (separable) or 2 (entangled)\n"
   ]
  }
 ],
 "metadata": {
  "kernelspec": {
   "display_name": "Python 3 (ipykernel)",
   "language": "python",
   "name": "python3"
  },
  "language_info": {
   "codemirror_mode": {
    "name": "ipython",
    "version": 3
   },
   "file_extension": ".py",
   "mimetype": "text/x-python",
   "name": "python",
   "nbconvert_exporter": "python",
   "pygments_lexer": "ipython3",
   "version": "3.11.9"
  }
 },
 "nbformat": 4,
 "nbformat_minor": 5
}
