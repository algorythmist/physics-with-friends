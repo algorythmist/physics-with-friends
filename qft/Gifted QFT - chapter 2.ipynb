{
 "cells": [
  {
   "cell_type": "markdown",
   "id": "1b22dc87-c125-4cbf-ab7f-2b3194dca1f6",
   "metadata": {},
   "source": [
    "# QFT for the Gifted Amateur - Chapter 2 Exercises\n",
    "\n",
    "# Review of Petrubation Theory"
   ]
  },
  {
   "cell_type": "markdown",
   "id": "20d954a2-9f28-4684-a112-7b013689df27",
   "metadata": {},
   "source": [
    "#### Latex: Define bras, kets, brackets\n",
    "$\n",
    "\\newcommand{\\ket}[1]{\\left|{#1}\\right\\rangle}\n",
    "\\newcommand{\\bra}[1]{\\left\\langle{#1}\\right|}\n",
    "\\newcommand{\\braket}[2]{\\left\\langle{#1}\\middle|{#2}\\right\\rangle}\n",
    "$"
   ]
  },
  {
   "cell_type": "markdown",
   "id": "3aacb44b-9f85-49b1-b91f-6a696a08b029",
   "metadata": {},
   "source": [
    "## Non degenerate eigenfunctions\n",
    "\n",
    "Given the solutions to the unperturbed Hamiltonian\n",
    "\n",
    "$$\n",
    "H_0\\ket{n}^0 = E_n^0 \\ket{n}^0\n",
    "$$\n",
    "\n",
    "Approximate the solutions to $H = H_0 + V$"
   ]
  },
  {
   "cell_type": "markdown",
   "id": "2633b874-089a-43d0-8c2f-b8a7bfd71011",
   "metadata": {},
   "source": [
    "Start by choosing a parameter $\\lambda$ to denote the strength of the perturbation, which we can subsequently set to 1.\n",
    "\n",
    "$$\n",
    "H = H_0 + \\lambda V\n",
    "$$\n",
    "\n",
    "Assuming the solution to the perturbation problem is analytic in $\\lambda$ we can expand it as a power seriers\n",
    "\n",
    "$$\n",
    "\\ket{n} = \\ket{n}^0 + \\lambda\\ket{n}^1 + \\lambda^2 \\ket{n}^2 + \\ldots\n",
    "$$\n",
    "$$\n",
    "E_{n} = E_{n}^0 + \\lambda E_{n}^1 + \\lambda^2 E_{n}^2 + \\ldots\n",
    "$$\n",
    "\n",
    "so that \n",
    "\n",
    "\\begin{eqnarray}\n",
    "(H_0 + \\lambda V)(\\ket{n}^0 + \\lambda\\ket{n}^1 + \\lambda^2 \\ket{n}^2 + \\ldots) = \n",
    "(E_{n}^0 + \\lambda E_{n}^1 + \\lambda^2 E_{n}^2 + \\ldots )(\\ket{n}^0 + \\lambda\\ket{n}^1 + \\lambda^2 \\ket{n}^2 + \\ldots)\n",
    "& \\implies & \\\\\n",
    "H_0\\ket{n}^0 + \\lambda(H_0\\ket{n}^1 + V\\ket{n}^0)  + \\lambda^2 (H_0\\ket{n}^2 + V\\ket{n}^1)+\\ldots = \n",
    "E_n^0\\ket{n}^0  + \\lambda (E_n^0\\ket{n}^1 + E_n^1\\ket{n}^0) + \\ldots\n",
    "\\end{eqnarray}"
   ]
  },
  {
   "cell_type": "markdown",
   "id": "cffe2b40-b140-4af1-b5d4-556b1f2bf86c",
   "metadata": {},
   "source": [
    "### First-order correction\n",
    "\n",
    "$$\n",
    "H_0\\ket{n}^1 + V\\ket{n}^0 = E_n^0\\ket{n}^1 + E_n^1\\ket{n}^0\n",
    "$$\n",
    "\n",
    "Aplying both sides to $\\bra{n}^0$, after some algebra we get:\n",
    "\n",
    "$$\n",
    "E_n^1 = \\bra{n}^0 V \\ket{n}^0\n",
    "$$"
   ]
  },
  {
   "cell_type": "markdown",
   "id": "d045d26b-e8be-4227-a822-3a2f389e18f8",
   "metadata": {},
   "source": [
    "### Exercise 2.2\n",
    "\n",
    "Find the first-order eigenvalues of $H = p^2/2m + m\\omega^2 x^2 /2 + \\lambda x^4$\n",
    "\n",
    "#### Solution\n",
    "\n",
    "We need to evaluate $\\bra{n}\\lambda x^4\\ket{n}$, where $x = \\sqrt{\\frac{\\hbar}{2m\\omega}}(a+a^\\dagger)$,\n",
    "\n",
    "$$\n",
    "\\lambda(\\frac{\\hbar}{2m\\omega})^2\\bra{n}(a+a^\\dagger)^4\\ket{n} = \\lambda(\\frac{\\hbar}{2m\\omega})^2 ||(a+a^\\dagger)^2\\ket{n}||^2\n",
    "$$"
   ]
  },
  {
   "cell_type": "markdown",
   "id": "216ee718-09e7-4c63-900f-52f52749b3e8",
   "metadata": {},
   "source": [
    "$$\n",
    "(a+a^\\dagger)^2 = a^2+a a^\\dagger + a^\\dagger a + (a^\\dagger)^2\n",
    "$$\n",
    "\n",
    "Applying this to $\\ket{n}$, we get\n",
    "\n",
    "$$\n",
    "(a+a^\\dagger)^2\\ket{n}= \\sqrt{n(n-1)}\\ket{n-2}+(2n+1)\\ket{n}+\\sqrt{(n+1)(n+2)}\\ket{n+2}\n",
    "$$\n",
    "\n",
    "Taking the square magnitude of this (keeping in mind that the eigenvectors are orthonormal), yields $6n^2+6n+3$, so putting it all together,\n",
    "\n",
    "$$\n",
    "E_n = \\bra{n}\\lambda x^4\\ket{n} = \\frac{3}{4}\\lambda(\\frac{\\hbar}{m\\omega})^2(2n^2+2n+1)\n",
    "$$\n"
   ]
  },
  {
   "cell_type": "markdown",
   "id": "34ce397f-d7a6-47ad-a833-6974a3895e35",
   "metadata": {},
   "source": [
    "### Exercise 2.3\n",
    "\n",
    "From 2.46, we have \n",
    "\n",
    "$$\n",
    "x_j = \\frac{1}{\\sqrt{N}} \\sum_k \\tilde{x}_k e^{ikja}\n",
    "$$\n",
    "\n",
    "and plugging in 2.62\n",
    "\n",
    "$$\n",
    "\\tilde{x}_k = \\sqrt{\\frac{\\hbar}{2m\\omega_k}} (a_k + a^\\dagger_{-k})\n",
    "$$\n",
    "\n",
    "we get\n",
    "\n",
    "$$\n",
    "x_j = \\frac{1}{\\sqrt{N}} \\sqrt{\\frac{\\hbar}{2m}}\\sum_k (a_k e^{ikja}+ a^\\dagger_{-k} e^{ikja})\n",
    "$$\n",
    "\n",
    "and re-indexing the second term with $-k \\rightarrow k$\n",
    "\n",
    "$$\n",
    "x_j = \\frac{1}{\\sqrt{N}} \\sqrt{\\frac{\\hbar}{2m}}\\sum_k (a_k e^{ikja}+ a^\\dagger_{k} e^{-ikja})\n",
    "$$"
   ]
  },
  {
   "cell_type": "markdown",
   "id": "b80a3e34-6579-48ce-879a-7397eace43cd",
   "metadata": {},
   "source": [
    "### Exercise 2.4 \n",
    "\n",
    "Let $M = \\sqrt{\\frac{m\\omega}{2\\hbar}}\n",
    "\n",
    "\\begin{eqnarray}\n",
    "0 = a\\ket{0} = M(x+\\frac{i}{m\\omega}p)\\ket{0} \\implies \\\\\n",
    "0 = M(<x|x|0> + \\frac{i}{m\\omega}<x|p|0>) \\implies \\\\\n",
    "x\\braket{x}{0} = - \\frac{i}{m\\omega}(-i\\hbar d/dx)\\braket{x}{0} \\implies \\\\\n",
    "0 = \\left( x+\\frac{\\hbar}{m\\omega}\\frac{d}{dx} \\right) \n",
    "\\end{eqnarray}"
   ]
  },
  {
   "cell_type": "code",
   "execution_count": null,
   "id": "1faac813-bbf2-4fbd-a7eb-5fc31ae2179d",
   "metadata": {},
   "outputs": [],
   "source": []
  }
 ],
 "metadata": {
  "kernelspec": {
   "display_name": "physics-with-friends",
   "language": "python",
   "name": "physics-with-friends"
  },
  "language_info": {
   "codemirror_mode": {
    "name": "ipython",
    "version": 3
   },
   "file_extension": ".py",
   "mimetype": "text/x-python",
   "name": "python",
   "nbconvert_exporter": "python",
   "pygments_lexer": "ipython3",
   "version": "3.10.9"
  },
  "widgets": {
   "application/vnd.jupyter.widget-state+json": {
    "state": {},
    "version_major": 2,
    "version_minor": 0
   }
  }
 },
 "nbformat": 4,
 "nbformat_minor": 5
}
