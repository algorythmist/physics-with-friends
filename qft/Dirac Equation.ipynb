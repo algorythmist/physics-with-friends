{
 "cells": [
  {
   "cell_type": "markdown",
   "id": "09c1444c-28c7-4425-96d0-fb5b12046095",
   "metadata": {},
   "source": [
    "# Motivation\n",
    "\n",
    "The Klein Gorder equation\n",
    "\n",
    "$$\n",
    "0 = (\\Box +m^2)\\psi = (\\partial_t^2- \\nabla^2 +m^2)\\psi = (\\partial_t^2 +p^2 +m^2)\\psi\n",
    "$$\n",
    "\n",
    "Reproduces the Einstein energy equation\n",
    "\n",
    "$$\n",
    "E^2 =  p^2 c^2 + m^2 c^4\n",
    "$$\n",
    "\n",
    "Because of the negative energy solutions, Dirac looked for an equation linear in time to reproduce\n",
    "\n",
    "$$\n",
    "E = \\sqrt{p^2 c^2 + m^2 c^4}\n",
    "$$\n",
    "\n",
    "One way to go about it is to try to \"factor\" the Klein Gordon operator\n",
    "\n",
    "$$\n",
    "\\partial^2 + m^2 = (i\\gamma^\\mu \\partial_\\mu - m)(i\\gamma^\\mu \\partial_\\mu + m)\n",
    "$$\n",
    "\n",
    "Then it must be the case\n",
    "\n",
    "$$\n",
    "\\{\\gamma^\\mu, \\gamma^\\nu\\} = 2\\eta^{\\mu\\nu}\n",
    "$$"
   ]
  },
  {
   "cell_type": "markdown",
   "id": "e2effad9-0268-4dd9-8c65-66c309d38353",
   "metadata": {},
   "source": [
    "The gamma elements form a Clifford algebra. They can be represented with 4x4 matrices. \n",
    "\n",
    "$$\n",
    "\\gamma^0 = \n",
    "\\begin{pmatrix}\n",
    "I & 0 \\\\\n",
    "0 & -I\n",
    "\\end{pmatrix}\n",
    "= I \\otimes \\sigma_3\n",
    "$$\n",
    "$$\n",
    "\\gamma^i = \n",
    "\\begin{pmatrix}\n",
    "0 & \\sigma^i \\\\\n",
    "-\\sigma^i & 0\n",
    "\\end{pmatrix}\n",
    "= \\sigma^i \\otimes i \\sigma_2\n",
    "$$"
   ]
  },
  {
   "cell_type": "markdown",
   "id": "c42bfacf-cb70-4ff8-a088-54f3a7a6e9e9",
   "metadata": {},
   "source": [
    "Define \n",
    "\n",
    "$$\n",
    "\\gamma^5 = i \\gamma^0\\gamma^1\\gamma^2\\gamma^3 = I \\otimes \\sigma_1\n",
    "$$\n",
    "\n",
    "$$\n",
    "\\sigma^{\\mu\\nu} = \\frac{i}{2}[\\gamma^\\mu,\\gamma^\\nu]\n",
    "$$\n",
    "\n",
    "Then the following matrices form a basis for the complete Clifford algebra (representation)\n",
    "\n",
    "$$\n",
    "I, \\sigma^{\\mu\\nu}, \\gamma^\\mu, \\gamma^\\mu \\gamma^5 , \\gamma^5\n",
    "$$"
   ]
  },
  {
   "cell_type": "markdown",
   "id": "9e415edb-1c11-4dc1-a921-9c55433e2a61",
   "metadata": {},
   "source": [
    "Furthermore, the $\\sigma^{\\mu\\nu}$ are the generators of the Lorentz Group\n",
    "\n",
    "$$\n",
    "S(\\Lambda) = e^{-(i/4)\\omega_{\\mu\\nu} \\sigma^{\\mu\\nu}}\n",
    "$$"
   ]
  },
  {
   "cell_type": "markdown",
   "id": "d319a4f5-b8cc-4ee9-8368-c56e06eee8f0",
   "metadata": {},
   "source": [
    "Dirac spinors transform under the gamma matrices and can be represented as a pair of Weyl spinors\n",
    "\n",
    "$$\n",
    "\\psi = \\begin{pmatrix}\\phi\\\\ \\chi\\end{pmatrix}\n",
    "$$\n",
    "\n"
   ]
  },
  {
   "cell_type": "markdown",
   "id": "d98d5094-ef16-478d-8519-bb90049cd2c8",
   "metadata": {},
   "source": [
    "Multiplying from both sides by $\\gamma^0$ produces the Hermitian conjugate\n",
    "\n",
    "Define\n",
    "$$\n",
    "\\bar{\\psi} := \\psi^\\dagger \\gamma_0\n",
    "$$"
   ]
  },
  {
   "cell_type": "code",
   "execution_count": 1,
   "id": "897e262f-6c22-49c8-a85f-8cf1004b52cf",
   "metadata": {},
   "outputs": [],
   "source": [
    "import numpy as np"
   ]
  },
  {
   "cell_type": "code",
   "execution_count": 5,
   "id": "a1a5790c-d1e5-44ce-abd5-edf2143b91b0",
   "metadata": {},
   "outputs": [],
   "source": [
    "# Pauli Matrices\n",
    "\n",
    "PAULI_X = np.matrix([[0, 1], [1, 0]])\n",
    "PAULI_Y = np.matrix([[0, -1j], [1j, 0]])\n",
    "PAULI_Z = np.matrix([[1, 0], [0, -1]])\n",
    "\n",
    "sigma = np.array([np.eye(2), PAULI_X, PAULI_Y, PAULI_Z])"
   ]
  },
  {
   "cell_type": "code",
   "execution_count": 7,
   "id": "616f8b81-c836-4248-a0bb-faf3d95c9270",
   "metadata": {},
   "outputs": [
    {
     "data": {
      "text/plain": [
       "array([[[ 1.+0.j,  0.+0.j],\n",
       "        [ 0.+0.j,  1.+0.j]],\n",
       "\n",
       "       [[ 0.+0.j,  1.+0.j],\n",
       "        [ 1.+0.j,  0.+0.j]],\n",
       "\n",
       "       [[ 0.+0.j, -0.-1.j],\n",
       "        [ 0.+1.j,  0.+0.j]],\n",
       "\n",
       "       [[ 1.+0.j,  0.+0.j],\n",
       "        [ 0.+0.j, -1.+0.j]]])"
      ]
     },
     "execution_count": 7,
     "metadata": {},
     "output_type": "execute_result"
    }
   ],
   "source": [
    "sigma"
   ]
  },
  {
   "cell_type": "code",
   "execution_count": 9,
   "id": "3f4cb874-09f0-48e3-857f-ae1cdd0a5ec9",
   "metadata": {},
   "outputs": [],
   "source": [
    "# Define outer product \n",
    "def outer(x,y): return np.kron(y,x)"
   ]
  },
  {
   "cell_type": "code",
   "execution_count": 72,
   "id": "a5d81d7c-6668-4735-a799-ee39da599a8a",
   "metadata": {},
   "outputs": [
    {
     "data": {
      "text/plain": [
       "array([[ 1.+0.j,  0.+0.j,  0.+0.j,  0.+0.j],\n",
       "       [ 0.+0.j,  1.+0.j,  0.+0.j,  0.+0.j],\n",
       "       [ 0.+0.j,  0.+0.j, -1.+0.j, -0.+0.j],\n",
       "       [ 0.+0.j,  0.+0.j, -0.+0.j, -1.+0.j]])"
      ]
     },
     "execution_count": 72,
     "metadata": {},
     "output_type": "execute_result"
    }
   ],
   "source": [
    "# Example\n",
    "outer(sigma[0],sigma[3])"
   ]
  },
  {
   "cell_type": "code",
   "execution_count": 78,
   "id": "27e2a1c9-5f13-48b4-bd46-46a2247ff31b",
   "metadata": {},
   "outputs": [],
   "source": [
    "# Define commutator and anticommutator\n",
    "\n",
    "def comm(x,y): return x@y - y@x\n",
    "def acomm(x,y): return x@y + y@x"
   ]
  },
  {
   "cell_type": "code",
   "execution_count": 90,
   "id": "771f72a9-821b-446c-9074-95ea2f9bdf44",
   "metadata": {},
   "outputs": [
    {
     "data": {
      "text/plain": [
       "array([[0.+2.j, 0.+0.j],\n",
       "       [0.+0.j, 0.-2.j]])"
      ]
     },
     "execution_count": 90,
     "metadata": {},
     "output_type": "execute_result"
    }
   ],
   "source": [
    "# Example\n",
    "comm(sigma[1],sigma[2])"
   ]
  },
  {
   "cell_type": "code",
   "execution_count": 92,
   "id": "98546848-61af-4632-a39c-a224d70fba58",
   "metadata": {},
   "outputs": [
    {
     "data": {
      "text/plain": [
       "array([[0.+0.j, 0.+0.j],\n",
       "       [0.+0.j, 0.+0.j]])"
      ]
     },
     "execution_count": 92,
     "metadata": {},
     "output_type": "execute_result"
    }
   ],
   "source": [
    "acomm(sigma[1],sigma[2])"
   ]
  },
  {
   "cell_type": "code",
   "execution_count": 28,
   "id": "6ce6aa8e-5ee0-4752-8cf5-f862fa6fc6e9",
   "metadata": {},
   "outputs": [],
   "source": [
    "# Define Gamma matrices\n",
    "\n",
    "gamma = []\n",
    "gamma.append(outer(sigma[0], sigma[3]))\n",
    "for i in range(1,4):\n",
    "    gamma.append(outer(sigma[i],1j*sigma[2]))\n"
   ]
  },
  {
   "cell_type": "code",
   "execution_count": 30,
   "id": "a688464f-ae43-4549-a5ee-57a5adf4214d",
   "metadata": {},
   "outputs": [
    {
     "name": "stdout",
     "output_type": "stream",
     "text": [
      "[[[ 1.+0.j  0.+0.j  0.+0.j  0.+0.j]\n",
      "  [ 0.+0.j  1.+0.j  0.+0.j  0.+0.j]\n",
      "  [ 0.+0.j  0.+0.j -1.+0.j -0.+0.j]\n",
      "  [ 0.+0.j  0.+0.j -0.+0.j -1.+0.j]]\n",
      "\n",
      " [[ 0.+0.j  0.+0.j  0.+0.j  1.+0.j]\n",
      "  [ 0.+0.j  0.+0.j  1.+0.j  0.+0.j]\n",
      "  [-0.+0.j -1.+0.j  0.+0.j  0.+0.j]\n",
      "  [-1.+0.j -0.+0.j  0.+0.j  0.+0.j]]\n",
      "\n",
      " [[ 0.+0.j  0.-0.j  0.+0.j -0.-1.j]\n",
      "  [ 0.+0.j  0.+0.j  0.+1.j  0.+0.j]\n",
      "  [-0.+0.j  0.+1.j  0.+0.j  0.-0.j]\n",
      "  [-0.-1.j -0.+0.j  0.+0.j  0.+0.j]]\n",
      "\n",
      " [[ 0.+0.j  0.+0.j  1.+0.j  0.+0.j]\n",
      "  [ 0.+0.j -0.+0.j  0.+0.j -1.+0.j]\n",
      "  [-1.+0.j -0.+0.j  0.+0.j  0.+0.j]\n",
      "  [-0.+0.j  1.-0.j  0.+0.j -0.+0.j]]]\n"
     ]
    }
   ],
   "source": [
    "gamma = np.array(gamma)\n",
    "print(gamma)"
   ]
  },
  {
   "cell_type": "code",
   "execution_count": 32,
   "id": "9a79445e-eec5-4bfb-927a-eb23addede84",
   "metadata": {},
   "outputs": [
    {
     "name": "stdout",
     "output_type": "stream",
     "text": [
      "[[0.+0.j 0.+0.j 1.+0.j 0.+0.j]\n",
      " [0.+0.j 0.+0.j 0.+0.j 1.+0.j]\n",
      " [1.+0.j 0.+0.j 0.+0.j 0.+0.j]\n",
      " [0.+0.j 1.+0.j 0.+0.j 0.+0.j]]\n"
     ]
    }
   ],
   "source": [
    "# Define gamma 5\n",
    "gamma5 = 1j*(gamma[0]@gamma[1]@gamma[2]@gamma[3])\n",
    "print(gamma5)"
   ]
  },
  {
   "cell_type": "markdown",
   "id": "f2553e56-3638-4dd5-9aa9-52b1997d86e0",
   "metadata": {},
   "source": [
    "## Free Particle Solution\n",
    "\n",
    "\\begin{eqnarray}\n",
    "\\not{p}\\psi = m\\psi &\\implies & (E\\gamma^0  - \\gamma\\cdot p)\\psi = m\\psi \n",
    "&\\implies&\n",
    "\\begin{bmatrix}\n",
    "E-m & \\sigma\\cdot p\\\\\n",
    "-\\sigma\\cdot p & -(E+m)\n",
    "\\end{bmatrix}\n",
    "\\begin{bmatrix}\n",
    "\\phi\\\\ \\chi\n",
    "\\end{bmatrix}\n",
    "= 0\n",
    "\\end{eqnarray}"
   ]
  },
  {
   "cell_type": "markdown",
   "id": "703d0d42-4b18-4b79-9fbf-66fa7c975d0c",
   "metadata": {},
   "source": [
    "From which we get \n",
    "$$\n",
    "\\chi = \\frac{\\sigma\\cdot p}{E+m}\\phi\n",
    "$$\n",
    "\n",
    "Solving for $\\phi$:\n",
    "\n",
    "$$\n",
    "(E^2 - m^2 - (\\sigma\\cdot \\mathbf{p})^2)\\phi = 0 \\implies (E^2 - m^2 - \\mathbf{p}^2)\\phi = 0\n",
    "$$\n",
    "\n",
    "Since $E^2 = m^2 c^4 + \\mathbf{p}^2 c^2$, the multiplier is 0, which means $\\phi$ spans a 2D subspace."
   ]
  },
  {
   "cell_type": "markdown",
   "id": "c90d6810-b8a3-48d6-86cd-871e40372cba",
   "metadata": {},
   "source": [
    "The complete solution is given by\n",
    "\n",
    "$$\n",
    "\\begin{cases}\n",
    "\\begin{aligned}\n",
    "    E > 0: & \\quad \\Psi^{(1)} = \\mathcal{N} \\begin{pmatrix}\n",
    "    1 \\\\\n",
    "    0 \\\\\n",
    "    \\frac{p_z}{E + m} \\\\\n",
    "    \\frac{p_x + i p_y}{E + m}\n",
    "    \\end{pmatrix} e^{-ip \\cdot x}, \\quad \\Psi^{(2)} = \\mathcal{N} \\begin{pmatrix}\n",
    "    0 \\\\\n",
    "    1 \\\\\n",
    "    \\frac{p_x - i p_y}{E + m} \\\\\n",
    "    -\\frac{p_z}{E + m}\n",
    "    \\end{pmatrix} e^{-ip \\cdot x}; \\\\[10pt]\n",
    "    E < 0: & \\quad \\Psi^{(3)} = \\mathcal{N} \\begin{pmatrix}\n",
    "    \\frac{p_z}{E - m} \\\\\n",
    "    \\frac{p_x + i p_y}{E - m} \\\\\n",
    "    1 \\\\\n",
    "    0\n",
    "    \\end{pmatrix} e^{-ip \\cdot x}, \\quad \\Psi^{(4)} = \\mathcal{N} \\begin{pmatrix}\n",
    "    \\frac{p_x - i p_y}{E - m} \\\\\n",
    "    -\\frac{p_z}{E - m} \\\\\n",
    "    0 \\\\\n",
    "    1\n",
    "    \\end{pmatrix} e^{-ip \\cdot x}.\n",
    "\\end{aligned}\n",
    "\\end{cases}\n",
    "$$\n"
   ]
  },
  {
   "cell_type": "markdown",
   "id": "8e236c8d-b896-4d6f-8155-9ba914bef9b8",
   "metadata": {},
   "source": [
    "Consequences\n",
    "\n",
    "1. Both positive and negative energy solutions\n",
    "2. In the non-relativistic limit $p/(E+m) \\rightarrow 0$, so the positive energy solution is dominated by top components. The negative by the lower."
   ]
  },
  {
   "cell_type": "markdown",
   "id": "83606313-c68c-418b-93a1-1cd46b52990a",
   "metadata": {},
   "source": [
    "### Hamiltonian\n",
    "\n",
    "$$\n",
    "i\\gamma^0 \\partial_t \\psi + i\\mathbf{\\gamma}\\cdot\\nabla\\psi = m\\psi \\implies\n",
    "i\\partial_y \\psi = -i\\gamma^0\\mathbf{\\gamma}\\cdot\\nabla\\psi +  m\\gamma^0 \\psi \n",
    "$$\n",
    "\n",
    "so $H = i\\gamma^0\\mathbf{\\gamma}\\cdot\\nabla +m\\gamma^0$\n",
    "\n",
    "The angular momentum $L = p \\times x$ does not commute with $H$, so it is not conserved.\n",
    "It $L+\\Sigma$ which is conserved, where $\\Sigma = \\begin{bmatrix}\\sigma & 0\\\\0 & \\sigma \\end{bmatrix}$"
   ]
  },
  {
   "cell_type": "markdown",
   "id": "41620227-8bee-4f1f-a84d-e8ef489cb3ae",
   "metadata": {},
   "source": [
    "## Adjoint and Lagrangian\n",
    "\n",
    "Take the Hermitian conjugate. We are going to use $(\\gamma^\\mu)^\\dagger = \\gamma^0\\gamma^\\mu\\gamma^0$.\n",
    "\n",
    "$$\n",
    "\\psi^\\dagger\\left((\\gamma^\\mu)^\\dagger)p_\\mu-m\\right) = 0 \\implies \n",
    "\\psi^\\dagger\\left(\\gamma^0\\gamma^\\mu\\gamma^0 p_\\mu-m\\right) = 0 \n",
    "$$\n",
    "\n",
    "Multiply with $ \\gamma^0$ from the right\n",
    "\n",
    "$$\n",
    "\\psi^\\dagger\\gamma^0 \\left(\\gamma^\\mu p_\\mu-m\\right) = 0 \\implies \\bar{\\psi}\\left(\\gamma^\\mu p_\\mu-m\\right) = 0 \n",
    "$$\n",
    "\n",
    "Lagrangian\n",
    "\n",
    "$$\n",
    "L = \\bar{\\psi}(\\not{\\partial}-m)\\psi\n",
    "$$\n",
    "\n",
    "Currency Density\n",
    "\n",
    "$$\n",
    "\\partial_\\mu (\\bar{\\psi}\\gamma^\\mu\\psi) = 0\n",
    "$$"
   ]
  },
  {
   "cell_type": "markdown",
   "id": "1df1bcf7-813c-498e-b7dd-14c8fade537e",
   "metadata": {},
   "source": [
    "## Weyl Representation\n",
    "\n",
    "In this representaton, $\\mathbf{\\gamma}$ is the same but $\\gamma^0 = \\begin{bmatrix}0 & I\\\\I &0\\end{bmatrix}$\n",
    "The equation in this representation reads\n",
    "\n",
    "$$\n",
    "\\begin{bmatrix}\n",
    "0 & E-\\sigma\\cdot p\\\\ \n",
    "E+\\sigma\\cdot p & 0\n",
    "\\end{bmatrix} \n",
    "\\begin{bmatrix}\n",
    "\\phi \\\\ \\chi\n",
    "\\end{bmatrix}\n",
    "=\n",
    "\\begin{bmatrix}\n",
    "m\\phi \\\\ m\\chi\n",
    "\\end{bmatrix}\n",
    "$$\n",
    "\n",
    "In the case of $m=0$, the spinor separates into two independent equations.\n",
    "\n",
    "$$\n",
    " (E \\pm \\sigma\\cdot p)\\psi_{R/L} = 0\n",
    "$$\n",
    "\n",
    "Chirality projectors: $\\frac{1}{2}(1 \\pm \\gamma^5)$"
   ]
  },
  {
   "cell_type": "markdown",
   "id": "58f17ae8-40e8-4b0e-927d-cb1417b14165",
   "metadata": {},
   "source": [
    "## Problems\n",
    "\n",
    "### Rubia 8.1\n",
    "\n",
    "Show that the Dirac gamma matrices satisfy the Clifford Algebra sl(1,3)\n",
    "\n",
    "#### Solution"
   ]
  },
  {
   "cell_type": "markdown",
   "id": "2f2e82b6-41fb-4f4c-b240-9670ec466128",
   "metadata": {},
   "source": [
    "$$\n",
    "\\gamma_0^2 = I, \\gamma_i^2 = -I\n",
    "$$"
   ]
  },
  {
   "cell_type": "code",
   "execution_count": 69,
   "id": "4e24b18b-fd62-42cf-a340-adc6bc1558c8",
   "metadata": {},
   "outputs": [
    {
     "data": {
      "text/plain": [
       "[array([[1.+0.j, 0.+0.j, 0.+0.j, 0.+0.j],\n",
       "        [0.+0.j, 1.+0.j, 0.+0.j, 0.+0.j],\n",
       "        [0.+0.j, 0.+0.j, 1.+0.j, 0.+0.j],\n",
       "        [0.+0.j, 0.+0.j, 0.+0.j, 1.+0.j]]),\n",
       " array([[-1.+0.j,  0.+0.j,  0.+0.j,  0.+0.j],\n",
       "        [ 0.+0.j, -1.+0.j,  0.+0.j,  0.+0.j],\n",
       "        [ 0.+0.j,  0.+0.j, -1.+0.j,  0.+0.j],\n",
       "        [ 0.+0.j,  0.+0.j,  0.+0.j, -1.+0.j]]),\n",
       " array([[-1.+0.j,  0.+0.j,  0.+0.j,  0.+0.j],\n",
       "        [ 0.+0.j, -1.+0.j,  0.+0.j,  0.+0.j],\n",
       "        [ 0.+0.j,  0.+0.j, -1.+0.j,  0.+0.j],\n",
       "        [ 0.+0.j,  0.+0.j,  0.+0.j, -1.+0.j]]),\n",
       " array([[-1.+0.j,  0.+0.j,  0.+0.j,  0.+0.j],\n",
       "        [ 0.+0.j, -1.+0.j,  0.+0.j,  0.+0.j],\n",
       "        [ 0.+0.j,  0.+0.j, -1.+0.j,  0.+0.j],\n",
       "        [ 0.+0.j,  0.+0.j,  0.+0.j, -1.+0.j]])]"
      ]
     },
     "execution_count": 69,
     "metadata": {},
     "output_type": "execute_result"
    }
   ],
   "source": [
    "[g@g for g in gamma]"
   ]
  },
  {
   "cell_type": "markdown",
   "id": "77bf2402-8d7b-46bf-9d62-6b4731a00272",
   "metadata": {},
   "source": [
    "$$\n",
    "\\{\\gamma^\\mu, \\gamma^\\nu\\} = 2\\eta^{\\mu\\nu}\n",
    "$$"
   ]
  },
  {
   "cell_type": "code",
   "execution_count": 100,
   "id": "a405e7bf-ed4c-473d-8747-549fba2bfb23",
   "metadata": {},
   "outputs": [
    {
     "data": {
      "text/plain": [
       "[array([[2.+0.j, 0.+0.j, 0.+0.j, 0.+0.j],\n",
       "        [0.+0.j, 2.+0.j, 0.+0.j, 0.+0.j],\n",
       "        [0.+0.j, 0.+0.j, 2.+0.j, 0.+0.j],\n",
       "        [0.+0.j, 0.+0.j, 0.+0.j, 2.+0.j]]),\n",
       " array([[-2.+0.j,  0.+0.j,  0.+0.j,  0.+0.j],\n",
       "        [ 0.+0.j, -2.+0.j,  0.+0.j,  0.+0.j],\n",
       "        [ 0.+0.j,  0.+0.j, -2.+0.j,  0.+0.j],\n",
       "        [ 0.+0.j,  0.+0.j,  0.+0.j, -2.+0.j]]),\n",
       " array([[-2.+0.j,  0.+0.j,  0.+0.j,  0.+0.j],\n",
       "        [ 0.+0.j, -2.+0.j,  0.+0.j,  0.+0.j],\n",
       "        [ 0.+0.j,  0.+0.j, -2.+0.j,  0.+0.j],\n",
       "        [ 0.+0.j,  0.+0.j,  0.+0.j, -2.+0.j]]),\n",
       " array([[-2.+0.j,  0.+0.j,  0.+0.j,  0.+0.j],\n",
       "        [ 0.+0.j, -2.+0.j,  0.+0.j,  0.+0.j],\n",
       "        [ 0.+0.j,  0.+0.j, -2.+0.j,  0.+0.j],\n",
       "        [ 0.+0.j,  0.+0.j,  0.+0.j, -2.+0.j]])]"
      ]
     },
     "execution_count": 100,
     "metadata": {},
     "output_type": "execute_result"
    }
   ],
   "source": [
    "[acomm(g,g) for g in gamma]"
   ]
  },
  {
   "cell_type": "code",
   "execution_count": 112,
   "id": "c798197a-135c-4464-aed5-8342b47a69dd",
   "metadata": {},
   "outputs": [
    {
     "data": {
      "text/plain": [
       "array([[0.+0.j, 0.+0.j, 0.+0.j, 0.+0.j],\n",
       "       [0.+0.j, 0.+0.j, 0.+0.j, 0.+0.j],\n",
       "       [0.+0.j, 0.+0.j, 0.+0.j, 0.+0.j],\n",
       "       [0.+0.j, 0.+0.j, 0.+0.j, 0.+0.j]])"
      ]
     },
     "execution_count": 112,
     "metadata": {},
     "output_type": "execute_result"
    }
   ],
   "source": [
    "# Example\n",
    "acomm(gamma[1],gamma[2])"
   ]
  },
  {
   "cell_type": "markdown",
   "id": "6545054f-c597-4565-b3ba-4cb8231c784a",
   "metadata": {},
   "source": [
    "furthermore \n",
    "\n",
    "$$\n",
    "\\gamma_0^\\dagger = \\gamma_0, \\gamma_i^\\dagger = -\\gamma_i\n",
    "$$"
   ]
  },
  {
   "cell_type": "code",
   "execution_count": 117,
   "id": "07d6677b-bdab-49bd-88e4-deec3b7fd2b6",
   "metadata": {},
   "outputs": [
    {
     "data": {
      "text/plain": [
       "[array([[ 1.-0.j,  0.-0.j,  0.-0.j,  0.-0.j],\n",
       "        [ 0.-0.j,  1.-0.j,  0.-0.j,  0.-0.j],\n",
       "        [ 0.-0.j,  0.-0.j, -1.-0.j, -0.-0.j],\n",
       "        [ 0.-0.j,  0.-0.j, -0.-0.j, -1.-0.j]]),\n",
       " array([[ 0.-0.j,  0.-0.j, -0.-0.j, -1.-0.j],\n",
       "        [ 0.-0.j,  0.-0.j, -1.-0.j, -0.-0.j],\n",
       "        [ 0.-0.j,  1.-0.j,  0.-0.j,  0.-0.j],\n",
       "        [ 1.-0.j,  0.-0.j,  0.-0.j,  0.-0.j]]),\n",
       " array([[ 0.-0.j,  0.-0.j, -0.-0.j, -0.+1.j],\n",
       "        [ 0.+0.j,  0.-0.j,  0.-1.j, -0.-0.j],\n",
       "        [ 0.-0.j,  0.-1.j,  0.-0.j,  0.-0.j],\n",
       "        [-0.+1.j,  0.-0.j,  0.+0.j,  0.-0.j]]),\n",
       " array([[ 0.-0.j,  0.-0.j, -1.-0.j, -0.-0.j],\n",
       "        [ 0.-0.j, -0.-0.j, -0.-0.j,  1.+0.j],\n",
       "        [ 1.-0.j,  0.-0.j,  0.-0.j,  0.-0.j],\n",
       "        [ 0.-0.j, -1.-0.j,  0.-0.j, -0.-0.j]])]"
      ]
     },
     "execution_count": 117,
     "metadata": {},
     "output_type": "execute_result"
    }
   ],
   "source": [
    "[g.T.conj() for g in gamma]"
   ]
  },
  {
   "cell_type": "markdown",
   "id": "689090e7-7332-4dc4-9be2-76912308c95b",
   "metadata": {},
   "source": [
    "### Problem\n",
    "\n",
    "For a 3-vector $(x,y,z)$ show that\n",
    "\n",
    "$$\n",
    "\\sigma\\cdot \\bf{x} = \\begin{bmatrix}\n",
    "z & x-iy\\\\x+iy & -z\n",
    "\\end{bmatrix}\n",
    "$$\n",
    "\n",
    "and $(\\sigma\\cdot x)^2 = |x|^2 I$"
   ]
  },
  {
   "cell_type": "markdown",
   "id": "df676854-aa04-49c7-9651-ac571b15a5a8",
   "metadata": {},
   "source": [
    "### Reading Material\n",
    "\n",
    "- Rubbia, Phenomenology of Particle Physics, Chapter 8\n",
    "- Peskin, An Introduction to Quantum Field Theory, Sections 3.1 - 3.4\n",
    "- Jakob Schwichtenberg , No Nonsense QFT, Sections 3.3 - 3.4\n",
    "- Eigenchris, Spinors for Beginners: https://www.youtube.com/watch?v=j5soqexrwqY&list=PLJHszsWbB6hoOo_wMb0b6T44KM_ABZtBs"
   ]
  },
  {
   "cell_type": "code",
   "execution_count": null,
   "id": "edffc992-5b32-4183-8909-057f1009c5f3",
   "metadata": {},
   "outputs": [],
   "source": []
  }
 ],
 "metadata": {
  "kernelspec": {
   "display_name": "physics-with-friends",
   "language": "python",
   "name": "physics-with-friends"
  },
  "language_info": {
   "codemirror_mode": {
    "name": "ipython",
    "version": 3
   },
   "file_extension": ".py",
   "mimetype": "text/x-python",
   "name": "python",
   "nbconvert_exporter": "python",
   "pygments_lexer": "ipython3",
   "version": "3.11.9"
  }
 },
 "nbformat": 4,
 "nbformat_minor": 5
}
