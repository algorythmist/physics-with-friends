{
 "cells": [
  {
   "cell_type": "markdown",
   "id": "e1ac8585-141c-4876-a0f7-58372c65f670",
   "metadata": {},
   "source": [
    "# QFT for the Gifted Amateur - Chapter 5 Exercises\n",
    "\n",
    "$\n",
    "\\newcommand{\\ket}[1]{\\left|{#1}\\right\\rangle}\n",
    "\\newcommand{\\bra}[1]{\\left\\langle{#1}\\right|}\n",
    "\\newcommand{\\braket}[2]{\\left\\langle{#1}\\middle|{#2}\\right\\rangle}\n",
    "$"
   ]
  },
  {
   "cell_type": "markdown",
   "id": "4e923601-daf6-4831-9c77-4b8720efdf24",
   "metadata": {},
   "source": [
    "### Exercise 5.1\n",
    "\n",
    "$$\n",
    "\\frac{dL}{dt} = \\frac{\\partial L}{\\partial t} + \\frac{\\partial L}{\\partial x_i} \\dot{x}_i + \\frac{\\partial L}{\\partial \\dot{x}_i} \\ddot{x}_i \\implies\n",
    "$$\n",
    "\n",
    "$$\n",
    "\\frac{\\partial L}{\\partial t} = \\frac{dL}{dt} - \\frac{\\partial L}{\\partial x_i} \\dot{x}_i - \\frac{\\partial L}{\\partial \\dot{x}_i} \\ddot{x}_i\n",
    "$$\n",
    "\n",
    "We know from (5.4) and (5.6) that the expression on the RHS is \n",
    "\n",
    "$$\n",
    "- \\frac{d}{dt}(p_i x_i - L) = -\\frac{dH}{dt} \n",
    "$$\n",
    "\n",
    "therefore\n",
    "\n",
    "$$\n",
    "\\frac{\\partial L}{\\partial t} = -\\frac{dH}{dt} \n",
    "$$"
   ]
  },
  {
   "cell_type": "markdown",
   "id": "c6af4a66-2005-451e-9a3e-392119dab7f3",
   "metadata": {},
   "source": [
    "### Exercise 5.3\n",
    "\n",
    "$$\n",
    "[A,B]^\\dagger = (AB-BA)^\\dagger = B^\\dagger A^\\dagger - A^\\dagger B^\\dagger = BA-AB = -(AB-BA) = -[A,B]\n",
    "$$"
   ]
  },
  {
   "cell_type": "code",
   "execution_count": null,
   "id": "2ff25d28-6d0f-4126-8615-b813eb3ddaa8",
   "metadata": {},
   "outputs": [],
   "source": []
  }
 ],
 "metadata": {
  "kernelspec": {
   "display_name": "physics-with-friends",
   "language": "python",
   "name": "physics-with-friends"
  },
  "language_info": {
   "codemirror_mode": {
    "name": "ipython",
    "version": 3
   },
   "file_extension": ".py",
   "mimetype": "text/x-python",
   "name": "python",
   "nbconvert_exporter": "python",
   "pygments_lexer": "ipython3",
   "version": "3.10.13"
  },
  "widgets": {
   "application/vnd.jupyter.widget-state+json": {
    "state": {},
    "version_major": 2,
    "version_minor": 0
   }
  }
 },
 "nbformat": 4,
 "nbformat_minor": 5
}
