{
 "cells": [
  {
   "cell_type": "markdown",
   "id": "27c52d2b-9c3e-4364-9d31-4eab7e2ef2d7",
   "metadata": {},
   "source": [
    "# QFT in a Nutshell\n",
    "## Part I"
   ]
  },
  {
   "cell_type": "markdown",
   "id": "2133099d-62f2-47c0-9f37-16d9e94c1401",
   "metadata": {},
   "source": [
    "#### Latex: Define bras, kets, brackets\n",
    "$\n",
    "\\newcommand{\\ket}[1]{\\left|{#1}\\right\\rangle}\n",
    "\\newcommand{\\bra}[1]{\\left\\langle{#1}\\right|}\n",
    "\\newcommand{\\braket}[2]{\\left\\langle{#1}\\middle|{#2}\\right\\rangle}\n",
    "$"
   ]
  },
  {
   "cell_type": "markdown",
   "id": "c19bf4bc-e91a-44db-a8ad-e4d1fd0c9a69",
   "metadata": {},
   "source": [
    "### Gaussian integrals\n",
    "\n",
    "$$\n",
    "\\int_{-\\infty}^\\infty dx e^{-x^2} = \\sqrt{\\pi}\n",
    "$$\n",
    "\n",
    "$$\n",
    "\\int_{-\\infty}^\\infty dx e^{-ax^2/2} = \\sqrt{2\\pi/a}\n",
    "$$\n",
    "\n",
    "$$\n",
    "\\int_{-\\infty}^\\infty dx e^{-ax^2/2+bx} = \\sqrt{\\frac{2\\pi}{a}}e^{\\frac{b^2}{2a}}\n",
    "$$\n",
    "\n",
    "Matrix Generalization\n",
    "\n",
    "$$\n",
    "\\int d^N x e^{\\frac{1}{2}x^T Ax +b^T x} = \\left(\\frac{(2\\pi i)^N}{detA}\\right)^{1/2} e^{-\\frac{1}{2}b^T A^{-1}b}\n",
    "$$\n",
    "\n",
    "Operator Generalization\n",
    "\n",
    "$$\n",
    "\\int D[\\phi] e^{-\\frac{1}{2}\\bra{\\phi}A\\ket{\\phi} + \\braket{b}{\\phi}} = (\\frac{C}{detA})^{1/2} e^{1/2\\bra{b}A^{-1}\\ket{b}}\n",
    "$$"
   ]
  },
  {
   "cell_type": "markdown",
   "id": "e32aa49e-b323-4b71-ab79-da1716724574",
   "metadata": {},
   "source": [
    "where $detA$ is the product of the eigenvalues of A, C is a (possibly infinite) constant, and $A^{-1}$ satisfies\n",
    "\n",
    "$$\n",
    "\\int dx A(x,z)A^{-1}(z,y) = \\delta(x-y)\n",
    "$$"
   ]
  },
  {
   "cell_type": "markdown",
   "id": "da7bdd1c-8c44-48b3-88bc-ba0016521440",
   "metadata": {},
   "source": [
    "### Path Integrals\n",
    "\n",
    "For QFT, we need to evaluate (normalized)\n",
    "\n",
    "$$\n",
    "Z = \\int D[\\phi] e^{iS} = \\int D[\\phi] e^{i\\int dx \\mathcal{L}[\\phi]}\n",
    "$$\n",
    "\n",
    "##### Interactions and Currents\n",
    "\n",
    "\n",
    "$$\n",
    "Z[J] = \\int D[\\phi] e^{iS} = \\int D[\\phi] e^{i\\int dx (\\mathcal{L_0}[\\phi]+\\mathcal{L_I}[\\phi] +J\\phi)}\n",
    "$$\n",
    "\n",
    "Objective: Compute $\\frac{Z[J]}{Z[0]}$"
   ]
  },
  {
   "cell_type": "markdown",
   "id": "7d981ab4-25b1-4212-9a7f-328332e39728",
   "metadata": {},
   "source": [
    "##### Green's function generator\n",
    "\n",
    "$$\n",
    "G^{(n)}(x_1,\\ldots,x_n) = \\bra{\\Omega}T\\phi(x_1)\\ldots\\phi(x_n)\\ket{\\Omega} =  (-i)^n \\left. \\frac{\\delta^n Z[J]}{\\delta J(x_1)\\ldots\\delta J(x_n)}\\right|_{J=0}\n",
    "$$"
   ]
  },
  {
   "attachments": {},
   "cell_type": "markdown",
   "id": "0b9a4087-2c64-4036-96b4-d841eb5fc5b0",
   "metadata": {},
   "source": [
    "### Free Field Theory\n",
    "\n",
    "$$\n",
    "\\mathcal{L_0}(\\phi) = \\frac{1}{2} \\left[(\\partial \\phi)^2 - m^2 \\phi^2 \\right]\n",
    "$$\n",
    "\n",
    "Goal: Evaluate\n",
    "\n",
    "$$\n",
    "Z[J] = \\int D[\\phi] e^{iS} = \\int D[\\phi] e^{i\\int dx ( \\frac{1}{2} \\left[(\\partial \\phi)^2 - m^2 \\phi^2  +J\\phi\\right)}\n",
    "$$"
   ]
  },
  {
   "cell_type": "markdown",
   "id": "943afe6d-2d78-400f-a57d-e054d714fba7",
   "metadata": {},
   "source": [
    "Integration by parts:\n",
    "\n",
    "$$\n",
    "\\int dx (\\partial \\phi)^2 = -\\int dx \\phi\\partial^2\\phi\n",
    "$$\n",
    "\n",
    "so that\n",
    "$$\n",
    "Z[J] = \\int D[\\phi] e^{i\\int dx (-\\frac{1}{2}\\phi A\\phi + J\\phi})\n",
    "$$\n",
    "\n",
    "where $A = \\partial^2 + m^2$\n",
    "\n",
    "which is Gaussian and can be \"evaluated\" to give\n",
    "\n",
    "$$\n",
    "Z[J] = \\left( \\frac{C}{detA}\\right)^{1/2} e^{(-i/2)J A^{-1}J}\n",
    "$$\n",
    "\n",
    "where we set $D = A^{-1}$ and $-(\\partial^2+m^2)D(x-y) = \\delta^{(4)}(x-y)$"
   ]
  },
  {
   "cell_type": "markdown",
   "id": "d4f69ab7-5b91-4eea-b73b-f02dc2011ee7",
   "metadata": {},
   "source": [
    "This can be solved to give \n",
    "\n",
    "$$\n",
    "D(x - y) = \\int \\frac{d^4 k}{(2\\pi)^4} \\frac{e^{i k \\cdot (x - y)}}{k^2 - m^2 + i\\epsilon}\n",
    "$$"
   ]
  },
  {
   "cell_type": "code",
   "execution_count": null,
   "id": "86a234ff-0496-4d79-9924-5f68ff6739a2",
   "metadata": {},
   "outputs": [],
   "source": []
  }
 ],
 "metadata": {
  "kernelspec": {
   "display_name": "physics-with-friends",
   "language": "python",
   "name": "physics-with-friends"
  },
  "language_info": {
   "codemirror_mode": {
    "name": "ipython",
    "version": 3
   },
   "file_extension": ".py",
   "mimetype": "text/x-python",
   "name": "python",
   "nbconvert_exporter": "python",
   "pygments_lexer": "ipython3",
   "version": "3.11.9"
  }
 },
 "nbformat": 4,
 "nbformat_minor": 5
}
