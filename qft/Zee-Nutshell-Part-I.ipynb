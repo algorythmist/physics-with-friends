{
 "cells": [
  {
   "cell_type": "markdown",
   "id": "27c52d2b-9c3e-4364-9d31-4eab7e2ef2d7",
   "metadata": {},
   "source": [
    "# QFT in a Nutshell\n",
    "## Part I"
   ]
  },
  {
   "cell_type": "markdown",
   "id": "2133099d-62f2-47c0-9f37-16d9e94c1401",
   "metadata": {},
   "source": [
    "#### Latex: Define bras, kets, brackets\n",
    "$\n",
    "\\newcommand{\\ket}[1]{\\left|{#1}\\right\\rangle}\n",
    "\\newcommand{\\bra}[1]{\\left\\langle{#1}\\right|}\n",
    "\\newcommand{\\braket}[2]{\\left\\langle{#1}\\middle|{#2}\\right\\rangle}\n",
    "$"
   ]
  },
  {
   "cell_type": "markdown",
   "id": "c19bf4bc-e91a-44db-a8ad-e4d1fd0c9a69",
   "metadata": {},
   "source": [
    "### Gaussian integrals\n",
    "\n",
    "$$\n",
    "\\int_{-\\infty}^\\infty dx e^{-x^2} = \\sqrt{\\pi}\n",
    "$$\n",
    "\n",
    "$$\n",
    "\\int_{-\\infty}^\\infty dx e^{-ax^2/2} = \\sqrt{2\\pi/a}\n",
    "$$\n",
    "\n",
    "$$\n",
    "\\int_{-\\infty}^\\infty dx e^{-ax^2/2+bx} = \\sqrt{\\frac{2\\pi}{a}}e^{\\frac{b^2}{2a}}\n",
    "$$\n",
    "\n",
    "Matrix Generalization\n",
    "\n",
    "$$\n",
    "\\int d^N x e^{\\frac{1}{2}x^T Ax +b^T x} = \\left(\\frac{(2\\pi i)^N}{detA}\\right)^{1/2} e^{-\\frac{1}{2}b^T A^{-1}b}\n",
    "$$\n",
    "\n",
    "Operator Generalization\n",
    "\n",
    "$$\n",
    "\\int D[\\phi] e^{-\\frac{1}{2}\\bra{\\phi}A\\ket{\\phi} + \\braket{b}{\\phi}} = (\\frac{C}{detA})^{1/2} e^{-1/2\\bra{b}A^{-1}\\ket{b}}\n",
    "$$"
   ]
  },
  {
   "cell_type": "markdown",
   "id": "e32aa49e-b323-4b71-ab79-da1716724574",
   "metadata": {},
   "source": [
    "where $detA$ is the product of the eigenvalues of A, C is a (possibly infinite) constant, and $A^{-1}$ satisfies\n",
    "\n",
    "$$\n",
    "\\int dx A(x,z)A^{-1}(z,y) = \\delta(x-y)\n",
    "$$"
   ]
  },
  {
   "cell_type": "markdown",
   "id": "da7bdd1c-8c44-48b3-88bc-ba0016521440",
   "metadata": {},
   "source": [
    "### Path Integrals\n",
    "\n",
    "For QFT, we need to evaluate (normalized)\n",
    "\n",
    "$$\n",
    "Z = \\int D[\\phi] e^{iS} = \\int D[\\phi] e^{i\\int dx \\mathcal{L}[\\phi]}\n",
    "$$\n",
    "\n",
    "##### Interactions and Currents\n",
    "\n",
    "\n",
    "$$\n",
    "Z[J] = \\int D[\\phi] e^{iS} = \\int D[\\phi] e^{i\\int dx (\\mathcal{L_0}[\\phi]+\\mathcal{L_I}[\\phi] +J\\phi)}\n",
    "$$\n",
    "\n",
    "Objective: Compute $\\frac{Z[J]}{Z[0]}$"
   ]
  },
  {
   "cell_type": "markdown",
   "id": "7d981ab4-25b1-4212-9a7f-328332e39728",
   "metadata": {},
   "source": [
    "##### Green's function generator\n",
    "\n",
    "$$\n",
    "G^{(n)}(x_1,\\ldots,x_n) = \\bra{\\Omega}T\\phi(x_1)\\ldots\\phi(x_n)\\ket{\\Omega} =  (-i)^n \\left. \\frac{\\delta^n Z[J]}{\\delta J(x_1)\\ldots\\delta J(x_n)}\\right|_{J=0}\n",
    "$$"
   ]
  },
  {
   "attachments": {},
   "cell_type": "markdown",
   "id": "0b9a4087-2c64-4036-96b4-d841eb5fc5b0",
   "metadata": {},
   "source": [
    "### Free Field Theory\n",
    "\n",
    "$$\n",
    "\\mathcal{L_0}(\\phi) = \\frac{1}{2} \\left[(\\partial \\phi)^2 - m^2 \\phi^2 \\right]\n",
    "$$\n",
    "\n",
    "Goal: Evaluate\n",
    "\n",
    "$$\n",
    "Z[J] = \\int D[\\phi] e^{iS} = \\int D[\\phi] e^{i\\int dx ( \\frac{1}{2} \\left[(\\partial \\phi)^2 - m^2 \\phi^2  +J\\phi\\right)}\n",
    "$$"
   ]
  },
  {
   "cell_type": "markdown",
   "id": "943afe6d-2d78-400f-a57d-e054d714fba7",
   "metadata": {},
   "source": [
    "Integration by parts:\n",
    "\n",
    "$$\n",
    "\\int dx (\\partial \\phi)^2 = -\\int dx \\phi\\partial^2\\phi\n",
    "$$\n",
    "\n",
    "so that\n",
    "$$\n",
    "Z[J] = \\int D[\\phi] e^{i\\int dx (-\\frac{1}{2}\\phi A\\phi + J\\phi})\n",
    "$$\n",
    "\n",
    "where $A = \\partial^2 + m^2$\n",
    "\n",
    "which is Gaussian and can be \"evaluated\" to give\n",
    "\n",
    "$$\n",
    "Z[J] = \\left( \\frac{C}{detA}\\right)^{1/2} e^{(-i/2)J A^{-1}J}\n",
    "$$\n",
    "\n",
    "where we set $D = A^{-1}$ and $-(\\partial^2+m^2)D(x-y) = \\delta^{(4)}(x-y)$"
   ]
  },
  {
   "cell_type": "markdown",
   "id": "d4f69ab7-5b91-4eea-b73b-f02dc2011ee7",
   "metadata": {},
   "source": [
    "This can be solved to give \n",
    "\n",
    "$$\n",
    "D(x - y) = \\int \\frac{d^4 k}{(2\\pi)^4} \\frac{e^{i k \\cdot (x - y)}}{k^2 - m^2 + i\\epsilon}\n",
    "$$"
   ]
  },
  {
   "cell_type": "markdown",
   "id": "27e73a3e-0ab6-4124-9564-ba080e4249f1",
   "metadata": {},
   "source": [
    "Integrating over $k^0$\n",
    "\n",
    "$$\n",
    "D(x) = -i \\int \\frac{d^3k}{(2\\pi)^3 2\\omega_k} \\left[ e^{-i (\\omega_k t - \\vec{k} \\cdot \\vec{x})} \\theta(x^0) + e^{i (\\omega_k t - \\vec{k} \\cdot \\vec{x})} \\theta(-x^0) \\right]\n",
    "$$"
   ]
  },
  {
   "cell_type": "markdown",
   "id": "25a999b4-2744-486c-8899-dee44a1c1fd0",
   "metadata": {},
   "source": [
    "### Problem 1.3.1 and 1.3.2\n",
    "\n",
    "Wolfram can evaluate the 1D integral exactly to get \n",
    "\n",
    "$$\n",
    "\\int \\frac{dk}{\\omega_k} e^{-i \\vec{k} \\cdot \\vec{x}} = 2K(m|x|)\n",
    "$$\n",
    "\n",
    "where K is the modified Bessel function. For $m|x| >> 1$, K(m|x|) is proportional to $e^{-m|x|}$"
   ]
  },
  {
   "cell_type": "markdown",
   "id": "30e1e6d8-340a-4fdf-a790-b656243a1fcc",
   "metadata": {},
   "source": [
    "# Inverse Square Law"
   ]
  },
  {
   "cell_type": "markdown",
   "id": "dc14de8e-92eb-423e-bfa8-6a90f06ab754",
   "metadata": {},
   "source": [
    "## Preliminaries: Lie Groups and their Representations\n",
    "\n",
    "$SO(3)$ is the Lie group of rotations in 3D. $SU(2)$ is the group of 2D unitary matrices with determinant 1. The two groups are isomorphic.\n",
    "As manifolds, they both have 3 (real) dimensions.\n",
    "\n",
    "A Lie Algebra is the algebra of the generators of a Lie Group. There are as many generators as there are dimensions in the group manifold. Any group element g can be written in terms of generators as $g = e^{\\sum_k ia_k l_k}$.\n",
    "\n",
    "The Lie Algebra is an algebra not under normal multiplication, but with respect to the commutator: $[l_i, l_j] = \\Gamma_{ij}^k l_k$. \n",
    "Therefore a lie algebra is anti-commutative and non-associative. \n",
    "\n",
    "$SO(3)$  and  $SU(2)$ share the same Lie Algebra $so(3)$"
   ]
  },
  {
   "cell_type": "markdown",
   "id": "94ca2ba7-2985-4d31-8e15-0723010b5590",
   "metadata": {},
   "source": [
    "**Definition**: A *representation* of Lie Group is a homomorphism from the group to the space of linear transformations on a vector space $V$. i.e. $GL(n,V)$, where $n$ is the dimension of the representation. \n",
    "\n",
    "The dimension of the representation is not the same as the dimension of the Lie Group.\n",
    "\n",
    "Similarly, a representation of a Lie Algebra is an algebra homomorphism to $GL(n,V)$, with \"product\" $[A,B] : = AB - BA$.\n",
    "\n",
    "**Definition**: A representation is *irreducible* is there is no subspace of $V$ that is invariant under all group elements.\n"
   ]
  },
  {
   "cell_type": "markdown",
   "id": "e12f083f-540a-4ec2-a73a-a5ca53c69dec",
   "metadata": {},
   "source": [
    "**Theorem**: The finite dimensional irreducible representations of $so(3)$ have dimensions $d = 2l+1$, where $l = 0, 1/2, 1, 3/2, 2, \\ldots$.\n",
    "\n",
    "**Terminology**: $l$ is called the **spin** and d is called the **polarization**.\n",
    "\n",
    "NOTE: Only the whole integer spin are representations of $SO(3)$. The half-integer spin are representations of $SU(2)$.\n"
   ]
  },
  {
   "cell_type": "markdown",
   "id": "3136f787-86ce-4ea4-9fd3-91c3af4b0d91",
   "metadata": {},
   "source": [
    "## Section 1.5: Coulomb and Newton\n",
    "\n",
    "**The Point**: The spin fixes the representation. The representation and Lorentz invariance determine the Lagrangian and consequently the propagator.\n",
    "\n"
   ]
  },
  {
   "cell_type": "markdown",
   "id": "d2369dc0-0f40-4f1b-9f88-276edcf06505",
   "metadata": {},
   "source": [
    "**Spin 1**: The simplest Lorentz invariant vector space is 4D Minkowski space. A 4-vector $A_\\mu$ must satisfy the KG equation\n",
    "\n",
    "$$\n",
    "(\\partial^2+m^2)A_\\mu = 0 \\Leftrightarrow (k^2-m^2)A_\\mu = 0\n",
    "$$\n",
    "\n",
    "To obtain a 3D subspace that is also Lorentz invariant, we must impose an additional linear constraint\n",
    "\n",
    "$$\n",
    "k^\\mu A_\\mu = 0  \\Leftrightarrow \\partial^\\mu A_\\mu = 0\n",
    "$$\n",
    "\n",
    "Combine the above equations into a single one$$"
   ]
  },
  {
   "cell_type": "markdown",
   "id": "f36877e5-1d69-44dd-a978-b72b916ff1e1",
   "metadata": {},
   "source": [
    "$$\n",
    "\\left( g^{\\mu \\nu} \\partial^2 - \\partial^\\mu \\partial^\\nu \\right) A_\\nu + m^2 A^\\mu = 0\n",
    "$$\n",
    "\n",
    "Multiply by $\\frac{1}{2}A_\\mu$ to get\n",
    "\n",
    "$$\n",
    "\\mathcal{L} = \\frac{1}{2} A_\\mu \\left[ \\left( \\partial^2 + m^2 \\right) g^{\\mu \\nu} - \\partial^\\mu \\partial^\\nu \\right] A_\\nu\n",
    "$$"
   ]
  },
  {
   "cell_type": "markdown",
   "id": "2e7cfce5-2a6f-4e57-9a11-6daeaf654549",
   "metadata": {},
   "source": [
    "**Spin 2**: Going up the dimensions of Lorentz invariant objects, we pick a 4x4 tensor. A general 4x4 tensor furnishes a reducible representation because its symmetric and antisymmetric parts are invariant. In particular in can be decomposed into traceless symmetric and antisymmetric parts:\n",
    "\n",
    "$$\n",
    "N \\otimes N = \\left[ \\frac{1}{2} N (N + 1) - 1 \\right] \\oplus 1 \\oplus \\frac{1}{2} N (N - 1)\r\n",
    "$$"
   ]
  },
  {
   "cell_type": "markdown",
   "id": "3579f5e6-93de-4a75-a9e9-4ebd62f18d54",
   "metadata": {},
   "source": [
    "## Section 1.7: Feynman Diagrams\n",
    "\n",
    "### Baby Problem\n",
    "\n",
    "We work out the following by Taylor expansion:\n"
   ]
  },
  {
   "cell_type": "markdown",
   "id": "6d2be4fe-acf1-4228-b7fa-cb67922b098c",
   "metadata": {},
   "source": [
    "$$\n",
    "Z(J) = \\int_{-\\infty}^{+\\infty} dq \\, e^{-\\frac{1}{2} m^2 q^2 - \\frac{\\lambda}{4!} q^4 + J q}\n",
    "$$"
   ]
  },
  {
   "cell_type": "markdown",
   "id": "76c36f9e-d896-403b-be44-99ebd0d9ea78",
   "metadata": {},
   "source": [
    "$$\n",
    "\\left( \\frac{2\\pi}{m^2} \\right)^{\\frac{1}{2}} e^{-\\frac{\\lambda}{4!} \\left( \\frac{d}{dJ} \\right)^4 } e^{\\frac{1}{2m^2} J^2}\n",
    "$$"
   ]
  },
  {
   "cell_type": "markdown",
   "id": "de2a2673-09c6-4f6f-9b4b-ac314bacc9b3",
   "metadata": {},
   "source": [
    "It is easy to derive an algorithm for the coefficient of $\\lambda^m J^{2n}$. The result is:\n",
    "\n",
    "$$\n",
    "\\frac{(-1)^m (2n+4m)!}{(2m^2)^{n+2m}(4!)^m 4m! m! (n+2m)!}\n",
    "$$"
   ]
  },
  {
   "cell_type": "markdown",
   "id": "35eb039c-3160-4de7-84c9-07f896762eb2",
   "metadata": {},
   "source": [
    "Rules for Baby diagrams:\n",
    "\n",
    "- Each inner vertex corresponds to a factor of $-\\lambda$\n",
    "- Each edge corresponds to a factor for $1/2m$\n",
    "- Each end vertex corresponds to $J$\n"
   ]
  },
  {
   "cell_type": "markdown",
   "id": "a08e6756-c5b5-444c-8dab-c5c4983a86f6",
   "metadata": {},
   "source": [
    "$$\n",
    "Z(J) = \\int \\mathcal{D} \\varphi \\, e^{i \\int d^4x \\left[ \\frac{1}{2} (\\partial \\varphi)^2 - m^2 \\varphi^2 - \\frac{\\lambda}{4!} \\varphi^4 + J \\varphi \\right]}\n",
    "$$"
   ]
  },
  {
   "cell_type": "markdown",
   "id": "6449bd63-9104-498d-b276-a08582768265",
   "metadata": {},
   "source": [
    "$$\n",
    "Z(J) = e^{-\\frac{(i/4!)}{\\lambda} \\int d^4w \\left[ \\delta / i \\delta J(w) \\right]^4 } \n",
    "\\int \\mathcal{D} \\varphi \\, e^{i \\int d^4x \\left[ \\frac{1}{2} (\\partial \\varphi)^2 - m^2 \\varphi^2 + J \\varphi \\right] }\n",
    "$$\n",
    "\n",
    "$$\n",
    "= Z(0,0) e^{-\\frac{(i/4!)}{\\lambda} \\int d^4w \\left[ \\delta / i \\delta J(w) \\right]^4 } \n",
    "e^{-\\frac{(i/2)} \\int \\int d^4x d^4y J(x) D(x - y) J(y)}\n",
    "$$"
   ]
  },
  {
   "cell_type": "markdown",
   "id": "6ef79a4d-1f48-4160-8c7c-f27d139def03",
   "metadata": {},
   "source": [
    "$$\n",
    "D(x - y) = \\int \\frac{d^4k}{(2\\pi)^4} \\frac{e^{ik \\cdot (x - y)}}{k^2 - m^2 + i \\epsilon}\n",
    "$$"
   ]
  },
  {
   "cell_type": "code",
   "execution_count": null,
   "id": "f55e5e79-36d0-4898-9cfe-2349ce60a8dc",
   "metadata": {},
   "outputs": [],
   "source": []
  }
 ],
 "metadata": {
  "kernelspec": {
   "display_name": "physics-with-friends",
   "language": "python",
   "name": "physics-with-friends"
  },
  "language_info": {
   "codemirror_mode": {
    "name": "ipython",
    "version": 3
   },
   "file_extension": ".py",
   "mimetype": "text/x-python",
   "name": "python",
   "nbconvert_exporter": "python",
   "pygments_lexer": "ipython3",
   "version": "3.11.9"
  }
 },
 "nbformat": 4,
 "nbformat_minor": 5
}
