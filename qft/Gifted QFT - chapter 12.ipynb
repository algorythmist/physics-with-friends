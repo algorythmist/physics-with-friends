{
 "cells": [
  {
   "cell_type": "markdown",
   "id": "e1ac8585-141c-4876-a0f7-58372c65f670",
   "metadata": {},
   "source": [
    "# QFT for the Gifted Amateur - Chapter 12 Exercises\n",
    "\n",
    "$\n",
    "\\newcommand{\\ket}[1]{\\left|{#1}\\right\\rangle}\n",
    "\\newcommand{\\bra}[1]{\\left\\langle{#1}\\right|}\n",
    "\\newcommand{\\braket}[2]{\\left\\langle{#1}\\middle|{#2}\\right\\rangle}\n",
    "$"
   ]
  },
  {
   "cell_type": "markdown",
   "id": "d3bbc8a2-4bdf-4af6-9fd7-f77f479d0d14",
   "metadata": {},
   "source": [
    "## Summary\n",
    "\n",
    "### Complex Scalar Field\n",
    "\n",
    "$$\n",
    "L = \\partial^\\mu \\psi^\\dagger\\partial_\\mu\\psi- m^2\\psi^\\dagger\\psi\n",
    "$$\n",
    "\n"
   ]
  },
  {
   "cell_type": "markdown",
   "id": "4e923601-daf6-4831-9c77-4b8720efdf24",
   "metadata": {},
   "source": [
    "### Exercise 12.2\n",
    "\n",
    "Setting $dV_p = \\frac{d^3 p}{(2\\pi)^{3/2}}\\frac{1}{(2E_p)^{1/2}}$\n",
    "\n",
    "\\begin{eqnarray}\n",
    "[\\psi, \\psi^\\dagger] &=& [\\int dV_p(a_p e^{-ipx}+b_p^\\dagger e^{ipx} ), \\int dV_q(a_q^\\dagger e^{iqx}+b_q e^{-iqx} )]\\\\\n",
    "&=& \n",
    "\\int dV_p dV_q\\left([a_p e^{-ipx},a_q^\\dagger e^{iqx}]+[b_p^\\dagger e^{ipx}, +b_q e^{-iqx}] \\right)\\\\\n",
    "&=&\n",
    "\\int dV_p dV_q\\left(e^{-ix(p-q)}\\delta(p-q) + e^{-ix(q-p)}\\delta(p-q)\\right)\\\\\n",
    "&=&\n",
    "\\int dV_p (1+1) = \\frac{1}{(2\\pi)^{3/2}}\\int \\frac{d^3 p}{E_p^2}\n",
    "\\end{eqnarray}\n"
   ]
  },
  {
   "cell_type": "markdown",
   "id": "be46c04f-5ff6-434c-b640-153feefd7e57",
   "metadata": {},
   "source": [
    "### Exercise 12.3\n",
    "\n",
    "$$\n",
    "L = \\frac{1}{2}\\left[(\\partial_\\mu \\phi_1)^2 - m^2\\phi_1^2 + (\\partial_\\mu \\phi_2)^2 - m^2\\phi_2^2 \\right]\n",
    "$$\n",
    "\n"
   ]
  },
  {
   "cell_type": "code",
   "execution_count": null,
   "id": "5250ee47-9657-4b92-9943-bd88aa413563",
   "metadata": {},
   "outputs": [],
   "source": []
  }
 ],
 "metadata": {
  "kernelspec": {
   "display_name": "physics-with-friends",
   "language": "python",
   "name": "physics-with-friends"
  },
  "language_info": {
   "codemirror_mode": {
    "name": "ipython",
    "version": 3
   },
   "file_extension": ".py",
   "mimetype": "text/x-python",
   "name": "python",
   "nbconvert_exporter": "python",
   "pygments_lexer": "ipython3",
   "version": "3.11.9"
  },
  "widgets": {
   "application/vnd.jupyter.widget-state+json": {
    "state": {},
    "version_major": 2,
    "version_minor": 0
   }
  }
 },
 "nbformat": 4,
 "nbformat_minor": 5
}
