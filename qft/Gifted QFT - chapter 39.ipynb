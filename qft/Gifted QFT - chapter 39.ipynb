{
 "cells": [
  {
   "cell_type": "markdown",
   "id": "8635ad39-6176-4693-b8e1-72fc41cc78ac",
   "metadata": {},
   "source": [
    "# QFT for the Gifted Amateur - Chapter 39\n",
    "\n",
    "$\n",
    "\\newcommand{\\ket}[1]{\\left|{#1}\\right\\rangle}\n",
    "\\newcommand{\\bra}[1]{\\left\\langle{#1}\\right|}\n",
    "\\newcommand{\\braket}[2]{\\left\\langle{#1}\\middle|{#2}\\right\\rangle}\n",
    "$"
   ]
  },
  {
   "cell_type": "markdown",
   "id": "bd1a81bf-5785-4673-a96a-7f2b416b0fa4",
   "metadata": {},
   "source": [
    "The QED S-Matrix is\n",
    "\n",
    "$$\n",
    "S = \\int d^4 x\\left[-\\frac{1}{4}F^{\\mu\\nu}F_{\\mu\\nu} + \\bar{\\psi}(i\\gamma^\\mu D_{\\mu}-m)\\psi\\right]\n",
    "$$\n",
    "\n",
    "where $D_\\mu = \\partial_\\mu + iqA_\\mu$\n",
    "\n",
    "The interaction term is $-q\\bar{\\psi}\\gamma^\\mu A_\\mu\\psi = - J^\\mu A_\\mu$, wherer $J^\\mu = \\bar{\\psi}\\gamma^\\mu \\psi$"
   ]
  },
  {
   "cell_type": "markdown",
   "id": "c6c854c3-646f-42e1-b4c5-123105b68fe0",
   "metadata": {},
   "source": [
    "From Chapter 24:\n",
    "\n",
    "$$\n",
    "\\tilde{G}_{0\\nu\\lambda}(p) = -i \\left( \\frac{g_{\\nu\\lambda} - \\frac{p_\\nu p_\\lambda}{m^2}}{p^2 - m^2} \\right)\n",
    "$$\n",
    "\n",
    "In the 0 mass limit\n",
    "\n",
    "$$\n",
    "\\tilde{D}_{0\\nu\\mu}(k) = \\lim_{m \\rightarrow 0} -i \\left( \\frac{g_{\\nu\\mu} - \\frac{k_\\nu k_\\mu}{m^2}}{k^2 - m^2 +i\\epsilon} \\right)\n",
    "$$\n",
    "\n",
    "Assuming that somehow the second term goes to 0, we have\n",
    "\n",
    "$$\n",
    "\\tilde{D}_{0\\nu\\mu}(k) =  \\frac{-i g_{\\nu\\mu}}{k^2 +i\\epsilon}\n",
    "$$\n"
   ]
  },
  {
   "cell_type": "markdown",
   "id": "662b22f5-1197-4c98-b4d5-b1dab6768ebc",
   "metadata": {},
   "source": [
    "An amplitude is given by $A = \\bra{q}S\\ket{p}$\n",
    "\n",
    "In this case, the amplitude is given by (why?)\n",
    "\n",
    "$$\n",
    "A = J^\\mu_a( \\frac{-i g_{\\nu\\mu}}{k^2})J^\\nu_b\n",
    "$$\n"
   ]
  },
  {
   "cell_type": "markdown",
   "id": "eb2f7c95-21d3-456a-892d-bde10450a938",
   "metadata": {},
   "source": [
    "Currency conservation implies $k_\\mu J^\\mu = 0$. Why?\n",
    "\n",
    "Currency conservation in timespace domain is $\\partial_t \\rho = \\nabla\\cdot J \\implies \\partial_\\mu J^\\mu = 0$.\n",
    "Taking the Fourier transform\n",
    "\n",
    "$$\n",
    "\\int dx e^{ixk} \\partial_\\mu J^\\mu  = -\\int dx J^\\mu \\partial_\\mu  e^{ixk} = - k_\\mu \\int dx J^\\mu e^{ixk} = - k_\\mu J^\\mu (k)\n",
    "$$\n"
   ]
  },
  {
   "cell_type": "markdown",
   "id": "78d5bc6d-eac2-42a1-bd86-aa41953e0947",
   "metadata": {},
   "source": [
    "So, using this constraint and $k = (k^0, 0, 0, k^3)$, we get\n",
    "\n",
    "$$\n",
    "A(k) = i\\frac{J_a^0 J_b^0}{(k^3)^2}+i \\frac{J_a^1 J_b^1 + J_a^2 J_b^2}{(k^0)^2-(k^3)^2}\n",
    "$$"
   ]
  },
  {
   "cell_type": "code",
   "execution_count": null,
   "id": "2a5fb682-b8fc-44d9-8574-eaf18a9c4bc5",
   "metadata": {},
   "outputs": [],
   "source": []
  }
 ],
 "metadata": {
  "kernelspec": {
   "display_name": "physics-with-friends",
   "language": "python",
   "name": "physics-with-friends"
  },
  "language_info": {
   "codemirror_mode": {
    "name": "ipython",
    "version": 3
   },
   "file_extension": ".py",
   "mimetype": "text/x-python",
   "name": "python",
   "nbconvert_exporter": "python",
   "pygments_lexer": "ipython3",
   "version": "3.10.13"
  },
  "widgets": {
   "application/vnd.jupyter.widget-state+json": {
    "state": {},
    "version_major": 2,
    "version_minor": 0
   }
  }
 },
 "nbformat": 4,
 "nbformat_minor": 5
}
