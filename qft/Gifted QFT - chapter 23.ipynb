{
 "cells": [
  {
   "cell_type": "markdown",
   "id": "8635ad39-6176-4693-b8e1-72fc41cc78ac",
   "metadata": {},
   "source": [
    "# QFT for the Gifted Amateur - Chapter 23\n",
    "\n",
    "$\n",
    "\\newcommand{\\ket}[1]{\\left|{#1}\\right\\rangle}\n",
    "\\newcommand{\\bra}[1]{\\left\\langle{#1}\\right|}\n",
    "\\newcommand{\\braket}[2]{\\left\\langle{#1}\\middle|{#2}\\right\\rangle}\n",
    "\\newcommand{slash}[1]{\\not\\!{#1}}\n",
    "$"
   ]
  },
  {
   "cell_type": "markdown",
   "id": "055ef37d-107f-4420-9764-d6fc112c4cb8",
   "metadata": {},
   "source": [
    "## Problem: Evaluate the amplitude\n",
    "\n",
    "$$\n",
    "G(a,b) = \\bra{q_b}e^{iH(t_b-t_a)}\\ket{q_a}\n",
    "$$\n",
    "\n",
    "## Solution\n",
    "\n",
    "Break into small time intervals $\\Delta t$.\n",
    "\n",
    "$$\n",
    "G(a,b) = \\bra{q_b}e^{iH(\\Delta t)}\\ket{q_a}\n",
    "$$\n"
   ]
  },
  {
   "cell_type": "markdown",
   "id": "bd1a81bf-5785-4673-a96a-7f2b416b0fa4",
   "metadata": {},
   "source": [
    "By repeated resolutions of the identity\n",
    "\n",
    "$$\n",
    "G(a,b) = \\int dq_1\\ldots dq_N\\bra{q_b}e^{iH\\Delta t}\\ket{q_{N-1}}\\ldots \\bra{q_1}e^{iH\\Delta t}\\ket{q_a}\n",
    "$$\n",
    "\n",
    "\n"
   ]
  },
  {
   "cell_type": "markdown",
   "id": "15fcbac1-f4a0-4f06-b309-883fb0e85e51",
   "metadata": {},
   "source": [
    "After several manipulations\n",
    "\n",
    "$$\n",
    "G(a,b) = \\int D[q(t)]e^{i\\int dt L(q,\\dot{q})} = \\int D[q(t)] e^{iS/\\hbar}\n",
    "$$"
   ]
  },
  {
   "cell_type": "markdown",
   "id": "0c77fa7a-555c-46fd-9db7-97db657b4890",
   "metadata": {},
   "source": [
    "### Problem 23.1\n",
    "\n",
    "The EL equation only has the derivate wrt x, which is equal to 0, therefore, we get\n",
    "\n",
    "$$\n",
    "Ax+b =0 \\implies x = -b/A\n",
    "$$\n",
    "\n",
    "Therefore \n",
    "\n",
    "$$\n",
    "L = (1/2) Ax^2 + bx = (1/2)b^2/A -b^2/A = -(1/2)b^2/A\n",
    "$$\n"
   ]
  },
  {
   "cell_type": "markdown",
   "id": "ce5d0c45-4b7f-4914-bbc4-af78a270545d",
   "metadata": {},
   "source": [
    "### Problem 23.2\n",
    "\n",
    "a)\n",
    "\n",
    "$$\n",
    "\\int dx x^2 e^{-\\frac{a}{2}x^2} = -2\\frac{d}{da} \\int dx e^{-\\frac{a}{2}x^2} = \\sqrt{2\\pi} a^{-3/2}\n",
    "$$\n",
    "\n",
    "b)\n",
    "\n",
    "$$\n",
    "\\int_{-\\infty}^{\\infty} x^4 e^{-\\frac{(a x^2)}{2}} \\, dx = 3\\sqrt{2\\pi}a^{-5/2},\n",
    "$$\n",
    "\n",
    " so $<x^4> = 3a^{-3/2} $"
   ]
  },
  {
   "cell_type": "markdown",
   "id": "c1e2170b-02a6-43a0-878c-3f7cc9ef5e6a",
   "metadata": {},
   "source": [
    "c) \n",
    "\n",
    "The odd powers are 0 because the function is antisymmetric\n",
    "\n",
    "$$\n",
    "<x^n> = (n-1)(n-3)\\ldots x^{-\\frac{n-1}{2}}\n",
    "$$"
   ]
  },
  {
   "cell_type": "code",
   "execution_count": null,
   "id": "88ad8d7b-27ba-460c-8825-50c45267e5f1",
   "metadata": {},
   "outputs": [],
   "source": []
  }
 ],
 "metadata": {
  "kernelspec": {
   "display_name": "physics-with-friends",
   "language": "python",
   "name": "physics-with-friends"
  },
  "language_info": {
   "codemirror_mode": {
    "name": "ipython",
    "version": 3
   },
   "file_extension": ".py",
   "mimetype": "text/x-python",
   "name": "python",
   "nbconvert_exporter": "python",
   "pygments_lexer": "ipython3",
   "version": "3.11.9"
  },
  "widgets": {
   "application/vnd.jupyter.widget-state+json": {
    "state": {},
    "version_major": 2,
    "version_minor": 0
   }
  }
 },
 "nbformat": 4,
 "nbformat_minor": 5
}
