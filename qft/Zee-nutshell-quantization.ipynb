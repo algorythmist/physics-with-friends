{
 "cells": [
  {
   "cell_type": "markdown",
   "id": "edce0121-3a41-4a8c-bab9-366d9d471374",
   "metadata": {},
   "source": [
    "# Lagrangian formulation\n",
    "\n",
    "## Single Particle\n",
    "\n",
    "Minimizing the action\n",
    "\n",
    "$$\n",
    "S = \\int L(q, \\dot{q}) \\,dt\n",
    "$$\n",
    "\n",
    "yields the Euler Lagrange equations:\n",
    "\n",
    "$$\n",
    "\\frac{d}{dt}\\frac{\\partial L}{\\partial \\dot{q}} - \\frac{\\partial L}{\\partial q} = 0\n",
    "$$\n",
    "\n",
    "\n",
    "Define $p := \\frac{\\partial L}{\\partial \\dot{q}}$, and define the Hamiltonian by\n",
    "\n",
    "$$\n",
    "H = p\\dot{q} - L\n",
    "$$\n",
    "\n",
    "To get\n",
    "\n",
    "$$\n",
    "\\frac{\\partial H}{\\partial p } = \\dot{q} ; \\frac{\\partial H}{\\partial q } = -\\dot{p}\n",
    "$$"
   ]
  },
  {
   "cell_type": "markdown",
   "id": "5a291c02-75da-47ff-832f-7405fb8efc6b",
   "metadata": {},
   "source": [
    "Canonical quantization relation\n",
    "\n",
    "$$\n",
    "[p,q] = -i\\hbar\n",
    "$$"
   ]
  },
  {
   "cell_type": "markdown",
   "id": "6d14d732-e7bd-4e57-a0e8-9b706debe701",
   "metadata": {},
   "source": [
    "## Many Particles\n",
    "\n",
    "Minimizing the action\n",
    "\n",
    "$$\n",
    "S = \\int \\sum_i L(q_i, \\dot{q_i}) \\,dt \\tag{1}\n",
    "$$\n",
    "\n",
    "yields the Euler Lagrange equations:\n",
    "\n",
    "$$\n",
    "\\frac{d}{dt}\\frac{\\partial L}{\\partial \\dot{q_i}} - \\frac{\\partial L}{\\partial q_i} = 0 \\tag{2}\n",
    "$$\n",
    "\n",
    "\n",
    "Define $p := \\frac{\\partial L}{\\partial \\dot{q}}$, and define the Hamiltonian by\n",
    "\n",
    "$$\n",
    "H = \\sum_i p_i\\dot{q_i} - L\n",
    "$$\n",
    "\n"
   ]
  },
  {
   "cell_type": "markdown",
   "id": "aaea3f8e-2bbe-4de3-ba4a-819014d9226c",
   "metadata": {},
   "source": [
    "Canonical quantization relation\n",
    "\n",
    "$$\n",
    "[p_j,q_k] = -i\\hbar \\delta_{kj}; [p_j,p_k] = 0 ; [q_j,q_k] =0\n",
    "$$"
   ]
  },
  {
   "cell_type": "markdown",
   "id": "6033618a-144a-4a56-909f-ed9b4552823e",
   "metadata": {},
   "source": [
    "## Fields\n",
    "\n",
    "The index $i$ turns into the continuous index $x$. $q_i(t)$ becomes $\\phi(t, x)$. \n",
    "Setting $x^0 = t$, ww can simply write $\\phi(x)$ in 4D spacetime.\n",
    "\n",
    "Notation:\n",
    "$$\n",
    "\\phi_{,\\mu} \\equiv \\partial_\\mu \\phi \\equiv \\frac{\\partial \\phi}{\\partial  x^\\mu}\n",
    "$$\n",
    "\n",
    "Then (1) becomes\n",
    "\n",
    "$$\n",
    "S = \\int dt \\int d^3 x \\mathcal{L}(\\phi, \\phi_{,\\mu})\n",
    "$$\n"
   ]
  },
  {
   "cell_type": "markdown",
   "id": "5143efaa-c144-4679-9699-566c293993f2",
   "metadata": {},
   "source": [
    "The Euler Lagrange equations (2) become\n",
    "\n",
    "$$\n",
    "\\partial_{\\mu} \\frac{\\partial \\mathcal{L}}{\\partial \\phi_{,\\mu}} - \\frac{\\partial \\mathcal{L}}{\\partial\\phi} = 0\n",
    "$$"
   ]
  },
  {
   "cell_type": "markdown",
   "id": "4125f318-6e05-4ca0-8e12-3e2d51143dcc",
   "metadata": {},
   "source": [
    "Energy-Momentum density\n",
    "\n",
    "$$\n",
    "\\Pi^\\mu := \\frac{\\partial \\mathcal{L}}{\\partial \\phi_{,\\mu}}\n",
    "$$\n",
    "\n",
    "$$\n",
    "\\pi(x,t) = \\Pi^0(x,t) = \\partial_0 \\phi(x,t) = \\dot{\\phi}\n",
    "$$\n"
   ]
  },
  {
   "cell_type": "markdown",
   "id": "faa12aab-f0d0-4d58-97be-8d1bcbe08a58",
   "metadata": {},
   "source": [
    "$$\n",
    "H = \\int d x \\left[ \\pi(\\vec{x}, t) \\partial_0 \\phi(\\vec{x}, t) - \\mathcal{L} \\right]\r",
    "$$\n"
   ]
  },
  {
   "cell_type": "markdown",
   "id": "0a88ae21-c150-4478-91b2-5784de2d3de8",
   "metadata": {},
   "source": [
    "Canonical quantization\n",
    "\n",
    "$$\n",
    "\\left[ \\pi(\\vec{x}, t), \\phi(\\vec{x}', t) \\right] = \\left[ \\partial_0 \\phi(\\vec{x}, t), \\phi(\\vec{x}', t) \\right] = -i \\delta(\\vec{x} - \\vec{x}')\r\n",
    "$$\n"
   ]
  },
  {
   "cell_type": "markdown",
   "id": "d0c1da49-7e8a-41ad-838e-34f54a3bdd43",
   "metadata": {},
   "source": [
    "### Problem 1.8.1\n",
    "\n",
    "I am going to use the identity\n",
    "$$\n",
    "\\delta((k^0)^2- \\omega_k^2) = \\frac{1}{2\\omega_k}[\\delta(k^0+\\omega_k)+\\delta(k^0-\\omega_k)]\n",
    "$$"
   ]
  },
  {
   "cell_type": "markdown",
   "id": "86c5785a-84f2-4071-b612-9797ef13c378",
   "metadata": {},
   "source": [
    "We have\n",
    "\n",
    "$$\n",
    "\\int d^D \\mathbf{k} \\int k^0 \\delta((k^0)^2- \\omega_k^2) \\theta(k^0)f(k^0, \\mathbf{k}) = \\\\\n",
    "\\int d^D\\mathbf{k} \\int_0^\\infty dk^0 \\frac{1}{2\\omega_k} \\delta(k^0-\\omega_k)]f(k^0, \\mathbf{k}) =\\\\\n",
    "\\int d^D\\mathbf{k}  \\frac{1}{2\\omega_k} f(\\omega_k, \\mathbf{k})\n",
    "$$"
   ]
  },
  {
   "cell_type": "code",
   "execution_count": null,
   "id": "f346c1f2-3063-4353-a477-86522f2704ae",
   "metadata": {},
   "outputs": [],
   "source": []
  }
 ],
 "metadata": {
  "kernelspec": {
   "display_name": "physics-with-friends",
   "language": "python",
   "name": "physics-with-friends"
  },
  "language_info": {
   "codemirror_mode": {
    "name": "ipython",
    "version": 3
   },
   "file_extension": ".py",
   "mimetype": "text/x-python",
   "name": "python",
   "nbconvert_exporter": "python",
   "pygments_lexer": "ipython3",
   "version": "3.11.9"
  }
 },
 "nbformat": 4,
 "nbformat_minor": 5
}
