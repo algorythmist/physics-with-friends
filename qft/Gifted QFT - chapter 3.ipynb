{
 "cells": [
  {
   "cell_type": "markdown",
   "id": "e1ac8585-141c-4876-a0f7-58372c65f670",
   "metadata": {},
   "source": [
    "# QFT for the Gifted Amateur - Chapter 3 Exercises\n",
    "\n",
    "$\n",
    "\\newcommand{\\ket}[1]{\\left|{#1}\\right\\rangle}\n",
    "\\newcommand{\\bra}[1]{\\left\\langle{#1}\\right|}\n",
    "\\newcommand{\\braket}[2]{\\left\\langle{#1}\\middle|{#2}\\right\\rangle}\n",
    "$"
   ]
  },
  {
   "cell_type": "markdown",
   "id": "4e923601-daf6-4831-9c77-4b8720efdf24",
   "metadata": {},
   "source": [
    "### Exercise 3.1\n",
    "\n",
    "$$\n",
    "\\sum_{pq} e^{i(px-qy)}[a_p, a^\\dagger_q] = \\sum_{pq} e^{i(px-qy)}\\delta_{pq} = \\sum_p e^{ip(x-y)} = \\textrm{Volume } \\delta(x-y)\n",
    "$$"
   ]
  },
  {
   "cell_type": "markdown",
   "id": "05e01e39-512f-40c3-bb73-6b871035b4bf",
   "metadata": {},
   "source": [
    "### Exercise 3.3\n",
    "\n",
    "The Hamiltonian for the 3D harmonic oscilator is just the sum of three Hamiltonians of independent oscillators, so the first result follows from section 2.3\n",
    "\n",
    "Instead of the specific transformation in the exercise, I will demonstrate a more general case. Let $U$ be a 3x3 unitary matrix and define a transformation of the annihilation operators $\\textbf{a} = (a_1, a_2, a_3)$ by $\\textbf{b} = U\\textbf{a} \\implies \\textbf{b}^\\dagger = U^{\\dagger}\\textbf{a}^\\dagger$.\n",
    "\n",
    "Then, $[b_i, b_j^\\dagger] = \\delta_{ij}$ and $H = \\hbar\\omega\\sum_i (1/2 +  b_i^\\dagger b_i)$"
   ]
  },
  {
   "cell_type": "markdown",
   "id": "084281e5-78ae-46f9-9ab4-3bd2447af097",
   "metadata": {},
   "source": [
    "$$\n",
    "[b_i, b_j^\\dagger]  = [U^k_i a_k, (U^\\dagger)^l_j a^\\dagger_l] = \\sum_{kl}U^k_i (U^\\dagger)^l_j [a_k, a_l^\\dagger] = \n",
    "\\sum_{kl}U^k_i (U^\\dagger)^l_j \\delta_{kl} = \\sum_k U^k_i \\bar{U}^j_k = \\delta_{ij}\n",
    "$$"
   ]
  },
  {
   "cell_type": "markdown",
   "id": "6bda6a4b-5925-4701-a113-2f51992dea3c",
   "metadata": {},
   "source": [
    "Continuing to treat $\\textbf{a}$ as a vector, we can write $\\sum_i a_i^\\dagger a_i = \\textbf{a}^\\dagger \\cdot \\textbf{a}$\n",
    "\n",
    "Then \n",
    "\n",
    "$$\n",
    "\\textbf{b}^\\dagger \\cdot \\textbf{b} = (U\\textbf{a})^\\dagger \\cdot U\\textbf{a} =\n",
    "\\textbf{a}^\\dagger \\cdot U^\\dagger U\\textbf{a} =  \n",
    "\\textbf{a}^\\dagger \\cdot \\textbf{a}\n",
    "$$\n",
    "\n",
    "from which the invariance of the Hamiltonia follows."
   ]
  },
  {
   "cell_type": "code",
   "execution_count": null,
   "id": "0b0fe1b2-2818-4c2e-974f-04f7a8a89122",
   "metadata": {},
   "outputs": [],
   "source": []
  }
 ],
 "metadata": {
  "kernelspec": {
   "display_name": "physics-with-friends",
   "language": "python",
   "name": "physics-with-friends"
  },
  "language_info": {
   "codemirror_mode": {
    "name": "ipython",
    "version": 3
   },
   "file_extension": ".py",
   "mimetype": "text/x-python",
   "name": "python",
   "nbconvert_exporter": "python",
   "pygments_lexer": "ipython3",
   "version": "3.10.9"
  },
  "widgets": {
   "application/vnd.jupyter.widget-state+json": {
    "state": {},
    "version_major": 2,
    "version_minor": 0
   }
  }
 },
 "nbformat": 4,
 "nbformat_minor": 5
}
