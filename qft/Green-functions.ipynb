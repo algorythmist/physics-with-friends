{
 "cells": [
  {
   "cell_type": "markdown",
   "id": "8f889e59-952a-47e5-8d8b-27bbfb44011e",
   "metadata": {},
   "source": [
    "# Green Functions\n",
    "\n",
    "We want to solve the equation\n",
    "\n",
    "$$\n",
    "L\\phi(x) = f(x) \\text{ plus boundary conditions}\n",
    "$$\n",
    "\n",
    "Where $L$ is a linear differential operator whose domain is implicitly determined by the boundary conditions.\n",
    "\n",
    "If we find a function $G(x,y)$ that satisfies\n",
    "\n",
    "$$\n",
    "LG(x,y) = \\delta(x,y)\n",
    "$$\n",
    "\n",
    "given the boundary conditions, then the solution to the original problem is given by\n",
    "\n",
    "$$\n",
    "\\phi(x) = \\int dy G(x,y)f(y)\n",
    "$$\n",
    "\n",
    "This works for ordinary and partial differential equations."
   ]
  },
  {
   "cell_type": "markdown",
   "id": "ef50b5a9-818a-45a2-8554-ae06e5453842",
   "metadata": {},
   "source": [
    "### Example: Green's function for the KG equation\n",
    "\n",
    "$$\n",
    "(\\square + m^2)G(x,y) = \\delta(x-y) \\tag{1}\n",
    "$$\n",
    "\n",
    "Define the one-sided Fourier Transform of the Green function as \n",
    "\n",
    "$$\n",
    "\\tilde{G}(k,y) := \\int dx e^{-ikx}G(x,y)\n",
    "$$\n",
    "\n",
    "A property of the FT, easily obtained by integration by parts is that \n",
    "\n",
    "$$\n",
    "\\tilde{\\partial^2\\phi}(x) = -k^2\\tilde{\\phi}(k) \\text{  where  } k^2 = k^\\mu k_\\mu\n",
    "$$\n",
    "\n",
    "Taking the FT of both sides of (1):\n",
    "\n",
    "$$\n",
    "(-k^2+m^2)\\tilde{G}(k,y) = e^{-iky} \\implies \\tilde{G}(k,y) = \\frac{e^{-iky}}{-k^2+m^2}\n",
    "$$\n",
    "\n",
    "and inverting the FT, we finally get\n",
    "\n",
    "$$\n",
    "G(x,y) = \\int \\frac{d^4 k}{(2\\pi)^4} \\frac{e^{-ik(x-y)}}{-k^2+m^2}\n",
    "$$\n",
    "\n",
    "Contour integration yields the solution\n",
    "\n",
    "$$\n",
    "G(x,y) = \\frac{e^{-mr}}{4\\pi r}\n",
    "$$\n"
   ]
  },
  {
   "cell_type": "markdown",
   "id": "cc8db810-ad00-4ffa-8b9a-3cf20aeecebe",
   "metadata": {},
   "source": [
    "## Kelin Gordon with self interactions\n",
    "\n",
    "In the presence of a potential $V(\\phi)$, the KG Langrangian becomes\n",
    "\n",
    "$$\n",
    "\\mathcal{L} = \\frac{1}{2}\\left(\\partial_\\mu\\phi\\partial^\\mu\\phi - m^2\\phi^2 + V(\\phi)\\right) \n",
    "$$\n",
    "\n",
    "and the KG equation becomes\n",
    "\n",
    "$$\n",
    "(\\square + m^2)\\phi = V'(\\phi)\n",
    "$$\n",
    "\n",
    "where $V'(\\phi) = \\frac{\\partial V}{\\partial \\phi}$"
   ]
  },
  {
   "cell_type": "markdown",
   "id": "40e8d4e9-3eff-49ec-8afc-2d2f6a17588c",
   "metadata": {},
   "source": [
    "Whereas the Green function method works for this equation, we get as a solution\n",
    "\n",
    "$$\n",
    "\\phi(x) = \\int dy G(x,y) V'(\\phi(y))\n",
    "$$\n",
    "\n",
    "which is an integral equation in $\\phi$.\n",
    "\n",
    "So, we have simply transformed a hard problem into another hard problem..."
   ]
  },
  {
   "cell_type": "markdown",
   "id": "538a85c9-c528-42cf-beee-1d16bd82e373",
   "metadata": {},
   "source": [
    "# Petrubation Theory\n",
    "\n",
    "Consider the self-interaction Lagrangian\n",
    "\n",
    "$$\n",
    "\\mathcal{L} = \\frac{1}{2}\\left(\\partial_\\mu\\phi\\partial^\\mu\\phi - m^2\\phi^2 +\\frac{1}{4!}\\lambda\\phi^4\\right) \n",
    "$$\n",
    "\n",
    "leading to the driven KG equation\n",
    "\n",
    "$$\n",
    "(\\square + m^2)\\phi = \\frac{1}{3!}\\lambda\\phi^3\n",
    "$$\n"
   ]
  },
  {
   "cell_type": "markdown",
   "id": "db5f8651-0be7-47e7-8425-63b0c2a52278",
   "metadata": {},
   "source": [
    "Assume $\\lambda$ is small and we can write the general solution as an expansion\n",
    "\n",
    "$$\n",
    "\\phi(x) = \\sum_{n=0}^\\infty \\lambda^n \\phi_n(x)\n",
    "$$\n",
    "\n",
    "Then we can write \n",
    "\n",
    "$$\n",
    "\\sum_{n=0}^\\infty \\lambda^n L\\phi_n =  \\frac{1}{3!}\\lambda (\\sum_{n=0}^\\infty\\phi_n)^3 = \\frac{1}{3!} \\lambda \\phi_0^3 + \\frac{1}{2} \\lambda^2 \\phi_0^2 \\phi_1 + \\frac{1}{2} \\lambda^3 \\phi_0 \\phi_1^2 + \\frac{1}{3!} \\lambda^4 \\phi_1^3 + \\dots \n",
    "$$"
   ]
  },
  {
   "cell_type": "markdown",
   "id": "02f0bf9e-04c3-43c0-843c-8a398212b5dd",
   "metadata": {},
   "source": [
    "By equation terms of the same order of $\\lambda$, we get the sequence of equations\n",
    "\n",
    "$$\n",
    "\\begin{aligned}\n",
    "\\left( \\partial_\\mu \\partial^\\mu + \\mu^2 \\right) \\phi_0 &= 0  && \\text{all terms without } \\lambda \\\\\n",
    "\\left( \\partial_\\mu \\partial^\\mu + \\mu^2 \\right) \\phi_1 &= \\frac{1}{3!} \\phi_0^3  && \\text{all terms} \\propto \\lambda^1 \\\\\n",
    "\\left( \\partial_\\mu \\partial^\\mu + \\mu^2 \\right) \\phi_2 &= \\frac{1}{2} \\phi_0^2 \\phi_1  && \\text{all terms} \\propto \\lambda^2 \\\\\n",
    "&\\vdots\n",
    "\\end{aligned}\n",
    "$$"
   ]
  },
  {
   "cell_type": "code",
   "execution_count": null,
   "id": "8c598166-29b7-4967-b211-a5998caaa8d0",
   "metadata": {},
   "outputs": [],
   "source": []
  }
 ],
 "metadata": {
  "kernelspec": {
   "display_name": "physics-with-friends",
   "language": "python",
   "name": "physics-with-friends"
  },
  "language_info": {
   "codemirror_mode": {
    "name": "ipython",
    "version": 3
   },
   "file_extension": ".py",
   "mimetype": "text/x-python",
   "name": "python",
   "nbconvert_exporter": "python",
   "pygments_lexer": "ipython3",
   "version": "3.11.9"
  }
 },
 "nbformat": 4,
 "nbformat_minor": 5
}
