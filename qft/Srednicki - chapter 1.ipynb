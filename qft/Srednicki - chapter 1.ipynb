{
 "cells": [
  {
   "cell_type": "markdown",
   "id": "1b22dc87-c125-4cbf-ab7f-2b3194dca1f6",
   "metadata": {},
   "source": [
    "# Srednicki QFT - Chapter 1 Exercises\n"
   ]
  },
  {
   "cell_type": "markdown",
   "id": "20d954a2-9f28-4684-a112-7b013689df27",
   "metadata": {},
   "source": [
    "#### Latex: Define bras, kets, brackets\n",
    "$\n",
    "\\newcommand{\\ket}[1]{\\left|{#1}\\right\\rangle}\n",
    "\\newcommand{\\bra}[1]{\\left\\langle{#1}\\right|}\n",
    "\\newcommand{\\braket}[2]{\\left\\langle{#1}\\middle|{#2}\\right\\rangle}\n",
    "$"
   ]
  },
  {
   "cell_type": "markdown",
   "id": "cffe2b40-b140-4af1-b5d4-556b1f2bf86c",
   "metadata": {},
   "source": [
    "## Attempts at relativistic QFT\n",
    "\n",
    "- The Klein Gordon Equation does not preserve the probability\n",
    "\n",
    "\n",
    "$$\n",
    "H = cP_j a^j + mc^2 b\n",
    "$$\n",
    "\n",
    "$$\n",
    "\\{a^j, a^k\\} = 2\\delta^{jk} I, \\{a^j,b\\} = 0, b^2 = I\n",
    "$$"
   ]
  },
  {
   "cell_type": "markdown",
   "id": "5554ee75-f659-47fd-a3a1-5740efd2d215",
   "metadata": {},
   "source": [
    "$$\n",
    "i\\hbar \\frac{\\partial}{\\partial t} \\psi = \\left[ \\sum_{j=1}^{n} \\left( -\\frac{\\hbar^2}{2m} \\nabla_j^2 + U(x_j) \\right) + \\sum_{j=1}^{n} \\sum_{k=1}^{j-1} V(x_j - x_k) \\right] \\psi \\tag{1.30}\n",
    "$$"
   ]
  },
  {
   "cell_type": "markdown",
   "id": "35f1a7a9-ce8f-4174-bdeb-62fac270bea9",
   "metadata": {},
   "source": [
    "\\begin{equation}\n",
    "\\begin{aligned}\\\\\n",
    "[a(\\mathbf{x}), a(\\mathbf{x}')] &= 0,\\\\\n",
    "[a^\\dagger(\\mathbf{x}), a^\\dagger(\\mathbf{x}')] &= 0,\\\\\n",
    "[a(\\mathbf{x}), a^\\dagger(\\mathbf{x}')] &= \\delta^3(\\mathbf{x} - \\mathbf{x}'),\n",
    "\\end{aligned}\n",
    "\\tag{1.31}\n",
    "\\end{equation}\n"
   ]
  },
  {
   "cell_type": "markdown",
   "id": "b464bfb5-662a-453c-b9d7-f8e27b3dc70e",
   "metadata": {},
   "source": [
    "\\begin{equation}\n",
    "\\begin{aligned}\n",
    "H &= \\int d^3x \\, a^\\dagger(\\mathbf{x}) \\left( -\\frac{\\hbar^2}{2m} \\nabla^2 + U(\\mathbf{x}) \\right) a(\\mathbf{x}) \\\\\n",
    "&\\quad + \\frac{1}{2} \\int d^3x \\, d^3y \\, V(\\mathbf{x} - \\mathbf{y}) a^\\dagger(\\mathbf{x}) a^\\dagger(\\mathbf{y}) a(\\mathbf{y}) a(\\mathbf{x}) .\n",
    "\\end{aligned}\n",
    "\\tag{1.32}\n",
    "\\end{equation}"
   ]
  },
  {
   "cell_type": "markdown",
   "id": "53995177-ecae-4c5b-b692-8c238938360a",
   "metadata": {},
   "source": [
    "\\begin{equation}\n",
    "|\\psi, t\\rangle = \\int d^3x_1 \\ldots d^3x_n \\, \\psi(\\mathbf{x}_1, \\ldots, \\mathbf{x}_n; t) a^\\dagger(\\mathbf{x}_1) \\ldots a^\\dagger(\\mathbf{x}_n) |0\\rangle\n",
    "\\tag{1.33}\n",
    "\\end{equation}\n"
   ]
  },
  {
   "cell_type": "markdown",
   "id": "bdc1e4c1-92d7-4207-8182-ac89b855daf1",
   "metadata": {},
   "source": [
    "\\begin{equation}\n",
    "N = \\int d^3x \\, a^\\dagger(\\mathbf{x}) a(\\mathbf{x})\n",
    "\\tag{1.35}\n",
    "\\end{equation}\n"
   ]
  },
  {
   "attachments": {},
   "cell_type": "markdown",
   "id": "30cf7695-d96e-4c86-8999-de57b14d5102",
   "metadata": {},
   "source": [
    "\\begin{equation}\n",
    "\\begin{aligned}\n",
    "\\{a(\\mathbf{x}), a(\\mathbf{x}')\\} &= 0, \\\\\n",
    "\\{a^\\dagger(\\mathbf{x}), a^\\dagger(\\mathbf{x}')\\} &= 0, \\\\\n",
    "\\{a(\\mathbf{x}), a^\\dagger(\\mathbf{x}')\\} &= \\delta^3(\\mathbf{x} - \\mathbf{x}'),\n",
    "\\end{aligned}\n",
    "\\tag{1.38}\n",
    "\\end{equation}\n"
   ]
  },
  {
   "cell_type": "markdown",
   "id": "d045d26b-e8be-4227-a822-3a2f389e18f8",
   "metadata": {},
   "source": [
    "### Exercise 1.1\n",
    "\n",
    "Show that the Dirac matrices must be even dimensional\n",
    "\n",
    "#### Solution\n",
    "\n",
    "From the properties of the Dirac matrices, we have $b^2 = I $ and $(a^j)^2 = I, \\forall j$.\n",
    "This implies that the eignevalues of $b$ and $a^j$ are $\\pm 1$.\n",
    "\n",
    "From the second property, we also have $a^j b = - ba^j$.\n",
    "\n",
    "$$\n",
    "Tr(b) = Tr((a^j)^2  b) = -Tr(a^j b a^j) = - Tr(b (a^j)^2) = -Tr(b)\n",
    "$$\n",
    "\n",
    "From which it follows that $Tr(b) = 0$. The exact same argument shows that $Tr(a^j) = 0, \\forall j$.\n",
    "\n",
    "Since the eignevalues are $\\pm 1$ and the trace is 0, there must be as many positive eigenvalues as there are negative, so the dimension of the matrix "
   ]
  },
  {
   "cell_type": "markdown",
   "id": "34ce397f-d7a6-47ad-a833-6974a3895e35",
   "metadata": {},
   "source": [
    "### Exercise 1.3\n",
    "\n",
    "Show $[N,H] = 0$\n",
    "\n",
    "#### Solution\n",
    "\n",
    "\\begin{equation}\n",
    "\\begin{aligned}\\\\\n",
    "[N(x), a^\\dagger(y)] &= \\left[ \\int d^3x a^\\dagger(x)a(x), a^\\dagger(y) \\right] \\\\\n",
    "[N(x), a^\\dagger(y)] &= \\int d^3x \\left( [a^\\dagger(x), a^\\dagger(y)]a(x) + a^\\dagger(x)[a(x), a^\\dagger(y)] \\right)\\\\\n",
    "&= \\int d^3x \\left(a^\\dagger(x)\\delta(x-y)\\right) = a^\\dagger(y)\n",
    "\\end{aligned}\n",
    "\\end{equation}\n",
    "\n",
    "whereas, $[N(x), a(y)] = 0$ because $[a(x),a(y)] = 0$.\n",
    "\n",
    "So, we have $[N(X), a^\\dagger(y)a(y)] = a^\\dagger(y)[N(x), a(y)] + [N(x), a^\\dagger(y)]a(y)= a^\\dagger(y)a(y)$\n"
   ]
  },
  {
   "cell_type": "code",
   "execution_count": null,
   "id": "1faac813-bbf2-4fbd-a7eb-5fc31ae2179d",
   "metadata": {},
   "outputs": [],
   "source": []
  }
 ],
 "metadata": {
  "kernelspec": {
   "display_name": "physics-with-friends",
   "language": "python",
   "name": "physics-with-friends"
  },
  "language_info": {
   "codemirror_mode": {
    "name": "ipython",
    "version": 3
   },
   "file_extension": ".py",
   "mimetype": "text/x-python",
   "name": "python",
   "nbconvert_exporter": "python",
   "pygments_lexer": "ipython3",
   "version": "3.10.13"
  },
  "widgets": {
   "application/vnd.jupyter.widget-state+json": {
    "state": {},
    "version_major": 2,
    "version_minor": 0
   }
  }
 },
 "nbformat": 4,
 "nbformat_minor": 5
}
