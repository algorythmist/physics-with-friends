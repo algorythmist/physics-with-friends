{
 "cells": [
  {
   "cell_type": "markdown",
   "id": "e1ac8585-141c-4876-a0f7-58372c65f670",
   "metadata": {},
   "source": [
    "# QFT for the Gifted Amateur - Chapter 16 Exercises\n",
    "\n",
    "$\n",
    "\\newcommand{\\ket}[1]{\\left|{#1}\\right\\rangle}\n",
    "\\newcommand{\\bra}[1]{\\left\\langle{#1}\\right|}\n",
    "\\newcommand{\\braket}[2]{\\left\\langle{#1}\\middle|{#2}\\right\\rangle}\n",
    "$"
   ]
  },
  {
   "cell_type": "markdown",
   "id": "5dbc418b-fbc5-4cf9-8f7c-ce59798872c5",
   "metadata": {},
   "source": [
    "## Free field Greens Functions in different spaces\n",
    "\n",
    "$$\n",
    "G_0^+(x_1, t_1, x_2, t_2) = \\theta(t_1 - t_2)\\sum_n \\phi_n(x_1)\\phi^*_n(x_2)e^{-iE_n(t_1-t_2)}\n",
    "$$\n",
    "\n",
    "$$\n",
    "G_0^+(x_1,x_2,E) = \\sum_n \\frac{i\\phi_n(x_1)\\phi^*_n(x_2)}{E-E_n+i\\epsilon}\n",
    "$$\n",
    "\n",
    "$$\n",
    "G_0^+(p, t_1, t2) = \\theta(t_1 - t_2)e^{-iE_p(t_1-t_2)}\n",
    "$$\n",
    "\n",
    "$$\n",
    "G_0^+(p,E) = \\frac{i}{E-E_p+i\\epsilon}\n",
    "$$"
   ]
  },
  {
   "cell_type": "markdown",
   "id": "69604a36-c8f5-42e8-b6da-f87d6a72a63f",
   "metadata": {},
   "source": [
    "### Exercise 16.1\n",
    "\n",
    "#### Solution\n",
    "\n",
    "a) From elementary QM: $ E_n = \\frac{n^2 \\pi^2}{2ma^2} $\n",
    "\n",
    "b) Substitute this in the expression for $G_0^+(p, t_1, t2)$"
   ]
  },
  {
   "cell_type": "markdown",
   "id": "4e923601-daf6-4831-9c77-4b8720efdf24",
   "metadata": {},
   "source": [
    "### Exercise 16.2\n",
    "\n",
    "\n",
    "#### Solution\n",
    "\n",
    "**Part a:**\n",
    "\n",
    "Setting $t_1 = t, t_2=0$, we rewrite the space-time Green function\n",
    "\n",
    "$$\n",
    "G_0^+(x_1, x_2; t) = \\theta(t)\\sum_n \\phi_n(x_1)\\phi^*_n(x_2)e^{-iE_n t}\n",
    "$$\n",
    "\n",
    "and take the Fourier Transform to convert to energy space\n",
    "\n",
    "$$\n",
    "G_0^+(x_1, x_2; E) = \\int_0^\\infty dt \\sum_n \\phi_n(x_1)\\phi^*_n(x_2)e^{-iE_n t}e^{iEt}\n",
    "$$\n",
    "\n",
    "Now add the dumping factor\n",
    "\n",
    "$$\n",
    "G_0^+(x_1, x_2; E) =  \\sum_n \\phi_n(x_1)\\phi^*_n(x_2)\\int_0^\\infty dte^{i(E-E_n)t}e^{-\\epsilon t} = \\sum_n \\frac{i\\phi_n(x_1)\\phi^*_n(x_2)}{E-E_n+i\\epsilon}\n",
    "$$"
   ]
  },
  {
   "cell_type": "markdown",
   "id": "4d5ef65b-908d-4597-84dc-9a9a1dbcb658",
   "metadata": {},
   "source": [
    "### Exercise 16.3\n",
    "\n",
    "\n",
    "#### Solution\n",
    "\n",
    "**Part b:**\n",
    "\n",
    "set $F(w) = 1$ and take integral over $\\omega$ (divided by $2\\pi$) over both sides of the equation. This is still a solution because it a linear superposition of solutions.\n",
    "\n",
    "The RHS, becomes\n",
    "\n",
    "$$\n",
    "\\frac{1}{2\\pi}\\int d\\omega e^{-i\\omega(t-u)} = \\delta(t-u)\n",
    "$$\n",
    "\n",
    "whereas on the LHS (with B(t) = 0)\n",
    "\n",
    "$$\n",
    "\\frac{1}{2\\pi}\\int d\\omega A(t-u;\\omega) = \\frac{-1}{2\\pi m}\\int d\\omega \\frac{ e^{-i\\omega(t-u)}}{\\omega^2-\\omega^2_0}\n",
    "$$\n",
    "\n",
    "so this expression must be the Green's function.\n",
    "\n",
    "**Part C:**\n",
    "\n",
    "Starting with $G_0^+(p, t) = \\theta(t)e^{-iE_pt}$ we take the inverse FT\n",
    "\n",
    "$$\n",
    "G^+(p,t) = \\int dt e^{iEt} i\\int (dz/2\\pi)\\frac{e^{-izt}}{z+i\\epsilon}e^{-iE_p t} = \n",
    "i \\int dz \\frac{1}{z+i\\epsilon} \\frac{1}{2\\pi}\\int dt e^{i(E-E_p - z)}\n",
    "$$\n",
    "\n",
    "We recognize the last integral as the delta funtion $\\delta(E-Ep-z)$ and douing the integral over z, we get\n",
    "\n",
    "$$\n",
    "G^+(p,t) =  \\frac{i}{E-E_p+i\\epsilon}\n",
    "$$"
   ]
  },
  {
   "cell_type": "markdown",
   "id": "e6baa913-8631-4ece-abcf-97d19868c724",
   "metadata": {},
   "source": [
    "### Exercise 16.4\n",
    "\n",
    "\n",
    "#### Solution\n",
    "\n",
    "**Part a:**\n",
    "\n",
    "Each partial derivative $\\partial/\\partial_x$ brings down an $-iq_x$, so that after two derivative applications each dimension contributes $-q_x^2$,\n",
    "so that \n",
    "\n",
    "$$\n",
    "(-q^2+k^2)G_k(q) = 1 \\implies G_k(q)  = \\frac{1}{k^2 - q^2}\n",
    "$$"
   ]
  },
  {
   "cell_type": "code",
   "execution_count": null,
   "id": "7b8ad03c-9b6a-4bb3-bc22-d7b96ba4761a",
   "metadata": {},
   "outputs": [],
   "source": []
  }
 ],
 "metadata": {
  "kernelspec": {
   "display_name": "physics-with-friends",
   "language": "python",
   "name": "physics-with-friends"
  },
  "language_info": {
   "codemirror_mode": {
    "name": "ipython",
    "version": 3
   },
   "file_extension": ".py",
   "mimetype": "text/x-python",
   "name": "python",
   "nbconvert_exporter": "python",
   "pygments_lexer": "ipython3",
   "version": "3.11.9"
  },
  "widgets": {
   "application/vnd.jupyter.widget-state+json": {
    "state": {},
    "version_major": 2,
    "version_minor": 0
   }
  }
 },
 "nbformat": 4,
 "nbformat_minor": 5
}
