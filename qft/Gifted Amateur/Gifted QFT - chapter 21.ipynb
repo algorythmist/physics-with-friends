{
 "cells": [
  {
   "cell_type": "markdown",
   "id": "8635ad39-6176-4693-b8e1-72fc41cc78ac",
   "metadata": {},
   "source": [
    "# QFT for the Gifted Amateur - Chapter 21\n",
    "\n",
    "$\n",
    "\\newcommand{\\ket}[1]{\\left|{#1}\\right\\rangle}\n",
    "\\newcommand{\\bra}[1]{\\left\\langle{#1}\\right|}\n",
    "\\newcommand{\\braket}[2]{\\left\\langle{#1}\\middle|{#2}\\right\\rangle}\n",
    "\\newcommand{slash}[1]{\\not\\!{#1}}\n",
    "$"
   ]
  },
  {
   "cell_type": "markdown",
   "id": "6f47b1d7-7553-48b5-9d12-7249ee4814e8",
   "metadata": {},
   "source": [
    "### Exercise 21.1\n",
    "\n",
    "for the Harmonic oscillator, we have\n",
    "\n",
    "$$\n",
    "Z  =  tr[e^{-\\beta H}] = tr[e^{-\\beta\\omega n}] = \\sum_{n=0}^\\infty e^{-\\beta\\omega n} = \\frac{1}{1-e^{-\\beta\\omega}}\n",
    "$$"
   ]
  },
  {
   "cell_type": "markdown",
   "id": "8a88f391-71f9-472d-a377-bc92ca54b327",
   "metadata": {},
   "source": [
    "$$\n",
    "<n> = Tr[\\rho n] = Tr[n e^{-\\beta\\omega n/Z}] =  \\sum_{n=0}^\\infty n e^{-\\beta\\omega n/Z}\n",
    "$$"
   ]
  },
  {
   "cell_type": "markdown",
   "id": "8b672bd4-58eb-4ec5-a08d-3f3517f53b2a",
   "metadata": {},
   "source": [
    "we can use the derivative trick to wrie this as \n",
    "\n",
    "$$\n",
    "\\frac{Z}{\\omega}\\frac{d}{d\\beta} \\sum_{n=0}^\\infty e^{-\\beta\\omega n/Z} = \\frac{Z}{\\omega}\\frac{d}{d\\beta}\\frac{1}{1-e^{-\\beta\\omega}} = \n",
    "\\frac{Z}{\\omega}\\frac{-\\omega e^{-\\beta\\omega}}{Z^2} = -\\frac{ e^{-\\beta\\omega}}{1-e^{-\\beta\\omega}} = \\frac{1}{e^{\\beta\\omega}-1}\n",
    "$$"
   ]
  },
  {
   "cell_type": "code",
   "execution_count": null,
   "id": "7ed98e0c-a040-4ef6-a9f7-ad113d8a81da",
   "metadata": {},
   "outputs": [],
   "source": []
  }
 ],
 "metadata": {
  "kernelspec": {
   "display_name": "physics-with-friends",
   "language": "python",
   "name": "physics-with-friends"
  },
  "language_info": {
   "codemirror_mode": {
    "name": "ipython",
    "version": 3
   },
   "file_extension": ".py",
   "mimetype": "text/x-python",
   "name": "python",
   "nbconvert_exporter": "python",
   "pygments_lexer": "ipython3",
   "version": "3.11.9"
  },
  "widgets": {
   "application/vnd.jupyter.widget-state+json": {
    "state": {},
    "version_major": 2,
    "version_minor": 0
   }
  }
 },
 "nbformat": 4,
 "nbformat_minor": 5
}
