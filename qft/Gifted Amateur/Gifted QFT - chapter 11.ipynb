{
 "cells": [
  {
   "cell_type": "markdown",
   "id": "e1ac8585-141c-4876-a0f7-58372c65f670",
   "metadata": {},
   "source": [
    "# QFT for the Gifted Amateur - Chapter 11 Exercises\n",
    "\n",
    "$\n",
    "\\newcommand{\\ket}[1]{\\left|{#1}\\right\\rangle}\n",
    "\\newcommand{\\bra}[1]{\\left\\langle{#1}\\right|}\n",
    "\\newcommand{\\braket}[2]{\\left\\langle{#1}\\middle|{#2}\\right\\rangle}\n",
    "$"
   ]
  },
  {
   "cell_type": "markdown",
   "id": "d3bbc8a2-4bdf-4af6-9fd7-f77f479d0d14",
   "metadata": {},
   "source": [
    "## Canonical Quantization\n",
    "\n",
    "- Step 1: Write down the classical Lagrangian for the field.\n",
    "- Step 2: Calculate the momentum density and the Hamiltonian\n",
    "- Step 3: Convert the fields to operators and impose (anti)commutation relations\n",
    "- Step 4: Expand the fields in terms of creation and annihilation operators\n",
    "- Step 5: Use normal ordering to compute the Hamiltonian operator\n"
   ]
  },
  {
   "cell_type": "markdown",
   "id": "4e923601-daf6-4831-9c77-4b8720efdf24",
   "metadata": {},
   "source": [
    "### Exercise 11.1\n",
    "\n",
    "$$\n",
    "[\\phi(x),\\phi(y)] = \\frac{1}{(2\\pi)^3}\\int\\int \\frac{dp}{(2E_p)^{1/2}} \\frac{dp'}{(2E_p')^{1/2}}[a(p)e^{-ipx} +a^\\dagger(p)e^{ipx},\n",
    "a(p')e^{-ip'y} +a^\\dagger(p')e^{ip'y}]\n",
    "$$\n",
    "\n",
    "The only terms that survice are $[a,a^\\dagger]$ and $[a^\\dagger,a]$, so:\n",
    "\n",
    "$$\n",
    "\\frac{1}{(2\\pi)^3}\\int\\int \\frac{dp}{(2E_p)^{1/2}} \\frac{dp'}{(2E_p')^{1/2}}\\left([a(p),a^\\dagger(p')]e^{-ipx}e^{ip'y} +\n",
    "[a^\\dagger(p),a(p')]e^{-ipx}e^{ip'y}\\right) = \n",
    "\\frac{1}{(2\\pi)^3}\\int\\int \\frac{dp}{(2E_p)^{1/2}} \\frac{dp'}{(2E_p')^{1/2}} \\left(\\delta(p-p')e^{-ipx}e^{ip'y} - \\delta(p-p')e^{-ipx}e^{ip'y}\\right)=\n",
    "$$\n"
   ]
  },
  {
   "cell_type": "markdown",
   "id": "16fe4737-eb72-4e67-b232-1d185a069720",
   "metadata": {},
   "source": [
    "$$\n",
    "\\frac{1}{(2\\pi)^3}\\int \\frac{dp}{2E_p}\\left(e^{-ip(x-y)} - e^{-ip(y-x)} \\right)\n",
    "$$"
   ]
  },
  {
   "cell_type": "markdown",
   "id": "afebdb19-5c03-4361-8b16-7bfad4adfbac",
   "metadata": {},
   "source": [
    "### Exercise 11.2\n",
    "\n",
    "For the Klein Gordon field, we have \n",
    "\n",
    "$$\n",
    "\\Pi^0 = \\partial_0 \\phi = \\int \\frac{dp}{(2E_p)^{1/2}} \\left( (-iE_p) a(p)e^{-ipx} + (iE_p) a^\\dagger(p)e^{ipx} \\right) =\n",
    "-i \\int dp \\sqrt{E_p/2}  \\left(a(p)e^{-ipx} - a^\\dagger(p)e^{ipx} \\right)\n",
    "$$\n",
    "\n",
    "Therefore \n",
    "\n",
    "$$\n",
    "[\\phi(t,x),\\Pi^0(t,y)] = \\frac{1}{(2\\pi)^3}\\frac{i}{2}\\int\\int dp dp'\\left([a(p),a^\\dagger(p')]e^{-ipx}e^{ip'y} +\n",
    "[a^\\dagger(p),a(p')]e^{-ipx}e^{ip'y}\\right) =  \\frac{1}{(2\\pi)^3}\\frac{i}{2}\\int dp \\left(e^{-ip(x-y)} - e^{-ip(y-x)} \\right) =\n",
    "\\frac{i}{(2\\pi)^3} \\int dp e^{-ip(x-y)} = i\\delta(x-y)\n",
    "$$"
   ]
  }
 ],
 "metadata": {
  "kernelspec": {
   "display_name": "physics-with-friends",
   "language": "python",
   "name": "physics-with-friends"
  },
  "language_info": {
   "codemirror_mode": {
    "name": "ipython",
    "version": 3
   },
   "file_extension": ".py",
   "mimetype": "text/x-python",
   "name": "python",
   "nbconvert_exporter": "python",
   "pygments_lexer": "ipython3",
   "version": "3.11.9"
  },
  "widgets": {
   "application/vnd.jupyter.widget-state+json": {
    "state": {},
    "version_major": 2,
    "version_minor": 0
   }
  }
 },
 "nbformat": 4,
 "nbformat_minor": 5
}
