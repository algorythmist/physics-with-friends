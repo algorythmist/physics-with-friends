{
 "cells": [
  {
   "cell_type": "markdown",
   "id": "8635ad39-6176-4693-b8e1-72fc41cc78ac",
   "metadata": {},
   "source": [
    "# QFT for the Gifted Amateur - Chapter 24\n",
    "\n",
    "$\n",
    "\\newcommand{\\ket}[1]{\\left|{#1}\\right\\rangle}\n",
    "\\newcommand{\\bra}[1]{\\left\\langle{#1}\\right|}\n",
    "\\newcommand{\\braket}[2]{\\left\\langle{#1}\\middle|{#2}\\right\\rangle}\n",
    "\\newcommand{slash}[1]{\\not\\!{#1}}\n",
    "$"
   ]
  },
  {
   "cell_type": "markdown",
   "id": "bd1a81bf-5785-4673-a96a-7f2b416b0fa4",
   "metadata": {},
   "source": [
    "#### Functional integrals\n",
    "\n",
    "$$\n",
    "Z[J] = \\int D[\\phi] e^{i\\int d^4 x (L_0+L_I+J\\phi)}\n",
    "$$\n",
    "\n",
    "\n"
   ]
  },
  {
   "cell_type": "markdown",
   "id": "fa07aab2-2b52-4a99-ab17-5bdab47c7fd4",
   "metadata": {},
   "source": [
    "#### Free Scalar Field\n",
    "\n",
    "$$\n",
    "Z_0[J] = \\int D[\\phi] e^{i/2\\int d^4 x\\{( \\phi_{,\\mu})^2-m^2\\phi^2\\} +i\\int d^4 x J\\phi }\n",
    "$$\n",
    "\n",
    "Integration by parts\n",
    "\n",
    "$$\n",
    "\\int d^4 x ( \\phi_{,\\mu})^2 = - \\int d^4 x \\phi \\partial^2 \\phi\n",
    "$$\n",
    "\n",
    "so $\\int L_0 = -\\int \\phi \\partial^2 \\phi + m^2\\phi^2 = -\\int \\phi(\\partial^2 +m^2)\\phi$\n",
    "\n",
    "set $A = -(\\partial^2 +m^2)$ and we have a Gaussian integral in infinite dimensions, where\n",
    "\n",
    "$J^T A^{-1}J = \\int dx dy J(x) A^{-1}(x,y)J(y)$"
   ]
  },
  {
   "cell_type": "markdown",
   "id": "9da1e901-01ee-4c30-8df8-1a306fad5dff",
   "metadata": {},
   "source": [
    "Define $\\rlap{Z}-_0[J] = X[J]/Z[J=0]$ to absorb the infinite constant"
   ]
  },
  {
   "cell_type": "markdown",
   "id": "f96e2ebf-140b-4baa-b639-7aa77040f17d",
   "metadata": {},
   "source": [
    "$$\n",
    "iA^{-1}(x,y) = \\Delta(x,y) = \\int \\frac{d^4 p}{(2\\pi)^4} \\frac{ie^{-ip(x-y)}}{p^2-m^2+i\\epsilon}\n",
    "$$\n",
    "\n",
    "so that\n",
    "\n",
    "$$\n",
    "\\rlap{Z}-_0[J] = e^{-\\frac{i}{2}\\int J(x)\\Delta(x-y)J(y)}\n",
    "$$"
   ]
  },
  {
   "cell_type": "markdown",
   "id": "6f47b1d7-7553-48b5-9d12-7249ee4814e8",
   "metadata": {},
   "source": [
    "### Exercise 24.1\n",
    "\n",
    "a)\n",
    "\n",
    "For the first term, using integration by parts, and assuming vanishing fields at the boundary:\n",
    "\n",
    "$$\n",
    "\\int \\partial_\\mu A_\\nu \\partial^\\mu A^\\nu  = - \\int A_\\nu \\partial^2 A^\\nu = - \\int A^\\mu g_{\\mu\\nu} \\partial^2 A^\\nu = -\\int A^\\mu \\partial^2 g_{\\mu\\nu} A^\\nu\n",
    "$$\n",
    "\n",
    "For the second term:\n",
    "\n",
    "$$\n",
    "-\\int \\partial_\\mu A_\\nu \\partial^\\nu A^\\mu = \\int A^\\mu \\partial^\\nu \\partial_\\mu A_\\nu = \\int A^\\mu g^{\\mu k}\\partial_k\\partial_{\\mu} A_\\nu\n",
    "= \\int A^\\mu \\partial_k\\partial_{\\mu} A^k = \\int A^\\mu \\partial_\\mu\\partial_{\\nu} A^\\nu\n",
    "$$"
   ]
  },
  {
   "cell_type": "markdown",
   "id": "80b5df24-0f7f-486b-b8b7-2e6511b5fa0f",
   "metadata": {},
   "source": [
    "Consequently \n",
    "\n",
    "$$\n",
    "L = \\frac{1}{2}A^\\mu [(\\partial^2+m^2)g_{\\mu\\nu}-\\partial_\\mu \\partial_\\nu]A^\\nu\n",
    "$$"
   ]
  },
  {
   "cell_type": "markdown",
   "id": "c2d237bd-7551-4494-be9e-2d706a8b0c35",
   "metadata": {},
   "source": [
    "b)\n",
    "\n",
    "\\begin{eqnarray}\n",
    "\\left[-(p^2 - m^2)g^{\\mu\\nu} + p^\\mu p^\\nu\\right] \\tilde{G}_{0\\nu\\lambda}(p) &=&\n",
    "\\left[-(p^2 - m^2)g^{\\mu\\nu} + p^\\mu p^\\nu\\right][-i \\left( \\frac{g_{\\nu\\lambda} - \\frac{p_\\nu p_\\lambda}{m^2}}{p^2 - m^2} \\right)]\\\\\n",
    "&=& i[g^\\mu_\\lambda + p^\\mu p_\\lambda/m^2]-i[\\frac{p^\\mu p_\\lambda}{p^2-m^2} +\\frac{p^2}{m^2}\\frac{p^\\mu p_\\lambda}{p^2-m^2}]\\\\\n",
    "&=& i g^\\mu_\\lambda + ip^\\mu p_\\lambda[\\frac{1}{m^2} - \\frac{1}{p^2-m^2} - \\frac{p^2}{m^2}\\frac{1}{p^2-m^2}]\\\\\n",
    "&=& i g^\\mu_\\lambda\n",
    "\\end{eqnarray}}\n"
   ]
  },
  {
   "cell_type": "code",
   "execution_count": null,
   "id": "8d5618c0-ccf0-453b-b4d5-9b5963277d42",
   "metadata": {},
   "outputs": [],
   "source": []
  }
 ],
 "metadata": {
  "kernelspec": {
   "display_name": "physics-with-friends",
   "language": "python",
   "name": "physics-with-friends"
  },
  "language_info": {
   "codemirror_mode": {
    "name": "ipython",
    "version": 3
   },
   "file_extension": ".py",
   "mimetype": "text/x-python",
   "name": "python",
   "nbconvert_exporter": "python",
   "pygments_lexer": "ipython3",
   "version": "3.11.9"
  },
  "widgets": {
   "application/vnd.jupyter.widget-state+json": {
    "state": {},
    "version_major": 2,
    "version_minor": 0
   }
  }
 },
 "nbformat": 4,
 "nbformat_minor": 5
}
