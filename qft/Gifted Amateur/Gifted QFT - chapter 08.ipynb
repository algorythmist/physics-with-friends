{
 "cells": [
  {
   "cell_type": "markdown",
   "id": "e1ac8585-141c-4876-a0f7-58372c65f670",
   "metadata": {},
   "source": [
    "# QFT for the Gifted Amateur - Chapter 8 Exercises\n",
    "\n",
    "$\n",
    "\\newcommand{\\ket}[1]{\\left|{#1}\\right\\rangle}\n",
    "\\newcommand{\\bra}[1]{\\left\\langle{#1}\\right|}\n",
    "\\newcommand{\\braket}[2]{\\left\\langle{#1}\\middle|{#2}\\right\\rangle}\n",
    "$"
   ]
  },
  {
   "cell_type": "markdown",
   "id": "8247831d-6595-429b-8015-5e141ebc9f43",
   "metadata": {},
   "source": [
    "The following Lie algebra identities will be used\n",
    "\n",
    "$$\n",
    "[A,BC] = [A,B]C + B[A,C]\n",
    "$$\n",
    "\n",
    "$$\n",
    "[AB,C] = [A,C]B + A[B,C]\n",
    "$$"
   ]
  },
  {
   "cell_type": "markdown",
   "id": "07cf978f-fbe7-41b9-af7a-723013641b86",
   "metadata": {},
   "source": [
    "Equation of motion in the Heisenberg picture\n",
    "\n",
    "$$\n",
    "\\frac{d}{dt}X(t) = -\\frac{i}{\\hbar}[X,H]\n",
    "$$"
   ]
  },
  {
   "cell_type": "markdown",
   "id": "4e923601-daf6-4831-9c77-4b8720efdf24",
   "metadata": {},
   "source": [
    "### Exercise 8.2\n",
    "\n",
    "\\begin{eqnarray}\n",
    "[a_k^\\dagger, H] = [a_k^\\dagger, \\sum_j E_j a_j^\\dagger a_j] = \\sum_j E_j[a_k^\\dagger,a_j^\\dagger a_j] = \\\\ \n",
    "\\sum_j E_j [a_k^\\dagger,a_j^\\dagger] a_j + a_j^\\dagger[a_k^\\dagger, a_j] = \\sum_j E_k (0 - a_j^\\dagger\\delta_{kj}] = -E_k a_k^\\dagger\n",
    "\\end{eqnarray}\n",
    "\n",
    "$$\n",
    "[a_k^\\dagger, H] = -E_k a_k^\\dagger\n",
    "$$\n",
    "\n",
    "Plugging into the equation of motion\n",
    "\n",
    "$$\n",
    "\\frac{d}{dt}a_k^\\dagger(t) = -\\frac{i}{\\hbar}[a_k^\\dagger, H]  = \\frac{i}{\\hbar}E_k a_k^\\dagger(t) \\implies\n",
    "a_k^\\dagger(t) = a_k^\\dagger(0)e^{iE_k t/\\hbar}\n",
    "$$\n",
    "\n",
    "Similarly, we compute \n",
    "\n",
    "$$\n",
    "[a_k, H] = E_k a_k \n",
    "$$\n",
    "\n",
    "from which\n",
    "\n",
    "$$\n",
    "\\frac{d}{dt}a_k(t) = -\\frac{i}{\\hbar}E_k a_k (t) \\implies a_k(t) = a_k(0) e^{-iE_k t/\\hbar}\n",
    "$$"
   ]
  },
  {
   "cell_type": "markdown",
   "id": "7ca6f8be-d22e-4b7e-9b79-e358ed977794",
   "metadata": {},
   "source": [
    "### Exercise 8.3\n",
    "\n",
    "$$\n",
    "[X,H] = X_{lm}[a_l^\\dagger a_m, H] = X_{lm}\\left( [a_l^\\dagger,H]a_m + a_l^\\dagger[a_m, H]\\right) = X_{lm}\\left(-E_l a_l^\\dagger a_m  + E_m a_l^\\dagger a_m \\right)\n",
    "$$\n",
    "\n",
    "$$\n",
    "[X,H] = X_{lm} (E_m - E_l) a_l^\\dagger a_m \n",
    "$$"
   ]
  },
  {
   "cell_type": "markdown",
   "id": "c47b5523-8433-46ef-bbd4-26b32540505c",
   "metadata": {},
   "source": [
    "By the equation of motion\n",
    "\n",
    "$$\n",
    "X_{lm} \\frac{d}{dt} X  = - \\frac{i}{\\hbar}X_{lm} (E_m - E_l) a_l^\\dagger a_m = - \\frac{i}{\\hbar}(E_m - E_l)X \\implies\n",
    "X(t) = X(0)e^{-i(E_m-E_l)t/\\hbar}\n",
    "$$"
   ]
  },
  {
   "cell_type": "code",
   "execution_count": null,
   "id": "c4f61933-6e9d-4c79-be28-3da1735549eb",
   "metadata": {},
   "outputs": [],
   "source": []
  }
 ],
 "metadata": {
  "kernelspec": {
   "display_name": "physics-with-friends",
   "language": "python",
   "name": "physics-with-friends"
  },
  "language_info": {
   "codemirror_mode": {
    "name": "ipython",
    "version": 3
   },
   "file_extension": ".py",
   "mimetype": "text/x-python",
   "name": "python",
   "nbconvert_exporter": "python",
   "pygments_lexer": "ipython3",
   "version": "3.10.13"
  },
  "widgets": {
   "application/vnd.jupyter.widget-state+json": {
    "state": {},
    "version_major": 2,
    "version_minor": 0
   }
  }
 },
 "nbformat": 4,
 "nbformat_minor": 5
}
