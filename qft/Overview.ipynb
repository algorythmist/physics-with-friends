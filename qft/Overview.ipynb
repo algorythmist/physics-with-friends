{
 "cells": [
  {
   "cell_type": "markdown",
   "id": "e5935eca-7c53-439e-9e96-39f61560cbbf",
   "metadata": {},
   "source": [
    "# Introduction and Overview \n",
    "\n",
    "$\n",
    "\\newcommand{\\ket}[1]{\\left|{#1}\\right\\rangle}\n",
    "\\newcommand{\\bra}[1]{\\left\\langle{#1}\\right|}\n",
    "\\newcommand{\\braket}[2]{\\left\\langle{#1}\\middle|{#2}\\right\\rangle}\n",
    "\\newcommand{\\slash}[1]{#1\\!\\!\\!/}\n",
    "$"
   ]
  },
  {
   "cell_type": "markdown",
   "id": "ef1966d0-61e0-469b-8eb3-1d6fd0f75c57",
   "metadata": {},
   "source": [
    "Quantum mechanics treats everything as a field. Particles and electromagnetic waves are described by wave equations alike. \n",
    "The Schrodinger equation is roughly the equivalent of Newton's equation in Classical Mechanics. It can solve a wide variety of problems as long as the system we are solving for is non-relativistic and relatively small.\n",
    "\n",
    "Schrodinger's equation is not invariant under Lorentz transformations. To incorporate Special Relativity we need to find field equations that are invariant. There should be at least one equation for each type of field: Scalar, Vector, Tensor, and Spinor. "
   ]
  },
  {
   "cell_type": "markdown",
   "id": "f014cbec-0a2f-45b0-8916-4c3a54d1875d",
   "metadata": {},
   "source": [
    "## Free Field equations and their Langrangians\n",
    "\n",
    "### Scalar Field\n",
    "\n",
    "$$\n",
    "\\mathcal{L}_S = \\frac{1}{2}(\\partial_\\mu\\phi\\partial^\\mu\\phi -m^w\\phi^2) \\rightarrow (\\partial^2+m^2)\\phi = 0\n",
    "$$\n",
    "\n",
    "### Spinor Field\n",
    "\n",
    "\n",
    "$$\n",
    "\\mathcal{L}_D = \\bar{\\psi}(i\\slash{\\partial}-m)\\psi \\rightarrow (i\\slash{\\partial}-m)\\psi = 0\n",
    "$$\n",
    "\n",
    "Where if we want to point out that $\\psi$ is actually a 4-component Dirac spinor, we write in explicit index notation $\\psi^\\alpha$.\n",
    "\n",
    "### Gauge Field\n",
    "\n",
    "$$\n",
    "\\mathcal{L}_P = -\\frac{1}{2}F_{\\mu\\nu}F^{\\mu\\nu} + m^2 A_\\mu A^\\mu = -\\frac{1}{2}(A^{\\nu,\\mu}A_{\\mu,\\nu} - A^{\\mu,\\nu}A_{\\nu,\\mu}) + m^2 A_\\mu A^\\mu\n",
    "$$\n",
    "\n",
    "Leading to the equation\n",
    "\n",
    "$$\n",
    "-\\partial_\\mu F^{\\mu\\nu} = m^2 A^{\\nu}\n",
    "$$"
   ]
  },
  {
   "cell_type": "markdown",
   "id": "a6bded64-ba5c-439f-8566-2bea299c526b",
   "metadata": {},
   "source": [
    "## Green's Functions\n",
    "\n",
    "We want to solve the equation\n",
    "\n",
    "$$\n",
    "L\\phi(x) = f(x) \\text{ plus boundary conditions}\n",
    "$$\n",
    "\n",
    "Where $L$ is a linear differential operator whose domain is implicitly determined by the boundary conditions.\n",
    "\n",
    "If we find a function $G(x,y)$ that satisfies\n",
    "\n",
    "$$\n",
    "LG(x,y) = \\delta(x,y)\n",
    "$$\n",
    "\n",
    "given the boundary conditions, then the solution to the original problem is given by\n",
    "\n",
    "$$\n",
    "\\phi(x) = \\int dy G(x,y)f(y)\n",
    "$$\n",
    "\n",
    "This works for ordinary and partial differential equations."
   ]
  },
  {
   "cell_type": "markdown",
   "id": "0562ad84-b53d-4477-b0e7-d0dd305cd791",
   "metadata": {},
   "source": [
    "### Scalar Field\n",
    "\n",
    "$$\n",
    "G_S(x,y) = \\int \\frac{d^4 k}{(2\\pi)^4} \\frac{e^{-ik(x-y)}}{-k^2+m^2}\n",
    "$$\n",
    "\n",
    "### Spinor Field\n",
    "\n",
    "$$\n",
    "G_D(x,y) = \\int \\frac{d^4 k}{(2\\pi)^4} e^{-ik(x-y)} \\frac{-\\slash{k}+m}{-k^2+m^2}\n",
    "$$\n",
    "\n",
    "With spinor indices\n",
    "\n",
    "$$\n",
    "G^{\\alpha\\beta}_D(x,y) = \\int \\frac{d^4 k}{(2\\pi)^4} e^{-ik(x-y)} \\frac{(-\\slash{k}+mI)^{\\alpha\\beta}}{-k^2+m^2}\n",
    "$$\n",
    "\n",
    "Where $G_D$ is the solution to \n",
    "\n",
    "$$\n",
    "(i\\slash{\\partial}-mI)^{\\alpha\\gamma}G^{\\gamma\\beta} = -\\delta(x-y)\\delta^{\\alpha\\beta}\n",
    "$$"
   ]
  },
  {
   "cell_type": "markdown",
   "id": "b59f7341-4285-446a-91e8-3ed94d23319a",
   "metadata": {},
   "source": [
    "### Gauge Field\n",
    "\n",
    "$$\n",
    "G^{\\mu\\nu}_P(x,y) = \\int \\frac{d^4 k}{(2\\pi)^4}  \\frac{e^{-ik(x-y)}}{-k^2+m^2} \\eta^{\\mu\\nu}\n",
    "$$\n",
    "\n",
    "where $\\eta^{\\mu\\nu}$ is the Minkowski metric."
   ]
  },
  {
   "cell_type": "markdown",
   "id": "2f2f33e3-9889-461a-b88d-6ac9f957459d",
   "metadata": {},
   "source": [
    "## Interactions\n",
    "\n",
    "Self-interactions of a field $\\phi$ are described by a Lagrangian $\\mathcal{L} = \\mathcal{L}_{Free} + V(\\phi)$\n",
    "\n",
    "Interactions between two fields $\\phi$ and $\\psi$ are described by a Lagrangian \n",
    "$\\mathcal{L} = \\mathcal{L}_{\\phi} + \\mathcal{L}_{\\psi} + V(\\phi, \\psi)$"
   ]
  },
  {
   "cell_type": "markdown",
   "id": "31ed0709-7e3c-4f0a-8e92-ee32b2c80f41",
   "metadata": {},
   "source": [
    "In both cases, we have to solve a problem of the form\n",
    "\n",
    "$$\n",
    "L\\psi(x) = V'(\\phi(x))\n",
    "$$\n",
    "\n",
    "The Green's function approach cannot by itself solve the problem because $\\phi$ appears on both sides.\n",
    "\n",
    "$$\n",
    "\\phi(x) = \\int dy G(x,y)V'(\\phi(y)) \\tag{1}\n",
    "$$"
   ]
  },
  {
   "cell_type": "markdown",
   "id": "eae733dc-e119-40a7-ac1c-36705ffbb6c9",
   "metadata": {},
   "source": [
    "### Source interactions\n",
    "\n",
    "Interactions of a field with an external source is a special case where we assume that the second field in the interaction is a known function $J(x)$ and the interaction term is given as a simple product $J(x)\\phi(x)$ in the scalar case, or $J^\\mu(x)A_\\mu(x)$ in the vector case.\n",
    "\n",
    "In these cases, Green's functions can be used to produce exact solutions.\n",
    "\n",
    "$$\n",
    "\\phi(x) = \\int dy G(x,y)J(y)\n",
    "$$\n"
   ]
  },
  {
   "cell_type": "markdown",
   "id": "53df806c-0421-4df7-862e-8e38d3b51c2d",
   "metadata": {},
   "source": [
    "### Petrubation ansatz \n",
    "\n",
    "In several cases of interest $V'(\\phi, \\psi) = \\lambda$* (some simple polynomial in $\\phi, \\psi$), where $\\lambda$ is, in some sense, small.\n",
    "\n",
    "We assume that the solution $\\phi(x)$ can be written in the form\n",
    "\n",
    "$$\n",
    "\\phi(x) = \\sum_{n=0}^\\infty \\lambda^n \\phi_n(x) = \\phi_0(x) + \\lambda\\phi_1(x) + \\lambda^2\\phi_2(x) + \\ldots \n",
    "$$\n",
    "\n",
    "Then by inserting this expansion in (1) we can successively evaluate $\\phi_0, \\phi_1$, etc."
   ]
  },
  {
   "cell_type": "markdown",
   "id": "f4bb85f6-9689-4321-b851-5b57dbb54562",
   "metadata": {},
   "source": [
    "Going back to a general interaction Lagrangian $\\mathcal{L} = \\mathcal{L}_{\\phi} + \\mathcal{L}_{\\psi} + V(\\phi, \\psi)$, \n",
    "we observe that it produces two sets of Euler-Lagrange equations:\n",
    "\n",
    "$$\n",
    "\\frac{\\partial\\mathcal{L}_{\\phi}}{\\partial\\phi} -\\partial_\\mu \\frac{\\partial\\mathcal{L}_{\\phi}}{\\partial\\phi_{,\\mu}} = \\frac{\\partial V}{\\partial\\phi}\n",
    "$$\n",
    "\n",
    "and \n",
    "\n",
    "$$\n",
    "\\frac{\\partial\\mathcal{L}_{\\psi}}{\\partial\\psi} -\\partial_\\mu \\frac{\\partial\\mathcal{L}_{\\psi}}{\\partial\\psi_{,\\mu}} = \\frac{\\partial V}{\\partial\\psi}\n",
    "$$\n",
    "\n",
    "The solution to each equation can be approximated using the perturbation ansatz."
   ]
  },
  {
   "cell_type": "markdown",
   "id": "6e67fbd8-66e8-44fd-bf38-bb6a72bcbd41",
   "metadata": {},
   "source": [
    "### Yukawa Interations \n",
    "\n",
    "A scalar field $\\phi$ interacting with a Spinor field $\\psi^\\alpha$. $V(\\phi, \\psi) = g\\bar{\\psi}{\\psi}\\phi$\n",
    "\n",
    "The first set of EL equations produces:\n",
    "\n",
    "$$\n",
    "(\\partial^2+m^2)\\phi = \\frac{\\partial V}{\\partial\\phi} = g\\bar{\\psi}{\\psi}\n",
    "$$\n",
    "\n",
    "The second set produces\n",
    "\n",
    "$$\n",
    "(i\\slash{\\partial}-m)\\psi^\\alpha = -\\frac{\\partial V^\\alpha}{\\partial \\bar{\\psi}}\n",
    "$$"
   ]
  },
  {
   "cell_type": "markdown",
   "id": "cb40e1ab-b942-4e4c-8759-a64a4b99af0f",
   "metadata": {},
   "source": [
    "### Gauge Interactions\n",
    "\n",
    "It is possible to \"turn on\" gauge interactions for a scalar of spinor field, simply replacing the derivative with the covariant derivative:\n",
    "\n",
    "$$\n",
    "\\partial_\\mu \\rightarrow D_\\mu := \\partial_\\mu - ieA_\\mu\n",
    "$$\n",
    "\n",
    "and adding the Maxwell Lagrangian\n"
   ]
  },
  {
   "cell_type": "code",
   "execution_count": null,
   "id": "d2741d50-cfc7-4958-bdff-9b0ac46f542e",
   "metadata": {},
   "outputs": [],
   "source": []
  }
 ],
 "metadata": {
  "kernelspec": {
   "display_name": "physics-with-friends",
   "language": "python",
   "name": "physics-with-friends"
  },
  "language_info": {
   "codemirror_mode": {
    "name": "ipython",
    "version": 3
   },
   "file_extension": ".py",
   "mimetype": "text/x-python",
   "name": "python",
   "nbconvert_exporter": "python",
   "pygments_lexer": "ipython3",
   "version": "3.11.9"
  }
 },
 "nbformat": 4,
 "nbformat_minor": 5
}
