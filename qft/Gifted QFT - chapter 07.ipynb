{
 "cells": [
  {
   "cell_type": "markdown",
   "id": "8635ad39-6176-4693-b8e1-72fc41cc78ac",
   "metadata": {},
   "source": [
    "# QFT for the Gifted Amateur - Chapter 7\n",
    "\n",
    "$\n",
    "\\newcommand{\\ket}[1]{\\left|{#1}\\right\\rangle}\n",
    "\\newcommand{\\bra}[1]{\\left\\langle{#1}\\right|}\n",
    "\\newcommand{\\braket}[2]{\\left\\langle{#1}\\middle|{#2}\\right\\rangle}\n",
    "$"
   ]
  },
  {
   "cell_type": "markdown",
   "id": "0790f93c-6bc5-4381-8385-eeeff03d625e",
   "metadata": {},
   "source": [
    "### Exercise 7.1\n",
    "\n",
    "$$\n",
    "\\partial L/\\partial \\phi = -m^2\\phi - \\sum_n \\lambda_n (2n+1)\\phi^{2n+1}\n",
    "$$"
   ]
  },
  {
   "cell_type": "markdown",
   "id": "b1ccedd2-c998-413f-8d85-9f6ac1736297",
   "metadata": {},
   "source": [
    "$$\n",
    "\\partial^\\mu (\\partial L/\\partial \\phi,\\mu) = \\partial^\\mu (\\partial_\\mu \\phi) = \\partial^2 \\phi\n",
    "$$\n",
    "\n",
    "Therefore by the EL equations\n",
    "\n",
    "$$\n",
    "m^2\\phi + \\sum_n \\lambda_n (2n+1)\\phi^{2n+1}+\\partial^2 \\phi = 0\n",
    "$$"
   ]
  },
  {
   "cell_type": "markdown",
   "id": "906c2ad6-b61b-482f-9c2c-2556313aca31",
   "metadata": {},
   "source": [
    "### Exercise 7.4\n",
    "\n",
    "$$\n",
    "L = \\frac{1}{2} (\\partial_\\mu \\phi)^2 - \\frac{1}{2} m^2 \\phi^2 = \\frac{1}{2} \\dot{\\phi}^2 - \\frac{1}{2}(\\nabla\\phi)^2 - \\frac{1}{2} m^2 \\phi^2\n",
    "$$"
   ]
  },
  {
   "cell_type": "markdown",
   "id": "593dfe59-62ff-43c0-9e0f-500cbfaf9fa4",
   "metadata": {},
   "source": [
    "$$\n",
    "\\pi = \\partial L/\\partial \\dot{\\phi} = \\dot{\\phi}\n",
    "$$\n",
    "\n",
    "$$\n",
    "H = \\pi \\dot{\\phi} - L = \\dot{\\phi}^2 - \\frac{1}{2} \\dot{\\phi}^2 + \\frac{1}{2}(\\nabla\\phi)^2 + \\frac{1}{2} m^2 \\phi^2 = \n",
    " \\frac{1}{2} \\dot{\\phi}^2 + \\frac{1}{2}(\\nabla\\phi)^2 + \\frac{1}{2} m^2 \\phi^2\n",
    "$$"
   ]
  },
  {
   "cell_type": "markdown",
   "id": "e769bd93-cf64-4cc0-b3b8-f894bd278616",
   "metadata": {},
   "source": [
    "$$\n",
    "\\Pi^\\mu = \\frac{\\partial L}{\\partial (\\partial _\\mu \\phi)} = \\partial^\\mu \\phi\n",
    "$$,\n",
    "\n",
    "so $\\Pi^0 = \\pi = \\dot{\\phi}$"
   ]
  },
  {
   "cell_type": "code",
   "execution_count": null,
   "id": "90363171-dc31-4168-82cc-3a99ff2c3763",
   "metadata": {},
   "outputs": [],
   "source": []
  }
 ],
 "metadata": {
  "kernelspec": {
   "display_name": "physics-with-friends",
   "language": "python",
   "name": "physics-with-friends"
  },
  "language_info": {
   "codemirror_mode": {
    "name": "ipython",
    "version": 3
   },
   "file_extension": ".py",
   "mimetype": "text/x-python",
   "name": "python",
   "nbconvert_exporter": "python",
   "pygments_lexer": "ipython3",
   "version": "3.10.13"
  },
  "widgets": {
   "application/vnd.jupyter.widget-state+json": {
    "state": {},
    "version_major": 2,
    "version_minor": 0
   }
  }
 },
 "nbformat": 4,
 "nbformat_minor": 5
}
