{
 "cells": [
  {
   "cell_type": "markdown",
   "id": "8635ad39-6176-4693-b8e1-72fc41cc78ac",
   "metadata": {},
   "source": [
    "# QFT for the Gifted Amateur - Chapter 28\n",
    "\n",
    "$\n",
    "\\newcommand{\\ket}[1]{\\left|{#1}\\right\\rangle}\n",
    "\\newcommand{\\bra}[1]{\\left\\langle{#1}\\right|}\n",
    "\\newcommand{\\braket}[2]{\\left\\langle{#1}\\middle|{#2}\\right\\rangle}\n",
    "$"
   ]
  },
  {
   "cell_type": "markdown",
   "id": "0790f93c-6bc5-4381-8385-eeeff03d625e",
   "metadata": {},
   "source": [
    "### Exercise 28.1\n",
    "\n",
    "Prove that $\\braket{\\bar{\\zeta}}{\\eta} = e^{\\bar{\\zeta}\\eta}$\n",
    "\n",
    "#### Solution\n",
    "\n",
    "\\begin{eqnarray}\n",
    "\\braket{\\bar{\\zeta}}{\\eta}  &=& (\\bra{0}+\\bar{\\zeta}\\bra{1})(\\ket{0}-\\eta\\ket{1})\\\\\n",
    " &=& 1 + \\bar{\\zeta}\\braket{0}{1}-\\bra{0}\\eta\\ket{1} - \\bar{\\zeta}\\bra{1}\\eta\\ket{1}\\\\\n",
    "  &=& 1+ \\bar{\\zeta}\\braket{1}{1}\\eta = 1+\\bar{\\zeta}{\\eta} = e^{\\bar{\\zeta}\\eta}\n",
    "\\end{eqnarray}"
   ]
  },
  {
   "cell_type": "markdown",
   "id": "906c2ad6-b61b-482f-9c2c-2556313aca31",
   "metadata": {},
   "source": [
    "### Exercise 28.2\n",
    "\n",
    "$$\n",
    "\\int d\\bar{\\eta}d\\eta \\eta\\bar{\\eta} = \\int d\\bar{\\eta}\\left(\\int d\\eta \\eta\\right)\\bar{\\eta} = \\int d\\bar{\\eta}\\bar{\\eta} = 1\n",
    "$$\n",
    "\n",
    "Similarly, $\\int d\\bar{\\eta}d\\eta \\bar{\\eta}\\eta = -1$\n"
   ]
  },
  {
   "cell_type": "markdown",
   "id": "509bd258-a857-41b9-a161-2e6deb038eaf",
   "metadata": {},
   "source": [
    "### Exercise 28.3\n",
    "\n",
    "Let $A = \\begin{bmatrix} a_{11}, a_{12} \\\\ a_{21}, a_{22}\\end{bmatrix}$\n",
    "\n",
    "Then \n",
    "\n",
    "$$\n",
    "\\bar{\\eta}A\\eta = a_{11}\\bar{\\eta_1}\\eta_1 + a_{12}\\bar{\\eta_1}\\eta_2 + a_{21}\\bar{\\eta_2}\\eta_1 + a_{22}\\bar{\\eta_2}\\eta_2\n",
    "$$\n",
    "\n",
    "$$\n",
    "e^{\\bar{\\eta}A\\eta} = e^{a_{11}\\bar{\\eta_1}\\eta_1}e^{a_{12}\\bar{\\eta_1}\\eta_2}e^{a_{21}\\bar{\\eta_2}\\eta_1}e^{a_{22}\\bar{\\eta_2}\\eta_2}\n",
    "= (1+a_{11}\\bar{\\eta_1}\\eta_1)\\ldots (1+a_{22}\\bar{\\eta_2}\\eta_2)\n",
    "$$\n",
    "\n",
    "Expanding this out, only the terms that have combinations of $\\eta_1\\bar{\\eta_1}\\eta_2\\bar{\\eta_2}$ survive the integration,\n",
    "so we have\n",
    "\n",
    "$$\n",
    "e^{\\bar{\\eta}A\\eta} = a_{11}a_{22}\\eta_1\\bar{\\eta_1}\\eta_2\\bar{\\eta_2} + a_{12}a_{21}\\bar{\\eta_1}\\eta_2\n",
    "\\bar{\\eta_2}\\eta_1 = (detA)\\eta_1\\bar{\\eta_1}\\eta_2\\bar{\\eta_2}\n",
    "$$\n",
    "\n",
    "Under the integral, the rest becomes one, leaving just the determinant.\n"
   ]
  },
  {
   "cell_type": "markdown",
   "id": "7079c2cc-f97c-4cf3-af7d-59a58cba721d",
   "metadata": {},
   "source": [
    "### Exercise 28.4\n",
    "\n",
    "Show\n",
    "\n",
    "$$\n",
    "\\int d\\eta d\\bar{\\eta} e^{\\bar{\\eta}\\eta}\\ket{\\bar{\\eta}}\\bra{\\eta} = \\ket{0}\\bra{0} + \\ket{1}\\bra{1} = I\n",
    "$$\n",
    "\n",
    "#### Solution\n",
    "\n",
    "First show:\n",
    "\n",
    "$$\n",
    "\\int d\\eta d\\bar{\\eta} e^{\\bar{\\eta}\\eta} \\eta = \\int d\\eta d\\bar{\\eta} e^{\\bar{\\eta}\\eta} \\bar{\\eta} = 0 \n",
    "$$\n",
    "\n",
    "$$\n",
    "\\int d\\eta d\\bar{\\eta} e^{\\bar{\\eta}\\eta} \\eta = \\int d\\eta d\\bar{\\eta}(1+\\bar{\\eta}\\eta)\\eta = \n",
    "\\int d\\eta d\\bar{\\eta}(\\eta+\\bar{\\eta}\\eta^2) = \\int d\\eta d\\bar{\\eta}\\eta = -\\int  d\\bar{\\eta}d\\eta\\eta = - \\int  d\\bar{\\eta} = 0\n",
    "$$\n",
    "\n",
    "Then calculate:\n",
    "\n",
    "$$\n",
    "\\int d\\eta d\\bar{\\eta} e^{\\bar{\\eta}\\eta}\\bar{\\eta}\\eta = \\int d\\eta d\\bar{\\eta} (1+\\bar{\\eta}\\eta) \\bar{\\eta}\\eta = \n",
    "\\int d\\eta d\\bar{\\eta}\\bar{\\eta}\\eta = 1\n",
    "$$\n",
    "\n",
    "Also\n",
    "\n",
    "$$\n",
    "\\int d\\eta d\\bar{\\eta} e^{\\bar{\\eta}\\eta} = 1\n",
    "$$\n",
    "\n",
    "Finally\n",
    "\n",
    "\\begin{eqnarray}\n",
    "\\int d\\eta d\\bar{\\eta} e^{\\bar{\\eta}\\eta}\\ket{\\bar{\\eta}}\\bra{\\eta} &=& \\int d\\eta d\\bar{\\eta} e^{\\bar{\\eta}\\eta}(\\ket{0}-\\bar{\\eta}\\ket{1})(\\bra{0}+\\eta\\bra{1})\\\\\n",
    "&=& \\int d\\eta d\\bar{\\eta} e^{\\bar{\\eta}\\eta} (\\ket{0}\\bra{0} -\\bar{\\eta}\\ket{1}\\bra{0} - \\eta\\ket{0}\\bra{1} + \\bar{\\eta}\\eta\\ket{1}\\bra{1})\\\\\n",
    "&=& \\ket{0}\\bra{0} + \\ket{1}\\bra{1}\n",
    "\\end{eqnarray}\n",
    "\n",
    "Because two middle terms evaluate to 0 and the first and last to 1\n",
    "\n"
   ]
  },
  {
   "cell_type": "markdown",
   "id": "bc13e37f-42af-4e4b-a22a-8e0c408ad9c5",
   "metadata": {},
   "source": [
    "### Exercise 28.5\n",
    "\n",
    "$$\n",
    "(\\bar{\\psi}+\\bar{\\eta}K^{-1})K(\\psi+K^{-1}\\eta) = \\bar{\\psi}K\\psi+\\bar{\\psi}\\eta+\\bar{\\eta}\\psi+\\bar{\\eta}K^{-1}\\eta\n",
    "$$"
   ]
  },
  {
   "cell_type": "code",
   "execution_count": null,
   "id": "bea4d048-485b-4d1e-91ab-950e0864931b",
   "metadata": {},
   "outputs": [],
   "source": []
  }
 ],
 "metadata": {
  "kernelspec": {
   "display_name": "physics-with-friends",
   "language": "python",
   "name": "physics-with-friends"
  },
  "language_info": {
   "codemirror_mode": {
    "name": "ipython",
    "version": 3
   },
   "file_extension": ".py",
   "mimetype": "text/x-python",
   "name": "python",
   "nbconvert_exporter": "python",
   "pygments_lexer": "ipython3",
   "version": "3.10.13"
  },
  "widgets": {
   "application/vnd.jupyter.widget-state+json": {
    "state": {},
    "version_major": 2,
    "version_minor": 0
   }
  }
 },
 "nbformat": 4,
 "nbformat_minor": 5
}
