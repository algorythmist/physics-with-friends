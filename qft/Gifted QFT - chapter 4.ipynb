{
 "cells": [
  {
   "cell_type": "markdown",
   "id": "e1ac8585-141c-4876-a0f7-58372c65f670",
   "metadata": {},
   "source": [
    "# QFT for the Gifted Amateur - Chapter 4 Exercises\n",
    "\n",
    "$\n",
    "\\newcommand{\\ket}[1]{\\left|{#1}\\right\\rangle}\n",
    "\\newcommand{\\bra}[1]{\\left\\langle{#1}\\right|}\n",
    "\\newcommand{\\braket}[2]{\\left\\langle{#1}\\middle|{#2}\\right\\rangle}\n",
    "$"
   ]
  },
  {
   "cell_type": "markdown",
   "id": "4e923601-daf6-4831-9c77-4b8720efdf24",
   "metadata": {},
   "source": [
    "### Exercise 4.2\n",
    "\n",
    "$$\n",
    "\\rho_1(x-y) = <\\psi^\\dagger(x)\\psi(y)>\n",
    "$$\n",
    "\n",
    "where \n",
    "$\\psi^\\dagger = \\frac{1}{\\sqrt{N}}\\sum_p a^\\dagger_p e^{-ipx}$ and $\\psi = \\frac{1}{\\sqrt{N}}\\sum_p a_p e^{ipx}$ \n",
    "\n",
    "so \n",
    "\n",
    "$$\n",
    "\\rho_1(x-y) = \\frac{1}{N} \\sum_{pq}<a^\\dagger_p e^{-ipx}a_q e^{iqy}> = \n",
    "\\frac{1}{N} \\sum_{pp'} e^{-i(qx-py)}<a^\\dagger_q a_p>\n",
    "$$"
   ]
  },
  {
   "cell_type": "code",
   "execution_count": null,
   "id": "0b0fe1b2-2818-4c2e-974f-04f7a8a89122",
   "metadata": {},
   "outputs": [],
   "source": []
  }
 ],
 "metadata": {
  "kernelspec": {
   "display_name": "physics-with-friends",
   "language": "python",
   "name": "physics-with-friends"
  },
  "language_info": {
   "codemirror_mode": {
    "name": "ipython",
    "version": 3
   },
   "file_extension": ".py",
   "mimetype": "text/x-python",
   "name": "python",
   "nbconvert_exporter": "python",
   "pygments_lexer": "ipython3",
   "version": "3.10.9"
  },
  "widgets": {
   "application/vnd.jupyter.widget-state+json": {
    "state": {},
    "version_major": 2,
    "version_minor": 0
   }
  }
 },
 "nbformat": 4,
 "nbformat_minor": 5
}
