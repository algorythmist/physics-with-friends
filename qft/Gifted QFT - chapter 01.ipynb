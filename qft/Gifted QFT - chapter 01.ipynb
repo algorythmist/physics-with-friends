{
 "cells": [
  {
   "cell_type": "markdown",
   "id": "35745a77-fbd1-4961-a96f-b2310a7fe4fd",
   "metadata": {},
   "source": [
    "# QFT for the Gifted Amateur - Chapter 1 Exercises\n",
    "\n",
    "$\n",
    "\\newcommand{\\ket}[1]{\\left|{#1}\\right\\rangle}\n",
    "\\newcommand{\\bra}[1]{\\left\\langle{#1}\\right|}\n",
    "\\newcommand{\\braket}[2]{\\left\\langle{#1}\\middle|{#2}\\right\\rangle}\n",
    "$"
   ]
  },
  {
   "cell_type": "markdown",
   "id": "255711a0-ee4d-48f6-afe9-4e55023fa949",
   "metadata": {},
   "source": [
    "### Exercise 1.2\n",
    "\n",
    "\n",
    "1)\n",
    "$$\n",
    "\\delta H/ \\delta f(x) = \\frac{1}{\\epsilon}\\int dy G(a,y)[f(y)+\\epsilon\\delta(y-x)] - \\frac{1}{\\epsilon} H[f] = \n",
    "\\int dy G(a,y)\\delta(y-x) = G(a,x)\n",
    "$$"
   ]
  },
  {
   "cell_type": "markdown",
   "id": "c785616f-f9b7-411d-b030-1b4c24eb7ba1",
   "metadata": {},
   "source": [
    "2.\n",
    "\n",
    "$$\n",
    "\\delta I(f^3)/ \\delta f(x_0) = \\frac{1}{\\epsilon}\\int_{-1}^1 dx (f(x)+\\epsilon\\delta(x-x_0))^3 - \\frac{1}{\\epsilon} I[f^3]\n",
    "$$\n",
    "\n",
    "Expanding the trinomial and keeping only the $\\epsilon$ term\n",
    "\n",
    "$$\n",
    "\\int_{-1}^1 dx 3f^2(x)\\delta(x-x_0) = 3f^2(x_0)\n",
    "$$\n",
    "\n",
    "$$\n",
    "\\delta f^2(x_0)/ \\delta f(x_1) =  \\frac{1}{\\epsilon} [(f(x_0)+ \\epsilon \\delta(x_0 - x_1))^2 - f^2(x_0)] = \n",
    "2f(x_0)\\delta(x_0-x_1)\n",
    "$$\n",
    "\n",
    "so\n",
    "\n",
    "$$\n",
    "\\frac{\\delta^2I[f^3]}{\\delta f(x_0)\\delta f(x_1)} = 6 f(x_0)\\delta(x_0-x_1)\n",
    "$$"
   ]
  },
  {
   "cell_type": "markdown",
   "id": "beb7e36a-068f-4e27-8d81-744ccc1de23f",
   "metadata": {},
   "source": [
    "3.\n",
    "\n",
    "$$\n",
    "\\delta J[f]/ \\delta f(x) = -2\\partial^2 f/ \\partial x^2\n",
    "$$"
   ]
  },
  {
   "cell_type": "markdown",
   "id": "b5b9534a-3f82-48b5-a8a8-25511cee1aea",
   "metadata": {},
   "source": [
    "### Exercise 1.3\n",
    "\n",
    "$$\n",
    "\\delta G /\\delta f(x) = \\frac{1}{e}\\int dy g(y, f+e\\delta(y-x)) - g(y,f) \\approx \n",
    "= \\frac{1}{e}\\int dy g(y,f) + e \\frac{\\partial g}{\\partial f}\\delta(y-x)) - g(y,f) \n",
    "= \\int dy \\frac{\\partial g}{\\partial f}\\delta(y-x) = \\frac{\\partial g(x,f)}{\\partial f}\n",
    "$$"
   ]
  },
  {
   "cell_type": "markdown",
   "id": "5e79684f-b383-4901-a155-a3cc5c33b805",
   "metadata": {},
   "source": [
    "The second part is the Eular Langrange equations. The 3rd part is the EL equations when the second derivative is present."
   ]
  },
  {
   "cell_type": "markdown",
   "id": "88892345-f606-4545-9a51-fa82d1fc7ee5",
   "metadata": {},
   "source": [
    "### Exercise 1.5\n",
    "\n",
    "The Lagrangian density is $L = \\rho/2 (\\frac{\\partial\\psi}{\\partial t})^2 - T/2 (\\nabla \\psi)^2$\n",
    "\n",
    "Since only the derivatives are present, the EL equations reduce to $\\partial_\\mu (\\frac{\\partial L}{\\partial \\psi_{,\\mu}}) = 0$.\n",
    "\n",
    "Expanding it out\n",
    "\n",
    "$$\n",
    "T\\nabla^2 \\psi = \\rho \\frac{\\partial^2 \\psi}{\\partial t^2}\n",
    "$$\n",
    "\n",
    "which is the wave equation with $v = \\sqrt{T/\\rho}$."
   ]
  },
  {
   "cell_type": "code",
   "execution_count": null,
   "id": "1e53d071-88b2-43f1-813a-4c2d504ccdd3",
   "metadata": {},
   "outputs": [],
   "source": []
  }
 ],
 "metadata": {
  "kernelspec": {
   "display_name": "physics-with-friends",
   "language": "python",
   "name": "physics-with-friends"
  },
  "language_info": {
   "codemirror_mode": {
    "name": "ipython",
    "version": 3
   },
   "file_extension": ".py",
   "mimetype": "text/x-python",
   "name": "python",
   "nbconvert_exporter": "python",
   "pygments_lexer": "ipython3",
   "version": "3.10.9"
  },
  "widgets": {
   "application/vnd.jupyter.widget-state+json": {
    "state": {},
    "version_major": 2,
    "version_minor": 0
   }
  }
 },
 "nbformat": 4,
 "nbformat_minor": 5
}
