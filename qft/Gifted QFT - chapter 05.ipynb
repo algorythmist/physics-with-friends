{
 "cells": [
  {
   "cell_type": "markdown",
   "id": "e1ac8585-141c-4876-a0f7-58372c65f670",
   "metadata": {},
   "source": [
    "# QFT for the Gifted Amateur - Chapter 5 Exercises\n",
    "\n",
    "$\n",
    "\\newcommand{\\ket}[1]{\\left|{#1}\\right\\rangle}\n",
    "\\newcommand{\\bra}[1]{\\left\\langle{#1}\\right|}\n",
    "\\newcommand{\\braket}[2]{\\left\\langle{#1}\\middle|{#2}\\right\\rangle}\n",
    "$"
   ]
  },
  {
   "cell_type": "markdown",
   "id": "d3bbc8a2-4bdf-4af6-9fd7-f77f479d0d14",
   "metadata": {},
   "source": [
    "## Summary\n",
    "\n",
    "### Euler-Lagrange Equations\n",
    "\n",
    "$$\n",
    " \\frac{\\partial L}{\\partial q_i}- \\frac{d}{dt}\\frac{\\partial L}{\\partial \\dot{q}_i} = 0\n",
    "$$\n",
    "\n",
    "Let $p_i \\equiv \\frac{\\partial L}{\\partial \\dot{q}_i}$ and $H \\equiv \\sum_i p_i q_i - L$\n",
    "\n",
    "Then $dH/dt = 0$"
   ]
  },
  {
   "cell_type": "markdown",
   "id": "8dc7dfcc-a72b-409a-8731-06ff2d3f68fb",
   "metadata": {},
   "source": [
    "### Hamilton Equations\n",
    "\n",
    "$$\n",
    "\\frac{\\partial H}{\\partial q_i} = - p_i\n",
    "$$\n",
    "\n",
    "$$\n",
    "\\frac{\\partial H}{\\partial p_i} = q_i\n",
    "$$"
   ]
  },
  {
   "cell_type": "markdown",
   "id": "81ff945a-617c-43d9-99ef-5000a0472f2a",
   "metadata": {},
   "source": [
    "### Evolution of physical observable\n",
    "\n",
    "$$\n",
    "\\frac{dF}{dt} = \\{F, H \\} \\equiv \\sum_i \\frac{\\partial F}{\\partial q_i}\\frac{\\partial H}{\\partial p_i} - \\frac{\\partial F}{\\partial p_i}\\frac{\\partial H}{\\partial q_i}\n",
    "$$"
   ]
  },
  {
   "cell_type": "markdown",
   "id": "9aa35144-be5b-4ac1-a0c0-f069a1886a05",
   "metadata": {},
   "source": [
    "#### EM Tensors\n",
    "\n",
    "$$\n",
    "F_{\\mu\\nu} = \\begin{bmatrix}\n",
    "0 & E^1 & E^2 & E^3\\\\\n",
    "-E^1 & 0 & -B^3 & B^2\\\\\n",
    "-E^2 & B^3 & 0 & -B^1\\\\\n",
    "- E^3 & -B^2 & B^1 & 0\n",
    "\\end{bmatrix}\n",
    "$$"
   ]
  },
  {
   "cell_type": "markdown",
   "id": "7be34c11-df8b-4f92-9ebf-d0fbdb54f3b8",
   "metadata": {},
   "source": [
    "$$\n",
    "F^{\\mu\\nu} = \\begin{bmatrix}\n",
    "0 & -E^1 & -E^2 & -E^3\\\\\n",
    "E^1 & 0 & -B^3 & B^2\\\\\n",
    "E^2 & B^3 & 0 & -B^1\\\\\n",
    "E^3 & -B^2 & B^1 & 0\n",
    "\\end{bmatrix}\n",
    "$$"
   ]
  },
  {
   "cell_type": "markdown",
   "id": "4e923601-daf6-4831-9c77-4b8720efdf24",
   "metadata": {},
   "source": [
    "### Exercise 5.1\n",
    "\n",
    "$$\n",
    "\\frac{dL}{dt} = \\frac{\\partial L}{\\partial t} + \\frac{\\partial L}{\\partial x_i} \\dot{x}_i + \\frac{\\partial L}{\\partial \\dot{x}_i} \\ddot{x}_i \\implies\n",
    "$$\n",
    "\n",
    "$$\n",
    "\\frac{\\partial L}{\\partial t} = \\frac{dL}{dt} - \\frac{\\partial L}{\\partial x_i} \\dot{x}_i - \\frac{\\partial L}{\\partial \\dot{x}_i} \\ddot{x}_i\n",
    "$$\n",
    "\n",
    "We know from (5.4) and (5.6) that the expression on the RHS is \n",
    "\n",
    "$$\n",
    "- \\frac{d}{dt}(p_i x_i - L) = -\\frac{dH}{dt} \n",
    "$$\n",
    "\n",
    "therefore\n",
    "\n",
    "$$\n",
    "\\frac{\\partial L}{\\partial t} = -\\frac{dH}{dt} \n",
    "$$"
   ]
  },
  {
   "cell_type": "markdown",
   "id": "c6af4a66-2005-451e-9a3e-392119dab7f3",
   "metadata": {},
   "source": [
    "### Exercise 5.3\n",
    "\n",
    "$$\n",
    "[A,B]^\\dagger = (AB-BA)^\\dagger = B^\\dagger A^\\dagger - A^\\dagger B^\\dagger = BA-AB = -(AB-BA) = -[A,B]\n",
    "$$"
   ]
  },
  {
   "cell_type": "markdown",
   "id": "781a7b76-59a7-4a8f-b54a-eea2746e2af2",
   "metadata": {},
   "source": [
    "### Exercise 5.6\n",
    "\n",
    "$$\n",
    "L = -mc^2/\\gamma \\approx -mc^2\n",
    "$$\n",
    "\n",
    "From eq 5.23 $p = \\gamma mv \\approx mv $\n",
    "\n",
    "Expanding $\\gamma$ as a Taylor series in $v$ up to the second term, we get $\\gamma \\approx 1 + \\frac{v^2}{2c^2}$ \n",
    "\n",
    "Plugging into 5.24, we get $E = \\gamma mc^2 \\approx mc^2 + \\frac{1}{2}mv^2$."
   ]
  },
  {
   "cell_type": "markdown",
   "id": "283ba0f5-fcba-498a-95f7-18ff4821f5da",
   "metadata": {},
   "source": [
    "### Exercise 5.8"
   ]
  },
  {
   "cell_type": "code",
   "execution_count": 20,
   "id": "2ff25d28-6d0f-4126-8615-b813eb3ddaa8",
   "metadata": {},
   "outputs": [],
   "source": [
    "# Introduce sympy\n",
    "\n",
    "from sympy import *\n",
    "\n",
    "from sympy import init_printing\n",
    "init_printing() \n",
    "\n",
    "E1, E2, E3 = symbols('E1 E2 E3')\n",
    "B1, B2, B3 = symbols('B1 B2 B3')\n"
   ]
  },
  {
   "cell_type": "code",
   "execution_count": 21,
   "id": "3938e41b-4741-41a0-b662-e0b1930e6918",
   "metadata": {},
   "outputs": [
    {
     "data": {
      "image/png": "[encoded data removed]",
      "text/latex": [
       "$\\displaystyle \\left[\\begin{matrix}0 & E_{1} & E_{2} & E_{3}\\\\- E_{1} & 0 & - B_{3} & B_{2}\\\\- E_{2} & B_{3} & 0 & - B_{2}\\\\- E_{3} & - B_{2} & B_{1} & 0\\end{matrix}\\right]$"
      ],
      "text/plain": [
       "⎡ 0   E₁   E₂   E₃ ⎤\n",
       "⎢                  ⎥\n",
       "⎢-E₁   0   -B₃  B₂ ⎥\n",
       "⎢                  ⎥\n",
       "⎢-E₂  B₃    0   -B₂⎥\n",
       "⎢                  ⎥\n",
       "⎣-E₃  -B₂  B₁    0 ⎦"
      ]
     },
     "execution_count": 21,
     "metadata": {},
     "output_type": "execute_result"
    }
   ],
   "source": [
    "# First defined F^mn\n",
    "\n",
    "F1 = Matrix([[0, E1, E2, E3], [-E1, 0, -B3, B2], [-E2, B3, 0, -B1], [-E3, -B2, B1, 0]] )\n",
    "G = diag(1, -1, -1, -1)\n",
    "F"
   ]
  },
  {
   "cell_type": "code",
   "execution_count": 22,
   "id": "0c7e1ec6-a9ae-4736-8b40-0c2e488dd4be",
   "metadata": {},
   "outputs": [
    {
     "data": {
      "image/png": "[encoded data removed]",
      "text/latex": [
       "$\\displaystyle \\left[\\begin{matrix}0 & - E_{1} & - E_{2} & - E_{3}\\\\E_{1} & 0 & - B_{3} & B_{2}\\\\E_{2} & B_{3} & 0 & - B_{1}\\\\E_{3} & - B_{2} & B_{1} & 0\\end{matrix}\\right]$"
      ],
      "text/plain": [
       "⎡0   -E₁  -E₂  -E₃⎤\n",
       "⎢                 ⎥\n",
       "⎢E₁   0   -B₃  B₂ ⎥\n",
       "⎢                 ⎥\n",
       "⎢E₂  B₃    0   -B₁⎥\n",
       "⎢                 ⎥\n",
       "⎣E₃  -B₂  B₁    0 ⎦"
      ]
     },
     "execution_count": 22,
     "metadata": {},
     "output_type": "execute_result"
    }
   ],
   "source": [
    "# Now F_mn\n",
    "\n",
    "F2 = Matrix([[0, -E1, -E2, -E3], [E1, 0, -B3, B2], [E2, B3, 0, -B1], [E3, -B2, B1, 0]] )\n",
    "F2"
   ]
  },
  {
   "cell_type": "code",
   "execution_count": 23,
   "id": "8f8b7673-0c63-4cff-98c8-cbd2e8732e15",
   "metadata": {},
   "outputs": [
    {
     "data": {
      "image/png": "[encoded data removed]",
      "text/latex": [
       "$\\displaystyle \\left[\\begin{matrix}E_{1}^{2} + E_{2}^{2} + E_{3}^{2} & - B_{2} E_{3} + B_{3} E_{2} & B_{1} E_{3} - B_{3} E_{1} & - B_{1} E_{2} + B_{2} E_{1}\\\\B_{2} E_{3} - B_{3} E_{2} & - B_{2}^{2} - B_{3}^{2} + E_{1}^{2} & B_{1} B_{2} + E_{1} E_{2} & B_{1} B_{3} + E_{1} E_{3}\\\\- B_{1} E_{3} + B_{3} E_{1} & B_{1} B_{2} + E_{1} E_{2} & - B_{1}^{2} - B_{3}^{2} + E_{2}^{2} & B_{2} B_{3} + E_{2} E_{3}\\\\B_{1} E_{2} - B_{2} E_{1} & B_{1} B_{3} + E_{1} E_{3} & B_{2} B_{3} + E_{2} E_{3} & - B_{1}^{2} - B_{2}^{2} + E_{3}^{2}\\end{matrix}\\right]$"
      ],
      "text/plain": [
       "⎡  2     2     2                                                         ⎤\n",
       "⎢E₁  + E₂  + E₃    -B₂⋅E₃ + B₃⋅E₂      B₁⋅E₃ - B₃⋅E₁     -B₁⋅E₂ + B₂⋅E₁  ⎥\n",
       "⎢                                                                        ⎥\n",
       "⎢                     2     2     2                                      ⎥\n",
       "⎢ B₂⋅E₃ - B₃⋅E₂   - B₂  - B₃  + E₁     B₁⋅B₂ + E₁⋅E₂      B₁⋅B₃ + E₁⋅E₃  ⎥\n",
       "⎢                                                                        ⎥\n",
       "⎢                                        2     2     2                   ⎥\n",
       "⎢-B₁⋅E₃ + B₃⋅E₁     B₁⋅B₂ + E₁⋅E₂    - B₁  - B₃  + E₂     B₂⋅B₃ + E₂⋅E₃  ⎥\n",
       "⎢                                                                        ⎥\n",
       "⎢                                                           2     2     2⎥\n",
       "⎣ B₁⋅E₂ - B₂⋅E₁     B₁⋅B₃ + E₁⋅E₃      B₂⋅B₃ + E₂⋅E₃    - B₁  - B₂  + E₃ ⎦"
      ]
     },
     "execution_count": 23,
     "metadata": {},
     "output_type": "execute_result"
    }
   ],
   "source": [
    "F1*F2"
   ]
  },
  {
   "cell_type": "markdown",
   "id": "8f7d5c8d-5cff-4839-a920-0c3dd9352326",
   "metadata": {},
   "source": [
    "$$ \n",
    "F_{\\mu\\nu} F^{\\mu\\nu} = Tr(F1 F2) = \\\\\n",
    "2(E_1^2+E_2^2+E_3^2) - 2(B_1^2+B_2^2+B_3^2)\n",
    "$$"
   ]
  },
  {
   "cell_type": "markdown",
   "id": "39888afe-9616-481b-927f-e7b433451822",
   "metadata": {},
   "source": [
    "How to represent fully antisymmetric tensor?"
   ]
  },
  {
   "cell_type": "code",
   "execution_count": null,
   "id": "5250ee47-9657-4b92-9943-bd88aa413563",
   "metadata": {},
   "outputs": [],
   "source": []
  }
 ],
 "metadata": {
  "kernelspec": {
   "display_name": "physics-with-friends",
   "language": "python",
   "name": "physics-with-friends"
  },
  "language_info": {
   "codemirror_mode": {
    "name": "ipython",
    "version": 3
   },
   "file_extension": ".py",
   "mimetype": "text/x-python",
   "name": "python",
   "nbconvert_exporter": "python",
   "pygments_lexer": "ipython3",
   "version": "3.10.13"
  },
  "widgets": {
   "application/vnd.jupyter.widget-state+json": {
    "state": {},
    "version_major": 2,
    "version_minor": 0
   }
  }
 },
 "nbformat": 4,
 "nbformat_minor": 5
}
