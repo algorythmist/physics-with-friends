{
 "cells": [
  {
   "cell_type": "markdown",
   "id": "e1ac8585-141c-4876-a0f7-58372c65f670",
   "metadata": {},
   "source": [
    "# QFT for the Gifted Amateur - Chapter 6 Exercises\n",
    "\n",
    "$\n",
    "\\newcommand{\\ket}[1]{\\left|{#1}\\right\\rangle}\n",
    "\\newcommand{\\bra}[1]{\\left\\langle{#1}\\right|}\n",
    "\\newcommand{\\braket}[2]{\\left\\langle{#1}\\middle|{#2}\\right\\rangle}\n",
    "$"
   ]
  },
  {
   "cell_type": "markdown",
   "id": "4e923601-daf6-4831-9c77-4b8720efdf24",
   "metadata": {},
   "source": [
    "### Exercise 6.1\n",
    "\n",
    "$$\n",
    "\\mathcal{L} = \\frac{1}{2}\\phi_{,\\mu} - \\frac{1}{2}m^2\\phi^2\n",
    "$$\n"
   ]
  },
  {
   "cell_type": "markdown",
   "id": "687023c5-aa74-4f7d-8a7c-42840682234e",
   "metadata": {},
   "source": [
    "$\\partial \\mathcal{L} /\\partial \\phi = m^2\\phi$\n",
    "\n",
    "$\\partial \\mathcal{L} /\\partial \\phi_{,\\mu} = \\phi_{,\\mu}$\n",
    "\n",
    "Therefore\n",
    "\n",
    "$$\n",
    "\\partial \\mathcal{L} /\\partial \\phi - \\partial_{\\mu} \\partial \\mathcal{L} /\\partial \\phi_{,\\mu}  = 0 \\implies\n",
    "m^2\\phi - \\partial_{\\mu}^2\\phi = 0\n",
    "$$"
   ]
  },
  {
   "cell_type": "markdown",
   "id": "bd829572-a291-40e9-ba7f-60c24c6dc90f",
   "metadata": {},
   "source": [
    "$$\n",
    "\\pi = \\partial \\mathcal{L} /\\partial \\dot{\\phi} = \\dot{\\phi}\n",
    "$$\n",
    "\n",
    "Therefore\n",
    "\n",
    "$$\n",
    "\\mathcal{H} = \\pi \\dot{\\phi} -  \\mathcal{L} = \\frac{1}{2}\\dot{\\phi} + \\frac{1}{2} \\nabla^2 \\phi +  \\frac{1}{2}m^2 \\phi^2\n",
    "$$"
   ]
  },
  {
   "cell_type": "code",
   "execution_count": null,
   "id": "7d9c7eb7-d8b7-4688-9fc7-688a1f20b602",
   "metadata": {},
   "outputs": [],
   "source": []
  }
 ],
 "metadata": {
  "kernelspec": {
   "display_name": "physics-with-friends",
   "language": "python",
   "name": "physics-with-friends"
  },
  "language_info": {
   "codemirror_mode": {
    "name": "ipython",
    "version": 3
   },
   "file_extension": ".py",
   "mimetype": "text/x-python",
   "name": "python",
   "nbconvert_exporter": "python",
   "pygments_lexer": "ipython3",
   "version": "3.10.13"
  },
  "widgets": {
   "application/vnd.jupyter.widget-state+json": {
    "state": {},
    "version_major": 2,
    "version_minor": 0
   }
  }
 },
 "nbformat": 4,
 "nbformat_minor": 5
}
