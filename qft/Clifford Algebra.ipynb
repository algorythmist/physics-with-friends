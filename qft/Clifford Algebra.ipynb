{
 "cells": [
  {
   "cell_type": "markdown",
   "id": "1096f443-a3d6-4391-95e6-3586aa6d471a",
   "metadata": {},
   "source": [
    "# Clifford Algebras\n",
    "\n",
    "Clifford algebra (Geometric algebra) generalizes vector spaces, tensor spaces, inner products, exterior products, complex numbers, quaternions, Pauli matrices, Dirac matrices, etc. It is therefore a natural mathematical language for several concepts in Physics."
   ]
  },
  {
   "cell_type": "markdown",
   "id": "26f9f08c-48b9-4ccd-9fa6-579faddf7b82",
   "metadata": {},
   "source": [
    "Recall: A **Vector Space** $V$ over a field $F$ is a group under commutative addition, which also has a multiplication operation \n",
    "\n",
    "$*: F \\times V \\rightarrow V$\n",
    "\n",
    "So if $a,b\\in F$ and $v_1, v_2 \\in V$, then $a v_1+b v_2 \\in V$.\n",
    "\n",
    "In Physics, $F$ is almost always $\\mathbb{R}$ or $\\mathbb{C}$"
   ]
  },
  {
   "cell_type": "markdown",
   "id": "ed04d352-9653-4a23-b994-4d5b5595c9c0",
   "metadata": {},
   "source": [
    "An **Algebra** is a vector space that also has a multiplication operation between vectors. The multiplication need not have inverses or unity. It may not be commutative or even associative.\n",
    "\n",
    "For example, the Lie algebras so(3) and su(2) that we encountered earlier have a non-commutative and non-associative operation $[.,.]$."
   ]
  },
  {
   "cell_type": "markdown",
   "id": "4cd151d8-921f-4509-b0b6-29c5c54a42df",
   "metadata": {},
   "source": [
    "## Warmup: Grassman (Exterior) Algebra\n",
    "\n",
    "This is an algebra encountered in differential geometry and integration over manifolds. To form the Grassman algebra, start with an n-dimensional vector space $V$ and choose a basis $e_1, \\ldots, e_n$. Define a \"multiplication\" operation between basis vectors by requiring that\n",
    "\n",
    "$$\n",
    "e_i \\wedge e_j = - e_j \\wedge e_i, \\forall i,j\n",
    "$$\n",
    "\n",
    "And extend linearly. Note that this definition implies $e_i \\wedge e_i = 0$ for all unit vectors.\n",
    "\n",
    "Consequently, the resulting algebra has elements of the form $e_i\\wedge e_j$ where $i \\neq j$, $e_i\\wedge e_j\\wedge e_k$ where $i,j,k$ are distinct and so on until the single element $e_1\\wedge, \\ldots \\wedge e_n$.\n",
    "\n",
    "*NOTE* that this definition appears to depend on the choice of basis and should be considered an *informal* definition. It is possible to formulate a basis independent definition, but it requires a bit more technical jargon.\n"
   ]
  },
  {
   "cell_type": "markdown",
   "id": "13e6e62a-f87e-4646-a21f-baf794952976",
   "metadata": {},
   "source": [
    "## Building the Clifford Algebras\n",
    "\n",
    "To form a Clifford algebra (informally), we start with a finite-dimensional vector space with a bilinear form that functions as an inner product.\n",
    "\n",
    "We pick a basis $e_1,\\ldots, e_n$ and define multiplication by setting $e_i^2 = 1$ if $|e_i| = 1$ and $e_i^2 = -1$ if $|e_i| = -1$\n",
    "We also postulate $e_i e_j = - e_j e_i, \\forall i \\neq j$.\n",
    "\n",
    "The Clifford Algebra $Cl(p,q)$ has p basis vectors that square to 1 and q that square to -1.\n",
    "\n",
    "Given these definitions, we can define multiplications between any two arbitrary vectors $v_1 v_2$. We find that \n",
    "$$\n",
    "v_1 v_2 = v_1 \\cdot v_2 + v_1 \\wedge v_2\n",
    "$$\n",
    "\n",
    "where $\\wedge$ is the antisymmetric wedge product of the Grassman algebra.\n",
    "\n",
    "Consequently, two vectors are orthogonal iff $ v_1 v_2 = v_1 \\wedge v_2$\n"
   ]
  },
  {
   "cell_type": "markdown",
   "id": "72161434-e748-4050-9afb-635ae27c061d",
   "metadata": {},
   "source": [
    "A general element of the Clifford algebra is written as \n",
    "\n",
    "$$\n",
    "v = a^0 + \\sum_i a^i e_i + \\sum_i a^{ij} e_i e_j + \\ldots a^{2n} e_1 \\ldots e_n\n",
    "$$\n",
    "\n",
    "Consequently, a Clifford Algebra of an $n$-dimensional vector space has dimension $2^n$."
   ]
  },
  {
   "cell_type": "markdown",
   "id": "6fec3668-37bb-44e3-89a2-0a79da81e520",
   "metadata": {},
   "source": [
    "Clifford Algebras have matrix representations just as groups. The Clifford algebra $Cl(2,0)$ over $\\mathbb{C}$ is represented by the Pauli matrices plus the identity matrix. This algebra has complex dimension 4, which is real dimension 8. The Clifford Algebra $Cl(3, 0)$ over $\\mathbb{R}$, representing the real rotations also has dimension $2^3 = 8$, which is not surprising.\n"
   ]
  },
  {
   "cell_type": "markdown",
   "id": "559086fe-6e32-4f6c-8a56-2e2eed19b338",
   "metadata": {},
   "source": [
    "The relativistic spacetime albebra is the algebra $Cl(1, 3)$ which has 4 basis vectors with $\\gamma^0, \\ldots, \\gamma^3$ with $(\\gamma^0)^2 = 1$ and $(\\gamma^i)^2 = -1$.\n",
    "\n",
    "This algebra has complex dimension $2^4 = 16$, so it has a complete basis of 16 elements. The Pauli matrices are the generators of the rotation group. The products of the gamma matrices are the generators of the Lorentz group (rotations and boosts).\n",
    "\n",
    "Vectors transforming according to one-sided Lorent transformations are Dirac Spinors."
   ]
  },
  {
   "cell_type": "markdown",
   "id": "e510ddbf-83c1-4b7f-b828-811adbbb3c9e",
   "metadata": {},
   "source": [
    "The elements $\\sigma^{\\mu\\nu} := \\frac{i}{2}[\\gamma^\\mu, \\gamma^\\nu]$ can be used as generators for the Lorent Group\n",
    "\n",
    "$$\n",
    "\\Sigma(\\Lambda) = e^{(-i/4)\\omega_{\\mu\\nu}\\sigma^{\\mu\\nu}}\n",
    "$$"
   ]
  },
  {
   "cell_type": "markdown",
   "id": "f21c39f2-f7b2-4ef5-a4c2-7f9cd71bd2bf",
   "metadata": {},
   "source": [
    "## Spinors as Minimal Ideals (Incomplete)\n",
    "\n",
    "Given an algebra $A$, an Left Ideal $I$ is a sub-algebra such that $aI = I, \\forall a \\in A$. A Right Ideal if $Ia = I, \\forall a \\in A$\n",
    "\n",
    "So an ideal is an absorbing set with respect to multiplication. The trivial ideal is $\\{0\\}\\$. An ideal is minimal if it does not contain any sub-ideals other than the trivial ideal.\n",
    "\n",
    "A Spinor in a Clifford algebra is a member of a minimal left ideal. A dual Spinor is a member of a minima right ideal. In matrix representations of the algebra spinors appear as matices with non-zero elements only in one column. This explains why Spinors appear as singe column elements."
   ]
  },
  {
   "cell_type": "markdown",
   "id": "648ee33a-fe10-4d79-b40d-f08da8ecc295",
   "metadata": {},
   "source": [
    "### Reading Material\n",
    "\n",
    "- Rubbia, Phenomenology of Particle Physics, Sections 8.1 - 8.6\n",
    "- Peskin, An Introduction to Quantum Field Theory, Sections 3.1 - 3.4\n",
    "- Jakob Schwichtenberg , No Nonsense QFT, Sections 3.3 - 3.4\n",
    "- Eigenchris, Spinors for Beginners: https://www.youtube.com/watch?v=j5soqexrwqY&list=PLJHszsWbB6hoOo_wMb0b6T44KM_ABZtBs"
   ]
  },
  {
   "cell_type": "code",
   "execution_count": null,
   "id": "92a95eb9-88c4-47ba-baaf-01d5c1b12919",
   "metadata": {},
   "outputs": [],
   "source": []
  }
 ],
 "metadata": {
  "kernelspec": {
   "display_name": "physics-with-friends",
   "language": "python",
   "name": "physics-with-friends"
  },
  "language_info": {
   "codemirror_mode": {
    "name": "ipython",
    "version": 3
   },
   "file_extension": ".py",
   "mimetype": "text/x-python",
   "name": "python",
   "nbconvert_exporter": "python",
   "pygments_lexer": "ipython3",
   "version": "3.11.9"
  }
 },
 "nbformat": 4,
 "nbformat_minor": 5
}
