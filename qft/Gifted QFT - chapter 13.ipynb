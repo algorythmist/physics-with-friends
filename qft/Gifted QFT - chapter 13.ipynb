{
 "cells": [
  {
   "cell_type": "markdown",
   "id": "e1ac8585-141c-4876-a0f7-58372c65f670",
   "metadata": {},
   "source": [
    "# QFT for the Gifted Amateur - Chapter 13 Exercises\n",
    "\n",
    "$\n",
    "\\newcommand{\\ket}[1]{\\left|{#1}\\right\\rangle}\n",
    "\\newcommand{\\bra}[1]{\\left\\langle{#1}\\right|}\n",
    "\\newcommand{\\braket}[2]{\\left\\langle{#1}\\middle|{#2}\\right\\rangle}\n",
    "$"
   ]
  },
  {
   "cell_type": "markdown",
   "id": "69604a36-c8f5-42e8-b6da-f87d6a72a63f",
   "metadata": {},
   "source": [
    "### Exercise 13.3\n",
    "\n",
    "$$\n",
    "P_L^2 = g_{bc}P_L^{ab}P_L^{cd} = \\frac{1}{p^4}g_{bc}p^a p^b p^c p^d = \\frac{1}{p^4}(g_{bc p^b p^c) }p^a p^d = \\frac{1}{p^2}p^a p^d = P_L\n",
    "$$\n",
    "\n",
    "and of course, $P_T = I - P_L$, so it's also a projection"
   ]
  },
  {
   "cell_type": "markdown",
   "id": "4e923601-daf6-4831-9c77-4b8720efdf24",
   "metadata": {},
   "source": [
    "### Exercise 13.4\n",
    "\n",
    "Show\n",
    "\n",
    "$$\n",
    "L = -\\frac{1}{4}F^{\\mu\\nu}F_{\\mu\\nu} = -\\frac{1}{2}(A_{\\nu,\\mu}A^{\\nu,\\mu} - A_{\\mu,\\nu}A^{\\mu,\\nu}) = \\frac{1}{2}A^{\\mu}P^T_{\\mu\\nu}\\partial^2A^{\\nu}\n",
    "$$\n",
    "\n",
    "#### Solution\n",
    "\n",
    "\\begin{eqnarray}\n",
    "F^{\\mu\\nu}F_{\\mu\\nu} &=& (A^{\\mu,\\nu} - A^{\\nu,\\mu})(A_{\\mu,\\nu} - A_{\\nu,\\mu})\\\\\n",
    "&=& A^{\\mu,\\nu} A_{\\mu,\\nu} + A^{\\nu,\\mu}A_{\\nu,\\mu} - A^{\\mu,\\nu}  A_{\\nu,\\mu} - A^{\\nu,\\mu}A_{\\mu,\\nu}\\\\\n",
    "&=& 2A^{\\mu,\\nu} A_{\\mu,\\nu}-2 A^{\\nu,\\mu}A_{\\mu,\\nu}\n",
    "\\end{eqnarray}\n",
    "\n",
    "where in the last step, we just swapped the indices of summation."
   ]
  },
  {
   "cell_type": "code",
   "execution_count": null,
   "id": "5250ee47-9657-4b92-9943-bd88aa413563",
   "metadata": {},
   "outputs": [],
   "source": []
  }
 ],
 "metadata": {
  "kernelspec": {
   "display_name": "physics-with-friends",
   "language": "python",
   "name": "physics-with-friends"
  },
  "language_info": {
   "codemirror_mode": {
    "name": "ipython",
    "version": 3
   },
   "file_extension": ".py",
   "mimetype": "text/x-python",
   "name": "python",
   "nbconvert_exporter": "python",
   "pygments_lexer": "ipython3",
   "version": "3.10.13"
  },
  "widgets": {
   "application/vnd.jupyter.widget-state+json": {
    "state": {},
    "version_major": 2,
    "version_minor": 0
   }
  }
 },
 "nbformat": 4,
 "nbformat_minor": 5
}
