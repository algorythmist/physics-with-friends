{
 "cells": [
  {
   "cell_type": "markdown",
   "id": "440f1517",
   "metadata": {},
   "source": [
    "# Guidry Chapter 7"
   ]
  },
  {
   "cell_type": "code",
   "execution_count": 2,
   "id": "51ce1b92",
   "metadata": {},
   "outputs": [],
   "source": [
    "import sympy\n",
    "from sympy import symbols, sin, cos, sinh, simplify\n",
    "from einsteinpy.symbolic import EinsteinTensor, MetricTensor\n",
    "\n",
    "from einsteinpy.symbolic.christoffel import ChristoffelSymbols\n",
    "\n",
    "sympy.init_printing()"
   ]
  },
  {
   "cell_type": "markdown",
   "id": "255c06c3",
   "metadata": {},
   "source": [
    "## Lagrangian Formulation\n",
    "\n",
    "$$\n",
    "L = \\left( g_{\\mu\\nu}\\dot{x}^\\mu\\dot{x}^\\nu \\right)^{\\frac{1}{2}} \n",
    "$$\n",
    "\n",
    "where $\\dot{x^\\mu} = dx^\\mu/ds$ \n",
    "\n",
    "### Euler Lagrange equations\n",
    "\n",
    "$$\n",
    "\\frac{d}{ds}\\frac{\\partial L}{\\partial \\dot{x}^\\mu} - \\frac{\\partial L}{\\partial x^\\mu} = 0\n",
    "$$\n"
   ]
  },
  {
   "cell_type": "markdown",
   "id": "5149cb00",
   "metadata": {},
   "source": [
    "## Christoffel symbols\n",
    "\n",
    "$$\n",
    "\\Gamma_{\\lambda\\mu}^\\sigma = \\frac{1}{2}\n",
    "g^{\\nu\\sigma}\\left(\n",
    "g_{\\mu\\nu,\\lambda}+g_{\\lambda\\nu,\\mu}-g_{\\mu\\lambda,\\nu}\n",
    "\\right)\n",
    "$$\n",
    "\n",
    "### Christoffel symbols for diagonal metric\n",
    "for $\\lambda \\neq \\mu \\neq \\sigma$ the symbols are 0.\n",
    "\n",
    "For $\\sigma \\neq \\mu$, \n",
    "\n",
    "$$\n",
    "\\Gamma^\\sigma_{\\mu\\mu} = -\\frac{1}{2}g^{\\sigma\\sigma}g_{\\mu\\mu,\\mu}\n",
    "$$\n",
    "\n",
    "For $\\lambda = \\mu = \\sigma$,\n",
    "\n",
    "$$\n",
    "\\Gamma^\\mu_{\\mu\\mu} = \\frac{1}{2}g^{\\mu\\mu}g_{\\mu\\mu,\\mu}\n",
    "$$\n",
    "\n",
    "For $\\sigma = \\mu \\neq \\lambda$,\n",
    "\n",
    "$$\n",
    "\\Gamma^\\mu_{\\lambda\\mu} = \\frac{1}{2}g^{\\mu\\mu}g_{\\mu\\mu,\\lambda}\n",
    "$$"
   ]
  },
  {
   "cell_type": "markdown",
   "id": "fded4c94",
   "metadata": {},
   "source": [
    "### Problem 7.2 \n",
    "\n",
    "Write an expression for the covariant derivative of $g_{\\mu\\nu}. Use general covariance and the principal of equivalence to show that it vanishes in all frames.\n",
    "\n",
    "#### Solution\n",
    "\n",
    "For a general 2-tensor, we have\n",
    "\n",
    "$$\n",
    "A^{ab}_{;c} = A^{ab}_{,c} + \\Gamma^b_{\\rho\\gamma}A^{a\\rho} + \\Gamma^a_{\\rho\\gamma}A^{\\rho b} \n",
    "$$\n",
    "\n",
    "Therefore \n",
    "\n",
    "$$\n",
    "g^{\\mu\\nu}_{;\\lambda} = g^{\\mu\\nu}_{,\\lambda} + \\Gamma^\\nu_{\\rho\\lambda}g^{\\mu\\rho} + \\Gamma^\\mu_{\\rho\\lambda}g^{\\rho \\nu} \n",
    "$$\n",
    "\n",
    "In an inertial frame, $g^{\\mu\\nu} = \\eta^{\\mu\\nu}$ and $\\Gamma = 0$. Therefore $g^{\\mu\\nu}_{;\\lambda} = 0$ on an intertial frame, which means that it vanishes on every frame."
   ]
  },
  {
   "cell_type": "markdown",
   "id": "c0628216",
   "metadata": {},
   "source": [
    "### Problem 7.4\n",
    "\n",
    "#### Solution\n",
    "\n",
    "The metric for $ds^2 = dr^2 + r^d\\theta^2$ is $diag(1, r^2)$, so the Lagrangian is:\n",
    "$$\n",
    "L = \\dot{r}^2 + r^2 \\dot{\\theta}^2\n",
    "$$\n",
    "\n",
    "We compute the four partial derivatives\n",
    "\n",
    "$$\n",
    "\\frac{\\partial L}{\\partial r} = 2r\\dot{\\theta}^2\\\\\n",
    "\\frac{\\partial L}{\\partial \\dot{r}} = 2\\dot{r}\\\\\n",
    "\\frac{\\partial L}{\\partial \\theta} =0\\\\\n",
    "\\frac{\\partial L}{\\partial \\dot{\\theta}} = 2r^2\\dot{\\theta}\n",
    "$$\n",
    "\n",
    "And plugging into the EL equations we get the \n",
    "\n",
    "$$\n",
    "\\ddot{\\theta} + \\dot{r}\\dot{\\theta}/r = 0\\\\\n",
    "\\ddot{r} - r\\dot{\\theta}^2 = 0\n",
    "$$\n",
    "\n",
    "and compare to the geodesic equation \n",
    "$$\n",
    "\\ddot{x}^\\lambda = \\Gamma^\\lambda_{\\mu\\nu}\\dot{x}^\\mu\\dot{x}^\\nu\n",
    "$$\n",
    "\n",
    "to get\n",
    "\n",
    "$$\n",
    "\\Gamma^r_{\\theta\\theta} = -r\\\\\n",
    "\\Gamma^{\\theta}_{r\\theta} = \\Gamma^{\\theta}_{\\theta r} = 1/r\n",
    "$$"
   ]
  },
  {
   "cell_type": "markdown",
   "id": "a1dfdb8e",
   "metadata": {},
   "source": [
    "### Problem 7.5 \n",
    "\n",
    "Find all non-vanishing Christoffel symbols for the metric $ds^2 = -dt^2+dr^2+(\\rho^2+r^2)(d\\theta^2 + sin^2\\theta d\\phi^2$"
   ]
  },
  {
   "cell_type": "code",
   "execution_count": 4,
   "id": "32dfa1b5",
   "metadata": {},
   "outputs": [],
   "source": [
    "# Setup the metric tensor\n",
    "\n",
    "syms = sympy.symbols(\"t r theta phi rho\")\n",
    "t, r, th, ph, rho = syms\n",
    "m = sympy.diag(-1, 1, r ** 2 + rho**2,  (r ** 2 + rho**2)*sin(th)**2 ).tolist()\n",
    "metric = MetricTensor(m, syms[0:4])"
   ]
  },
  {
   "cell_type": "code",
   "execution_count": 5,
   "id": "3b77b6ae",
   "metadata": {},
   "outputs": [
    {
     "data": {
      "image/png": "[encoded data removed]",
      "text/latex": [
       "$\\displaystyle \\left[\\begin{matrix}-1 & 0 & 0 & 0\\\\0 & 1 & 0 & 0\\\\0 & 0 & r^{2} + \\rho^{2} & 0\\\\0 & 0 & 0 & \\left(r^{2} + \\rho^{2}\\right) \\sin^{2}{\\left(\\theta \\right)}\\end{matrix}\\right]$"
      ],
      "text/plain": [
       "⎡-1  0     0             0        ⎤\n",
       "⎢                                 ⎥\n",
       "⎢0   1     0             0        ⎥\n",
       "⎢                                 ⎥\n",
       "⎢        2    2                   ⎥\n",
       "⎢0   0  r  + ρ           0        ⎥\n",
       "⎢                                 ⎥\n",
       "⎢                ⎛ 2    2⎞    2   ⎥\n",
       "⎣0   0     0     ⎝r  + ρ ⎠⋅sin (θ)⎦"
      ]
     },
     "execution_count": 5,
     "metadata": {},
     "output_type": "execute_result"
    }
   ],
   "source": [
    "metric.tensor()"
   ]
  },
  {
   "cell_type": "code",
   "execution_count": 6,
   "id": "72ce1c9e",
   "metadata": {},
   "outputs": [
    {
     "data": {
      "image/png": "[encoded data removed]",
      "text/latex": [
       "$\\displaystyle \\left[\\begin{matrix}\\left[\\begin{matrix}0 & 0 & 0 & 0\\\\0 & 0 & 0 & 0\\\\0 & 0 & 0 & 0\\\\0 & 0 & 0 & 0\\end{matrix}\\right] & \\left[\\begin{matrix}0 & 0 & 0 & 0\\\\0 & 0 & 0 & 0\\\\0 & 0 & - r & 0\\\\0 & 0 & 0 & - r \\sin^{2}{\\left(\\theta \\right)}\\end{matrix}\\right] & \\left[\\begin{matrix}0 & 0 & 0 & 0\\\\0 & 0 & \\frac{r}{r^{2} + \\rho^{2}} & 0\\\\0 & \\frac{r}{r^{2} + \\rho^{2}} & 0 & 0\\\\0 & 0 & 0 & - \\frac{\\sin{\\left(2 \\theta \\right)}}{2}\\end{matrix}\\right] & \\left[\\begin{matrix}0 & 0 & 0 & 0\\\\0 & 0 & 0 & \\frac{r}{r^{2} + \\rho^{2}}\\\\0 & 0 & 0 & \\frac{1}{\\tan{\\left(\\theta \\right)}}\\\\0 & \\frac{r}{r^{2} + \\rho^{2}} & \\frac{1}{\\tan{\\left(\\theta \\right)}} & 0\\end{matrix}\\right]\\end{matrix}\\right]$"
      ],
      "text/plain": [
       "⎡                                      ⎡0     0        0         0     ⎤  ⎡0  \n",
       "⎢                                      ⎢                               ⎥  ⎢   \n",
       "⎢                                      ⎢               r               ⎥  ⎢   \n",
       "⎢              ⎡0  0  0       0     ⎤  ⎢0     0     ───────      0     ⎥  ⎢0  \n",
       "⎢⎡0  0  0  0⎤  ⎢                    ⎥  ⎢             2    2            ⎥  ⎢   \n",
       "⎢⎢          ⎥  ⎢0  0  0       0     ⎥  ⎢            r  + ρ             ⎥  ⎢   \n",
       "⎢⎢0  0  0  0⎥  ⎢                    ⎥  ⎢                               ⎥  ⎢   \n",
       "⎢⎢          ⎥  ⎢0  0  -r      0     ⎥  ⎢      r                        ⎥  ⎢   \n",
       "⎢⎢0  0  0  0⎥  ⎢                    ⎥  ⎢0  ───────     0         0     ⎥  ⎢0  \n",
       "⎢⎢          ⎥  ⎢                2   ⎥  ⎢    2    2                     ⎥  ⎢   \n",
       "⎢⎣0  0  0  0⎦  ⎣0  0  0   -r⋅sin (θ)⎦  ⎢   r  + ρ                      ⎥  ⎢   \n",
       "⎢                                      ⎢                               ⎥  ⎢   \n",
       "⎢                                      ⎢                     -sin(2⋅θ) ⎥  ⎢0  \n",
       "⎢                                      ⎢0     0        0     ──────────⎥  ⎢   \n",
       "⎣                                      ⎣                         2     ⎦  ⎣   \n",
       "\n",
       "   0       0        0   ⎤⎤\n",
       "                        ⎥⎥\n",
       "                    r   ⎥⎥\n",
       "   0       0     ───────⎥⎥\n",
       "                  2    2⎥⎥\n",
       "                 r  + ρ ⎥⎥\n",
       "                        ⎥⎥\n",
       "                   1    ⎥⎥\n",
       "   0       0     ────── ⎥⎥\n",
       "                 tan(θ) ⎥⎥\n",
       "                        ⎥⎥\n",
       "   r       1            ⎥⎥\n",
       "───────  ──────     0   ⎥⎥\n",
       " 2    2  tan(θ)         ⎥⎥\n",
       "r  + ρ                  ⎦⎦"
      ]
     },
     "execution_count": 6,
     "metadata": {},
     "output_type": "execute_result"
    }
   ],
   "source": [
    "# Compute the Christoffel Symbols\n",
    "\n",
    "cs = ChristoffelSymbols.from_metric(metric)\n",
    "\n",
    "simplify(cs.tensor())"
   ]
  },
  {
   "cell_type": "markdown",
   "id": "de98731a",
   "metadata": {},
   "source": [
    "### Problem 7.6\n",
    "\n",
    "Find all non-vanishing Christoffel symbols for the metric $ds^2 = -dt^2+a(t)(dx^2+dy^2+dz^2)$"
   ]
  },
  {
   "cell_type": "code",
   "execution_count": 7,
   "id": "6524b398",
   "metadata": {},
   "outputs": [
    {
     "data": {
      "image/png": "[encoded data removed]",
      "text/latex": [
       "$\\displaystyle \\left[\\begin{matrix}-1 & 0 & 0 & 0\\\\0 & \\sin^{2}{\\left(t \\right)} & 0 & 0\\\\0 & 0 & \\sin^{2}{\\left(t \\right)} & 0\\\\0 & 0 & 0 & \\sin^{2}{\\left(t \\right)}\\end{matrix}\\right]$"
      ],
      "text/plain": [
       "⎡-1     0        0        0   ⎤\n",
       "⎢                             ⎥\n",
       "⎢       2                     ⎥\n",
       "⎢0   sin (t)     0        0   ⎥\n",
       "⎢                             ⎥\n",
       "⎢                2            ⎥\n",
       "⎢0      0     sin (t)     0   ⎥\n",
       "⎢                             ⎥\n",
       "⎢                         2   ⎥\n",
       "⎣0      0        0     sin (t)⎦"
      ]
     },
     "execution_count": 7,
     "metadata": {},
     "output_type": "execute_result"
    }
   ],
   "source": [
    "# Example: an oscillating universe\n",
    "\n",
    "syms = sympy.symbols(\"t r theta phi\")\n",
    "t, r, th, ph = syms\n",
    "m = sympy.diag(-1, sin(t)**2, sin(t)**2, sin(t)**2 ).tolist()\n",
    "metric = MetricTensor(m, syms)\n",
    "metric.tensor()"
   ]
  },
  {
   "cell_type": "code",
   "execution_count": 8,
   "id": "7d59d015",
   "metadata": {},
   "outputs": [
    {
     "data": {
      "image/png": "[encoded data removed]",
      "text/latex": [
       "$\\displaystyle \\left[\\begin{matrix}\\left[\\begin{matrix}0 & 0 & 0 & 0\\\\0 & \\frac{\\sin{\\left(2 t \\right)}}{2} & 0 & 0\\\\0 & 0 & \\frac{\\sin{\\left(2 t \\right)}}{2} & 0\\\\0 & 0 & 0 & \\frac{\\sin{\\left(2 t \\right)}}{2}\\end{matrix}\\right] & \\left[\\begin{matrix}0 & \\frac{1}{\\tan{\\left(t \\right)}} & 0 & 0\\\\\\frac{1}{\\tan{\\left(t \\right)}} & 0 & 0 & 0\\\\0 & 0 & 0 & 0\\\\0 & 0 & 0 & 0\\end{matrix}\\right] & \\left[\\begin{matrix}0 & 0 & \\frac{1}{\\tan{\\left(t \\right)}} & 0\\\\0 & 0 & 0 & 0\\\\\\frac{1}{\\tan{\\left(t \\right)}} & 0 & 0 & 0\\\\0 & 0 & 0 & 0\\end{matrix}\\right] & \\left[\\begin{matrix}0 & 0 & 0 & \\frac{1}{\\tan{\\left(t \\right)}}\\\\0 & 0 & 0 & 0\\\\0 & 0 & 0 & 0\\\\\\frac{1}{\\tan{\\left(t \\right)}} & 0 & 0 & 0\\end{matrix}\\right]\\end{matrix}\\right]$"
      ],
      "text/plain": [
       "⎡⎡0     0         0         0    ⎤                                            \n",
       "⎢⎢                               ⎥  ⎡          1         ⎤  ⎡             1   \n",
       "⎢⎢   sin(2⋅t)                    ⎥  ⎢  0     ──────  0  0⎥  ⎢  0     0  ──────\n",
       "⎢⎢0  ────────     0         0    ⎥  ⎢        tan(t)      ⎥  ⎢           tan(t)\n",
       "⎢⎢      2                        ⎥  ⎢                    ⎥  ⎢                 \n",
       "⎢⎢                               ⎥  ⎢  1                 ⎥  ⎢  0     0    0   \n",
       "⎢⎢             sin(2⋅t)          ⎥  ⎢──────    0     0  0⎥  ⎢                 \n",
       "⎢⎢0     0      ────────     0    ⎥  ⎢tan(t)              ⎥  ⎢  1              \n",
       "⎢⎢                2              ⎥  ⎢                    ⎥  ⎢──────  0    0   \n",
       "⎢⎢                               ⎥  ⎢  0       0     0  0⎥  ⎢tan(t)           \n",
       "⎢⎢                       sin(2⋅t)⎥  ⎢                    ⎥  ⎢                 \n",
       "⎢⎢0     0         0      ────────⎥  ⎣  0       0     0  0⎦  ⎣  0     0    0   \n",
       "⎣⎣                          2    ⎦                                            \n",
       "\n",
       "                            ⎤\n",
       "   ⎤  ⎡                1   ⎤⎥\n",
       "  0⎥  ⎢  0     0  0  ──────⎥⎥\n",
       "   ⎥  ⎢              tan(t)⎥⎥\n",
       "   ⎥  ⎢                    ⎥⎥\n",
       "  0⎥  ⎢  0     0  0    0   ⎥⎥\n",
       "   ⎥  ⎢                    ⎥⎥\n",
       "   ⎥  ⎢  0     0  0    0   ⎥⎥\n",
       "  0⎥  ⎢                    ⎥⎥\n",
       "   ⎥  ⎢  1                 ⎥⎥\n",
       "   ⎥  ⎢──────  0  0    0   ⎥⎥\n",
       "  0⎦  ⎣tan(t)              ⎦⎥\n",
       "                            ⎦"
      ]
     },
     "execution_count": 8,
     "metadata": {},
     "output_type": "execute_result"
    }
   ],
   "source": [
    "simplify(ChristoffelSymbols.from_metric(metric).tensor())"
   ]
  },
  {
   "cell_type": "markdown",
   "id": "252b27d0",
   "metadata": {},
   "source": [
    "### Problem 7.9\n",
    "\n",
    "Show \n",
    "\n",
    "$$\n",
    "\\Gamma_{\\lambda\\sigma}^\\sigma = \\frac{1}{2}\n",
    "g^{\\nu\\sigma}g_{\\sigma\\nu,\\lambda}\n",
    "$$\n",
    "\n",
    "\n",
    "#### Solution\n",
    "\n",
    "$$\n",
    "\\Gamma_{\\lambda\\sigma}^\\sigma = \\frac{1}{2}\n",
    "g^{\\nu\\sigma}\\left(\n",
    "g_{\\sigma\\nu,\\lambda}+g_{\\lambda\\nu,\\sigma}-g_{\\sigma\\lambda,\\nu}\n",
    "\\right)\n",
    "$$\n",
    "\n",
    "Look at \n",
    "\n",
    "$$\n",
    "g^{\\nu\\sigma}\\left(\n",
    "g_{\\lambda\\nu,\\sigma}-g_{\\sigma\\lambda,\\nu}\n",
    "\\right) = \n",
    "g^{\\nu\\sigma}g_{\\lambda\\nu,\\sigma} \n",
    "- \n",
    "g^{\\nu\\sigma}g_{\\sigma\\lambda,\\nu}\n",
    "$$\n",
    "\n",
    "In the first member, swap the indices $\\sigma, \\nu$\n",
    "\n",
    "$$\n",
    "g^{\\sigma\\nu}g_{\\lambda\\sigma,\\nu} \n",
    "- \n",
    "g^{\\nu\\sigma}g_{\\sigma\\lambda,\\nu}\n",
    "$$\n",
    "\n",
    "and use symmetry of the metric tensor to show they cancel out."
   ]
  },
  {
   "cell_type": "markdown",
   "id": "dd73395b",
   "metadata": {},
   "source": [
    "### Problem 7.20\n",
    "\n",
    "Derive $\\frac{dV}{d\\lambda} = \\left( \\partial_\\nu V^\\mu + \\Gamma^\\mu_{a\\nu} V^a\\right) u^\\nu e_\\mu$ (7.14)\n",
    "from $\\frac{dV}{d\\lambda} = \\frac{dV^\\mu}{d\\lambda} e_\\mu + \\frac{de_\\mu}{d\\lambda}V^\\mu$ (7.12)\n",
    "\n",
    "#### Solution\n",
    "\n",
    "$\\partial_\\nu e_mu$ lies on the space spanned by the $e_\\mu$, therefore it is a linear combination of the basis vectors:\n",
    "$\\partial_\\nu e_\\mu = \\Gamma^\\kappa_{\\mu\\nu} e_\\kappa$.\n",
    "\n",
    "Expanding the total derivatives in (7.12) we get\n",
    "\n",
    "$$\n",
    "\\frac{dV}{d\\lambda} = \\frac{dV^\\mu}{d\\lambda} e_\\mu + \\frac{de_\\mu}{d\\lambda}V^\\mu = \n",
    "\\partial_\\nu V^\\mu u^\\nu e_\\mu + V^\\mu \\partial_\\nu e_\\mu u^\\nu = \n",
    "\\partial_\\nu V^\\mu u^\\nu e_\\mu + V^\\mu \\Gamma^\\kappa_{\\mu\\nu} e_\\kappa u^\\nu\n",
    "$$\n",
    "\n",
    "where I have used $u^\\nu := \\frac{dx^\\nu}{d\\lambda}$\n",
    "\n",
    "In the above expression make the index substitutions $\\mu \\rightarrow a$ and $\\kappa \\rightarrow \\mu$ to get\n",
    "\n",
    "$$\n",
    "\\frac{dV}{d\\lambda} = u^\\nu e_\\mu \\left(\n",
    "\\partial_\\nu V^\\mu + \\Gamma^\\mu_{a\\nu} V^a \\right)\n",
    "$$\n",
    "\n",
    "from which it follows\n",
    "\n",
    "$$\n",
    "\\nabla_\\nu V^\\mu = \\partial_\\nu V^\\mu + \\Gamma^\\mu_{a\\nu} V^a\n",
    "$$"
   ]
  }
 ],
 "metadata": {
  "kernelspec": {
   "display_name": "differential-geometry",
   "language": "python",
   "name": "differential-geometry"
  },
  "language_info": {
   "codemirror_mode": {
    "name": "ipython",
    "version": 3
   },
   "file_extension": ".py",
   "mimetype": "text/x-python",
   "name": "python",
   "nbconvert_exporter": "python",
   "pygments_lexer": "ipython3",
   "version": "3.10.8"
  },
  "latex_envs": {
   "LaTeX_envs_menu_present": true,
   "autoclose": false,
   "autocomplete": true,
   "bibliofile": "biblio.bib",
   "cite_by": "apalike",
   "current_citInitial": 1,
   "eqLabelWithNumbers": true,
   "eqNumInitial": 1,
   "hotkeys": {
    "equation": "Ctrl-E",
    "itemize": "Ctrl-I"
   },
   "labels_anchors": false,
   "latex_user_defs": false,
   "report_style_numbering": false,
   "user_envs_cfg": false
  }
 },
 "nbformat": 4,
 "nbformat_minor": 5
}
