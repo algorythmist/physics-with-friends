{
 "cells": [
  {
   "cell_type": "markdown",
   "id": "460adad9",
   "metadata": {},
   "source": [
    "## Einstein Equations\n",
    "\n",
    "#### Riemann curvature tensor\n",
    "\n",
    "$$\n",
    "R^{\\sigma}_{\\mu\\nu\\lambda} = \\Gamma^{\\sigma}_{\\mu\\lambda,\\nu}-\\Gamma^{\\sigma}_{\\mu\\nu,\\lambda}\n",
    "+ \\Gamma^{\\sigma}_{\\alpha\\nu}\\Gamma^{\\alpha}_{\\mu\\lambda}-\\Gamma^{\\sigma}_{\\alpha\\lambda}\\Gamma^{\\alpha}_{\\mu\\nu}\n",
    "$$\n",
    "\n",
    "$$\n",
    "R_{\\sigma\\mu\\nu\\lambda}=R_{\\nu\\lambda\\sigma\\mu} = -R_{\\mu\\sigma\\nu\\lambda} = - R_{\\sigma\\mu\\lambda\\nu}\n",
    "$$\n",
    "\n",
    "$$\n",
    "R_{\\sigma\\mu\\nu\\lambda}+R_{\\sigma\\lambda\\mu\\nu}+R_{\\sigma\\nu\\lambda\\mu}=0\n",
    "$$"
   ]
  },
  {
   "cell_type": "markdown",
   "id": "ba1fb724",
   "metadata": {},
   "source": [
    "#### Ricci Tensor\n",
    "\n",
    "$$\n",
    "R_{\\mu\\nu}=R_{\\nu\\mu} = g^{\\lambda\\sigma}R_{\\lambda\\mu\\sigma\\nu} = \n",
    "\\Gamma^{\\lambda}_{\\mu\\nu,\\lambda}-\\Gamma^{\\lambda}_{\\mu\\lambda,\\nu}\n",
    "+ \\Gamma^{\\lambda}_{\\mu\\nu}\\Gamma^{\\sigma}_{\\lambda\\sigma}-\\Gamma^{\\sigma}_{\\mu\\lambda}\\Gamma^{\\lambda}_{\\nu\\sigma}\n",
    "$$\n",
    "\n",
    "$$\n",
    "R = R^{\\nu}_{\\nu} = g^{\\mu\\nu}R_{\\mu\\nu}\n",
    "$$"
   ]
  },
  {
   "cell_type": "markdown",
   "id": "d35eb0d0",
   "metadata": {},
   "source": [
    "#### Einstein Tensor\n",
    "\n",
    "$$\n",
    "G^{\\mu\\nu} = R^{\\mu\\nu} - \\frac{1}{2}g^{\\mu\\nu}R\n",
    "$$"
   ]
  },
  {
   "cell_type": "markdown",
   "id": "87a6dced",
   "metadata": {},
   "source": [
    "### Einstein Equations\n",
    "\n",
    "$$\n",
    "G_{\\mu\\nu} = \\frac{8\\pi G}{c^4}T_{\\mu\\nu} \n",
    "$$\n",
    "\n",
    "or\n",
    "\n",
    "$$\n",
    "R_{\\mu\\nu} = \\frac{8\\pi G}{c^4}\\left(T_{\\mu\\nu}-\\frac{1}{2}g_{\\mu\\nu}T^{\\lambda}_{\\lambda}\\right)\n",
    "$$"
   ]
  },
  {
   "cell_type": "markdown",
   "id": "cff3cff6",
   "metadata": {},
   "source": [
    "### Problem 8.1\n",
    "\n",
    "For a 2D metric of the form $ds^2 = -(dx_0)^2 + f(x_0)^2(dx_1)^2$, find he connection coefficients and $R^0_{101}$"
   ]
  },
  {
   "cell_type": "markdown",
   "id": "146fae04",
   "metadata": {},
   "source": [
    "#### Solution\n",
    "\n",
    "Using the equations for a diagonal metric (found in the chapter 7 notebook) we have:\n",
    "\n",
    "$\\Gamma^0_{00} = \\Gamma^1_{11} = 0$\n",
    "\n",
    "$\\Gamma^1_{00} = (-1/2)g^{00}g_{11,0} = 0$\n",
    "\n",
    "$\\Gamma^0_{11} = (-1/2)g^{00}g_{11,0} = (1/2)2f(x_0)f'(x_0) = f(x_0)f'(x_0) $\n",
    "\n",
    "$\\Gamma^0_{10} = (1/2)g^{00}g_{00,1} = 0$\n",
    "\n",
    "$\\Gamma^1_{01} = (1/2)g^{11}g_{11,0} = (1/2)\\frac{1}{f^2}2ff' = \\frac{f'}{f}$\n",
    "\n",
    "Using the definition of the curvature tensor \n",
    "\n",
    "$$\n",
    "R^0_{101} = \\Gamma^0_{11,0}-\\Gamma^0_{10,1}+\\Gamma^0_{a0}\\Gamma^a_{11}-\\Gamma^0_{a1}\\Gamma^a_{01} = \\\\\n",
    "(ff')' - 0+0- \\Gamma^0_{11}\\Gamma^1_{01} = \\\\\n",
    "(ff')' - (ff')(f'/f) = (f')^2 + ff'' - (f')^2 = ff''\n",
    "$$"
   ]
  },
  {
   "cell_type": "code",
   "execution_count": null,
   "id": "fad6a9cc",
   "metadata": {},
   "outputs": [],
   "source": []
  }
 ],
 "metadata": {
  "kernelspec": {
   "display_name": "physics-with-friends",
   "language": "python",
   "name": "physics-with-friends"
  },
  "language_info": {
   "codemirror_mode": {
    "name": "ipython",
    "version": 3
   },
   "file_extension": ".py",
   "mimetype": "text/x-python",
   "name": "python",
   "nbconvert_exporter": "python",
   "pygments_lexer": "ipython3",
   "version": "3.10.9"
  }
 },
 "nbformat": 4,
 "nbformat_minor": 5
}
