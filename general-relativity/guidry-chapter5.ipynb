{
 "cells": [
  {
   "cell_type": "markdown",
   "id": "856df3a8",
   "metadata": {},
   "source": [
    "# Guidry Chapter 5"
   ]
  },
  {
   "cell_type": "markdown",
   "id": "aee56afe",
   "metadata": {},
   "source": [
    "### Problem 5.11\n",
    "\n",
    "Given the transformation $x'^m = x^m + \\epsilon K^m$ show that for small $\\epsilon$,\n",
    "\n",
    "\\begin{equation}\\label{5.11.1}\n",
    "g_{mn}(x) = (\\delta^a_m + \\epsilon K^a_{,m})(\\delta^b_n + \\epsilon K^b_{,n} )\n",
    "g_{ab}(x')\n",
    "\\end{equation}\n",
    "\n",
    "\n",
    "Then by expending $g_{ab}(x')$ in a Taylor series show that this equation implies\n",
    "\n",
    "$$\n",
    "K_{m,n} + K_{n,m} + K^c g_{mn,c} = 0\n",
    "$$\n",
    "\n",
    "$$\n",
    "K_{m,n} + K_{n,m} + K^c g_{mn,c} = 0\n",
    "$$\n",
    "\n",
    "#### Solution}\n",
    "\n",
    "Equation (\\ref{5.11.1}) follows directly from the definition of the transformation.\n",
    "\n",
    "Carrying out the multiplication we get\n",
    "\n",
    "$$\n",
    "g_{mn}(x) = g_{mn}(x') + \\epsilon g_{mb}(x')K^b_{,n} + \\epsilon g_{an}(x')K^a_{,m}\n",
    "$$\n",
    "\n",
    "Whereas by Taylor expansion\n",
    "\n",
    "$$\n",
    "g_{mn}(x') = g_{mn}(x) + \\epsilon K^c g_{mn,c} + O(\\epsilon^2)\n",
    "$$\n",
    "\n",
    "Plugging this into the previous equation and retaining only terms $O(\\epsilon)$ we get\n",
    "\n",
    "$$\n",
    "g_{mn}(x) = g_{mn}(x) + \\epsilon \n",
    "\\left( K^cg_{mn,c} + g_{mb} K^b_{,n} + g_{an}K^a_{,m} \\right)\n",
    "$$\n",
    "\n",
    "Which implies \n",
    "\n",
    "$$\n",
    "0 = K^cg_{mn,c} + g_{mb} K^b_{,n} + g_{an}K^a_{,m} = K^cg_{mn,c} + K_{m,n} + K_{n,m}\n",
    "$$\n"
   ]
  },
  {
   "cell_type": "markdown",
   "id": "ec57e6ba",
   "metadata": {},
   "source": [
    "### Problem 5.12\n",
    "Show that the equation derived in problem 5.11 is equivalent to Killing's equation\n",
    "\n",
    "$$\n",
    "K_{m;n} + K_{n;m} = 0\n",
    "$$\n",
    "\n",
    "#### Solution\n",
    "\n",
    "As the hint suggests, we have to accept these two theorems without proof:\\\\\n",
    "\n",
    "1) The covariant derivative of the metric tensor vanishes\\\\\n",
    "\n",
    "2) In the expression for Lie derivative normal derivatives can be replaced with covariant derivatives because the cross-terms magically cancel out.\\\\\n",
    "\n",
    "\\begin{eqnarray}\n",
    "L_K g &=& K^ag_{mn,a} + g_{ma}K^a_{,n} + g_{an}K^a_{,m} = 0 \\implies\\\\\n",
    "&& K^ag_{mn;a} + g_{ma}K^a_{;n} + g_{an}K^a_{;m} = 0\n",
    "\\end{eqnarray}\n",
    "\n",
    "Where I have used assumption (2) to replace ordinary with Lie derivatives.\n",
    "Now given assumption (1), $g_{mn;a} = $, which means\n",
    "\n",
    "$$\n",
    "g_{ma}K^a_{;n} + g_{an}K^a_{;m} = 0 \\implies\n",
    "K_{m;n} + K_{n;m} = 0\n",
    "$$\n",
    "\n"
   ]
  },
  {
   "cell_type": "code",
   "execution_count": null,
   "id": "214deeed",
   "metadata": {},
   "outputs": [],
   "source": []
  }
 ],
 "metadata": {
  "kernelspec": {
   "display_name": "Python 3 (ipykernel)",
   "language": "python",
   "name": "python3"
  },
  "language_info": {
   "codemirror_mode": {
    "name": "ipython",
    "version": 3
   },
   "file_extension": ".py",
   "mimetype": "text/x-python",
   "name": "python",
   "nbconvert_exporter": "python",
   "pygments_lexer": "ipython3",
   "version": "3.9.12"
  },
  "latex_envs": {
   "LaTeX_envs_menu_present": true,
   "autoclose": false,
   "autocomplete": true,
   "bibliofile": "biblio.bib",
   "cite_by": "apalike",
   "current_citInitial": 1,
   "eqLabelWithNumbers": true,
   "eqNumInitial": 1,
   "hotkeys": {
    "equation": "Ctrl-E",
    "itemize": "Ctrl-I"
   },
   "labels_anchors": false,
   "latex_user_defs": false,
   "report_style_numbering": false,
   "user_envs_cfg": false
  }
 },
 "nbformat": 4,
 "nbformat_minor": 5
}
