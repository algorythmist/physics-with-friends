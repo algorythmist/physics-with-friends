{
 "cells": [
  {
   "cell_type": "markdown",
   "id": "856df3a8",
   "metadata": {},
   "source": [
    "# Guidry Chapter 4"
   ]
  },
  {
   "cell_type": "markdown",
   "id": "aee56afe",
   "metadata": {},
   "source": [
    "### Problem 4.1\n",
    "\n",
    "Show that the following Lorentz transformation leaves the line element invariant.\n",
    "\n",
    "$$\n",
    "cdt' = c\\cosh\\xi dt + \\sinh\\xi dx\\\\\n",
    "dx' = c \\sinh\\xi dt + \\cosh\\xi dx\n",
    "$$\n",
    "\n",
    "#### Solution\n",
    "\n",
    "$$\n",
    "ds'^2 = dx'^2 -c^2dt'^2 = \n",
    "\\\\c^2\\sinh^2\\xi dt^2 + \\cosh^2\\xi dx^2 + 2\\cosh\\xi\\sinh\\xi dxdt -\\\\\n",
    "(c^2\\cosh^2\\xi dt^2 + \\sinh^2\\xi dx^2 + 2\\cosh\\xi\\sinh\\xi dxdt) = \\\\\n",
    "dx^2(\\sinh^2 - \\cosh^2) - c^2dt^2(\\sinh^2 - \\cosh^2) = \\\\\n",
    "dx^2 - c^2dt^2 = ds^2\n",
    "$$\n"
   ]
  },
  {
   "cell_type": "markdown",
   "id": "ec57e6ba",
   "metadata": {},
   "source": [
    "### Problem 4.3\n",
    "\n",
    "Use the Loentz transformation (4.26) in differential form to derive the formula for relativistic addition of velocities.\n",
    "\n",
    "$$\n",
    "t' = \\gamma\\left(t - \\frac{vx}{c^2}\\right)\\\\\n",
    "x' = \\gamma(x-vt)\n",
    "$$\n",
    "\n",
    "#### Solution\n",
    "\n",
    "\n",
    "(4.26) in differential form:\n",
    "\n",
    "$$\n",
    "dt' = \\gamma dt - \\gamma\\frac{v}{c^2}dx\\\\\n",
    "dx' = \\gamma dx- \\gamma vdt\n",
    "$$\n",
    "\n",
    "$$\n",
    "v' \\equiv \\frac{dx'}{dt'} = \\frac{dx-v}{dt - v^2 dx} = \\\\\n",
    "\\frac{1}{dt} \\frac{dx-vdt}{1 - \\frac{vdx}{c^2 dt}}\n",
    "$$\n",
    "\n",
    "Now set $u = dx/dt$ to obtain\n",
    "\n",
    "$$\n",
    "v' = \\frac{1}{dt}\\frac{dx-vdt}{1-vu/c^2} = \\frac{u-v}{1-vu/c^2}\n",
    "$$"
   ]
  },
  {
   "cell_type": "markdown",
   "id": "d79488aa",
   "metadata": {},
   "source": [
    "### Problem 4.5\n",
    "\n",
    "Show that a null vector is orthogonal to itself.\n",
    "\n",
    "#### Solution\n",
    "\n",
    "$$\n",
    "x^\\mu x_\\mu = h^{\\mu\\nu}x_\\mu x_\\nu = c^2t^2 - x^2 = 0\n",
    "$$"
   ]
  },
  {
   "cell_type": "markdown",
   "id": "c9ba88f4",
   "metadata": {},
   "source": [
    "### Problem 4.6\n",
    "\n",
    "What is the inverse of the transformation (4.20)?\n",
    "\n",
    "$$\n",
    "\\begin{pmatrix}cdt'\\\\ dx'\\end{pmatrix} = \n",
    "\\begin{pmatrix}\\cosh\\xi & \\sinh\\xi\\\\ \\sinh\\xi & \\cosh\\xi \\end{pmatrix}\n",
    "\\begin{pmatrix}cdt \\\\  dx\\end{pmatrix}\n",
    "$$\n",
    "\n",
    "Show that it corresponds to a rotation through an imaginary angle.\n",
    "\n",
    "#### Solution\n",
    "\n",
    "The inverse of the matrix above is given by \n",
    "\n",
    "$$\n",
    "\\frac{1}{\\cosh^2\\xi - \\sinh^2\\xi}\n",
    "\\begin{pmatrix}\\cosh\\xi & -\\sinh\\xi\\\\ -\\sinh\\xi & \\cosh\\xi \\end{pmatrix}= \\\n",
    "\\begin{pmatrix}\\cosh\\xi & -\\sinh\\xi\\\\ -\\sinh\\xi & \\cosh\\xi \\end{pmatrix}\n",
    "$$\n",
    "\n",
    "To see that this is a rotation by an imaginary angle, note that $\\cos\\phi = \\frac{1}{2}(e^{i\\phi}+e^{-i\\phi}) = \\cosh(i\\phi)$"
   ]
  },
  {
   "cell_type": "markdown",
   "id": "d9505947",
   "metadata": {},
   "source": [
    "### Problem 4.9 \n",
    "\n",
    "#### Solution hint\n",
    "\n",
    "Use (4.15) "
   ]
  }
 ],
 "metadata": {
  "kernelspec": {
   "display_name": "Python 3 (ipykernel)",
   "language": "python",
   "name": "python3"
  },
  "language_info": {
   "codemirror_mode": {
    "name": "ipython",
    "version": 3
   },
   "file_extension": ".py",
   "mimetype": "text/x-python",
   "name": "python",
   "nbconvert_exporter": "python",
   "pygments_lexer": "ipython3",
   "version": "3.10.9"
  },
  "latex_envs": {
   "LaTeX_envs_menu_present": true,
   "autoclose": false,
   "autocomplete": true,
   "bibliofile": "biblio.bib",
   "cite_by": "apalike",
   "current_citInitial": 1,
   "eqLabelWithNumbers": true,
   "eqNumInitial": 1,
   "hotkeys": {
    "equation": "Ctrl-E",
    "itemize": "Ctrl-I"
   },
   "labels_anchors": false,
   "latex_user_defs": false,
   "report_style_numbering": false,
   "user_envs_cfg": false
  }
 },
 "nbformat": 4,
 "nbformat_minor": 5
}
