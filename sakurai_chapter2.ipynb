{
 "cells": [
  {
   "cell_type": "markdown",
   "id": "45f3eaf0",
   "metadata": {},
   "source": [
    "# Sakurai Chapter 2"
   ]
  },
  {
   "cell_type": "code",
   "execution_count": 2,
   "id": "81a5dfad",
   "metadata": {},
   "outputs": [],
   "source": [
    "%load_ext autoreload\n",
    "%autoreload 2\n",
    "\n",
    "import sympy\n",
    "sympy.init_printing()"
   ]
  },
  {
   "cell_type": "markdown",
   "id": "62aeb11f",
   "metadata": {},
   "source": [
    "#### Define bras, kets, brackets\n",
    "$\n",
    "\\newcommand{\\ket}[1]{\\left|{#1}\\right\\rangle}\n",
    "\\newcommand{\\bra}[1]{\\left\\langle{#1}\\right|}\n",
    "\\newcommand{\\braket}[2]{\\left\\langle{#1}\\middle|{#2}\\right\\rangle}\n",
    "$"
   ]
  },
  {
   "cell_type": "markdown",
   "id": "c0ab7e56",
   "metadata": {},
   "source": [
    "## Schrodinger \n",
    "\n",
    "$$\n",
    "\\partial_tU(t)=HU(t) \\implies\\\\\n",
    "\\partial_tU(t)\\ket{\\psi}=HU(t)\\ket{\\psi} \\implies\\\\\n",
    "\\partial_t\\ket{\\psi(t)} = H\\ket{\\psi(t)}\n",
    "$$\n",
    "\n",
    "Time Evolution\n",
    "$$\n",
    "U(t, t_0) = e^{-\\frac{i}{\\hbar}\\int_{t_0}^tdsH(s)} \n",
    "$$\n",
    "If H is independent of time:\n",
    "$$\n",
    "U(t, t_0) = e^{-\\frac{i}{\\hbar}H(t-t_0)} \n",
    "$$"
   ]
  },
  {
   "cell_type": "markdown",
   "id": "eda5fc6e",
   "metadata": {},
   "source": [
    "### Notation\n",
    "\n",
    "$a(t), a_t$ by themselves or in kets represent a state at time t. $t_0$ is assumed 0 and ommited.\n",
    "\n",
    "The expectation of an operator $A$ in state $a$ is denoted by $<A>_a$ and consequently, \n",
    "$<A>_{a_t}$ for the state at time $t$."
   ]
  },
  {
   "cell_type": "markdown",
   "id": "b56b4c3d",
   "metadata": {},
   "source": [
    "Consequently, the equation for the evolution of the expectation in terms of energy eigenkets $\\ket{a}$ is\n",
    "$$\n",
    "<B>_t = \\sum_{nm}c_n\\bar{c_m}\\exp{\\left[-\\frac{i}{\\hbar}(E_n-E_m)t\\right]}\\bra{a_m}B\\ket{a_n}\n",
    "$$"
   ]
  },
  {
   "cell_type": "markdown",
   "id": "ce9f44f7",
   "metadata": {},
   "source": [
    "The probability of transitioning from state a to state b is $\\braket{a}{b}$\n",
    "and in particular the probability that a particle at state a will be at state $a_t$ after time t is \n",
    "$\\braket{a}{a_t} = \\bra{a}U_t\\ket{a}$"
   ]
  },
  {
   "cell_type": "markdown",
   "id": "7917177a",
   "metadata": {},
   "source": [
    "## Heisenberg\n",
    "\n",
    "$A_H(t) ≡ U^+(t)A_SU(t)$\n",
    "\n",
    "$\\ket{a}_H ≡ U^+(t)\\ket{a}$\n",
    "\n",
    "$$\n",
    "\\frac{dA_H}{dt} = \\frac{-i}{\\hbar}[A_H, H]\n",
    "$$"
   ]
  },
  {
   "cell_type": "markdown",
   "id": "35a73d8b",
   "metadata": {},
   "source": [
    "### Problem 2.2\n",
    "\n",
    "The operator is non-Hermitian leading to non-unitary time evolution"
   ]
  },
  {
   "cell_type": "markdown",
   "id": "bf130f86",
   "metadata": {},
   "source": [
    "### Problem 2.4: \n",
    "Derive the neutrino oscillation probability (2. 1 .65) and use it, along with the data\n",
    "in Figure 2.2, to estimate the values of $\\Delta m^2c^4$ (in units of eV2) and $\\theta$.\n",
    "\n",
    "$\n",
    "\\ket{\\nu_e} = cos\\theta\\ket{\\nu_1} - sin\\theta\\ket{\\nu_2}\\\\\n",
    "\\ket{\\nu_{\\mu}} = sin\\theta\\ket{\\nu_1} + cos\\theta\\ket{\\nu_2}\n",
    "$\n",
    "\n",
    "The energy (mass) eigenvalues are given by:\n",
    "\n",
    "$E = pc\\left(1+\\frac{m^2c^2}{2p^2}\\right)$ (1)\n",
    "\n",
    "Time evolution of the state starting at $\\ket{\\nu_e}$:\n",
    "\n",
    "$\n",
    "\\ket{\\nu(t)} = e^{-itH/\\hbar}(cos\\theta\\ket{\\nu_1} - sin\\theta\\ket{\\nu_2}) = \\\\\n",
    "cos\\theta e^{-itE_1/\\hbar}\\ket{\\nu_1} - sin\\theta e^{-itE_2/\\hbar}\\ket{\\nu_2}\n",
    "$\n",
    "\n",
    "The probability that the particle will be measured in state $\\ket{\\nu_e}$ at time t is $|\\braket{\\nu_e}{\\nu(t)}|^2$\n",
    "\n",
    "$$\n",
    "\\braket{\\nu_e}{\\nu(t)} = \\\\\n",
    "(cos\\theta\\bra{\\nu_1} - sin\\theta\\bra{\\nu_2})(cos\\theta e^{-itE_1/\\hbar}\\ket{\\nu_1} - sin\\theta e^{-itE_2/\\hbar}\\ket{\\nu_2}) = \\\\\n",
    "cos^2θe^{-itE_1/\\hbar} +sin^2\\theta e^{-itE_2/\\hbar}\n",
    "$$\n",
    "\n",
    "$$\n",
    "cos^2θe^{-itE_1/\\hbar} +sin^2\\theta e^{-itE_2/\\hbar}\n",
    "$$\n",
    "\n",
    "Set $\\lambda_i = e^{-it/\\hbar E_i}$\n",
    "\n",
    "$$\n",
    "|\\braket{\\nu_e}{\\nu(t)}|^2 = (cos^2θ \\bar{\\lambda_1} +sin^2\\theta \\bar{\\lambda_2})(cos^2θ \\lambda_1 +sin^2\\theta \\lambda_2)\\\\\n",
    "= cos^4θ + sin^4\\theta + 2sin^2\\theta cos^2\\theta Re(\\lambda_1\\bar{\\lambda_2})\\\\\n",
    "= cos^4θ + sin^4\\theta + 2sin^2\\theta cos^2\\theta cos(t \\Delta E/\\hbar)\n",
    "$$\n",
    "\n",
    "observe that\n",
    "\n",
    "$1 = (sin^2\\theta + cos^2\\theta)^2 = sin^4\\theta + cos^4\\theta + 2sin^2\\theta cos^2\\theta$\n",
    "\n",
    "so\n",
    "$sin^4\\theta + cos^4\\theta = 1- 2sin^2\\theta cos^2\\theta$\n",
    "\n",
    "\n",
    "consequently\n",
    "\n",
    "$$\n",
    "|\\braket{\\nu_e}{\\nu(t)}|^2  = 1- 2sin^2\\theta cos^2\\theta + 2sin^2\\theta cos^2\\theta cos(t \\Delta E/\\hbar)\n",
    "$$\n",
    "\n",
    "Also, by (1) $\\Delta E = \\frac{c^3}{2p} \\Delta m^2 = \\frac{c^4}{2pc} \\Delta m^2$\n"
   ]
  },
  {
   "cell_type": "markdown",
   "id": "0a53b8d9",
   "metadata": {},
   "source": [
    "### Problem 2.5\n",
    "\n",
    "$$\n",
    "\\dot{x} [x,H]/iℏ = [x,p^2]/2im\\hbarℏ = p/m\n",
    "$$\n",
    "\n",
    "so \n",
    "\n",
    "$$\n",
    "x(t) = x_0+p_0t/m\n",
    "$$\n",
    "\n",
    "$$\n",
    "[x(t),x(0)] = \\frac{t}{m}[p_0,x_0] = \\frac{-i\\hbar t}{m}\n",
    "$$"
   ]
  },
  {
   "cell_type": "markdown",
   "id": "927f2462",
   "metadata": {},
   "source": [
    "### Problem 2.6\n",
    "\n",
    "$$\n",
    "[H,x] = [p^2/2m,x]+[V(x),x] = \\frac{1}{2m}[p^2,x] = iℏ p/m\n",
    "$$\n",
    "\n",
    "$$\n",
    "[[H,x],x] = \\frac{i\\hbar}{m}[p,x] = \\frac{-\\hbar^2}{2m}\n",
    "$$"
   ]
  },
  {
   "cell_type": "markdown",
   "id": "a94916c8",
   "metadata": {},
   "source": [
    "### Problem 2.8\n",
    "\n",
    "From problem 2.5, we have $<x(t)> = <x_0>+<p_0>t/m = 0$ for all times,\n",
    "since $<x_0> = <p_0> = 0$.\n",
    "\n",
    "On the other hand\n",
    "\n",
    "$$\n",
    "<(\\Delta x)^2> = <x^2(t)> = <(x_0+\\frac{t}{m}p_0)^2> = \\\\\n",
    "<x_0^2> + \\frac{t^2}{m^2}<p_0^2> + \\frac{t}{m}<\\{x_0,p_0\\}>\n",
    "$$\n",
    "\n",
    "Note that $\\Delta x = x_0$ and $\\Delta p = p_0$. \n",
    "Also from problem 1.8, \n",
    "$$\n",
    "\\Delta p\\ket{\\phi} = \\lambda \\Delta x\\ket{\\phi} \\implies\\\\\n",
    "p_0\\ket{\\phi} = \\lambda x_0 \\ket{\\phi}\n",
    "$$\n",
    "\n",
    "Plugging in and calculating very carefully\n",
    "\n",
    "$$\n",
    "<x_0^2> + \\frac{t^2}{m^2}<p_0^2> + \\frac{t}{m}<\\{x_0,p_0\\}> = \\\\\n",
    "<x_0^2> + \\frac{t^2}{m^2} |\\lambda|^2 <x_0^2> + \\frac{t}{m}\\lambda<x_0^2>+ \\frac{t}{m}\\lambda^*<x_0^2> = \\\\\n",
    "<x_0^2> (1+|\\lambda|^2\\frac{t^2}{m^2})\n",
    "$$"
   ]
  },
  {
   "cell_type": "markdown",
   "id": "646375d4",
   "metadata": {},
   "source": [
    "### Problem 2.14\n",
    "\n",
    "Solve for x and p:\n",
    "\n",
    "$$\n",
    "\\hat{x} = \\sqrt{\\hbar/2mw}(a+a^{\\dagger})\n",
    "$$\n",
    "\n",
    "$$\n",
    "\\hat{p} = i\\sqrt{\\hbar mw/2}(a^{\\dagger} - a)\n",
    "$$\n",
    "\n",
    "$$\n",
    "\\hat{x}\\ket{n} =  \\sqrt{\\hbar/2mw}(\\sqrt{n}\\ket{n-1}  + \\sqrt{n+1}\\ket{n+1})\n",
    "$$\n",
    "\n",
    "$$\n",
    "\\hat{p}\\ket{n} =  i\\sqrt{\\hbar mw/2}(\\sqrt{n+1}\\ket{n+1} - \\sqrt{n}\\ket{n-1})\n",
    "$$\n",
    "\n",
    "The rest of the calculations follow from these"
   ]
  },
  {
   "cell_type": "code",
   "execution_count": null,
   "id": "49f3d1e3",
   "metadata": {},
   "outputs": [],
   "source": []
  }
 ],
 "metadata": {
  "kernelspec": {
   "display_name": "road2reality",
   "language": "python",
   "name": "road2reality"
  },
  "language_info": {
   "codemirror_mode": {
    "name": "ipython",
    "version": 3
   },
   "file_extension": ".py",
   "mimetype": "text/x-python",
   "name": "python",
   "nbconvert_exporter": "python",
   "pygments_lexer": "ipython3",
   "version": "3.9.12"
  }
 },
 "nbformat": 4,
 "nbformat_minor": 5
}
