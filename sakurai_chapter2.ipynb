{
 "cells": [
  {
   "cell_type": "code",
   "execution_count": 1,
   "id": "81a5dfad",
   "metadata": {},
   "outputs": [],
   "source": [
    "%load_ext autoreload\n",
    "%autoreload 2\n",
    "\n",
    "import sympy\n",
    "sympy.init_printing()"
   ]
  },
  {
   "cell_type": "markdown",
   "id": "62aeb11f",
   "metadata": {},
   "source": [
    "### Define bras, kets, brackets\n",
    "$\n",
    "\\newcommand{\\ket}[1]{\\left|{#1}\\right\\rangle}\n",
    "\\newcommand{\\bra}[1]{\\left\\langle{#1}\\right|}\n",
    "\\newcommand{\\braket}[2]{\\left\\langle{#1}\\middle|{#2}\\right\\rangle}\n",
    "$"
   ]
  },
  {
   "cell_type": "markdown",
   "id": "b56b4c3d",
   "metadata": {},
   "source": [
    "$$\n",
    "cos^2θe^{-itE_1/\\hbar} +sin^2\\theta e^{-itE_2/\\hbar}\n",
    "$$"
   ]
  },
  {
   "cell_type": "code",
   "execution_count": 2,
   "id": "21b52872",
   "metadata": {},
   "outputs": [
    {
     "data": {
      "image/png": "[encoded data removed]",
      "text/latex": [
       "$\\displaystyle e^{- \\frac{i E_{2} t}{h}} \\sin^{2}{\\left(\\theta \\right)} + e^{- \\frac{i E_{1} t}{h}} \\cos^{2}{\\left(\\theta \\right)}$"
      ],
      "text/plain": [
       " -ⅈ⋅E₂⋅t             -ⅈ⋅E₁⋅t         \n",
       " ────────            ────────        \n",
       "    h        2          h        2   \n",
       "ℯ        ⋅sin (θ) + ℯ        ⋅cos (θ)"
      ]
     },
     "execution_count": 2,
     "metadata": {},
     "output_type": "execute_result"
    }
   ],
   "source": [
    "theta,t,E1,E2,h = sympy.symbols('theta,t,E_1,E_2,h', real=True)\n",
    "v = sympy.cos(theta)**2*sympy.exp(-sympy.I*t*E1/h) + sympy.sin(theta)**2*sympy.exp(-sympy.I*t*E2/h)\n",
    "v"
   ]
  },
  {
   "cell_type": "markdown",
   "id": "bf130f86",
   "metadata": {},
   "source": [
    "#### Problem 2.4: \n",
    "Derive the neutrino oscillation probability (2. 1 .65) and use it, along with the data\n",
    "in Figure 2.2, to estimate the values of $\\Delta m^2c^4$ (in units of eV2) and $\\theta$.\n",
    "\n",
    "$\n",
    "\\ket{\\nu_e} = cos\\theta\\ket{\\nu_1} - sin\\theta\\ket{\\nu_2}\\\\\n",
    "\\ket{\\nu_{\\mu}} = sin\\theta\\ket{\\nu_1} + cos\\theta\\ket{\\nu_2}\n",
    "$\n",
    "\n",
    "The energy (mass) eigenvalues are given by:\n",
    "\n",
    "$E = pc\\left(1+\\frac{m^2c^2}{2p^2}\\right)$ (1)\n",
    "\n",
    "Time evolution of the state starting at $\\ket{\\nu_e}$:\n",
    "\n",
    "$\n",
    "\\ket{\\nu(t)} = e^{-itH/\\hbar}(cos\\theta\\ket{\\nu_1} - sin\\theta\\ket{\\nu_2}) = \\\\\n",
    "cos\\theta e^{-itE_1/\\hbar}\\ket{\\nu_1} - sin\\theta e^{-itE_2/\\hbar}\\ket{\\nu_2}\n",
    "$\n",
    "\n",
    "The probability that the particle will be measured in state $\\ket{\\nu_e}$ at time t is $|\\braket{\\nu_e}{\\nu(t)}|^2$\n",
    "\n",
    "$$\n",
    "\\braket{\\nu_e}{\\nu(t)} = \\\\\n",
    "(cos\\theta\\bra{\\nu_1} - sin\\theta\\bra{\\nu_2})(cos\\theta e^{-itE_1/\\hbar}\\ket{\\nu_1} - sin\\theta e^{-itE_2/\\hbar}\\ket{\\nu_2}) = \\\\\n",
    "cos^2θe^{-itE_1/\\hbar} +sin^2\\theta e^{-itE_2/\\hbar}\n",
    "$$\n",
    "\n",
    "$$\n",
    "cos^2θe^{-itE_1/\\hbar} +sin^2\\theta e^{-itE_2/\\hbar}\n",
    "$$\n",
    "\n",
    "Set $\\lambda_i = e^{-it/\\hbar E_i}$\n",
    "\n",
    "$$\n",
    "|\\braket{\\nu_e}{\\nu(t)}|^2 = (cos^2θ \\bar{\\lambda_1} +sin^2\\theta \\bar{\\lambda_2})(cos^2θ \\lambda_1 +sin^2\\theta \\lambda_2)\\\\\n",
    "= cos^4θ + sin^4\\theta + 2sin^2\\theta cos^2\\theta Re(\\lambda_1\\bar{\\lambda_2})\\\\\n",
    "= cos^4θ + sin^4\\theta + 2sin^2\\theta cos^2\\theta cos(t \\Delta E/\\hbar)\n",
    "$$\n",
    "\n",
    "observe that\n",
    "\n",
    "$1 = (sin^2\\theta + cos^2\\theta)^2 = sin^4\\theta + cos^4\\theta + 2sin^2\\theta cos^2\\theta$\n",
    "\n",
    "so\n",
    "$sin^4\\theta + cos^4\\theta = 1- 2sin^2\\theta cos^2\\theta$\n",
    "\n",
    "\n",
    "consequently\n",
    "\n",
    "$$\n",
    "|\\braket{\\nu_e}{\\nu(t)}|^2  = 1- 2sin^2\\theta cos^2\\theta + 2sin^2\\theta cos^2\\theta cos(t \\Delta E/\\hbar)\n",
    "$$\n",
    "\n",
    "Also, by (1) $\\Delta E = \\frac{c^3}{2p} \\Delta m^2 = \\frac{c^4}{2pc} \\Delta m^2$\n"
   ]
  },
  {
   "cell_type": "code",
   "execution_count": null,
   "id": "b6a7b8f6",
   "metadata": {},
   "outputs": [],
   "source": []
  },
  {
   "cell_type": "code",
   "execution_count": null,
   "id": "542dfba5",
   "metadata": {},
   "outputs": [],
   "source": []
  }
 ],
 "metadata": {
  "kernelspec": {
   "display_name": "road2reality",
   "language": "python",
   "name": "road2reality"
  },
  "language_info": {
   "codemirror_mode": {
    "name": "ipython",
    "version": 3
   },
   "file_extension": ".py",
   "mimetype": "text/x-python",
   "name": "python",
   "nbconvert_exporter": "python",
   "pygments_lexer": "ipython3",
   "version": "3.9.9"
  }
 },
 "nbformat": 4,
 "nbformat_minor": 5
}
