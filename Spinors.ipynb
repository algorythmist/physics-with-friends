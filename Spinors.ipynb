{
 "cells": [
  {
   "cell_type": "code",
   "execution_count": 1,
   "id": "232eefa3-6b65-43f1-809f-60e53dd080d3",
   "metadata": {},
   "outputs": [],
   "source": [
    "import sympy as sp"
   ]
  },
  {
   "cell_type": "markdown",
   "id": "a30e0efe-ef2d-4d95-935e-257cbad8b379",
   "metadata": {},
   "source": [
    "## The Rotation Group SO(3)\n",
    "\n",
    "Rotation matrix about the x-axis\n",
    "$$\n",
    "R_x = \\begin{bmatrix}\n",
    "1 & 0 & 0 \\\\\n",
    "0 & \\cos\\theta_x & -\\sin\\theta_x \\\\\n",
    "0 & \\sin\\theta_x & \\cos\\theta_x\n",
    "\\end{bmatrix}\n",
    "$$\n",
    "\n",
    "Rotation matrix about the y-axis\n",
    "$$\n",
    "R_y = \\begin{bmatrix}\n",
    "\\cos\\theta_y & 0 & \\sin\\theta_y \\\\\n",
    "0 & 1 & 0 \\\\\n",
    "-\\sin\\theta_y & 0 & \\cos\\theta_y\n",
    "\\end{bmatrix}\n",
    "$$\n",
    "\n",
    "Rotation matrix about the z-axis\n",
    "$$\n",
    "R_z = \\begin{bmatrix}\n",
    "\\cos\\theta_z & -\\sin\\theta_z & 0 \\\\\n",
    "\\sin\\theta_z & \\cos\\theta_z & 0 \\\\\n",
    "0 & 0 & 1\n",
    "\\end{bmatrix}\n",
    "$$\n",
    "\n"
   ]
  },
  {
   "cell_type": "code",
   "execution_count": 3,
   "id": "5d007b60-c37e-4304-a1f9-af4c67ecf6ac",
   "metadata": {},
   "outputs": [
    {
     "name": "stdout",
     "output_type": "stream",
     "text": [
      "⎡1     0        0    ⎤\n",
      "⎢                    ⎥\n",
      "⎢0  cos(θₓ)  -sin(θₓ)⎥\n",
      "⎢                    ⎥\n",
      "⎣0  sin(θₓ)  cos(θₓ) ⎦\n",
      "⎡cos(θ_y)   0  sin(θ_y)⎤\n",
      "⎢                      ⎥\n",
      "⎢    0      1     0    ⎥\n",
      "⎢                      ⎥\n",
      "⎣-sin(θ_y)  0  cos(θ_y)⎦\n",
      "⎡cos(θ_z)  -sin(θ_z)  0⎤\n",
      "⎢                      ⎥\n",
      "⎢sin(θ_z)  cos(θ_z)   0⎥\n",
      "⎢                      ⎥\n",
      "⎣   0          0      1⎦\n"
     ]
    }
   ],
   "source": [
    "import sympy as sp\n",
    "\n",
    "# Define the rotation angles as symbolic variables\n",
    "theta_x, theta_y, theta_z = sp.symbols('theta_x theta_y theta_z')\n",
    "\n",
    "# Rotation matrix about the X-axis\n",
    "R_x = sp.Matrix([\n",
    "    [1, 0, 0],\n",
    "    [0, sp.cos(theta_x), -sp.sin(theta_x)],\n",
    "    [0, sp.sin(theta_x), sp.cos(theta_x)]\n",
    "])\n",
    "\n",
    "# Rotation matrix about the Y-axis\n",
    "R_y = sp.Matrix([\n",
    "    [sp.cos(theta_y), 0, sp.sin(theta_y)],\n",
    "    [0, 1, 0],\n",
    "    [-sp.sin(theta_y), 0, sp.cos(theta_y)]\n",
    "])\n",
    "\n",
    "# Rotation matrix about the Z-axis\n",
    "R_z = sp.Matrix([\n",
    "    [sp.cos(theta_z), -sp.sin(theta_z), 0],\n",
    "    [sp.sin(theta_z), sp.cos(theta_z), 0],\n",
    "    [0, 0, 1]\n",
    "])\n",
    "\n",
    "# Display the rotation matrices\n",
    "sp.pprint(R_x, use_unicode=True)\n",
    "sp.pprint(R_y, use_unicode=True)\n",
    "sp.pprint(R_z, use_unicode=True)\n"
   ]
  },
  {
   "cell_type": "code",
   "execution_count": 4,
   "id": "06739b30-6f46-4f42-97c0-673a5bd36439",
   "metadata": {},
   "outputs": [
    {
     "data": {
      "text/latex": [
       "$\\displaystyle \\left[\\begin{matrix}\\cos{\\left(\\theta_{y} \\right)} \\cos{\\left(\\theta_{z} \\right)} & \\sin{\\left(\\theta_{x} \\right)} \\sin{\\left(\\theta_{y} \\right)} \\cos{\\left(\\theta_{z} \\right)} - \\sin{\\left(\\theta_{z} \\right)} \\cos{\\left(\\theta_{x} \\right)} & \\sin{\\left(\\theta_{x} \\right)} \\sin{\\left(\\theta_{z} \\right)} + \\sin{\\left(\\theta_{y} \\right)} \\cos{\\left(\\theta_{x} \\right)} \\cos{\\left(\\theta_{z} \\right)}\\\\\\sin{\\left(\\theta_{z} \\right)} \\cos{\\left(\\theta_{y} \\right)} & \\sin{\\left(\\theta_{x} \\right)} \\sin{\\left(\\theta_{y} \\right)} \\sin{\\left(\\theta_{z} \\right)} + \\cos{\\left(\\theta_{x} \\right)} \\cos{\\left(\\theta_{z} \\right)} & - \\sin{\\left(\\theta_{x} \\right)} \\cos{\\left(\\theta_{z} \\right)} + \\sin{\\left(\\theta_{y} \\right)} \\sin{\\left(\\theta_{z} \\right)} \\cos{\\left(\\theta_{x} \\right)}\\\\- \\sin{\\left(\\theta_{y} \\right)} & \\sin{\\left(\\theta_{x} \\right)} \\cos{\\left(\\theta_{y} \\right)} & \\cos{\\left(\\theta_{x} \\right)} \\cos{\\left(\\theta_{y} \\right)}\\end{matrix}\\right]$"
      ],
      "text/plain": [
       "Matrix([\n",
       "[cos(theta_y)*cos(theta_z), sin(theta_x)*sin(theta_y)*cos(theta_z) - sin(theta_z)*cos(theta_x),  sin(theta_x)*sin(theta_z) + sin(theta_y)*cos(theta_x)*cos(theta_z)],\n",
       "[sin(theta_z)*cos(theta_y), sin(theta_x)*sin(theta_y)*sin(theta_z) + cos(theta_x)*cos(theta_z), -sin(theta_x)*cos(theta_z) + sin(theta_y)*sin(theta_z)*cos(theta_x)],\n",
       "[            -sin(theta_y),                                          sin(theta_x)*cos(theta_y),                                           cos(theta_x)*cos(theta_y)]])"
      ]
     },
     "execution_count": 4,
     "metadata": {},
     "output_type": "execute_result"
    }
   ],
   "source": [
    "# Build the full rotation matrix\n",
    "\n",
    "R_z*R_y*R_x"
   ]
  },
  {
   "cell_type": "markdown",
   "id": "187c4b7e-517e-438e-82de-7ccd4b168bf0",
   "metadata": {},
   "source": [
    "SO(3) is a 3 dimensional Lie Group generated by the following matrices:\n"
   ]
  },
  {
   "cell_type": "code",
   "execution_count": 6,
   "id": "f5d364e9-c1de-4467-8dfc-95d7a324d324",
   "metadata": {},
   "outputs": [
    {
     "name": "stdout",
     "output_type": "stream",
     "text": [
      "⎡1     0        0    ⎤\n",
      "⎢                    ⎥\n",
      "⎢0  cos(θₓ)  -sin(θₓ)⎥\n",
      "⎢                    ⎥\n",
      "⎣0  sin(θₓ)  cos(θₓ) ⎦\n",
      "⎡cos(θ_y)   0  sin(θ_y)⎤\n",
      "⎢                      ⎥\n",
      "⎢    0      1     0    ⎥\n",
      "⎢                      ⎥\n",
      "⎣-sin(θ_y)  0  cos(θ_y)⎦\n",
      "⎡cos(θ_z)  -sin(θ_z)  0⎤\n",
      "⎢                      ⎥\n",
      "⎢sin(θ_z)  cos(θ_z)   0⎥\n",
      "⎢                      ⎥\n",
      "⎣   0          0      1⎦\n"
     ]
    }
   ],
   "source": [
    "#Example: Compute R_x from the generator\n",
    "\n",
    "L_x = sp.Matrix([\n",
    "    [0, 0, 0],\n",
    "    [0, 0, -1],\n",
    "    [0, 1, 0]\n",
    "])\n",
    "\n",
    "L_y = sp.Matrix([\n",
    "    [0, 0, 1],\n",
    "    [0, 0, 0],\n",
    "    [-1, 0, 0]\n",
    "])\n",
    "\n",
    "L_z = sp.Matrix([\n",
    "    [0, -1, 0],\n",
    "    [1, 0, 0],\n",
    "    [0, 0, 0]\n",
    "])\n",
    "\n",
    "sp.pprint(sp.simplify(sp.exp(theta_x*L_x)))\n",
    "sp.pprint(sp.simplify(sp.exp(theta_y*L_y)))\n",
    "sp.pprint(sp.simplify(sp.exp(theta_z*L_z)))"
   ]
  },
  {
   "cell_type": "markdown",
   "id": "a04e54da-081f-4235-b423-a6608a13d044",
   "metadata": {},
   "source": [
    "Note that $L_x, L_y, L_z$ form a basis for the so(3) algebra only when the algebra operation is the commutator [,]. Multiplying any of these basis matrices takes us outside the algebra, therefore multiplication is meaningless.\n",
    "\n",
    "For example:"
   ]
  },
  {
   "cell_type": "code",
   "execution_count": 8,
   "id": "6a4b7995-88c1-4473-9d30-87a7f2d07edf",
   "metadata": {},
   "outputs": [
    {
     "data": {
      "text/latex": [
       "$\\displaystyle \\left[\\begin{matrix}0 & 0 & 0\\\\1 & 0 & 0\\\\0 & 0 & 0\\end{matrix}\\right]$"
      ],
      "text/plain": [
       "Matrix([\n",
       "[0, 0, 0],\n",
       "[1, 0, 0],\n",
       "[0, 0, 0]])"
      ]
     },
     "execution_count": 8,
     "metadata": {},
     "output_type": "execute_result"
    }
   ],
   "source": [
    "# The product of L_x and L_y is not in so(3)\n",
    "L_x*L_y"
   ]
  },
  {
   "cell_type": "code",
   "execution_count": 9,
   "id": "004f043b-85f0-4913-bac7-dfdfcc38d0b0",
   "metadata": {},
   "outputs": [
    {
     "data": {
      "text/latex": [
       "$\\displaystyle \\left[\\begin{matrix}0 & -1 & 0\\\\1 & 0 & 0\\\\0 & 0 & 0\\end{matrix}\\right]$"
      ],
      "text/plain": [
       "Matrix([\n",
       "[0, -1, 0],\n",
       "[1,  0, 0],\n",
       "[0,  0, 0]])"
      ]
     },
     "execution_count": 9,
     "metadata": {},
     "output_type": "execute_result"
    }
   ],
   "source": [
    "# But the commutator is\n",
    "\n",
    "L_x*L_y - L_y*L_x"
   ]
  },
  {
   "cell_type": "markdown",
   "id": "cc59e4da-ec6f-4310-976a-1025ca64d2b6",
   "metadata": {},
   "source": [
    "# The Group SU(2)\n",
    "\n",
    "Next we are going to demo the isomorphism between so(3) and su(2) and therefore the group isomorphism between SO(3) and SU(2).\n",
    "Note, however, that even though they are isomorphic as groups, they are not homeomorphic as manifolds.\n",
    "\n",
    "We start by defining the generators of SU(2), namely the Pauli matrices, which form a basis for the su(2) algebra."
   ]
  },
  {
   "cell_type": "code",
   "execution_count": 11,
   "id": "31580f3f-05a6-4723-a17f-1521b84ff7f5",
   "metadata": {},
   "outputs": [
    {
     "name": "stdout",
     "output_type": "stream",
     "text": [
      "⎡0  1⎤\n",
      "⎢    ⎥\n",
      "⎣1  0⎦\n",
      "⎡0  -ⅈ⎤\n",
      "⎢     ⎥\n",
      "⎣ⅈ  0 ⎦\n",
      "⎡1  0 ⎤\n",
      "⎢     ⎥\n",
      "⎣0  -1⎦\n"
     ]
    }
   ],
   "source": [
    "# Define the Pauli matrices\n",
    "sigma_x = sp.Matrix([[0, 1], [1, 0]])\n",
    "sigma_y = sp.Matrix([[0, -sp.I], [sp.I, 0]])\n",
    "sigma_z = sp.Matrix([[1, 0], [0, -1]])\n",
    "\n",
    "# Display the Pauli matrices\n",
    "sp.pprint(sigma_x, use_unicode=True)\n",
    "sp.pprint(sigma_y, use_unicode=True)\n",
    "sp.pprint(sigma_z, use_unicode=True)"
   ]
  },
  {
   "cell_type": "code",
   "execution_count": 12,
   "id": "ea7079c5-a397-45d3-b1bb-e838abdf0299",
   "metadata": {},
   "outputs": [
    {
     "data": {
      "text/latex": [
       "$\\displaystyle \\left[\\begin{matrix}1.0 \\cos{\\left(0.5 \\theta_{x} \\right)} & 1.0 i \\sin{\\left(0.5 \\theta_{x} \\right)}\\\\1.0 i \\sin{\\left(0.5 \\theta_{x} \\right)} & 1.0 \\cos{\\left(0.5 \\theta_{x} \\right)}\\end{matrix}\\right]$"
      ],
      "text/plain": [
       "Matrix([\n",
       "[  1.0*cos(0.5*theta_x), 1.0*I*sin(0.5*theta_x)],\n",
       "[1.0*I*sin(0.5*theta_x),   1.0*cos(0.5*theta_x)]])"
      ]
     },
     "execution_count": 12,
     "metadata": {},
     "output_type": "execute_result"
    }
   ],
   "source": [
    "# Generate the corresponding rotation matrices\n",
    "\n",
    "sp.simplify(sp.exp(1j*sigma_x*(theta_x/2)))\n"
   ]
  },
  {
   "cell_type": "code",
   "execution_count": 13,
   "id": "4e667ca3-456f-41a4-b873-6895cc82f216",
   "metadata": {},
   "outputs": [
    {
     "data": {
      "text/latex": [
       "$\\displaystyle \\left[\\begin{matrix}1.0 \\cos{\\left(0.5 \\theta_{y} \\right)} & 1.0 \\sin{\\left(0.5 \\theta_{y} \\right)}\\\\- 1.0 \\sin{\\left(0.5 \\theta_{y} \\right)} & 1.0 \\cos{\\left(0.5 \\theta_{y} \\right)}\\end{matrix}\\right]$"
      ],
      "text/plain": [
       "Matrix([\n",
       "[ 1.0*cos(0.5*theta_y), 1.0*sin(0.5*theta_y)],\n",
       "[-1.0*sin(0.5*theta_y), 1.0*cos(0.5*theta_y)]])"
      ]
     },
     "execution_count": 13,
     "metadata": {},
     "output_type": "execute_result"
    }
   ],
   "source": [
    "sp.simplify(sp.exp(1j*sigma_y*(theta_y/2)))"
   ]
  },
  {
   "cell_type": "code",
   "execution_count": 14,
   "id": "a2b45b70-90b6-47ea-8339-ae1114195d24",
   "metadata": {},
   "outputs": [
    {
     "data": {
      "text/latex": [
       "$\\displaystyle \\left[\\begin{matrix}1.0 e^{0.5 i \\theta_{z}} & 0\\\\0 & 1.0 e^{- 0.5 i \\theta_{z}}\\end{matrix}\\right]$"
      ],
      "text/plain": [
       "Matrix([\n",
       "[1.0*exp(0.5*I*theta_z),                       0],\n",
       "[                     0, 1.0*exp(-0.5*I*theta_z)]])"
      ]
     },
     "execution_count": 14,
     "metadata": {},
     "output_type": "execute_result"
    }
   ],
   "source": [
    "sp.simplify(sp.exp(1j*sigma_z*(theta_z/2)))"
   ]
  },
  {
   "cell_type": "code",
   "execution_count": 15,
   "id": "161166e7-a90d-465c-9c95-819fdcf425f8",
   "metadata": {},
   "outputs": [
    {
     "data": {
      "text/latex": [
       "$\\displaystyle \\left[\\begin{matrix}\\cos{\\left(\\frac{\\theta_{x}}{2} \\right)} & i \\sin{\\left(\\frac{\\theta_{x}}{2} \\right)}\\\\i \\sin{\\left(\\frac{\\theta_{x}}{2} \\right)} & \\cos{\\left(\\frac{\\theta_{x}}{2} \\right)}\\end{matrix}\\right]$"
      ],
      "text/plain": [
       "Matrix([\n",
       "[  cos(theta_x/2), I*sin(theta_x/2)],\n",
       "[I*sin(theta_x/2),   cos(theta_x/2)]])"
      ]
     },
     "execution_count": 15,
     "metadata": {},
     "output_type": "execute_result"
    }
   ],
   "source": [
    "# Equivalently\n",
    "\n",
    "# Define the identity matrix\n",
    "I = sp.eye(2)\n",
    "\n",
    "# Rotation matrix about the x-axis\n",
    "U_x = sp.cos(theta_x / 2) * I + sp.I * sp.sin(theta_x / 2) * sigma_x\n",
    "\n",
    "# Rotation matrix about the y-axis\n",
    "U_y = sp.cos(theta_y/ 2) * I + sp.I * sp.sin(theta_y / 2) * sigma_y\n",
    "\n",
    "# Rotation matrix about the z-axis\n",
    "U_z = sp.cos(theta_z / 2) * I + sp.I * sp.sin(theta_z / 2) * sigma_z\n",
    "\n",
    "U_x"
   ]
  },
  {
   "cell_type": "code",
   "execution_count": 16,
   "id": "fcbf3bb6-4089-452a-974f-9c6f669da213",
   "metadata": {},
   "outputs": [
    {
     "data": {
      "text/latex": [
       "$\\displaystyle \\left[\\begin{matrix}\\cos{\\left(\\frac{\\theta_{y}}{2} \\right)} & \\sin{\\left(\\frac{\\theta_{y}}{2} \\right)}\\\\- \\sin{\\left(\\frac{\\theta_{y}}{2} \\right)} & \\cos{\\left(\\frac{\\theta_{y}}{2} \\right)}\\end{matrix}\\right]$"
      ],
      "text/plain": [
       "Matrix([\n",
       "[ cos(theta_y/2), sin(theta_y/2)],\n",
       "[-sin(theta_y/2), cos(theta_y/2)]])"
      ]
     },
     "execution_count": 16,
     "metadata": {},
     "output_type": "execute_result"
    }
   ],
   "source": [
    "U_y"
   ]
  },
  {
   "cell_type": "code",
   "execution_count": 17,
   "id": "6e0718f8-a1b7-43ec-a419-381300b67f39",
   "metadata": {},
   "outputs": [
    {
     "data": {
      "text/latex": [
       "$\\displaystyle \\left[\\begin{matrix}i \\sin{\\left(\\frac{\\theta_{z}}{2} \\right)} + \\cos{\\left(\\frac{\\theta_{z}}{2} \\right)} & 0\\\\0 & - i \\sin{\\left(\\frac{\\theta_{z}}{2} \\right)} + \\cos{\\left(\\frac{\\theta_{z}}{2} \\right)}\\end{matrix}\\right]$"
      ],
      "text/plain": [
       "Matrix([\n",
       "[I*sin(theta_z/2) + cos(theta_z/2),                                  0],\n",
       "[                                0, -I*sin(theta_z/2) + cos(theta_z/2)]])"
      ]
     },
     "execution_count": 17,
     "metadata": {},
     "output_type": "execute_result"
    }
   ],
   "source": [
    "U_z"
   ]
  },
  {
   "cell_type": "code",
   "execution_count": 18,
   "id": "3b3dbe6e-8e72-43f9-a1bc-44ba0ebdc837",
   "metadata": {},
   "outputs": [
    {
     "data": {
      "text/latex": [
       "$\\displaystyle \\left[\\begin{matrix}\\left(i \\sin{\\left(\\frac{\\theta_{x}}{2} \\right)} \\sin{\\left(\\frac{\\theta_{y}}{2} \\right)} + \\cos{\\left(\\frac{\\theta_{x}}{2} \\right)} \\cos{\\left(\\frac{\\theta_{y}}{2} \\right)}\\right) e^{\\frac{i \\theta_{z}}{2}} & \\left(i \\sin{\\left(\\frac{\\theta_{x}}{2} \\right)} \\cos{\\left(\\frac{\\theta_{y}}{2} \\right)} + \\sin{\\left(\\frac{\\theta_{y}}{2} \\right)} \\cos{\\left(\\frac{\\theta_{x}}{2} \\right)}\\right) e^{\\frac{i \\theta_{z}}{2}}\\\\\\left(i \\sin{\\left(\\frac{\\theta_{x}}{2} \\right)} \\cos{\\left(\\frac{\\theta_{y}}{2} \\right)} - \\sin{\\left(\\frac{\\theta_{y}}{2} \\right)} \\cos{\\left(\\frac{\\theta_{x}}{2} \\right)}\\right) e^{- \\frac{i \\theta_{z}}{2}} & - \\left(i \\sin{\\left(\\frac{\\theta_{x}}{2} \\right)} \\sin{\\left(\\frac{\\theta_{y}}{2} \\right)} - \\cos{\\left(\\frac{\\theta_{x}}{2} \\right)} \\cos{\\left(\\frac{\\theta_{y}}{2} \\right)}\\right) e^{- \\frac{i \\theta_{z}}{2}}\\end{matrix}\\right]$"
      ],
      "text/plain": [
       "Matrix([\n",
       "[ (I*sin(theta_x/2)*sin(theta_y/2) + cos(theta_x/2)*cos(theta_y/2))*exp(I*theta_z/2),   (I*sin(theta_x/2)*cos(theta_y/2) + sin(theta_y/2)*cos(theta_x/2))*exp(I*theta_z/2)],\n",
       "[(I*sin(theta_x/2)*cos(theta_y/2) - sin(theta_y/2)*cos(theta_x/2))*exp(-I*theta_z/2), -(I*sin(theta_x/2)*sin(theta_y/2) - cos(theta_x/2)*cos(theta_y/2))*exp(-I*theta_z/2)]])"
      ]
     },
     "execution_count": 18,
     "metadata": {},
     "output_type": "execute_result"
    }
   ],
   "source": [
    "sp.simplify(U_z*U_y*U_x)"
   ]
  },
  {
   "cell_type": "markdown",
   "id": "12e0e234-0f76-4369-b330-da0bdc7e05b8",
   "metadata": {},
   "source": [
    "SO(3) and SU(2) are isomorphic as groups because they obey the same multiplication law.\n",
    "\n",
    "But why are the angles in SU(2) divided by 2? The reason has two do with how vectors transform under SU(2).\n",
    "\n",
    "In order for a 3D vector $v = (x,y,z)$ in R3 to be rotated by SU(2), we must first transfrom it to an 2D complex matrix via \n",
    "\n",
    "$$\n",
    "V = x\\sigma_x + y\\sigma_y + x\\sigma_z = \n",
    "\\begin{bmatrix}\n",
    "z & x-iy\\\\\n",
    "x+iy & -z \\\\\n",
    "\\end{bmatrix}\n",
    "$$.\n",
    "\n",
    "The rotated vector $v' = Rv$ in SU(2) is given by $V' = UVU^\\dagger$."
   ]
  },
  {
   "cell_type": "code",
   "execution_count": 20,
   "id": "6654bc05-eefb-450e-91e4-ca2f9b818947",
   "metadata": {},
   "outputs": [
    {
     "data": {
      "text/latex": [
       "$\\displaystyle \\left[\\begin{matrix}Z & - 1.0 i Y + Z\\\\X + 1.0 i Y & Z\\end{matrix}\\right]$"
      ],
      "text/plain": [
       "Matrix([\n",
       "[          Z, -1.0*I*Y + Z],\n",
       "[X + 1.0*I*Y,            Z]])"
      ]
     },
     "execution_count": 20,
     "metadata": {},
     "output_type": "execute_result"
    }
   ],
   "source": [
    "X, Y, Z = sp.symbols('X,Y,Z')\n",
    "i = 1j\n",
    "\n",
    "V = sp.Matrix(\n",
    "    [[Z, Z - i*Y],[X+i*Y, Z]]\n",
    ")\n",
    "V"
   ]
  },
  {
   "cell_type": "code",
   "execution_count": 21,
   "id": "037de951-6c08-4991-8a01-6d1f81e434e7",
   "metadata": {},
   "outputs": [
    {
     "data": {
      "text/latex": [
       "$\\displaystyle \\left[\\begin{matrix}- \\sin{\\left(\\theta_{z} \\right)} + \\cos{\\left(\\theta_{z} \\right)}\\\\\\sin{\\left(\\theta_{z} \\right)} + \\cos{\\left(\\theta_{z} \\right)}\\\\1\\end{matrix}\\right]$"
      ],
      "text/plain": [
       "Matrix([\n",
       "[-sin(theta_z) + cos(theta_z)],\n",
       "[ sin(theta_z) + cos(theta_z)],\n",
       "[                           1]])"
      ]
     },
     "execution_count": 21,
     "metadata": {},
     "output_type": "execute_result"
    }
   ],
   "source": [
    "# Concrete Example: \n",
    "\n",
    "v = sp.Matrix([1,1,1])\n",
    "\n",
    "R_z*v"
   ]
  },
  {
   "cell_type": "code",
   "execution_count": 22,
   "id": "ee8573b6-d61a-4b92-a229-84f934ceee8c",
   "metadata": {},
   "outputs": [
    {
     "data": {
      "text/latex": [
       "$\\displaystyle \\left[\\begin{matrix}1 & 1 - i\\\\1 + i & -1\\end{matrix}\\right]$"
      ],
      "text/plain": [
       "Matrix([\n",
       "[    1, 1 - I],\n",
       "[1 + I,    -1]])"
      ]
     },
     "execution_count": 22,
     "metadata": {},
     "output_type": "execute_result"
    }
   ],
   "source": [
    "# Convert to 2x2 matrix\n",
    "\n",
    "V = sigma_x + sigma_y + sigma_z\n",
    "V\n"
   ]
  },
  {
   "cell_type": "code",
   "execution_count": 23,
   "id": "6ba3d8a1-383a-46bd-8db0-6b95b421b0ad",
   "metadata": {},
   "outputs": [
    {
     "data": {
      "text/latex": [
       "$\\displaystyle \\left[\\begin{matrix}e^{i \\left(\\frac{\\theta_{z}}{2} - \\frac{\\overline{\\theta_{z}}}{2}\\right)} & \\left(1 - i\\right) e^{i \\left(\\frac{\\theta_{z}}{2} + \\frac{\\overline{\\theta_{z}}}{2}\\right)}\\\\\\left(1 + i\\right) e^{i \\left(- \\frac{\\theta_{z}}{2} - \\frac{\\overline{\\theta_{z}}}{2}\\right)} & - e^{- i \\left(\\frac{\\theta_{z}}{2} - \\frac{\\overline{\\theta_{z}}}{2}\\right)}\\end{matrix}\\right]$"
      ],
      "text/plain": [
       "Matrix([\n",
       "[         exp(I*(theta_z/2 - conjugate(theta_z)/2)), (1 - I)*exp(I*(theta_z/2 + conjugate(theta_z)/2))],\n",
       "[(1 + I)*exp(I*(-theta_z/2 - conjugate(theta_z)/2)),       -exp(-I*(theta_z/2 - conjugate(theta_z)/2))]])"
      ]
     },
     "execution_count": 23,
     "metadata": {},
     "output_type": "execute_result"
    }
   ],
   "source": [
    "sp.simplify(U_z*V*U_z.H)"
   ]
  },
  {
   "cell_type": "markdown",
   "id": "024130d2-02d4-47e6-ad1f-bd74fb7bf89b",
   "metadata": {},
   "source": [
    "sympy did not simplify it enough, so let's simplify the rest manually:\n",
    "\n",
    "$$\n",
    "\\begin{bmatrix}\n",
    "1 & (1-i)e^{i\\theta_z}\\\\\n",
    "(1+i)e^{-i\\theta_z}& -1 \\\\\n",
    "\\end{bmatrix}\n",
    "$$\n",
    "\n",
    "so z = 1\n",
    "\n",
    "$$\n",
    "(1-i)(\\cos\\theta+i\\sin\\theta) = \\cos\\theta - \\sin\\theta +i(\\cos\\theta + \\sin\\theta) \n",
    "$$\n",
    "\n",
    "Giving the correct result $x = \\cos\\theta - \\sin\\theta, y = \\cos\\theta + \\sin\\theta$"
   ]
  },
  {
   "cell_type": "markdown",
   "id": "837eb69b-6e5e-4bf8-8655-004ad20dfa54",
   "metadata": {},
   "source": [
    "## Spinors in SU(2)\n",
    "\n",
    "A *Spinor* is a 2D complex vector that transforms by applying only one SU(2) element. \n",
    "\n",
    "$$\n",
    "\\begin{bmatrix}\n",
    "\\xi'_1\\\\\n",
    "\\xi'_2\\\\\n",
    "\\end{bmatrix} = \n",
    "U(\\theta)\\begin{bmatrix}\n",
    "\\xi_1\\\\\n",
    "\\xi_2\\\\\n",
    "\\end{bmatrix}\n",
    "$$\n",
    "\n",
    "A Dual spinor is given by right multiplication\n",
    "\n",
    "$$\n",
    "\\begin{bmatrix}\n",
    "\\xi^{*'}_1 &\n",
    "\\xi^{*'}_2\\\\\n",
    "\\end{bmatrix} = \n",
    "\\begin{bmatrix}\n",
    "\\xi^*_1 &\n",
    "\\xi^*_2\\\\\n",
    "\\end{bmatrix}\n",
    "U^\\dagger(\\theta)\n",
    "$$"
   ]
  },
  {
   "cell_type": "markdown",
   "id": "1096f443-a3d6-4391-95e6-3586aa6d471a",
   "metadata": {},
   "source": [
    "# Clifford Algebras\n",
    "\n",
    "Clifford algebra (Geometric algebra) generalizes vector spaces, tensor spaces, inner products, exterior products, complex numbers, quaternions, Pauli matrices, Dirac matrices, etc. It is therefore a natural mathematical language for several concepts in Physics."
   ]
  },
  {
   "cell_type": "markdown",
   "id": "26f9f08c-48b9-4ccd-9fa6-579faddf7b82",
   "metadata": {},
   "source": [
    "Recall: A **Vector Space** $V$ over a field $F$ is a group under commutative addition, which also has a multiplication operation \n",
    "\n",
    "$*: F \\times V \\rightarrow V$\n",
    "\n",
    "So if $a,b\\in F$ and $v_1, v_2 \\in V$, then $a v_1+b v_2 \\in V$.\n",
    "\n",
    "In Physics, $F$ is almost always $\\mathbb{R}$ or $\\mathbb{C}$"
   ]
  },
  {
   "cell_type": "markdown",
   "id": "ed04d352-9653-4a23-b994-4d5b5595c9c0",
   "metadata": {},
   "source": [
    "An **Algebra** is a vector space that also has a multiplication operation between vectors. The multiplication need not have inverses or unity. It may not be commutative or even associative.\n",
    "\n",
    "For example, the Lie algebras so(3) and su(2) that we encountered earlier have a non-commutative and non-associative operation $[.,.]$."
   ]
  },
  {
   "cell_type": "markdown",
   "id": "4cd151d8-921f-4509-b0b6-29c5c54a42df",
   "metadata": {},
   "source": [
    "## Warmup: Grassman (Exterior) Algebra\n",
    "\n",
    "This is an algebra encountered in differential geometry and integration over manifolds. To form the Grassman algebra, start with an n-dimensional vector space $V$ and choose a basis $e_1, \\ldots, e_n$. Define a \"multiplication\" operation between basis vectors by requiring that\n",
    "\n",
    "$$\n",
    "e_i \\wedge e_j = - e_j \\wedge e_i, \\forall i,j\n",
    "$$\n",
    "\n",
    "And extend linearly. Note that this definition implies $e_i \\wedge e_i = 0$ for all unit vectors.\n",
    "\n",
    "Consequently, the resulting algebra has elements of the form $e_i\\wedge e_j$ where $i \\neq j$, $e_i\\wedge e_j\\wedge e_k$ where $i,j,k$ are distinct and so on until the single element $e_1\\wedge, \\ldots \\wedge e_n$.\n",
    "\n",
    "*NOTE* that this definition appears to depend on the choice of basis and should be considered an *informal* definition. It is possible to formulate a basis independent definition, but it requires a bit more technical jargon.\n"
   ]
  },
  {
   "cell_type": "markdown",
   "id": "13e6e62a-f87e-4646-a21f-baf794952976",
   "metadata": {},
   "source": [
    "## Building the Clifford Algebras\n",
    "\n",
    "To form a Clifford algebra (informally), we start with a finite-dimensional vector space with a bilinear form that functions as an inner product.\n",
    "\n",
    "We pick a basis $e_1,\\ldots, e_n$ and define multiplication by setting $e_i^2 = 1$ if $|e_i| = 1$ and $e_i^2 = -1$ if $|e_i| = -1$\n",
    "We also postulate $e_i e_j = - e_j e_i, \\forall i \\neq j$.\n",
    "\n",
    "The Clifford Algebra $Cl(p,q)$ has p basis vectors that square to 1 and q that square to -1.\n",
    "\n",
    "Given these definitions, we can define multiplications between any two arbitrary vectors $v_1 v_2$. We find that \n",
    "$$\n",
    "v_1 v_2 = v_1 \\cdot v_2 + v_1 \\wedge v_2\n",
    "$$\n",
    "\n",
    "where $\\wedge$ is the antisymmetric wedge product of the Grassman algebra.\n",
    "\n",
    "Consequently, two vectors are orthogonal iff $ v_1 v_2 = v_1 \\wedge v_2$\n"
   ]
  },
  {
   "cell_type": "markdown",
   "id": "72161434-e748-4050-9afb-635ae27c061d",
   "metadata": {},
   "source": [
    "A general element of the Clifford algebra is written as \n",
    "\n",
    "$$\n",
    "v = a^0 + \\sum_i a^i e_i + \\sum_i a^{ij} e_i e_j + \\ldots a^{2n} e_1 \\ldots e_n\n",
    "$$\n",
    "\n",
    "Consequently, a Clifford Algebra of an $n$-dimensional vector space has dimension $2^n$."
   ]
  },
  {
   "cell_type": "markdown",
   "id": "6fec3668-37bb-44e3-89a2-0a79da81e520",
   "metadata": {},
   "source": [
    "Clifford Algebras have matrix representations just as groups. The Clifford algebra $Cl(2,0)$ over $\\mathbb{C}$ is represented by the Pauli matrices plus the identity matrix. This algebra has complex dimension 4, which is real dimension 8. The Clifford Algebra $Cl(3, 0)$ over $\\mathbb{R}$, representing the real rotations also has dimension $2^3 = 8$, which is not surprising.\n"
   ]
  },
  {
   "cell_type": "markdown",
   "id": "559086fe-6e32-4f6c-8a56-2e2eed19b338",
   "metadata": {},
   "source": [
    "The relativistic spacetime albebra is the algebra $Cl(1, 3)$ which has 4 basis vectors with $\\gamma^0, \\ldots, \\gamma^3$ with $(\\gamma^0)^2 = 1$ and $(\\gamma^i)^2 = -1$.\n",
    "\n",
    "This algebra has complex dimension $2^4 = 16$, so it has a complete basis of 16 elements. The Pauli matrices are the generators of the rotation group. The products of the gamma matrices are the generators of the Lorentz group (rotations and boosts).\n",
    "\n",
    "Vectors transforming according to one-sided Lorent transformations are Dirac Spinors."
   ]
  },
  {
   "cell_type": "markdown",
   "id": "e510ddbf-83c1-4b7f-b828-811adbbb3c9e",
   "metadata": {},
   "source": [
    "The elements $\\sigma^{\\mu\\nu} := \\frac{i}{2}[\\gamma^\\mu, \\gamma^\\nu]$ can be used as generators for the Lorent Group\n",
    "\n",
    "$$\n",
    "\\Sigma(\\Lambda) = e^{(-i/4)\\omega_{\\mu\\nu}\\sigma^{\\mu\\nu}}\n",
    "$$"
   ]
  },
  {
   "cell_type": "markdown",
   "id": "f21c39f2-f7b2-4ef5-a4c2-7f9cd71bd2bf",
   "metadata": {},
   "source": [
    "## Spinors as Minimal Ideals (Incomplete)\n",
    "\n",
    "Given an algebra $A$, an Left Ideal $I$ is a sub-algebra such that $aI = I, \\forall a \\in A$. A Right Ideal if $Ia = I, \\forall a \\in A$\n",
    "\n",
    "So an ideal is an absorbing set with respect to multiplication. The trivial ideal is $\\{0\\}\\$. An ideal is minimal if it does not contain any sub-ideals other than the trivial ideal.\n",
    "\n",
    "A Spinor in a Clifford algebra is a member of a minimal left ideal. A dual Spinor is a member of a minima right ideal. In matrix representations of the algebra spinors appear as matices with non-zero elements only in one column. This explains why Spinors appear as singe column elements."
   ]
  },
  {
   "cell_type": "markdown",
   "id": "648ee33a-fe10-4d79-b40d-f08da8ecc295",
   "metadata": {},
   "source": [
    "### Reading Material\n",
    "\n",
    "- Rubbia, Phenomenology of Particle Physics, Sections 8.1 - 8.6\n",
    "- Peskin, An Introduction to Quantum Field Theory, Sections 3.1 - 3.4\n",
    "- Jakob Schwichtenberg , No Nonsense QFT, Sections 3.3 - 3.4\n",
    "- Eigenchris, Spinors for Beginners: https://www.youtube.com/watch?v=j5soqexrwqY&list=PLJHszsWbB6hoOo_wMb0b6T44KM_ABZtBs"
   ]
  },
  {
   "cell_type": "code",
   "execution_count": null,
   "id": "92a95eb9-88c4-47ba-baaf-01d5c1b12919",
   "metadata": {},
   "outputs": [],
   "source": []
  }
 ],
 "metadata": {
  "kernelspec": {
   "display_name": "physics-with-friends",
   "language": "python",
   "name": "physics-with-friends"
  },
  "language_info": {
   "codemirror_mode": {
    "name": "ipython",
    "version": 3
   },
   "file_extension": ".py",
   "mimetype": "text/x-python",
   "name": "python",
   "nbconvert_exporter": "python",
   "pygments_lexer": "ipython3",
   "version": "3.11.9"
  }
 },
 "nbformat": 4,
 "nbformat_minor": 5
}
