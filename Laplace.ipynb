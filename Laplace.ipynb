{
 "cells": [
  {
   "cell_type": "markdown",
   "id": "835497e3-8d03-468f-92ce-2350a4d706c9",
   "metadata": {},
   "source": [
    "# The Laplace Transform"
   ]
  },
  {
   "cell_type": "markdown",
   "id": "feacb471-f222-4b4c-b5ce-e56bebd23c22",
   "metadata": {},
   "source": [
    "$$\n",
    "F(s) = \\mathcal{L}\\{f(t)\\} = \\int_{0}^{\\infty} e^{-st} f(t) \\, dt\n",
    "$$"
   ]
  },
  {
   "cell_type": "markdown",
   "id": "5c29471e-0737-473f-baa4-4fc748387926",
   "metadata": {},
   "source": [
    "$$\n",
    "\\mathcal{L}\\{D^n f(t)\\} = s^n F(s) - \\sum_{k=0}^{n-1} s^{n-k-1}f^{(k)}(0) \n",
    "$$"
   ]
  },
  {
   "cell_type": "markdown",
   "id": "b7705a15-18e6-48cb-a2cc-a351c0e2b552",
   "metadata": {},
   "source": [
    "$$\n",
    "\\mathcal{L}\\{I^n f(t)\\} = s^{-n} F(s)\n",
    "$$"
   ]
  },
  {
   "cell_type": "markdown",
   "id": "9a4f7732-9d71-4bde-9525-ba92b9f5095d",
   "metadata": {},
   "source": [
    "### Application\n",
    "\n",
    "Solve $P(D)f(t) = g(t)$  where $D = d/dt$ and $P$ is a polynomial.\n"
   ]
  },
  {
   "cell_type": "markdown",
   "id": "6e5b66ef-64ef-4486-81b4-3354eccf2222",
   "metadata": {},
   "source": [
    "Take LP of both sides\n",
    "\n",
    "$$\n",
    "F(s) = \\frac{G(s)-Q(s)}{P(s)}\n",
    "$$\n",
    "\n",
    "Where $Q(s)$ is a polynomial capturing the initial conditions"
   ]
  },
  {
   "cell_type": "markdown",
   "id": "61d47154-3a2b-4049-9aea-0e54c89f40f8",
   "metadata": {},
   "source": [
    "Since $P(s)$ is a complex polynomial is can be factored as $P(s) = (s-z_1)\\ldots(s-z_n)$"
   ]
  },
  {
   "cell_type": "markdown",
   "id": "75fa7f37-3bdb-4dc3-811b-e081c48db499",
   "metadata": {},
   "source": [
    "Furthermore, the expression $\\frac{1}{P(s)}= \\frac{1}{(s-z_1)\\ldots(s-z_n)}$ can be computed as a sum $\\frac{1}{P(s)} = \\frac{A_1(s)}{s-z_1} +\\ldots \\frac{A_n(s)}{s-z_n} $"
   ]
  },
  {
   "cell_type": "markdown",
   "id": "a47bcf71-a69c-4468-9172-01c2bc715c1a",
   "metadata": {},
   "source": [
    "Then the LP can be inverted in principle. For example, if $A_1(s)$ is a constant, then the inverse of $\\frac{A_1}{s-z_1}$ is $e^{-z_1 t}$"
   ]
  },
  {
   "cell_type": "markdown",
   "id": "b578ed73-7329-40e2-8b02-5bb08e745d2d",
   "metadata": {},
   "source": [
    "Alternatevely, having inverted each $A_k/(s-z_k$), the solution can be computed as a convolution \n",
    "\n",
    "For example, $g(t)*e^{-z_1 t}$"
   ]
  },
  {
   "cell_type": "markdown",
   "id": "033394ae-7329-442b-b18d-a1c4b362653c",
   "metadata": {},
   "source": [
    "**Careful with Double roots!**\n"
   ]
  },
  {
   "cell_type": "code",
   "execution_count": null,
   "id": "3c7aaa00-842c-49cf-ac9a-1b15c8428c20",
   "metadata": {},
   "outputs": [],
   "source": []
  }
 ],
 "metadata": {
  "kernelspec": {
   "display_name": "physics-with-friends",
   "language": "python",
   "name": "physics-with-friends"
  },
  "language_info": {
   "codemirror_mode": {
    "name": "ipython",
    "version": 3
   },
   "file_extension": ".py",
   "mimetype": "text/x-python",
   "name": "python",
   "nbconvert_exporter": "python",
   "pygments_lexer": "ipython3",
   "version": "3.11.9"
  }
 },
 "nbformat": 4,
 "nbformat_minor": 5
}
