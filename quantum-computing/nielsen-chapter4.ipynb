{
 "cells": [
  {
   "cell_type": "markdown",
   "id": "6a6c6c5e",
   "metadata": {},
   "source": [
    "# Quantum Computation and Quantum Information\n",
    "## Chapter 4 Problems"
   ]
  },
  {
   "cell_type": "code",
   "execution_count": 19,
   "id": "8edc9c9f",
   "metadata": {},
   "outputs": [],
   "source": [
    "import numpy as np\n",
    "\n",
    "I = np.matrix([[1, 0], [0, 1]])\n",
    "X = np.matrix([[0, 1], [1, 0]])\n",
    "Y = np.matrix([[0, -1j], [1j, 0]])\n",
    "Z = np.matrix([[1, 0], [0, -1]])\n",
    "H = np.matrix([[1, 1], [1, -1]])/np.sqrt(2)\n",
    "S= np.matrix([[1, 0], [0, 0+1j]])\n",
    "T = np.matrix([[1, 0], [0, np.exp(1j*np.pi/4)]])"
   ]
  },
  {
   "cell_type": "code",
   "execution_count": 17,
   "id": "8f09158b",
   "metadata": {},
   "outputs": [
    {
     "data": {
      "text/plain": [
       "matrix([[1.        +0.j        , 0.        +0.j        ],\n",
       "        [0.        +0.j        , 0.70710678+0.70710678j]])"
      ]
     },
     "execution_count": 17,
     "metadata": {},
     "output_type": "execute_result"
    }
   ],
   "source": [
    "T"
   ]
  },
  {
   "cell_type": "markdown",
   "id": "be1d0976",
   "metadata": {},
   "source": [
    "### Exercise 4.2\n",
    "\n",
    "$$\n",
    "exp(iAx) = \\sum_{n=0}^\\infty (iAx)^n/n! = \n",
    "exp(iAx) = \\sum_{n=0}^\\infty (iAx)^{2n}/(2n)! + \\sum_{n=0}^\\infty (iAx)^{2n+1}/(2n+1)! =\\\\\n",
    "\\sum_{n=0}^\\infty (-1)^n I (x)^{2n}/(2n)! + \\sum_{n=0}^\\infty iA (-1)^n x^{2n+1}/(2n+1)! =\\\\\n",
    "I\\cos(x) + iA\\sin(x)\n",
    "$$"
   ]
  },
  {
   "cell_type": "markdown",
   "id": "b2e8ae08",
   "metadata": {},
   "source": [
    "### Exercise 4.3\n",
    "\n",
    "$$\n",
    "T =\\begin{bmatrix}\n",
    "1 & 0\\\\0 & e^{i\\pi/4}\n",
    "\\end{bmatrix} \n",
    "= e^{i\\pi/8}\n",
    "\\begin{bmatrix}\n",
    "e^{-i\\pi/8} & 0\\\\0 & e^{i\\pi/8}\n",
    "\\end{bmatrix} \n",
    "= e^{i\\pi/8} R_z(\\pi/4)\n",
    "$$"
   ]
  },
  {
   "cell_type": "code",
   "execution_count": 3,
   "id": "5861f873",
   "metadata": {},
   "outputs": [],
   "source": []
  },
  {
   "cell_type": "markdown",
   "id": "b756b147",
   "metadata": {},
   "source": [
    "### Exercise 4.5\n",
    "\n",
    "$$\n",
    "(n\\cdot \\sigma)^2 = \\sum_{ij}n_i\\sigma_i n_j\\sigma_j = \\sum_{ij}n_i n_j \\delta_{ij}I = \n",
    "\\sum_i n_i^2 I = I \n",
    "$$"
   ]
  },
  {
   "cell_type": "markdown",
   "id": "b9fe04f9",
   "metadata": {},
   "source": [
    "### Exercise 4.7"
   ]
  },
  {
   "cell_type": "code",
   "execution_count": 4,
   "id": "ee7788e4",
   "metadata": {},
   "outputs": [
    {
     "data": {
      "text/plain": [
       "matrix([[0.+0.j, 0.+1.j],\n",
       "        [0.-1.j, 0.+0.j]])"
      ]
     },
     "execution_count": 4,
     "metadata": {},
     "output_type": "execute_result"
    }
   ],
   "source": [
    "X*Y*X"
   ]
  },
  {
   "cell_type": "markdown",
   "id": "a4430dc4",
   "metadata": {},
   "source": [
    "The result also follows directly from the fact that the Pauli matrices anti-commute and have square I.\n",
    "\n",
    "Now we can use $R_y(\\theta) = I\\cos(\\theta/2) - iY\\sin(\\theta/2)$, so that \n",
    "\n",
    "$$\n",
    "X R_y(\\theta) X) = X^2\\cos(\\theta/2) - iXYX\\sin(\\theta/2) = I\\cos(\\theta/2)+iY\\sin(\\theta/2) =\\\\\n",
    "I\\cos(-\\theta/2)-iY\\sin(-\\theta/2) = R_y(-\\theta)\n",
    "$$"
   ]
  },
  {
   "cell_type": "markdown",
   "id": "4e3b6770",
   "metadata": {},
   "source": [
    "### Exercise 4.13"
   ]
  },
  {
   "cell_type": "code",
   "execution_count": 8,
   "id": "d5da52c4",
   "metadata": {},
   "outputs": [
    {
     "data": {
      "text/plain": [
       "matrix([[ 1.,  0.],\n",
       "        [ 0., -1.]])"
      ]
     },
     "execution_count": 8,
     "metadata": {},
     "output_type": "execute_result"
    }
   ],
   "source": [
    "H*X*H"
   ]
  },
  {
   "cell_type": "code",
   "execution_count": 11,
   "id": "a4b005d1",
   "metadata": {},
   "outputs": [
    {
     "data": {
      "text/plain": [
       "matrix([[0.-0.j, 0.+1.j],\n",
       "        [0.-1.j, 0.+0.j]])"
      ]
     },
     "execution_count": 11,
     "metadata": {},
     "output_type": "execute_result"
    }
   ],
   "source": [
    "np.round(H*Y*H)"
   ]
  },
  {
   "cell_type": "code",
   "execution_count": 12,
   "id": "af08508d",
   "metadata": {},
   "outputs": [
    {
     "data": {
      "text/plain": [
       "matrix([[0., 1.],\n",
       "        [1., 0.]])"
      ]
     },
     "execution_count": 12,
     "metadata": {},
     "output_type": "execute_result"
    }
   ],
   "source": [
    "H*Z*H"
   ]
  },
  {
   "cell_type": "markdown",
   "id": "f620d744",
   "metadata": {},
   "source": [
    "### Exercise 4.16"
   ]
  },
  {
   "cell_type": "code",
   "execution_count": 20,
   "id": "544eb638",
   "metadata": {},
   "outputs": [
    {
     "data": {
      "text/plain": [
       "array([[ 0.70710678,  0.        ,  0.        ,  0.70710678],\n",
       "       [ 0.70710678,  0.        ,  0.        ,  0.70710678],\n",
       "       [ 0.70710678,  0.        ,  0.        ,  0.70710678],\n",
       "       [-0.70710678, -0.        , -0.        , -0.70710678]])"
      ]
     },
     "execution_count": 20,
     "metadata": {},
     "output_type": "execute_result"
    }
   ],
   "source": [
    "np.outer(H, I)"
   ]
  },
  {
   "cell_type": "code",
   "execution_count": 21,
   "id": "66a7f053",
   "metadata": {},
   "outputs": [
    {
     "data": {
      "text/plain": [
       "array([[ 0.70710678,  0.70710678,  0.70710678, -0.70710678],\n",
       "       [ 0.        ,  0.        ,  0.        , -0.        ],\n",
       "       [ 0.        ,  0.        ,  0.        , -0.        ],\n",
       "       [ 0.70710678,  0.70710678,  0.70710678, -0.70710678]])"
      ]
     },
     "execution_count": 21,
     "metadata": {},
     "output_type": "execute_result"
    }
   ],
   "source": [
    "np.outer(I,H)"
   ]
  },
  {
   "cell_type": "code",
   "execution_count": null,
   "id": "79e85cdb",
   "metadata": {},
   "outputs": [],
   "source": []
  }
 ],
 "metadata": {
  "kernelspec": {
   "display_name": "physics-with-friends",
   "language": "python",
   "name": "physics-with-friends"
  },
  "language_info": {
   "codemirror_mode": {
    "name": "ipython",
    "version": 3
   },
   "file_extension": ".py",
   "mimetype": "text/x-python",
   "name": "python",
   "nbconvert_exporter": "python",
   "pygments_lexer": "ipython3",
   "version": "3.10.9"
  },
  "latex_envs": {
   "LaTeX_envs_menu_present": true,
   "autoclose": false,
   "autocomplete": true,
   "bibliofile": "biblio.bib",
   "cite_by": "apalike",
   "current_citInitial": 1,
   "eqLabelWithNumbers": true,
   "eqNumInitial": 1,
   "hotkeys": {
    "equation": "Ctrl-E",
    "itemize": "Ctrl-I"
   },
   "labels_anchors": false,
   "latex_user_defs": false,
   "report_style_numbering": false,
   "user_envs_cfg": false
  }
 },
 "nbformat": 4,
 "nbformat_minor": 5
}
