{
 "cells": [
  {
   "cell_type": "markdown",
   "id": "6a6c6c5e",
   "metadata": {},
   "source": [
    "# Quantum Computation and Quantum Information\n",
    "## Chapter 3 Problems"
   ]
  },
  {
   "cell_type": "markdown",
   "id": "178b55bf",
   "metadata": {},
   "source": [
    "**Church Turing Thesis**: The class of functions computable by a Turing Machine corresponds exactly to the class of functions which we would naturally regard as being computable by an algorithm."
   ]
  },
  {
   "cell_type": "markdown",
   "id": "a13de417",
   "metadata": {},
   "source": [
    "### Asymptotic notation\n",
    "\n",
    "$f(n)$ is $O(g(n))$ if $\\exists c\\in\\mathbb{R}, \\exists n_0 \\in \\mathbb{N}$, such that for all $n > n_0, f(n) \\leq cg(n)$\n",
    "\n",
    "$f(n)$ is $\\Omega(g(n))$ if $\\exists c\\in\\mathbb{R}, \\exists n_0 \\in \\mathbb{N}$, such that for all $n > n_0, cg(n) \\leq f(n)$\n",
    "\n",
    "$f(n)$ is $\\Theta(g(n))$ if it is both $O(g(n))$ and $\\Omega(g(n))"
   ]
  },
  {
   "cell_type": "markdown",
   "id": "439d5d65",
   "metadata": {},
   "source": [
    "### Graph problems\n",
    "\n",
    "Definition: A *directed graph* is a pair of finite sets $(V,E)$ such that $E \\subset V\\times V$.\n",
    "\n",
    "Define an equivalence relation $\\sim$ on $V\\times V$ by identifying $(v_1, v_2)$ with $(v_2, v_1)$. \n",
    "Then $V\\times V / \\sim$ is the set of undirected edges $[v_1, v_2]$.\n",
    "\n",
    "An *undirected graph$ is a pair of finite sets $(V,E)$ where $ E \\subset $V\\times V / \\sim$.\n",
    "\n",
    "The following applies to undirected graphs.\n",
    "\n",
    "A *cycle* in $G$ is a sequence of vertices $v_1, v_2, \\ldots, v_n$ such that each $(v_i, v_{i+1}) \\in E$ \n",
    "and $(v_1, v_n) \\in E$. A *simple cycle* is a cycle where no vertex is repeated. A *Hamiltonian cycle* is a cycle that visits every vertex in the graph.\n",
    "\n",
    "An *Euler cycle* is an ordering of edges such that each edge is visited exactly once.\n",
    "\n",
    "**Euler's theorem** A connected graph contains an Euler cycle iff every vertex has an even number of edges incident upon it."
   ]
  },
  {
   "cell_type": "markdown",
   "id": "680df5f2",
   "metadata": {},
   "source": [
    "### Exercise 3.8\n",
    "\n",
    "Show that AND, XOR, and NOT can be built by NAND gates.\n",
    "\n",
    "#### Solution\n",
    "\n",
    "NOT(x) = NAND(x, x)\n",
    "\n",
    "AND(x,y) = NOT(NAND(x,y))\n",
    "\n",
    "OR(x,y) = NOT(AND(NOT(x), NOT(y)) (de Moivre)\n",
    "\n",
    "XOR(x,y) = AND(OR(x,y), NAND(x,y))"
   ]
  },
  {
   "cell_type": "markdown",
   "id": "d39c9c17",
   "metadata": {},
   "source": [
    "### Exercise 3.9\n",
    "\n",
    "Prove that $f(n)$ is $O(g(n))$  iff $g(n)$ is $\\Omega(f(n))$. Deduce that $f(n)$ is $\\Theta(g(n))$  iff $g(n)$ is $\\Theta(g(n))$\n",
    "\n",
    "#### Solution\n",
    "\n",
    "Suppose $f(n)$ is $O(g(n))$ and choose constants $c,n_0$ such that $f(n) \\leq cg(n), \\forall n > n_0$.\n",
    "Then $\\frac{1}{c}f(n) \\leq g(n), \\forall n > n_0$, which is to say $g(n)$ is $\\Omega(f(n))$.\n",
    "The other direction is obtained by interchanging the roles of $g$ and $f$. \n",
    "\n",
    "The conclusion about $\\Theta$ follows directly.\n",
    "\n",
    "**Corollary**: $\\Theta$ is an equivalence relation on the class of functions."
   ]
  },
  {
   "cell_type": "markdown",
   "id": "610d49ba",
   "metadata": {},
   "source": [
    "### Exercise 3.12\n",
    "Show that $n^k$ is $O(n^{\\log n})$ for all $k$ but $n^{\\log n}$ is not $O(n^k)$.\n",
    "\n",
    "#### Solution\n",
    "\n",
    "We want to establish that $n^k \\leq cn^{\\log n}$. Taking logs of both sides, we get\n",
    "$k\\log n \\leq log(c) + n\\log n$, which is true for any $c>1$ and $n > k$.\n",
    "\n",
    "From this reformulation, it is also pretty clear that there cannot be a constant $c$ such that \n",
    "$n\\log n \\leq ck\\log n$, since $n$ can be chosen to be $> ck$.\n"
   ]
  },
  {
   "cell_type": "markdown",
   "id": "31d4f273",
   "metadata": {},
   "source": [
    "### Exercise 3.14\n",
    "\n",
    "The relations $O$ and $\\Omega$ are transitive.\n",
    "\n",
    "#### Solution\n",
    "\n",
    "Suppose $e(n)$ is $O(f(n)$ and $f(n)$ is $O(g(n))$. Then there are constants $c_1, c_2, n_1, n_2$, such that\n",
    "\n",
    "$e(n) \\leq c_1 f(n), forall n > n_1$ and $f(n) \\leq c_2 g(n), forall n > n_2$.\n",
    "\n",
    "Let $n_0 = max(n_1, n_2)$ and $c = c_1 c_2$. Then $e(n) \\leq c_1 c_2 g(n) = cg(n)$. \n",
    "Therefore $e(n)$ is $O(g(n))$.\n"
   ]
  },
  {
   "cell_type": "markdown",
   "id": "1ab14655",
   "metadata": {},
   "source": [
    "### Exercise 3.15\n",
    "\n",
    "#### Solution Outline: \n",
    "\n",
    "First by induction. One swap, orders 2 elements. $2^k$ swaps order at most k elements, and adding one more swap orders at most an additional 2 elements, so $2^{k+1}$ swaps order at most k elements, which is another way of saying that this many of the initial orderings have been sorted.\n",
    "\n",
    "So we hav $2^k \\leq n!$ and taking logs of both sides $k \\leq log(n!) = O(nlogn)$.\n"
   ]
  },
  {
   "cell_type": "markdown",
   "id": "04fa7b47",
   "metadata": {},
   "source": [
    "### Exercise 3.19\n",
    "\n",
    "Show that REACHABILITY can be solved in O(n) operations, and conclude that CONNECTIVITY can be solved in $O(n^2)$ operations.\n",
    "\n",
    "#### Solution Outline\n",
    "\n",
    "Reachability can be solved by BFS or DFS which take $O(n)$ operations (technically $O(|V|+|E|)$). Connectivity can be established by solving reachability for every pair of nodes, therefore is $O(n^2)$.\n"
   ]
  },
  {
   "cell_type": "code",
   "execution_count": null,
   "id": "0057ab7b",
   "metadata": {},
   "outputs": [],
   "source": []
  }
 ],
 "metadata": {
  "kernelspec": {
   "display_name": "quantum-computing",
   "language": "python",
   "name": "quantum-computing"
  },
  "language_info": {
   "codemirror_mode": {
    "name": "ipython",
    "version": 3
   },
   "file_extension": ".py",
   "mimetype": "text/x-python",
   "name": "python",
   "nbconvert_exporter": "python",
   "pygments_lexer": "ipython3",
   "version": "3.9.12"
  },
  "latex_envs": {
   "LaTeX_envs_menu_present": true,
   "autoclose": false,
   "autocomplete": true,
   "bibliofile": "biblio.bib",
   "cite_by": "apalike",
   "current_citInitial": 1,
   "eqLabelWithNumbers": true,
   "eqNumInitial": 1,
   "hotkeys": {
    "equation": "Ctrl-E",
    "itemize": "Ctrl-I"
   },
   "labels_anchors": false,
   "latex_user_defs": false,
   "report_style_numbering": false,
   "user_envs_cfg": false
  }
 },
 "nbformat": 4,
 "nbformat_minor": 5
}
