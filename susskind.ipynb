{
 "cells": [
  {
   "cell_type": "markdown",
   "id": "9afd1d2c",
   "metadata": {},
   "source": [
    "# Susskind - Quantum Mechanics"
   ]
  },
  {
   "cell_type": "markdown",
   "id": "8016c8bc",
   "metadata": {},
   "source": [
    "#### Latex: Define bras, kets, brackets\n",
    "$\n",
    "\\newcommand{\\ket}[1]{\\left|{#1}\\right\\rangle}\n",
    "\\newcommand{\\bra}[1]{\\left\\langle{#1}\\right|}\n",
    "\\newcommand{\\braket}[2]{\\left\\langle{#1}\\middle|{#2}\\right\\rangle}\n",
    "$"
   ]
  },
  {
   "cell_type": "markdown",
   "id": "0f74917d",
   "metadata": {},
   "source": [
    "## General Observations\n",
    "\n",
    "- If $[A, B] = 0$ then A and B have the same set of eigenvectors. In particular, if A has eigenvalues $a_i$,\n",
    "then for any analytic function f,\n",
    "$f(A)$ has the save eigenvectors as A with eigenvalues $f(a_i)$\n",
    "\n",
    "- A change of basis occurs by applying a unitary operator to an operator A\n",
    "$A' = U^\\dagger AU$. The \"rotated\" operator $A'$ has the same eigenvalues as A but different eigenvectors.\n",
    "If $\\ket{a_i}$ are the eigenvectors of A, then the eigenvectors of $A'$ are $U^\\dagger \\ket{a_i}$\n",
    "\n",
    "- Pick an orthonormal basis $\\ket{e_i}$. Then any states can be expressed in terms of these basis:\n",
    "$$\n",
    "\\ket{a} = \\sum_i a_i \\ket{e_i}\\\\\n",
    "\\ket{b} = \\sum_i b_i \\ket{e_i}\n",
    "$$\n",
    "\n",
    "If we compute the coordinates $a_i, b_i$, then we can compute their inner product\n",
    "\n",
    "$$\n",
    "\\braket{a}{b} = \\sum_i \\bar{a_i}b_i\n",
    "$$\n",
    "\n",
    "In particular, if the state is prepared in $\\ket{a}$, \n",
    "the probability that the system will be measured in state $\\ket{b}$ is $|\\braket{a}{b}|^2$\n",
    "\n",
    "Question\n",
    "\n",
    "- If $[A,B] = 0$ can we conclude that there is an analytic function f, such that $B = f(A)? \n",
    "Analogy with measure theory. If a random variable Y is X-measurable, then there exists a function f \n",
    "such that $Y = f(X)$"
   ]
  },
  {
   "cell_type": "markdown",
   "id": "9fb82d63",
   "metadata": {},
   "source": [
    "$$\n",
    "\\sigma_x = \n",
    "\\begin{pmatrix}\n",
    "0 & 1\\\\\n",
    "1 & 0\n",
    "\\end{pmatrix}\\\\\n",
    "\\sigma_y = \n",
    "\\begin{pmatrix}\n",
    "0 & -i\\\\\n",
    "i & 0\n",
    "\\end{pmatrix}\\\\\n",
    "\\sigma_z = \n",
    "\\begin{pmatrix}\n",
    "1 & 0\\\\\n",
    "0 & -1\n",
    "\\end{pmatrix}\n",
    "$$"
   ]
  },
  {
   "cell_type": "markdown",
   "id": "14baca8a",
   "metadata": {},
   "source": [
    "General paramtetization in any direction\n",
    "\n",
    "$$\n",
    "\\sigma(\\theta, \\phi) = \n",
    "\\begin{pmatrix}\n",
    "\\cos\\theta & \\sin\\theta e^{-i\\phi}\\\\\n",
    "\\sin\\theta e^{i\\phi} & -\\cos\\theta\n",
    "\\end{pmatrix}\n",
    "$$"
   ]
  },
  {
   "cell_type": "markdown",
   "id": "b2f7f667",
   "metadata": {},
   "source": [
    "Useful Trig identities (can be derived from $e^i(\\beta - \\alpha)$)\n",
    "\n",
    "$$\n",
    "\\cos(\\beta - \\alpha) = \\cos\\beta\\cos\\alpha +\\sin\\beta\\sin\\alpha\\\\\n",
    "\\sin(\\beta - \\alpha) = \\sin\\beta\\cos\\alpha - \\cos\\beta\\sin\\alpha\n",
    "$$"
   ]
  },
  {
   "cell_type": "markdown",
   "id": "63044b7f",
   "metadata": {},
   "source": [
    "### Problem 3.4\n",
    "\n",
    "Compute the eignevalues and eigenvectors of the general spin matrix\n",
    "\n",
    "#### Solution\n",
    "\n",
    "$$\n",
    "v_1 = \n",
    "\\begin{pmatrix}\n",
    "\\cos\\frac{\\theta}{2}\\\\\n",
    "\\sin\\frac{\\theta}{2} e^{i\\phi}\n",
    "\\end{pmatrix}\n",
    "= \\cos\\frac{\\theta}{2}\\ket{0} + \\sin\\frac{\\theta}{2} e^{i\\phi}\\ket{1}\n",
    "$$\n",
    "\n",
    "$$\n",
    "v_2 = \n",
    "\\begin{pmatrix}\n",
    "-\\sin\\frac{\\theta}{2} e^{-i\\phi}\\\\\n",
    "\\cos\\frac{\\theta}{2} \n",
    "\\end{pmatrix}\n",
    "= \\cos\\frac{\\theta}{2} \\ket{1} - \\sin\\frac{\\theta}{2} e^{-i\\phi}\\ket{0}\n",
    "$$\n",
    "\n",
    "where \n",
    "\n",
    "$$\n",
    "\\ket{0} = \n",
    "\\begin{pmatrix}\n",
    "1\\\\\n",
    "0\n",
    "\\end{pmatrix}, \n",
    "\\ket{1} = \n",
    "\\begin{pmatrix}\n",
    "0\\\\\n",
    "1\n",
    "\\end{pmatrix}\n",
    "$$"
   ]
  },
  {
   "cell_type": "markdown",
   "id": "634c1e28",
   "metadata": {},
   "source": [
    "### Problem 3.5\n",
    "\n",
    "The state is prepared to be in the +1 eigenvalue of $\\sigma_m$. The  apparatus measures $\\sigma_n$. \n",
    "What is the probability that the result is +1?\n",
    "\n",
    "#### Solution\n",
    "We can use the expansion in problem 3 to compute $\\braket{\\sigma_n^+}{\\sigma_m^+}$\n",
    "\n",
    "$$\n",
    "\\cos\\frac{\\theta_1}{2}\\cos\\frac{\\theta_2}{2}e^{-i\\phi_2} + \\sin\\frac{\\theta_1}{2}\\sin\\frac{\\theta_2}{2}e^{-i\\phi_1}\n",
    "$$\n",
    "\n",
    "Taking the amplitude square, this becomes\n",
    "\n",
    "$$\n",
    "\\cos^2\\frac{\\theta_1}{2}\\cos^2\\frac{\\theta_2}{2} + \\sin^2\\frac{\\theta_1}{2}\\sin^2\\frac{\\theta_2}{2}\\\\\n",
    "+ \\cos\\frac{\\theta_1}{2}\\cos\\frac{\\theta_2}{2}\\sin\\frac{\\theta_1}{2}\\sin\\frac{\\theta_2}{2}\\cos(\\phi_1-\\phi_2)\n",
    "$$\n",
    "\n",
    "To reduce further we must assume that both states have the same orientation in the $\\phi$ direction, \n",
    "so that $\\phi_1 = \\phi_2$\n",
    "\n",
    "$$\n",
    "\\cos^2\\frac{\\theta_1}{2}\\cos^2\\frac{\\theta_2}{2} + \\sin^2\\frac{\\theta_1}{2}\\sin^2\\frac{\\theta_2}{2}\\\\\n",
    "+ \\cos\\frac{\\theta_1}{2}\\cos\\frac{\\theta_2}{2}\\sin\\frac{\\theta_1}{2}\\sin\\frac{\\theta_2}{2} = \\\\\n",
    "(cos\\frac{\\theta_1}{2}\\cos\\frac{\\theta_2}{2} + \\sin\\frac{\\theta_1}{2}\\sin\\frac{\\theta_2}{2})^2 = \\\\\n",
    "(cos\\frac{\\theta_1-\\theta_2}{2})^2\n",
    "$$\n"
   ]
  },
  {
   "cell_type": "markdown",
   "id": "3babe5ec",
   "metadata": {},
   "source": [
    "### Problem 4.1\n",
    "\n",
    "If U is unitary then $\\braket{Ua}{Ub} = \\braket{a}{b}$\n",
    "\n",
    "#### Solution \n",
    "\n",
    "This is pretty much the definition of unitary\n",
    "\n",
    "$\\braket{Ua}{Ub} = \\bra{a}U^\\dagger U\\ket{b} = \\braket{a}{b} $ "
   ]
  },
  {
   "cell_type": "markdown",
   "id": "78412225",
   "metadata": {},
   "source": [
    "### Problem 4.2\n",
    "\n",
    "$$\n",
    "(i[A,B])^\\dagger = (i(AB-BA))^\\dagger = \\\\\n",
    "-i(B^\\dagger A^\\dagger - A^\\dagger B^\\dagger) = -i(BA-AB) = \\\\\n",
    "-i[B,A] = i [A,B]\n",
    "$$"
   ]
  },
  {
   "cell_type": "markdown",
   "id": "fafa2792",
   "metadata": {},
   "source": [
    "#### "
   ]
  }
 ],
 "metadata": {
  "kernelspec": {
   "display_name": "computational-physics",
   "language": "python",
   "name": "computational-physics"
  },
  "language_info": {
   "codemirror_mode": {
    "name": "ipython",
    "version": 3
   },
   "file_extension": ".py",
   "mimetype": "text/x-python",
   "name": "python",
   "nbconvert_exporter": "python",
   "pygments_lexer": "ipython3",
   "version": "3.9.12"
  }
 },
 "nbformat": 4,
 "nbformat_minor": 5
}
