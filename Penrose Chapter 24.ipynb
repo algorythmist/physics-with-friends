{
 "cells": [
  {
   "cell_type": "markdown",
   "id": "0a1e7f99",
   "metadata": {},
   "source": [
    "# Road to Reality Chapter 24"
   ]
  },
  {
   "cell_type": "markdown",
   "id": "56d4a7f7",
   "metadata": {},
   "source": [
    "#### Define bras, kets, brackets\n",
    "$\n",
    "\\newcommand{\\ket}[1]{\\left|{#1}\\right\\rangle}\n",
    "\\newcommand{\\bra}[1]{\\left\\langle{#1}\\right|}\n",
    "\\newcommand{\\braket}[2]{\\left\\langle{#1}\\middle|{#2}\\right\\rangle}\n",
    "$"
   ]
  },
  {
   "cell_type": "markdown",
   "id": "d62ee193",
   "metadata": {},
   "source": [
    "### Problem 24.1\n",
    "\n",
    "Show that $ψ = Ce^{-iEt/\\hbar}$ is a solution to $i\\hbar\\partial_tψ = E\\psi$\n",
    "\n",
    "#### Solution\n",
    "\n",
    "$i\\hbar\\partial_t Ce^{-iEt/\\hbar} = i\\hbar(-iE/\\hbar)Ce^{-iEt/\\hbar} = E\\psi$\n"
   ]
  },
  {
   "cell_type": "markdown",
   "id": "34c379e6",
   "metadata": {},
   "source": [
    "### Problem 24.2\n",
    "\n",
    "i) Explain why adding a constant K to the Hamiltonian has the effect that all solutions are multiplied by the same factor and find the factor\n",
    "\n",
    "ii) Does this substantially affect quantum dynamics?\n",
    "\n",
    "iii) Suppose we are concerned with the gravitational effect. Why can we not simply \"renormalize\" the energy in this way?\n",
    "\n",
    "#### Solution\n",
    "\n",
    "\n",
    "i) The solution to the time-dependent S equation, with initial state $\\psi_0$ is \n",
    "$\\psi(t) = e^{-iHt/\\hbar}\\psi_0$.\n",
    "\n",
    "Adding a constant to the Hamiltonian produces $e^{-iHt/\\hbar}e^{-iVt/\\hbar}$, so the solution to this equation\n",
    "is given by $\\psi'(t) = e^{-iVt/\\hbar}\\psi(t)$.\n",
    "\n",
    "ii) Multiplication by a phase factor does not affect the observable quantities, which only depend on the magnitude of the wave function.\n",
    "\n",
    "iii) ???\n"
   ]
  },
  {
   "cell_type": "code",
   "execution_count": null,
   "id": "c47b307d",
   "metadata": {},
   "outputs": [],
   "source": []
  }
 ],
 "metadata": {
  "kernelspec": {
   "display_name": "computational-physics",
   "language": "python",
   "name": "computational-physics"
  },
  "language_info": {
   "codemirror_mode": {
    "name": "ipython",
    "version": 3
   },
   "file_extension": ".py",
   "mimetype": "text/x-python",
   "name": "python",
   "nbconvert_exporter": "python",
   "pygments_lexer": "ipython3",
   "version": "3.9.12"
  }
 },
 "nbformat": 4,
 "nbformat_minor": 5
}
