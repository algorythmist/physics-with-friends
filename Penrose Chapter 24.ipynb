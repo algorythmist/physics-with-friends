{
 "cells": [
  {
   "cell_type": "markdown",
   "id": "0a1e7f99",
   "metadata": {},
   "source": [
    "# Road to Reality Chapter 24"
   ]
  },
  {
   "cell_type": "markdown",
   "id": "56d4a7f7",
   "metadata": {},
   "source": [
    "#### Define bras, kets, brackets\n",
    "$\n",
    "\\newcommand{\\ket}[1]{\\left|{#1}\\right\\rangle}\n",
    "\\newcommand{\\bra}[1]{\\left\\langle{#1}\\right|}\n",
    "\\newcommand{\\braket}[2]{\\left\\langle{#1}\\middle|{#2}\\right\\rangle}\n",
    "$"
   ]
  },
  {
   "cell_type": "markdown",
   "id": "d62ee193",
   "metadata": {},
   "source": [
    "### Problem 24.1\n",
    "\n",
    "Show that $ψ = Ce^{-iEt/\\hbar}$ is a solution to $i\\hbar\\partial_tψ = E\\psi$\n",
    "\n",
    "#### Solution\n",
    "\n",
    "$i\\hbar\\partial_t Ce^{-iEt/\\hbar} = i\\hbar(-iE/\\hbar)Ce^{-iEt/\\hbar} = E\\psi$\n"
   ]
  },
  {
   "cell_type": "markdown",
   "id": "34c379e6",
   "metadata": {},
   "source": [
    "### Problem 24.2\n",
    "\n",
    "i) Explain why adding a constant K to the Hamiltonian has the effect that all solutions are multiplied by the same factor and find the factor\n",
    "\n",
    "ii) Does this substantially affect quantum dynamics?\n",
    "\n",
    "iii) Suppose we are concerned with the gravitational effect. Why can we not simply \"renormalize\" the energy in this way?\n",
    "\n",
    "#### Solution\n",
    "\n",
    "\n",
    "i) The solution to the time-dependent S equation, with initial state $\\psi_0$ is \n",
    "$\\psi(t) = e^{-iHt/\\hbar}\\psi_0$.\n",
    "\n",
    "Adding a constant to the Hamiltonian produces $e^{-iHt/\\hbar}e^{-iKt/\\hbar}$, so the solution to this equation\n",
    "is given by $\\psi'(t) = e^{-iKt/\\hbar}\\psi(t)$.\n",
    "\n",
    "ii) Multiplication by a phase factor does not affect the observable quantities, which only depend on the magnitude of the wave function.\n",
    "\n",
    "iii) ???\n"
   ]
  },
  {
   "cell_type": "markdown",
   "id": "70599ecb",
   "metadata": {},
   "source": [
    "### Problem 24.3\n",
    "\n",
    "1. Derive Green's Theorem from the Fundamental Theorem of Exterior Calculus (FTEC) from chapter 12\n",
    "\n",
    "\n",
    "$$\n",
    "\\int_{\\Omega} d\\phi = \\int_{\\partial\\Omega} \\phi\n",
    "$$\n",
    "\n",
    "2. Show that the non-relativstic Schroendinger equation has positive energy solutions\n",
    "\n",
    "#### Solution\n",
    "\n",
    "Part 1:\n",
    "\n",
    "\n",
    "The FTEC translated in 3D calculus says:\n",
    "\n",
    "$$\n",
    "\\int \\nabla\\phi \\cdot dA = \\int \\nabla^2 \\phi \n",
    "$$\n",
    "\n",
    "Set $\\phi = |\\psi|^2 = \\bar{\\psi}\\psi$. Note that the first integral vanishes because for a normalize function, the magnitude is constant. \n",
    "\n",
    "The second term becomes\n",
    "\n",
    "$$\n",
    "\\int \\nabla^2 (\\bar{\\psi}\\psi) = \\int \\nabla(\\bar{\\psi}\\nabla\\psi + \\psi\\nabla\\bar{\\psi}) \n",
    "= \\int 2\\nabla\\psi\\cdot\\nabla\\bar{\\psi} + \\bar{\\psi}\\nabla^2\\psi + \\psi\\nabla^2\\bar{\\psi}\n",
    "$$\n",
    "\n",
    "and the whole thing is 0, so after some manipulation\n",
    "\n",
    "$$\n",
    "\\int \\bar{\\psi}\\nabla^2\\psi = - \\int \\nabla\\psi\\cdot\\nabla\\bar{\\psi}\n",
    "$$\n",
    "\n",
    "Part 2:\n",
    "\n",
    "From problem 24.1, we plug in an eigenstate of the energy E, $ψ = Ce^{-iEt/\\hbar}$, to get\n",
    "\n",
    "$$\n",
    "-Et/\\hbar \\psi= \\frac{i\\hbar}{2m}\\nabla^2 \\phi \\implies -\\nabla^2 \\psi = \\frac{2mE}{\\hbar^2}\\psi \n",
    "$$\n",
    "\n",
    "Let $A = \\frac{2mE}{\\hbar^2}$\n",
    "\n",
    "From Green's theorem for such  an eigenstate we have\n",
    "\n",
    "\\begin{eqnarray}\n",
    "\\int \\bar{\\psi}\\nabla^2 \\psi &=& -\\int \\nabla\\bar{\\psi}\\cdot \\nabla\\phi \\implies\\\\\n",
    "-A\\int |\\psi|^2 &=& - \\int \\bar{\\nabla\\psi}\\cdot \\nabla\\psi \\implies\n",
    "A &=& \\frac{\\int \\bar{\\nabla\\psi}\\cdot \\nabla\\psi}{\\int |\\psi|^2}\n",
    "\\end{eqnarray}\n",
    "\n",
    "which is real and positive\n"
   ]
  },
  {
   "cell_type": "code",
   "execution_count": null,
   "id": "abab633b",
   "metadata": {},
   "outputs": [],
   "source": []
  }
 ],
 "metadata": {
  "kernelspec": {
   "display_name": "computational-physics",
   "language": "python",
   "name": "computational-physics"
  },
  "language_info": {
   "codemirror_mode": {
    "name": "ipython",
    "version": 3
   },
   "file_extension": ".py",
   "mimetype": "text/x-python",
   "name": "python",
   "nbconvert_exporter": "python",
   "pygments_lexer": "ipython3",
   "version": "3.9.10"
  }
 },
 "nbformat": 4,
 "nbformat_minor": 5
}
