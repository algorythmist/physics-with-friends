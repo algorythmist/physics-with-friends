{
 "cells": [
  {
   "cell_type": "markdown",
   "id": "549361ed",
   "metadata": {},
   "source": [
    "# Sakurai Chapter 1 Problems"
   ]
  },
  {
   "cell_type": "code",
   "execution_count": 1,
   "id": "81a5dfad",
   "metadata": {},
   "outputs": [],
   "source": [
    "%load_ext autoreload\n",
    "%autoreload 2\n"
   ]
  },
  {
   "cell_type": "markdown",
   "id": "2b27374c",
   "metadata": {},
   "source": [
    "### Define bras, kets, brackets\n",
    "$\n",
    "\\newcommand{\\ket}[1]{\\left|{#1}\\right\\rangle}\n",
    "\\newcommand{\\bra}[1]{\\left\\langle{#1}\\right|}\n",
    "\\newcommand{\\braket}[2]{\\left\\langle{#1}\\middle|{#2}\\right\\rangle}\n",
    "$"
   ]
  },
  {
   "cell_type": "markdown",
   "id": "b8fc934b",
   "metadata": {},
   "source": [
    "#### Problem 1.2\n",
    "\n",
    "$X = a_0 + \\sigma \\cdot a$\n",
    "\n",
    "Better notation: $X = \\sum_{i=0}^3 a_i \\sigma_i$. where $\\sigma_0 = I$.\n",
    "\n",
    "a) How $tr(X)$ relates to $tr(\\sigma_i X)$?\n",
    "\n",
    "All Pauli matrices have zero trace, so $tr(X) = 2a_0$.\n",
    "\n",
    "$tr(\\sigma_i X) = tr(\\sum_{j=0}^3 a_i \\sigma_i \\sigma_j) = a_i tr(\\sigma_i^2) = 2a_i$\n",
    "\n",
    "b) Obtain $a_i$ in terms of the matrix elements $X_{ij}$\n",
    "\n",
    "TODO"
   ]
  },
  {
   "cell_type": "markdown",
   "id": "4cf787e8",
   "metadata": {},
   "source": [
    "#### Problem 1.4\n",
    "\n",
    "I will be making use of the resolution of the identity formula $I = \\sum_a \\ket{a}\\bra{a}$\n",
    "\n",
    "a)\n",
    "$\n",
    "tr(XY) = \\sum_a \\bra{a}XY\\ket{a} = \\sum_a \\bra{a}X\\sum_{a'}\\ket{a'}\\bra{a'}Y\\ket{a} = \\\\\n",
    "\\sum_{aa'} \\bra{a}X\\ket{a'}\\bra{a'}Y\\ket{a} = \\sum_{aa'} \\bra{a'}Y\\ket{a} \\bra{a}X\\ket{a'} = \\\\\n",
    "\\sum_{a'}\\bra{a'}Y \\sum_a \\ket{a} \\bra{a}X\\ket{a'} = \\sum_a \\bra{a}YX\\ket{a} = tr(YX)\n",
    "$"
   ]
  },
  {
   "cell_type": "markdown",
   "id": "4cef28fe",
   "metadata": {},
   "source": [
    "b) Show $(XY)^+ = Y^+ X^+$\n",
    "\n",
    "The notation in the book is very awkward. Here is a better definition: $\\braket{A^+v}{w} := \\braket{v}{Aw}$\n",
    "\n",
    "Given this, we have \n",
    "\n",
    "$\n",
    "\\braket{v}{(XY)^+w} = \\braket{XYv}{w} = \\braket{Yv}{X^+w} =  \\braket{v}{Y^+X^+w}\n",
    "$\n"
   ]
  },
  {
   "cell_type": "markdown",
   "id": "b08ededf",
   "metadata": {},
   "source": [
    "c) Express $e^{if(A)}$ in ket-bra form for Hermitean A\n",
    "\n",
    "$A = \\sum_i \\lambda_i \\ket{a_i}\\bra{a_i}$, where $\\lambda_i$ are A's eigenvalues.\n",
    "The eignevalues of $e^{if(A)}$  are $e^{if(\\lambda_i)}$, sonsequently:\n",
    "\n",
    "$$\n",
    "e^{if(A)} = \\sum_i e^{if(\\lambda_i)} \\ket{a_i}\\bra{a_i}\n",
    "$$\n"
   ]
  },
  {
   "cell_type": "markdown",
   "id": "1564939b",
   "metadata": {},
   "source": [
    "d) $\\sum_a \\psi_a^*(x)\\psi_a(x')$ where $\\psi_a(x) = \\braket{x}{a}$\n",
    "\n",
    "$\n",
    "\\sum_a \\psi_a^*(x)\\psi_a(x') = \\sum_a \\braket{x'}{a}\\braket{a}{x} = \\braket{x'}{x} = \\delta(x'-x)\n",
    "$"
   ]
  },
  {
   "cell_type": "markdown",
   "id": "46773a68",
   "metadata": {},
   "source": [
    "#### Problem 1.6\n",
    "\n",
    "**Answer:** The sum of two eigenvectors is an eigenvector if they have the same eigenvalue. In this case, the entire subspace spanned by these two vectors consists of eigenvectors."
   ]
  },
  {
   "cell_type": "markdown",
   "id": "efc9745e",
   "metadata": {},
   "source": [
    "##### Problem 1.8\n",
    "\n",
    "**Answer:**. Let's forget about $\\hbar/2$ since we can always added back to each matrix. \n",
    "Let $a = \\ket{+}\\bra{-}, b = \\ket{-}\\bra{+}$.\n",
    "\n",
    "Note that $S_x = a+b, S_y = i(b-a), S_z = ab-ba, a^2 = b^2 = 0$\n",
    "\n",
    "We have:\n",
    "\n",
    "$$\n",
    "S_x S_y = i(a+b)(b-a) = i(ab-ba)\\\\\n",
    "S_y S_x = i(b-a)(a+b) = i(ba-ab)\\\\\n",
    "S_x S_z = (a+b)(ab-ba) = bab-aba = b-a\\\\\n",
    "S_z S_x = (ab-ba)(a+b) = aba-bab = a-b\\\\\n",
    "etc...\n",
    "$$\n",
    "\n",
    "The desired result can be obtained by adding and subtracting these expressions\n"
   ]
  },
  {
   "cell_type": "markdown",
   "id": "fb146fbb",
   "metadata": {},
   "source": [
    "#### Problem 1.15\n",
    "\n",
    "Let A and B be observables. Suppose the simultaneous eigenkets of A and B\n",
    "$\\ket{a', b'}$ form a complete orthonormal set of base kets. Can we always conclude\n",
    "that $[A,B] = 0$?\n",
    "\n",
    "**Answer:** Yes. Since it is a complete set, we can write any vector in the Hilbert space as \n",
    "$\\ket{x} = \\sum x_{ab} \\ket{a,b}$\n",
    "\n",
    "But for any of these eigenkets $AB\\ket{a,b}-BA\\ket{a,b} = (ab-ba)\\ket{a,b} = 0$,\n",
    "which means $[A,B]\\ket{x} = 0, \\forall x$, which means $[A,B] = 0$."
   ]
  },
  {
   "cell_type": "markdown",
   "id": "e980d63d",
   "metadata": {},
   "source": [
    "#### Problem 1.16\n",
    "If $\\{A,B\\} = 0$ can A and B have the same eignevector?\n",
    "\n",
    "**Answer**: Only if the eigenvalue is 0. Otherwise, suppose $A\\ket{x} = a\\ket{x}$ and $B\\ket{x} = b\\ket{x}$\n",
    "Then $\\{A,B\\}\\ket{x} = 2ab\\ket{x}$. The lhs is zero, so the rhs must also be zero."
   ]
  },
  {
   "cell_type": "markdown",
   "id": "53a99ead",
   "metadata": {},
   "source": [
    "#### Problem 1.17\n",
    "\n",
    "Two observables A1 and A2, which do not involve time explicitly, are known not\n",
    "to commute,\n",
    "yet we also know that A1 and A2 both commute with the Hamiltonian:\n",
    "[A1 , H] = 0, [A2, H] = 0.\n",
    "\n",
    "Prove that the energy eigenstates are, in general, degenerate. Are there exceptions?\n",
    "As an example, you may think of the central-force problem $H = p^2/2m + V(r)$,\n",
    "with $A_1 \\rightarrow L_z, A_2 \\rightarrow L_x$\n",
    "\n",
    "**Answer**\n",
    "\n",
    "Let $\\ket{h}$ be an eigenket of H with eigenvalue $h$. Then $\\ket{Ah}$ and $\\ket{Bh}$ are also eignekets of $H$ with eigenvalue $h$. But $\\ket{Ah}$ and $\\ket{Bh}$ cannot be co-linear, so the value $h$ is degenerate. \n"
   ]
  },
  {
   "cell_type": "markdown",
   "id": "e21dc1e8",
   "metadata": {},
   "source": [
    "#### Problem 1.20\n",
    "\n",
    "Find the linear combination of $\\ket{+}$ and $\\ket{-}$ kets that maximizes the uncertainty\n",
    "product $<(\\Delta S_x)^2><(\\Delta S_y)^2>$\n",
    "\n",
    "Verify explicitly that forthe linear combination you found, the uncertainty relation\n",
    "for $S_x$ and $S_y$ is not violated."
   ]
  },
  {
   "cell_type": "markdown",
   "id": "122ea3b1",
   "metadata": {},
   "source": [
    "#### Problem 1.29\n",
    "\n",
    "a) Derive the following formulas\n",
    "\n",
    "$$\n",
    "[x_i, f(p)] = i\\hbar \\frac{\\partial f}{\\partial p_i}\\\\\n",
    "[p_i, g(x)] = -i\\hbar \\frac{\\partial g}{\\partial x_i}\n",
    "$$\n",
    "\n",
    "Using $[A,BC] = [A,B]C + B[A,C]$, $[x,p] = i\\hbar$ and induction, we can establish\n",
    "$[x,p^{n+1}] = 2^n i\\hbar p^n$"
   ]
  },
  {
   "cell_type": "markdown",
   "id": "11c8ee42",
   "metadata": {},
   "source": [
    "The notation for multi-valued Taylor series is difficult to manipulate. I will show for one dimension.\n",
    "\n",
    "We start with the Taylor expansion \n",
    "$f(p) = \\sum_{n=0}^\\infty \\frac{f^{(n)}}{n!} p^n$\n",
    "\n",
    "After some manipulation\n",
    "\n",
    "$\\frac{df}{dp}(p) = \\sum_{n=0}^\\infty \\frac{f^{(n+1)}}{n!} p^n$\n"
   ]
  },
  {
   "cell_type": "markdown",
   "id": "f9b07bdb",
   "metadata": {},
   "source": [
    "#### Problem 1.33\n",
    "\n",
    "ii) \n",
    "$\\bra{b}x\\ket{a} = \\braket{b}{p'}\\bra{p'}x\\ket{a}$\n"
   ]
  },
  {
   "cell_type": "code",
   "execution_count": null,
   "id": "8e9a944d",
   "metadata": {},
   "outputs": [],
   "source": []
  }
 ],
 "metadata": {
  "kernelspec": {
   "display_name": "road2reality",
   "language": "python",
   "name": "road2reality"
  },
  "language_info": {
   "codemirror_mode": {
    "name": "ipython",
    "version": 3
   },
   "file_extension": ".py",
   "mimetype": "text/x-python",
   "name": "python",
   "nbconvert_exporter": "python",
   "pygments_lexer": "ipython3",
   "version": "3.9.9"
  }
 },
 "nbformat": 4,
 "nbformat_minor": 5
}
