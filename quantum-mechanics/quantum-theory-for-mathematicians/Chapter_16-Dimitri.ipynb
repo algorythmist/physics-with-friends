{
 "cells": [
  {
   "cell_type": "markdown",
   "id": "d5b4d9ed-a59c-4df9-8c95-bb8089e4911e",
   "metadata": {},
   "source": [
    "# Quantum Theory for Mathematicians\n",
    "\n",
    "## Chapter 16 problems"
   ]
  },
  {
   "cell_type": "markdown",
   "id": "5e65a982-7ef6-4ffd-a0f5-2366ccd8ee05",
   "metadata": {},
   "source": [
    "### Problem 1\n",
    "\n",
    "$N$ is a discrete normal subgroup so there is a neighborhood $U$ of the identity, such that $U \\cap N = \\{e\\}$.\n",
    "Furthermore, $N$ is normal, so $\\forall g \\in, \\forall n\\in N, gng^{-1} \\in N$.\n",
    "We need to show than every $n \\in N$ commutes with every $g \\in G$.\n"
   ]
  },
  {
   "cell_type": "markdown",
   "id": "f25407bd-9910-4278-83b2-93ac2c644ef9",
   "metadata": {},
   "source": [
    "Let $U$ be a neighborhood of the identity as above. It take some work to show that if $h \\in U$, then $ghg^{-1} \\in U$, from which follows \n",
    "that $gng^{-1}$ is in a neighborhood of $n$, which can be taken to be small enough to contain only $n$. And since $gng^{-1}$ must be in $N$, \n",
    "we conclude $gng^{-1} = n$.\n"
   ]
  },
  {
   "cell_type": "markdown",
   "id": "10089d84-3454-48f9-bd7f-8faf910a02fc",
   "metadata": {},
   "source": [
    "### Problem 2\n",
    "\n",
    "a) This is true in general. Let $u$ be in the eigenspace of $U$, so $Uu = U$ for some eigenvalue $\\lambda$.\n",
    "Then \n",
    "\n",
    "$$\n",
    "U(Vu) = V(Uu) = V(\\lambda u) = \\lambda (Vu)\n",
    "$$\n",
    "\n",
    "which shows Vu is also an eignevector corresponding to $\\lambda$.\n",
    "\n",
    "b) Can be solved brute-force by multiplying U with another element from left and right. Is there a better way?\n"
   ]
  },
  {
   "cell_type": "markdown",
   "id": "0d12dd19-310a-43c6-b9bf-bb129c5299cb",
   "metadata": {},
   "source": [
    "### Problem 9\n",
    "\n",
    "Let L be a Lie algebra and A an ideal (easier notation).\n",
    "\n",
    "We know that for any ring, the quotient with an ideal is also a ring. The only difference in this case is that the ring is non-associative,\n",
    "so we just need to verify that the bracket operation is well defined. In other words, we need to show that for any $g,h,k$ in the Lie algebra\n",
    "\n",
    "1. $[g+A, h+A] = [g,h] + A$\n",
    "2. $[g+A, [h+A,k+A]] + [h+A, [k+A, g+A]] + [k+A, [g+A, h+A]] = A$\n",
    "\n",
    "The first property follows from bilinearity of [].\n",
    "\n",
    "The second needs some churning. \n",
    "\n",
    "First using linearity on every term and keeping in mind $[A,anything] = A$, we get\n",
    "\n",
    "$$\n",
    "[g+A, [h+A,k+A]] + [h+A, [k+A, g+A]] + [k+A, [g+A, h+A]]  = [g, [h+A,k+A]] + [h, [k+A, g+A]] + [k, [g+A, h+A]] + A\n",
    "$$\n",
    "\n",
    "The we use linearity in every one of the sub-brackets:\n",
    "\n",
    "$$\n",
    "= [g, [h,k]] + [h, [k, g]] + [k, [g, h]] + A = A\n",
    "$$\n",
    "\n",
    "where in the last step we used the Jacobi identity"
   ]
  },
  {
   "cell_type": "code",
   "execution_count": null,
   "id": "5367f733-148f-442b-9241-63ba1c7ada39",
   "metadata": {},
   "outputs": [],
   "source": []
  }
 ],
 "metadata": {
  "kernelspec": {
   "display_name": "physics-with-friends",
   "language": "python",
   "name": "physics-with-friends"
  },
  "language_info": {
   "codemirror_mode": {
    "name": "ipython",
    "version": 3
   },
   "file_extension": ".py",
   "mimetype": "text/x-python",
   "name": "python",
   "nbconvert_exporter": "python",
   "pygments_lexer": "ipython3",
   "version": "3.11.9"
  }
 },
 "nbformat": 4,
 "nbformat_minor": 5
}
