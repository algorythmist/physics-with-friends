{
 "cells": [
  {
   "cell_type": "markdown",
   "id": "0f9adce3-fb41-42d6-ab54-548a182557a4",
   "metadata": {},
   "source": [
    "# Chapter 7 Problems"
   ]
  },
  {
   "cell_type": "markdown",
   "id": "32f5c8ab-b91e-4f55-ac35-654a8d7558de",
   "metadata": {},
   "source": [
    "### Problem 1\n",
    "\n",
    "a) Let V be the eigenspace of A corresponding to the eigenvalue $\\lambda$. Then for any $v \\in V, Av = \\lambda v$\n",
    "\n",
    "$$\n",
    "Bv = B\\frac{1}{\\lambda}Av = \\frac{1}{\\lambda}ABv \\implies A(Bv) = {\\lambda} Bv\n",
    "$$\n",
    "\n",
    "So $Bv$ is an eigenvector of A with eigenvalue $\\lambda$, which means $Bv \\in V$"
   ]
  },
  {
   "cell_type": "markdown",
   "id": "34ebe750-37a3-4c52-b154-fc63b5d82dc3",
   "metadata": {},
   "source": [
    "### Problem 2\n",
    "\n",
    "\\begin{eqnarray}\n",
    "|A^\\dagger \\psi-\\lambda^*\\psi |^2 &=& <A^\\dagger \\psi-\\lambda^*\\psi, A^\\dagger \\psi-\\lambda^*\\psi>\\\\\n",
    "&=& <A^\\dagger \\psi,A^\\dagger \\psi> - <A^\\dagger \\psi, \\lambda^*\\psi> - <\\lambda^*\\psi, A^\\dagger \\psi> + |\\lambda|^2|\\psi|^2\\\\\n",
    "&=& <\\psi,AA^\\dagger \\psi> - \\lambda^*<\\psi,A\\psi> - \\lambda<A\\psi,\\psi> + |\\lambda|^2|\\psi|^2\\\\\n",
    "&=& <\\psi,A^\\dagger A\\psi> - \\lambda^*<\\psi,\\lambda\\psi> - \\lambda<\\lambda\\psi,\\psi> + |\\lambda|^2|\\psi|^2\\\\\n",
    "&=& <A\\psi,A\\psi> - |\\lambda|^2|\\psi|^2 - |\\lambda|^2|\\psi|^2 + |\\lambda|^2|\\psi|^2\\\\\n",
    "&=& <\\lambda\\psi,\\lambda\\psi> - |\\lambda|^2|\\psi|^2\\\\\n",
    "&=& 0\n",
    "\\end{eqnarray}"
   ]
  },
  {
   "cell_type": "markdown",
   "id": "d8d0b9c2-7364-497b-abb3-621943b5fd50",
   "metadata": {},
   "source": [
    "### Problem 3\n",
    "\n",
    "If V is invariant under A, then $v \\in V \\implies Av \\in V$. Let $w \\in V^\\perp$. Then\n",
    "\n",
    "$$\n",
    "<w, Av> = 0 \\implies <A^\\dagger w, v> = 0 \\implies A^\\dagger w \\in V^\\perp\n",
    "$$\n",
    "\n",
    "This shows that  $V^\\perp$ is invariant under $A^\\dagger$."
   ]
  },
  {
   "cell_type": "markdown",
   "id": "f8724efc-31e1-49d9-a81b-37e4ccfa00be",
   "metadata": {},
   "source": [
    "### Problem 4\n",
    "\n",
    "a) Since $A$ and $A^*$, $V$ is invariant under $A^*$ and $V^\\perp$ is invariant under A, which means H is invariant under both $A$ and $A^*$.\n",
    "Any basis of H can be turned into an orthonormal basis of eigenvectors of A. Let $v_i$ be such a basis. \n",
    "Let $v$ be a common eigenvector for $A$ and $A^*$. Suppose $Av = \\lambda v$ and $A^* v = \\mu v$. Then\n",
    "\n",
    "$$\n",
    "\\lambda = \\lambda<v,v> = <v,Av> = <A^* v,v> = \\mu^*<v,v> = \\mu^* \\implies \\mu = \\lambda^*\n",
    "$$\n",
    "\n",
    "Next, we can show that every eigenvector of $A$ is also an eigenvector of $A^*$"
   ]
  },
  {
   "cell_type": "markdown",
   "id": "fb7aca86-e768-4db0-ab3c-00f15b4e013d",
   "metadata": {},
   "source": [
    "## Problem 10\n",
    "\n",
    "Show $V1, V2$ orthogonal iff $P_1 P_2 = 0$\n",
    "\n",
    "#### Solution\n",
    "\n",
    "Assume that $V1, V2$ are orthogonal. Note $\\forall v \\in H, P_1 v \\in V_1, P_2 v \\in V_2$\n",
    "\n",
    "Therefore for all $v\\in H, <P_1 v, P_2 v> =0  \\implies <v, P_1 P_2v> = 0 \\implies P_1 P_2 = 0$.\n",
    "\n",
    "Conversely, for any $v_1\\in V_1, P_1 v_1 = v_1$ and the same for $V_2$.\n",
    "So for any $v_1 \\in V_1, v_2 \\in V_2$, \n",
    "\n",
    "$<v_1, v_2> = <P_1 v_1, P_2 v_2> = <v_1, P_1 P_2 v_2> = <v_1, 0> = 0$"
   ]
  },
  {
   "cell_type": "code",
   "execution_count": null,
   "id": "14855c99-ac08-4cda-ab51-9a7d15a01b0f",
   "metadata": {},
   "outputs": [],
   "source": []
  }
 ],
 "metadata": {
  "kernelspec": {
   "display_name": "physics-with-friends",
   "language": "python",
   "name": "physics-with-friends"
  },
  "language_info": {
   "codemirror_mode": {
    "name": "ipython",
    "version": 3
   },
   "file_extension": ".py",
   "mimetype": "text/x-python",
   "name": "python",
   "nbconvert_exporter": "python",
   "pygments_lexer": "ipython3",
   "version": "3.11.9"
  }
 },
 "nbformat": 4,
 "nbformat_minor": 5
}
