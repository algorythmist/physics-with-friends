{
 "cells": [
  {
   "cell_type": "markdown",
   "id": "0f9adce3-fb41-42d6-ab54-548a182557a4",
   "metadata": {},
   "source": [
    "# Chapter 7 Problems"
   ]
  },
  {
   "cell_type": "markdown",
   "id": "32f5c8ab-b91e-4f55-ac35-654a8d7558de",
   "metadata": {},
   "source": [
    "### Problem 1\n",
    "\n",
    "a) Let V be the eigenspace of A corresponding to the eigenvalue $\\lambda$. Then for any $v \\in V, Av = \\lambda v$\n",
    "\n",
    "$$\n",
    "Bv = B\\frac{1}{\\lambda}Av = \\frac{1}{\\lambda}ABv \\implies A(Bv) = {\\lambda} Bv\n",
    "$$\n",
    "\n",
    "So $Bv$ is an eigenvector of A with eigenvalue $\\lambda$, which means $Bv \\in V$"
   ]
  },
  {
   "cell_type": "markdown",
   "id": "34ebe750-37a3-4c52-b154-fc63b5d82dc3",
   "metadata": {},
   "source": [
    "### Problem 2\n",
    "\n",
    "\\begin{eqnarray}\n",
    "|A^\\dagger \\psi-\\lambda^*\\psi |^2 &=& <A^\\dagger \\psi-\\lambda^*\\psi, A^\\dagger \\psi-\\lambda^*\\psi>\\\\\n",
    "&=& <A^\\dagger \\psi,A^\\dagger \\psi> - <A^\\dagger \\psi, \\lambda^*\\psi> - <\\lambda^*\\psi, A^\\dagger \\psi> + |\\lambda|^2|\\psi|^2\\\\\n",
    "&=& <\\psi,AA^\\dagger \\psi> - \\lambda^*<\\psi,A\\psi> - \\lambda<A\\psi,\\psi> + |\\lambda|^2|\\psi|^2\\\\\n",
    "&=& <\\psi,A^\\dagger A\\psi> - \\lambda^*<\\psi,\\lambda\\psi> - \\lambda<\\lambda\\psi,\\psi> + |\\lambda|^2|\\psi|^2\\\\\n",
    "&=& <A\\psi,A\\psi> - |\\lambda|^2|\\psi|^2 - |\\lambda|^2|\\psi|^2 + |\\lambda|^2|\\psi|^2\\\\\n",
    "&=& <\\lambda\\psi,\\lambda\\psi> - |\\lambda|^2|\\psi|^2\\\\\n",
    "&=& 0\n",
    "\\end{eqnarray}"
   ]
  },
  {
   "cell_type": "markdown",
   "id": "d8d0b9c2-7364-497b-abb3-621943b5fd50",
   "metadata": {},
   "source": [
    "### Problem 3\n",
    "\n",
    "If V is invariant under A, then $v \\in V \\implies Av \\in V$. Let $w \\in V^\\perp$. Then\n",
    "\n",
    "$$\n",
    "<w, Av> = 0 \\implies <A^\\dagger w, v> = 0 \\implies A^\\dagger w \\in V^\\perp\n",
    "$$\n",
    "\n",
    "This shows that  $V^\\perp$ is invariant under $A^\\dagger$."
   ]
  },
  {
   "cell_type": "code",
   "execution_count": null,
   "id": "19ad870e-ab99-4481-bb19-82ace9e9419a",
   "metadata": {},
   "outputs": [],
   "source": []
  }
 ],
 "metadata": {
  "kernelspec": {
   "display_name": "physics-with-friends",
   "language": "python",
   "name": "physics-with-friends"
  },
  "language_info": {
   "codemirror_mode": {
    "name": "ipython",
    "version": 3
   },
   "file_extension": ".py",
   "mimetype": "text/x-python",
   "name": "python",
   "nbconvert_exporter": "python",
   "pygments_lexer": "ipython3",
   "version": "3.11.9"
  }
 },
 "nbformat": 4,
 "nbformat_minor": 5
}
