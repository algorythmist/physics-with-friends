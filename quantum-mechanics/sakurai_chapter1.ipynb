{
 "cells": [
  {
   "cell_type": "markdown",
   "id": "549361ed",
   "metadata": {},
   "source": [
    "# Sakurai Chapter 1"
   ]
  },
  {
   "cell_type": "code",
   "execution_count": 1,
   "id": "81a5dfad",
   "metadata": {},
   "outputs": [],
   "source": [
    "%load_ext autoreload\n",
    "%autoreload 2\n"
   ]
  },
  {
   "cell_type": "markdown",
   "id": "2b27374c",
   "metadata": {},
   "source": [
    "#### Latex: Define bras, kets, brackets\n",
    "$\n",
    "\\newcommand{\\ket}[1]{\\left|{#1}\\right\\rangle}\n",
    "\\newcommand{\\bra}[1]{\\left\\langle{#1}\\right|}\n",
    "\\newcommand{\\braket}[2]{\\left\\langle{#1}\\middle|{#2}\\right\\rangle}\n",
    "$"
   ]
  },
  {
   "cell_type": "markdown",
   "id": "0bf22315",
   "metadata": {},
   "source": [
    "## Notational issues\n",
    "\n",
    "Note: Bras and kets are intrinsically confusing because the mix the idea of a vector with the idea of the inner product.  Sakurai's notation is extra confusing as he often uses the same symbol to represent the operator, eigenvalue, and eignestate. There is also ambiguity when the operator acts on the left or the right. The mathematical notation for inner product does not suffer from this ambiguity.\n",
    "\n",
    "Example:\n",
    "\n",
    "$\\bra{a}\\hat{X}$. Does X act on the left on $\\bra{a}$? What if I multiply with another vector to get \n",
    "$\\bra{a}\\hat{X}\\ket{b}$. Now it looks like it acts on the right $\\hat{X}\\ket{b}$.\n",
    "\n",
    "In mathmetical notation: $<a,\\hat{X}b>$ acts on the right and $<\\hat{X}a, b>$ acts on the left.\n",
    "\n",
    "To aleviate part of the confusion, whenever there is ambiguity, I will write the operator with a hat $\\hat{A}$. So $\\hat{x}$ would be the position operator. I will also use the the same lowercase letter to indicate eignestates of this operator $\\ket{a}$. \n",
    "When there is more than one, I explicitly specify an index $\\ket{a_n}$\n",
    "\n",
    "For states, I prefer to use $\\phi, \\psi$, etc instead of $\\alpha, \\beta$.\n",
    "\n",
    "For example, instead of formula (1.3.9), I write:\n",
    "\n",
    "$$\n",
    "\\ket{\\phi} = \\sum_n \\ket{a_n}\\braket{a_n}{\\phi}\n",
    "$$\n",
    "\n",
    "which makes it clear that $a_n$ stands for eigenvectors of $\\hat{A}$ and $\\phi$ is a general state that is not necessarily an eigenstate of $\\hat{A}$.\n",
    "\n",
    "\n",
    "Note that for the position in the position representation $\\braket{x}{\\phi} ≡ \\phi(x)$.\n",
    "\n",
    "The reason is that the eigenfunction of the position eigenvalue $x$ is $\\delta(x-x')$.\n",
    "Expressing the inner product as an integral:\n",
    "\n",
    "$$\n",
    "\\braket{x}{\\phi} = ∫ dx' \\phi(x')\\delta(x-x') = \\phi(x)\n",
    "$$"
   ]
  },
  {
   "cell_type": "markdown",
   "id": "def5f573",
   "metadata": {},
   "source": [
    "## Spin 1/2 systems\n",
    "\n",
    "I will use $\\bra{0}$ instead of $\\bra{+}$ and $\\bra{1}$ instead of $\\bra{-}$\n",
    "\n",
    "Look at (1.3.35)! Can you spot the addition? With 0 and 1 we get\n",
    "\n",
    "$$\n",
    "\\hat{I} = \\ket{0}\\bra{0}+\\ket{1}\\bra{1}\n",
    "$$\n",
    "\n",
    "and 1.3.36:\n",
    "\n",
    "\n",
    "$$\n",
    "\\hat{S_z} = (\\hbar/2)(\\ket{0}\\bra{0}-\\ket{1}\\bra{1})\n",
    "$$"
   ]
  },
  {
   "cell_type": "markdown",
   "id": "87d811ee",
   "metadata": {},
   "source": [
    "## Quantum Probability\n",
    "\n",
    "The expectation of an operator $<\\hat{A}>$ depends on the state that the system is currently in. Whenever this needs to be made explicit:\n",
    "\n",
    "$$\n",
    "<\\hat{A}>_{\\phi} ≡ \\bra{\\phi}\\hat{A}\\ket{\\phi}\n",
    "$$\n",
    "\n",
    "The **dispartion** of an operator corresponds to the variance in classical probability theory and also depends on the state.\n",
    "\n",
    "$$\n",
    "<\\Delta \\hat{A})^2> = <\\hat{A}^2>- <\\hat{A}>^2\n",
    "$$\n",
    "\n",
    "Note that the complete \"uncertainty\" formula is given in 1.4.63\n",
    "\n",
    "$$\n",
    "|<\\Delta A\\Delta B>|^2 = \\frac{1}{4}|<[A,B]>|^2 + \\frac{1}{4}|<\\{A,B\\}>|^2\n",
    "$$\n",
    "\n",
    "Note at the footnote in page 35 that Sakurari does not use the universally accepted notation for $\\Delta A$.\n"
   ]
  },
  {
   "cell_type": "markdown",
   "id": "b8fc934b",
   "metadata": {},
   "source": [
    "### Problem 1.2\n",
    "\n",
    "Suppose a 2 x 2 matrix X (not necessarily Hermitian or unitary\n",
    "$X = a_0 + \\sigma \\cdot a$\n",
    "\n",
    "(a) How are $a_o$ and $a_k$ related to $tr(X)$ and $tr(\\sigma_kX)$?\n",
    "\n",
    "(b) Obtain $a_o$ and $a_k$ in terms of the matrix elements $X_{ij}$.\n",
    "\n",
    "**Answer**\n",
    "\n",
    "I will use the better notation: $X = \\sum_{i=0}^3 a_i \\sigma_i$. where $\\sigma_0 = I$.\n",
    "\n",
    "a) How $tr(X)$ relates to $tr(\\sigma_i X)$?\n",
    "\n",
    "All Pauli matrices have zero trace, so $tr(X) = 2a_0$.\n",
    "\n",
    "$tr(\\sigma_i X) = tr(\\sum_{j=0}^3 a_i \\sigma_i \\sigma_j) = a_i tr(\\sigma_i^2) = 2a_i$\n",
    "\n",
    "b) Obtain $a_i$ in terms of the matrix elements $X_{ij}$\n",
    "\n",
    "$a_i = \\frac{1}{2} tr(\\sigma_i X)$"
   ]
  },
  {
   "cell_type": "markdown",
   "id": "4cf787e8",
   "metadata": {},
   "source": [
    "### Problem 1.4\n",
    "\n",
    "I will be making use of the resolution of the identity formula $I = \\sum_a \\ket{a}\\bra{a}$\n",
    "\n",
    "a)\n",
    "$\n",
    "tr(XY) = \\sum_a \\bra{a}XY\\ket{a} = \\sum_a \\bra{a}X\\sum_{a'}\\ket{a'}\\bra{a'}Y\\ket{a} = \\\\\n",
    "\\sum_{aa'} \\bra{a}X\\ket{a'}\\bra{a'}Y\\ket{a} = \\sum_{aa'} \\bra{a'}Y\\ket{a} \\bra{a}X\\ket{a'} = \\\\\n",
    "\\sum_{a'}\\bra{a'}Y \\sum_a \\ket{a} \\bra{a}X\\ket{a'} = \\sum_a \\bra{a}YX\\ket{a} = tr(YX)\n",
    "$"
   ]
  },
  {
   "cell_type": "markdown",
   "id": "4cef28fe",
   "metadata": {},
   "source": [
    "b) Show $(XY)^+ = Y^+ X^+$\n",
    "\n",
    "The notation in the book is very awkward. Here is a better definition: $\\braket{A^+v}{w} := \\braket{v}{Aw}$\n",
    "\n",
    "Given this, we have \n",
    "\n",
    "$\n",
    "\\braket{v}{(XY)^+w} = \\braket{XYv}{w} = \\braket{Yv}{X^+w} =  \\braket{v}{Y^+X^+w}\n",
    "$\n"
   ]
  },
  {
   "cell_type": "markdown",
   "id": "b08ededf",
   "metadata": {},
   "source": [
    "c) Express $e^{if(A)}$ in ket-bra form for Hermitean A\n",
    "\n",
    "$A = \\sum_i \\lambda_i \\ket{a_i}\\bra{a_i}$, where $\\lambda_i$ are A's eigenvalues.\n",
    "The eignevalues of $e^{if(A)}$  are $e^{if(\\lambda_i)}$, sonsequently:\n",
    "\n",
    "$$\n",
    "e^{if(A)} = \\sum_i e^{if(\\lambda_i)} \\ket{a_i}\\bra{a_i}\n",
    "$$\n"
   ]
  },
  {
   "cell_type": "markdown",
   "id": "1564939b",
   "metadata": {},
   "source": [
    "d) $\\sum_a \\psi_a^*(x)\\psi_a(x')$ where $\\psi_a(x) = \\braket{x}{a}$\n",
    "\n",
    "$\n",
    "\\sum_a \\psi_a^*(x)\\psi_a(x') = \\sum_a \\braket{x'}{a}\\braket{a}{x} = \\braket{x'}{x} = \\delta(x'-x)\n",
    "$"
   ]
  },
  {
   "cell_type": "markdown",
   "id": "46773a68",
   "metadata": {},
   "source": [
    "### Problem 1.6\n",
    "\n",
    "**Answer:** The sum of two eigenvectors is an eigenvector if they have the same eigenvalue. In this case, the entire subspace spanned by these two vectors consists of eigenvectors."
   ]
  },
  {
   "cell_type": "markdown",
   "id": "efc9745e",
   "metadata": {},
   "source": [
    "### Problem 1.8\n",
    "\n",
    "**Answer:**. (Outline)\n",
    "\n",
    "Let's forget about $\\hbar/2$ since we can always added back to each matrix. \n",
    "Let $a = \\ket{+}\\bra{-}, b = \\ket{-}\\bra{+}$.\n",
    "\n",
    "Note that $S_x = a+b, S_y = i(b-a), S_z = ab-ba, a^2 = b^2 = 0$\n",
    "\n",
    "We have:\n",
    "\n",
    "$$\n",
    "S_x S_y = i(a+b)(b-a) = i(ab-ba)\\\\\n",
    "S_y S_x = i(b-a)(a+b) = i(ba-ab)\\\\\n",
    "S_x S_z = (a+b)(ab-ba) = bab-aba = b-a\\\\\n",
    "S_z S_x = (ab-ba)(a+b) = aba-bab = a-b\\\\\n",
    "etc...\n",
    "$$\n",
    "\n",
    "The desired result can be obtained by adding and subtracting these expressions.\n",
    "For example,\n",
    "$[S_x, S_y] = S_x S_y - S_y S_x = i(ab-ba)-i(ba-ab) = 2(ab-ba) = 2S_z$\n",
    "\n",
    "and\n",
    "\n",
    "$\\{S_x, S_y\\} = S_x S_y + S_y S_x = i(ab-ba)+i(ba-ab) = 0$\n"
   ]
  },
  {
   "cell_type": "markdown",
   "id": "379691ab",
   "metadata": {},
   "source": [
    "### Problem 1.9\n",
    "\n",
    "For a general direction $n$ show that $S· n = \\cos(\\theta)\\ket{+}+\\sin(\\theta)e^{i\\phi}\\ket{-}$\n",
    "\n",
    "**Answer**\n",
    "\n",
    "For a general direction of spin, the general expression is $a\\ket{+} + b\\ket{-}$ where a and b are complex numbers\n",
    "such that $|a|^2 + |b|^2 = 1$. In particular, set $a=r_1 e^{i\\phi_1}, b=r_2 e^{i\\phi_2}$.\n",
    "Then $r_1^2 + r_2^2 = 1$, so they can be parametrized as $r_1 = \\sin\\theta, r_2 = \\cos\\theta$. \n",
    "\n",
    "So the general expression is $\\cos(\\theta)e^{i\\phi_1}\\ket{+}+\\sin(\\theta)e^{i\\phi_2}\\ket{-}$. \n",
    "But we can multiply the whole number with an arbitrary phase, so chose $e^{-i\\phi_1}$ and set \n",
    "$ϕ = \\phi_2 - \\phi_1$ to get the result.\n"
   ]
  },
  {
   "cell_type": "markdown",
   "id": "23ef7bf0",
   "metadata": {},
   "source": [
    "### Problem 1.11\n",
    "$H = H_{11}\\ket{1}\\bra{1} + H_{12}(\\ket{1}\\bra{2} + \\ket{2}\\bra{1}) + H_{22}\\ket{2}\\bra{2}$\n",
    "\n",
    "A general state has the form\n",
    "\n",
    "$\n",
    "\\ket{n_+} = \\cos(b)+e^{ia}\\sin(b)\n",
    "$\n",
    "\n",
    "Applying the Hamiltonian to the general ket we get \n",
    "\n",
    "$$\n",
    "(H_{11}\\cos(b)+ H_{12}e^{ia}\\sin(b))\\ket{1}+(H_{22}e^{ia}\\sin(b)+ H_{12}\\cos(b))\\ket{2}\n",
    "$$\n",
    "\n",
    "We must equate this with $λ_+ \\ket{n_+}$ and do the same from $\\ket{n_{-}}$"
   ]
  },
  {
   "cell_type": "markdown",
   "id": "fb146fbb",
   "metadata": {},
   "source": [
    "### Problem 1.15\n",
    "\n",
    "Let A and B be observables. Suppose the simultaneous eigenkets of A and B\n",
    "$\\ket{a', b'}$ form a complete orthonormal set of base kets. Can we always conclude\n",
    "that $[A,B] = 0$?\n",
    "\n",
    "**Answer:** Yes. Since it is a complete set, we can write any vector in the Hilbert space as \n",
    "$\\ket{x} = \\sum x_{ab} \\ket{a,b}$\n",
    "\n",
    "But for any of these eigenkets $AB\\ket{a,b}-BA\\ket{a,b} = (ab-ba)\\ket{a,b} = 0$,\n",
    "which means $[A,B]\\ket{x} = 0, \\forall x$, which means $[A,B] = 0$."
   ]
  },
  {
   "cell_type": "markdown",
   "id": "e980d63d",
   "metadata": {},
   "source": [
    "### Problem 1.16\n",
    "If $\\{A,B\\} = 0$ can A and B have the same eignevector?\n",
    "\n",
    "**Answer**: Only if the eigenvalue is 0. Otherwise, suppose $A\\ket{x} = a\\ket{x}$ and $B\\ket{x} = b\\ket{x}$\n",
    "Then $\\{A,B\\}\\ket{x} = 2ab\\ket{x}$. The lhs is zero, so the rhs must also be zero."
   ]
  },
  {
   "cell_type": "markdown",
   "id": "53a99ead",
   "metadata": {},
   "source": [
    "### Problem 1.17\n",
    "\n",
    "Two observables A1 and A2, which do not involve time explicitly, are known not\n",
    "to commute,\n",
    "yet we also know that A1 and A2 both commute with the Hamiltonian:\n",
    "[A1 , H] = 0, [A2, H] = 0.\n",
    "\n",
    "Prove that the energy eigenstates are, in general, degenerate. Are there exceptions?\n",
    "As an example, you may think of the central-force problem $H = p^2/2m + V(r)$,\n",
    "with $A_1 \\rightarrow L_z, A_2 \\rightarrow L_x$\n",
    "\n",
    "**Answer**\n",
    "\n",
    "Let $\\ket{h}$ be an eigenket of H with eigenvalue $h$. Then $\\ket{Ah}$ and $\\ket{Bh}$ are also eignekets of $H$ with eigenvalue $h$. But $\\ket{Ah}$ and $\\ket{Bh}$ cannot be co-linear, so the value $h$ is degenerate. \n"
   ]
  },
  {
   "cell_type": "markdown",
   "id": "eb2d179d",
   "metadata": {},
   "source": [
    "### Problem 1.18\n",
    "\n",
    "a) Prove the Schwarz inequality\n",
    "\n",
    "The answer is given in (1.4.56-57)\n",
    "\n",
    "$$\n",
    "\\lambda = - \\frac{\\braket{b}{a}}{||b||^2}\n",
    "$$\n",
    "\n",
    "b) Show that equality holds if $\\Delta A\\ket{\\phi} = λ \\Delta B\\ket{\\phi}$,\n",
    "where $\\lambda$ is imaginary.\n",
    "\n",
    "It suffices to show that $<\\{\\Delta A, \\Delta B\\}> = 0$\n",
    "\n",
    "$$\n",
    "<\\{\\Delta A, \\Delta B\\}> = \\bra{\\phi}\\{\\Delta A, \\Delta B\\}\\ket{\\phi} = \\\\\n",
    "\\bra{\\phi}\\Delta A\\Delta B\\ket{\\phi} + \\bra{\\phi}\\Delta B\\Delta A\\ket{\\phi} = \\\\\n",
    "\\bra{\\Delta A\\phi}\\Delta B\\ket{\\phi} + \\lambda\\bra{\\phi}\\Delta B^2\\ket{\\phi} = \\\\\n",
    "\\lambda^*\\bra{\\phi}\\Delta B^2\\ket{\\phi} + \\lambda\\bra{\\phi}\\Delta B^2\\ket{\\phi}\n",
    "$$\n",
    "\n",
    "which is 0, because $λ^* = - \\lambda$\n",
    "\n",
    "c) The Gaussian wave packet satisfies the minimum uncertainty relation for momentum and position.\n",
    "Show that $\\bra{x'}\\Delta\\hat{x}\\ket{\\phi}$ = (imaginary)$\\bra{x'}\\Delta\\hat{p}\\ket{\\phi}$.\n",
    "\n",
    "Simplifications: Let $d = 1/2$ and transform to a coordinate system where $<x> = <p> = 0$.\n",
    "Then $\\phi(x) = (\\pi/2)^{-1/4}e^{-<x>^2}$.\n",
    "\n",
    "With these simplifications, $\\Delta \\hat{p} = \\hat{p}$ and $\\Delta \\hat{x} = \\hat{x}$\n",
    "\n",
    "$$\n",
    "\\bra{x'}\\Delta\\hat{p}\\ket{\\phi} = \\\\\n",
    "\\hat{p}\\phi(x) = -i\\hbar\\frac{d}{dx}(\\pi/2)^{-1/4}e^{-<x>^2} = \\\\\n",
    "2i\\hbar x\\phi(x)\n",
    "$$\n",
    "\n",
    "On the other hand\n",
    "\n",
    "$$\n",
    "\\bra{x'}\\Delta\\hat{x}\\ket{\\phi} = x\\phi(x)\n",
    "$$\n",
    "\n",
    "so $\\bra{x'}\\Delta\\hat{x}\\ket{\\phi} = \\frac{1}{2i\\hbar} \\bra{x'}\\Delta\\hat{p}\\ket{\\phi}$"
   ]
  },
  {
   "cell_type": "markdown",
   "id": "e21dc1e8",
   "metadata": {},
   "source": [
    "### Problem 1.20\n",
    "\n",
    "Find the linear combination of $\\ket{+}$ and $\\ket{-}$ kets that maximizes the uncertainty\n",
    "product $<(\\Delta S_x)^2><(\\Delta S_y)^2>$\n",
    "\n",
    "Verify explicitly that for the linear combination you found, the uncertainty relation\n",
    "for $S_x$ and $S_y$ is not violated.\n",
    "\n",
    "**Answer**\n",
    "\n",
    "TODO"
   ]
  },
  {
   "cell_type": "markdown",
   "id": "122ea3b1",
   "metadata": {},
   "source": [
    "### Problem 1.29\n",
    "\n",
    "a) Derive the following formulas\n",
    "\n",
    "$$\n",
    "[x_i, f(p)] = i\\hbar \\frac{\\partial f}{\\partial p_i}\\\\\n",
    "[p_i, g(x)] = -i\\hbar \\frac{\\partial g}{\\partial x_i}\n",
    "$$\n",
    "\n",
    "b) Evaluate $[x^2, p^2]$\n",
    "\n",
    "**Answer** (Outline)\n",
    "\n",
    "a) Since operator across different dimensions commute, it suffices to focus on the one dimensional case.\n",
    "\n",
    "Using $[A,BC] = [A,B]C + B[A,C]$, $[x,p] = i\\hbar$ and induction, we can establish\n",
    "$[x,p^n] = n i\\hbar p^{n-1}$"
   ]
  },
  {
   "cell_type": "markdown",
   "id": "11c8ee42",
   "metadata": {},
   "source": [
    "\n",
    "We start with the Taylor expansion \n",
    "$f(p) = \\sum_{n=0}^\\infty \\frac{f^{(n)}}{n!} p^n$\n",
    "\n",
    "And differentiating both sides\n",
    "\n",
    "$\\frac{df}{dp}(p) = \\sum\\limits_{n=0}^\\infty \\frac{f^{(n+1)}}{n!} p^n$\n",
    "\n",
    "We proceed by expansion:\n",
    "\n",
    "$[x,f(p)] = \\sum\\limits_{n=0}^\\infty \\frac{f^{(n)}}{n!} [p^n,x] = \\sum\\limits_{n=0}^\\infty \\frac{f^{(n)}}{n!} n i\\hbar p^{n-1}\n",
    "= i\\hbar \\sum\\limits_{n=1}^\\infty \\frac{f^{(n)}}{(n-1)!} p^{n-1} = i\\hbar \\sum\\limits_{n=0}^\\infty \\frac{f^{(n+1)}}{n!} p^{n} =\n",
    "iℏ f'(p)$\n"
   ]
  },
  {
   "cell_type": "markdown",
   "id": "3ac4751f",
   "metadata": {},
   "source": [
    "b) Using identities of the bracket, $[x^2, p^2] = [x,p^2]x+x[x,p^2]$,\n",
    "whereas $[p^2, x] = [x,p^2]x+x[x,p^2]$.\n",
    "Putting it together and after some algebra, $[x^2, p^2] = 2i\\hbar[x,p]$\n"
   ]
  },
  {
   "cell_type": "markdown",
   "id": "f9b07bdb",
   "metadata": {},
   "source": [
    "### Problem 1.33\n",
    "i) Solution: Simply write the operator $x$ in momentum representation.\n",
    "\n",
    "ii) \n",
    "Solution: $\\bra{b}x\\ket{a} = \\braket{b}{p'}\\bra{p'}x\\ket{a}$\n"
   ]
  },
  {
   "cell_type": "code",
   "execution_count": null,
   "id": "8e9a944d",
   "metadata": {},
   "outputs": [],
   "source": []
  }
 ],
 "metadata": {
  "kernelspec": {
   "display_name": "physics-with-friends",
   "language": "python",
   "name": "physics-with-friends"
  },
  "language_info": {
   "codemirror_mode": {
    "name": "ipython",
    "version": 3
   },
   "file_extension": ".py",
   "mimetype": "text/x-python",
   "name": "python",
   "nbconvert_exporter": "python",
   "pygments_lexer": "ipython3",
   "version": "3.10.13"
  }
 },
 "nbformat": 4,
 "nbformat_minor": 5
}
