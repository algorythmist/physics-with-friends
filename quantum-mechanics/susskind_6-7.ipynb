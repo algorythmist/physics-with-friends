{
 "cells": [
  {
   "cell_type": "markdown",
   "id": "70d389be",
   "metadata": {},
   "source": [
    "# Susskind - Quantum Mechanics\n",
    "## Chapters 6 - 7"
   ]
  },
  {
   "cell_type": "markdown",
   "id": "7674d946",
   "metadata": {},
   "source": [
    "#### Latex: Define bras, kets, brackets\n",
    "$\n",
    "\\newcommand{\\ket}[1]{\\left|{#1}\\right\\rangle}\n",
    "\\newcommand{\\bra}[1]{\\left\\langle{#1}\\right|}\n",
    "\\newcommand{\\braket}[2]{\\left\\langle{#1}\\middle|{#2}\\right\\rangle}\n",
    "$"
   ]
  },
  {
   "cell_type": "markdown",
   "id": "40ab4ef7",
   "metadata": {},
   "source": [
    "### Exercise 6.1\n",
    "\n",
    "$COV(X,Y) = E[XY] - E[X]E[Y]$\n",
    "\n",
    "If $P(X,Y) = P(X)P(Y)$ then also $E(X,Y) = E(X)E(Y)$, so $COV(X,Y) = 0$\n"
   ]
  },
  {
   "cell_type": "markdown",
   "id": "0996b521",
   "metadata": {},
   "source": [
    "### Exercise 6.2\n",
    "\n",
    "$$\n",
    "\\sum_i\\sum_j |a_i b_j|  = \\sum_i\\sum_j |a_i||b_j| = \\sum_i |a_i|\\sum_j |b_j| = 1\\cdot 1 = 1\n",
    "$$"
   ]
  },
  {
   "cell_type": "markdown",
   "id": "54abda3a",
   "metadata": {},
   "source": [
    "### Exercise 6.3\n",
    "\n",
    "$$\\ket{sing} = \\frac{1}{\\sqrt{2}}(\\ket{ud}-\\ket{du})\n",
    "$$\n",
    "Show that it cannot be written as a product state\n",
    "\n",
    "#### Solution\n",
    "Suppose $\\ket{sing} = \\ket{a}\\ket{b}$\n",
    "\n",
    "$$\n",
    "\\ket{a}\\ket{b}$ = (a_u\\ket{u}+a_d\\ket{d})(b_u\\ket{u}+b_d\\ket{d}) = \\\\\n",
    "a_u b_u\\ket{uu}+a_d b_u\\ket{du} + a_d b_u\\ket{du}+ a_d b_d\\ket{dd}\n",
    "$$\n",
    "\n",
    "Then we must have \n",
    "\n",
    "$$\n",
    "a_u b_u = 0 \\\\\n",
    "a_d b_d = 0\n",
    "$$\n",
    "\n",
    "But then, either $a_d b_u$ or $a_u b_d$ would have to be 0 as well"
   ]
  },
  {
   "cell_type": "markdown",
   "id": "29689ecf",
   "metadata": {},
   "source": [
    "### Exercise 6.5\n",
    "\n",
    "Show that in a product state the expectation of any component is the same as it would be for individual states.\n",
    "\n",
    "#### Solution\n",
    "This can be shown in general for any operator $O$. I must use the following: \n",
    "$\\bra{ab} = \\bra{b}\\otimes \\bra{a}$\n",
    "\n",
    "$$\n",
    "<O> = \\bra{ab}O\\otimes I\\ket{ab} = \\bra{b}⊗ \\bra{a}O\\otimes I\\ket{a}\\otimes \\ket{b} = \\\\\n",
    "\\bra{b} \\braket{a}{Oa} \\ket{b} = <O>\\braket{b}{b} = <O>\n",
    "$$\n",
    "\n",
    "Note that this only holds for states that can be written as a product. \n",
    "The more general result is in section 7.4 "
   ]
  },
  {
   "cell_type": "markdown",
   "id": "379be404",
   "metadata": {},
   "source": [
    "### Exercise 6.6\n",
    "What is the expectation of $\\sigma_x\\tau_y$ in $\\ket{sing}$?\n",
    "\n",
    "#### Solution\n",
    "\n",
    "$$\n",
    "\\sigma_x\\tau_y(\\ket{ud}-\\ket{du}) = -i\\ket{du}-i\\ket{ud} = -i(\\ket{du}+\\ket{ud})\n",
    "$$\n",
    "\n",
    "$$\n",
    "so <\\sigma_x\\tau_y> = \\frac{1}{2}(\\bra{ud}-\\bra{du})(\\ket{ud}+\\ket{du}) =  \\frac{1}{2}(\\braket{ud}{ud} - \\braket{du}{du}) = 0\n",
    "$$"
   ]
  },
  {
   "cell_type": "markdown",
   "id": "8132a636",
   "metadata": {},
   "source": [
    "### Exercise 6.9\n",
    "\n",
    "#### Solution\n",
    "\n",
    "$\\ket{T_i}$ all have the same eignevalue 1. $\\ket{sing}$ has eignevalue -3"
   ]
  },
  {
   "cell_type": "markdown",
   "id": "e240bac8",
   "metadata": {},
   "source": [
    "### Exercise 6.10\n",
    "\n",
    "$$\n",
    "H = \\omega\\hbar (\\sigma\\cdot\\tau)\n",
    "$$\n",
    "I changed H to make the exponentials easier.\n",
    "\n",
    "\n",
    "From 6.9 we know 4 eigenvectors of $\\sigma\\cdot\\tau$. The eigenvectors are orthormal. Furthermore, a 4x4 matrix can have at most 4 eigenvectors, so this is the complete set of eigenvectors.\n",
    "\n",
    "Consequently, the only eignvalues of H are $-3\\omega\\hbar$ and $\\omega\\hbar$.\n",
    "\n",
    "$$\n",
    "\\ket{uu} = \\frac{1}{\\sqrt{2}}(T_2+T_3) \\implies\\\\\n",
    "\\ket{uu}_t  = \\frac{1}{\\sqrt{2}}(e^{-i\\omega}T_2+e^{-i\\omega}T_3) = \\frac{e^{-i\\omega}}{\\sqrt{2}}(T_2+T_3) =\\\\\n",
    "\\frac{e^{-i\\omega}}{2}\\ket{uu}\n",
    "$$\n",
    "\n",
    "Even though it starts in a state that is not an eigenvector, the expectation stays constant.\n",
    "\n",
    "$\\ket{dd}$ produces a similar result.\n",
    "\n",
    "$\\ket{ud} = \\frac{1}{\\sqrt{2}}(\\ket{sing}+T_1)$ is more interesting\n",
    "\n",
    "$$\n",
    "\\ket{ud}_t = \\frac{1}{\\sqrt{2}}(e^{-i\\omega}T_1+e^{i3\\omega}\\ket{sing})\n",
    "$$"
   ]
  },
  {
   "cell_type": "markdown",
   "id": "a52969c6",
   "metadata": {},
   "source": [
    "## Chapter 7"
   ]
  },
  {
   "cell_type": "code",
   "execution_count": 1,
   "id": "3ac20505",
   "metadata": {},
   "outputs": [
    {
     "data": {
      "text/plain": [
       "array([[ 1,  0,  0,  0],\n",
       "       [ 0,  1,  0,  0],\n",
       "       [ 0,  0, -1,  0],\n",
       "       [ 0,  0,  0, -1]])"
      ]
     },
     "execution_count": 1,
     "metadata": {},
     "output_type": "execute_result"
    }
   ],
   "source": [
    "import numpy as np\n",
    "\n",
    "sigma_z = [[1, 0],[0, -1]]\n",
    "I = [[1,0],[0,1]]\n",
    "\n",
    "np.kron(sigma_z, I)"
   ]
  },
  {
   "cell_type": "code",
   "execution_count": 2,
   "id": "a0b0cb8d",
   "metadata": {},
   "outputs": [
    {
     "data": {
      "text/plain": [
       "array([1, 0, 0, 0])"
      ]
     },
     "execution_count": 2,
     "metadata": {},
     "output_type": "execute_result"
    }
   ],
   "source": [
    "u = [1,0]\n",
    "d = [0, 1]\n",
    "\n",
    "np.kron(u,u)"
   ]
  },
  {
   "cell_type": "code",
   "execution_count": 3,
   "id": "7fb28f4c",
   "metadata": {},
   "outputs": [
    {
     "data": {
      "text/plain": [
       "array([0, 1, 0, 0])"
      ]
     },
     "execution_count": 3,
     "metadata": {},
     "output_type": "execute_result"
    }
   ],
   "source": [
    "np.kron(u,d)"
   ]
  },
  {
   "cell_type": "code",
   "execution_count": 4,
   "id": "59f0e478",
   "metadata": {},
   "outputs": [],
   "source": [
    "# Define Pauli matrices\n",
    "\n",
    "sigma_x = [[0, 1],[1, 0]]\n",
    "sigma_y = [[1j, 0], [0,-1j]]\n",
    "\n",
    "# Define 2-spin states\n",
    "uu = np.kron(u,u)\n",
    "ud = np.kron(u,d)\n",
    "du = np.kron(d,u)\n",
    "dd = np.kron(d,d)"
   ]
  },
  {
   "cell_type": "markdown",
   "id": "53e0027f",
   "metadata": {},
   "source": [
    "### Exercise 7.1"
   ]
  },
  {
   "cell_type": "code",
   "execution_count": 5,
   "id": "2568be40",
   "metadata": {},
   "outputs": [
    {
     "data": {
      "text/plain": [
       "array([[0, 1, 0, 0],\n",
       "       [1, 0, 0, 0],\n",
       "       [0, 0, 0, 1],\n",
       "       [0, 0, 1, 0]])"
      ]
     },
     "execution_count": 5,
     "metadata": {},
     "output_type": "execute_result"
    }
   ],
   "source": [
    "operator = np.kron(I, sigma_x)\n",
    "operator"
   ]
  },
  {
   "cell_type": "code",
   "execution_count": 6,
   "id": "3f00cf56",
   "metadata": {},
   "outputs": [
    {
     "data": {
      "text/plain": [
       "array([0, 1, 0, 0])"
      ]
     },
     "execution_count": 6,
     "metadata": {},
     "output_type": "execute_result"
    }
   ],
   "source": [
    "operator @ uu"
   ]
  },
  {
   "cell_type": "code",
   "execution_count": 7,
   "id": "c0c3a24e",
   "metadata": {},
   "outputs": [
    {
     "data": {
      "text/plain": [
       "array([0, 0, 1, 0])"
      ]
     },
     "execution_count": 7,
     "metadata": {},
     "output_type": "execute_result"
    }
   ],
   "source": [
    "operator @ dd"
   ]
  },
  {
   "cell_type": "code",
   "execution_count": 8,
   "id": "d87e7ec2",
   "metadata": {},
   "outputs": [
    {
     "data": {
      "text/plain": [
       "array([1, 0, 0, 0])"
      ]
     },
     "execution_count": 8,
     "metadata": {},
     "output_type": "execute_result"
    }
   ],
   "source": [
    "operator @ ud"
   ]
  },
  {
   "cell_type": "code",
   "execution_count": 9,
   "id": "231f884d",
   "metadata": {},
   "outputs": [
    {
     "data": {
      "text/plain": [
       "array([0, 0, 0, 1])"
      ]
     },
     "execution_count": 9,
     "metadata": {},
     "output_type": "execute_result"
    }
   ],
   "source": [
    "operator @ du"
   ]
  },
  {
   "cell_type": "markdown",
   "id": "20fbbc2c",
   "metadata": {},
   "source": [
    "## Exercise 7.2"
   ]
  },
  {
   "cell_type": "code",
   "execution_count": 10,
   "id": "242d96b3",
   "metadata": {},
   "outputs": [
    {
     "data": {
      "text/plain": [
       "array([[ 0,  1,  0,  0],\n",
       "       [ 1,  0,  0,  0],\n",
       "       [ 0,  0,  0, -1],\n",
       "       [ 0,  0, -1,  0]])"
      ]
     },
     "execution_count": 10,
     "metadata": {},
     "output_type": "execute_result"
    }
   ],
   "source": [
    "operator = np.kron(sigma_z, sigma_x)\n",
    "operator"
   ]
  },
  {
   "cell_type": "code",
   "execution_count": 11,
   "id": "9f9bfc11",
   "metadata": {},
   "outputs": [
    {
     "data": {
      "text/plain": [
       "array([0, 1, 0, 0])"
      ]
     },
     "execution_count": 11,
     "metadata": {},
     "output_type": "execute_result"
    }
   ],
   "source": [
    "operator @ uu"
   ]
  },
  {
   "cell_type": "code",
   "execution_count": 12,
   "id": "b5287340",
   "metadata": {},
   "outputs": [
    {
     "data": {
      "text/plain": [
       "array([ 0,  0, -1,  0])"
      ]
     },
     "execution_count": 12,
     "metadata": {},
     "output_type": "execute_result"
    }
   ],
   "source": [
    "operator @ dd"
   ]
  },
  {
   "cell_type": "code",
   "execution_count": 13,
   "id": "c1433193",
   "metadata": {},
   "outputs": [
    {
     "data": {
      "text/plain": [
       "array([1, 0, 0, 0])"
      ]
     },
     "execution_count": 13,
     "metadata": {},
     "output_type": "execute_result"
    }
   ],
   "source": [
    "operator @ ud"
   ]
  },
  {
   "cell_type": "code",
   "execution_count": 14,
   "id": "2b7f7f62",
   "metadata": {},
   "outputs": [
    {
     "data": {
      "text/plain": [
       "array([ 0,  0,  0, -1])"
      ]
     },
     "execution_count": 14,
     "metadata": {},
     "output_type": "execute_result"
    }
   ],
   "source": [
    "operator @ du"
   ]
  },
  {
   "cell_type": "markdown",
   "id": "a967841d",
   "metadata": {},
   "source": [
    "## Projection Operators\n",
    "\n",
    "$\\ket{\\psi}\\bra{\\psi}$ projects onto the state $\\psi$\n",
    "\n",
    "#### Properties\n",
    "\n",
    "Let P be a projection operator. Then \n",
    "\n",
    "a) P is Hermitean\n",
    "\n",
    "b) $\\ket{\\psi}$ is an eigenvector with eigenvalue 1\n",
    "\n",
    "c) The eigenvalues of P are 0 or 1\n",
    "\n",
    "d) $P^2 = P$\n",
    "\n",
    "e) $TrP = 1$\n",
    "\n",
    "f) If $\\ket{i}$ is an orthonormal basis, then $\\sum_i\\ket{i}\\bra{i} = I$\n"
   ]
  },
  {
   "cell_type": "markdown",
   "id": "54bd1a28",
   "metadata": {},
   "source": [
    "### Proof\n",
    "\n",
    "a) $P_{ij} = \\braket{i}{\\psi}\\braket{\\psi}{j}= \\braket{j}{\\psi}^* \\braket{\\psi}{i}^* = \n",
    "\\left(\\braket{j}{\\psi} \\braket{\\psi}{i}\\right)^* = P_{ji}^*$\n",
    "\n",
    "b) $P\\ket{\\psi} = \\ket{\\psi}\\braket{\\psi}{\\psi} = \\ket{\\psi}$\n",
    "\n",
    "c) Let $\\ket{\\phi}$ be orthogonal to $\\ket{\\psi}$. Then\n",
    "\n",
    "$\\ket{\\psi}\\braket{\\psi}{\\phi} = 0$, so every orthogonal vector is an eigenvector with eigenvalue 0\n",
    "\n",
    "d) $P^2 = \\ket{\\psi}\\braket{\\psi}{\\psi}\\bra{\\psi} = \\ket{\\psi}\\bra{\\psi} = P$\n",
    "\n",
    "e) $TrP = \\sum_i\\braket{i}{\\psi}\\braket{\\psi}{i} = \\sum_i\\braket{i}{\\psi}\\braket{i}{\\psi}^* = \\sum_i |\\braket{i}{\\psi}|^2 = 1$\n",
    "\n",
    "f) \n",
    "\n",
    "Recall, for an orthonormal basis $\\ket{i}$ and any vector $\\ket{\\phi} = \\sum_i\\ket{i}\\braket{i}{\\phi}$ (a)\n",
    "\n",
    "No take the  operator $K = \\sum_i\\ket{i}\\bra{i}$ and apply to $\\ket{\\phi}$, we get:\n",
    "\n",
    "$K\\ket{\\phi} = \\sum_i\\ket{i}\\braket{i}{\\phi}$ \n",
    "\n",
    "But from (a) we know that $\\sum_i\\ket{i}\\braket{i}{\\phi}= \\ket{\\phi} $.\n",
    "\n",
    "Therefore $K\\ket{\\phi} = \\ket{\\phi}$, which means $K = I$.\n",
    "\n"
   ]
  },
  {
   "cell_type": "markdown",
   "id": "b3f4ad91",
   "metadata": {},
   "source": [
    "## Mixed States\n",
    "\n",
    "Given a set of states $\\ket{\\psi_i}$, not necessarily orthogonal, and a (classical) probability distribution $p_i$ \n",
    "over the states, the **density matrix** is defined as\n",
    "\n",
    "$$\n",
    "\\rho = \\sum_i p_i \\ket{\\psi_i}\\bra{\\psi_i}\n",
    "$$\n",
    "\n",
    "A *pure state* is a state of the form $\\ket{\\psi}\\bra{\\psi}$ (a projection operator).\n",
    "\n",
    "#### Properties\n",
    "\n",
    "a) $\\rho$ is Hermitean\n",
    "\n",
    "b) Trρ = 1\n",
    "\n",
    "c) The eignevalues are positive and lie between 0 and 1. So, if any eigenvector has eigenvalue 1, the others are 0\n",
    "\n",
    "d) For a pure state\n",
    "$$\n",
    "\\rho^2 = \\rho\\\\\n",
    "Tr\\rho^2 = 1\n",
    "$$\n",
    "\n",
    "e) For a mixed state\n",
    "\n",
    "$$\n",
    "\\rho^2 \\neq \\rho\\\\\n",
    "Tr\\rho^2 < 1\n",
    "$$"
   ]
  },
  {
   "cell_type": "markdown",
   "id": "efb3b98b",
   "metadata": {},
   "source": [
    "#### Proof\n",
    "\n",
    "a) \n",
    "$$\n",
    "\\rho_{ij} = \\sum_k p_k \\braket{i}{\\psi_k}\\braket{\\psi_k}{j} =\\\\\n",
    " \\sum_k p_k \\braket{j}{\\psi_k}^*\\braket{\\psi_k}{i}^* = \\\\\n",
    " \\left(\\sum_k p_k \\braket{j}{\\psi_k}\\braket{\\psi_k}{i}\\right)^* = \\rho_{ji}^*\n",
    "$$\n",
    "\n",
    "b)\n",
    "\n",
    "$$\n",
    "Trρ = \\sum_i \\bra{i}\\rho\\ket{i} = \\sum_{ik}p_k\\braket{i}{\\psi_k}\\braket{\\psi_k}{i} = \\\\\n",
    "\\sum_{ik}p_k|\\braket{i}{\\psi_k}|^2 = \\sum_k p_k \\sum_i |\\braket{i}{\\psi_k}|^2 = \\\\\n",
    "\\sum_k p_k = 1\n",
    "$$\n",
    "\n",
    "c) Let $\\ket{i}$ be an orthonormal \n",
    "\n",
    "d) A pure state is just a projection, so we have already proved that."
   ]
  },
  {
   "cell_type": "markdown",
   "id": "c3f8e622",
   "metadata": {},
   "source": [
    "### Problem 7.4"
   ]
  },
  {
   "cell_type": "code",
   "execution_count": 15,
   "id": "c56217ab",
   "metadata": {},
   "outputs": [],
   "source": [
    "import sympy as sp\n",
    "\n",
    "a = sp.Symbol(\"a\", complex = True)\n",
    "b = sp.Symbol(\"b\", complex = True)\n",
    "rho = sp.Matrix([[sp.conjugate(a)*a, sp.conjugate(a)*b],[sp.conjugate(b)*a, sp.conjugate(b)*b]])"
   ]
  },
  {
   "cell_type": "code",
   "execution_count": 16,
   "id": "c9e5ab3c",
   "metadata": {},
   "outputs": [
    {
     "data": {
      "text/latex": [
       "$\\displaystyle \\left[\\begin{matrix}a \\overline{a} & b \\overline{a}\\\\a \\overline{b} & b \\overline{b}\\end{matrix}\\right]$"
      ],
      "text/plain": [
       "Matrix([\n",
       "[a*conjugate(a), b*conjugate(a)],\n",
       "[a*conjugate(b), b*conjugate(b)]])"
      ]
     },
     "execution_count": 16,
     "metadata": {},
     "output_type": "execute_result"
    }
   ],
   "source": [
    "rho"
   ]
  },
  {
   "cell_type": "code",
   "execution_count": 17,
   "id": "268f59c5",
   "metadata": {},
   "outputs": [
    {
     "data": {
      "text/latex": [
       "$\\displaystyle \\left[\\begin{matrix}1 & 0\\\\0 & 0\\end{matrix}\\right]$"
      ],
      "text/plain": [
       "Matrix([\n",
       "[1, 0],\n",
       "[0, 0]])"
      ]
     },
     "execution_count": 17,
     "metadata": {},
     "output_type": "execute_result"
    }
   ],
   "source": [
    "rho.subs([(a, 1), (b,0)])"
   ]
  },
  {
   "cell_type": "code",
   "execution_count": 23,
   "id": "d5827651",
   "metadata": {},
   "outputs": [
    {
     "data": {
      "text/plain": [
       "array([0.70710678, 0.70710678])"
      ]
     },
     "execution_count": 23,
     "metadata": {},
     "output_type": "execute_result"
    }
   ],
   "source": [
    "def normalize(v):\n",
    "    x = v[0]\n",
    "    y = v[1]\n",
    "    norm = np.sqrt(x**2+y**2)\n",
    "    return [x,y]/norm\n",
    "\n",
    "normalize([1.,1.])"
   ]
  },
  {
   "cell_type": "code",
   "execution_count": 1,
   "id": "974942a1",
   "metadata": {},
   "outputs": [],
   "source": [
    "def plug_in(matrix, values):\n",
    "    nvalues = normalize(values)\n",
    "    return matrix.subs([(a, nvalues[0]), (b,nvalues[1])])"
   ]
  },
  {
   "cell_type": "code",
   "execution_count": 27,
   "id": "7b3b8f31",
   "metadata": {},
   "outputs": [
    {
     "data": {
      "text/latex": [
       "$\\displaystyle \\left[\\begin{matrix}0.5 & 0.5\\\\0.5 & 0.5\\end{matrix}\\right]$"
      ],
      "text/plain": [
       "Matrix([\n",
       "[0.5, 0.5],\n",
       "[0.5, 0.5]])"
      ]
     },
     "execution_count": 27,
     "metadata": {},
     "output_type": "execute_result"
    }
   ],
   "source": [
    "plug_in(rho, [1,1])"
   ]
  },
  {
   "cell_type": "code",
   "execution_count": 28,
   "id": "48bc09cb",
   "metadata": {},
   "outputs": [
    {
     "data": {
      "text/latex": [
       "$\\displaystyle \\left[\\begin{matrix}0.8 & 0.4\\\\0.4 & 0.2\\end{matrix}\\right]$"
      ],
      "text/plain": [
       "Matrix([\n",
       "[0.8, 0.4],\n",
       "[0.4, 0.2]])"
      ]
     },
     "execution_count": 28,
     "metadata": {},
     "output_type": "execute_result"
    }
   ],
   "source": [
    "plug_in(rho, [2,1])"
   ]
  },
  {
   "cell_type": "code",
   "execution_count": 31,
   "id": "219da6d5",
   "metadata": {},
   "outputs": [],
   "source": [
    "r = plug_in(rho, [1,1+1j])"
   ]
  },
  {
   "cell_type": "code",
   "execution_count": 33,
   "id": "946a18bf",
   "metadata": {},
   "outputs": [
    {
     "data": {
      "text/latex": [
       "$\\displaystyle \\left[\\begin{matrix}0.447213595499958 & 0.447213595499958 + 0.447213595499958 i\\\\0.447213595499958 - 0.447213595499958 i & 0.894427190999916\\end{matrix}\\right]$"
      ],
      "text/plain": [
       "Matrix([\n",
       "[                      0.447213595499958, 0.447213595499958 + 0.447213595499958*I],\n",
       "[0.447213595499958 - 0.447213595499958*I,                       0.894427190999916]])"
      ]
     },
     "execution_count": 33,
     "metadata": {},
     "output_type": "execute_result"
    }
   ],
   "source": [
    "sp.simplify(r)"
   ]
  },
  {
   "cell_type": "markdown",
   "id": "33b12204",
   "metadata": {},
   "source": [
    "### Problem 7.5\n",
    "\n",
    "#### Solution\n",
    "\n",
    "$\\rho^2 = \n",
    "\\begin{bmatrix}\n",
    "\\frac{1}{9} & 0\\\\\n",
    "0 & \\frac{4}{9}\n",
    "\\end{bmatrix}\n",
    "$\n",
    "\n",
    "$Tr(\\rho) = 1$\n",
    "\n",
    "$Tr(\\rho^2) = 5/9$\n",
    "\n",
    "mixed state"
   ]
  },
  {
   "cell_type": "markdown",
   "id": "1949a3d9",
   "metadata": {},
   "source": [
    "### Problem 7.6\n",
    "\n",
    "$$\n",
    "Tr(\\rho) = \\sum_i \\rho_{ii} = \\sum_i \\sum_j \\psi^*(i,j)\\psi(i,j) = \\sum_{ij} |\\psi(i,j)|^2 = 1\n",
    "$$"
   ]
  },
  {
   "cell_type": "markdown",
   "id": "921c83ef",
   "metadata": {},
   "source": [
    "### Problem 7.7 \n",
    "\n",
    "#### Solution\n",
    "\n",
    "$\\rho^2 = \n",
    "\\begin{bmatrix}\n",
    "\\frac{1}{4} & 0\\\\\n",
    "0 & \\frac{1}{4}\n",
    "\\end{bmatrix}\n",
    "$\n",
    "\n",
    "$Trρ < Tr\\rho^2$ indicates this is a mixed state. An entagled state must be one of minimal information,\n",
    "which is achieved when all probabilities are equal."
   ]
  },
  {
   "cell_type": "markdown",
   "id": "6ae4b74b",
   "metadata": {},
   "source": [
    "### Problem 7.8\n",
    "\n",
    "Compute A and B density matrices for the following states\n",
    "\n",
    "$$\n",
    "\\ket{\\psi_1} = \\frac{1}{2}\\left(\\ket{uu}+\\ket{ud}+\\ket{du}+\\ket{dd} \\right)\n",
    "$$\n",
    "\n",
    "$$\n",
    "\\ket{\\psi_2} = \\frac{1}{\\sqrt{2}}\\left(\\ket{uu}+\\ket{dd} \\right)\n",
    "$$\n",
    "\n",
    "$$\n",
    "\\ket{\\psi_3} = \\frac{1}{5}\\left(3\\ket{uu}+4\\ket{ud} \\right)\n",
    "$$\n",
    "\n",
    "#### Solution\n",
    "\n",
    "In the first two cases, A and B densities are the same because exchanging u and d results in the same state (parity!)\n",
    "The only interesting case is $\\psi_3$. \n",
    "\n",
    "$\\psi(u,u) = 3/5, \\psi(u,d) = 4/5$\n",
    "\n",
    "$\\rho_A = \n",
    "\\begin{bmatrix}\n",
    "1 & 0\\\\\n",
    "0 & 0\n",
    "\\end{bmatrix}\n",
    "$ \n",
    "\n",
    "$\\rho_B = \n",
    "\\begin{bmatrix}\n",
    "\\frac{9}{25} & 0\\\\\n",
    "0 & \\frac{16}{25}\n",
    "\\end{bmatrix}\n",
    "$ \n",
    "\n",
    "Alice has complete certainty that she will measure $u$ because that's her only option. Bob's results are mixed"
   ]
  },
  {
   "cell_type": "markdown",
   "id": "038f6879",
   "metadata": {},
   "source": [
    "### Problem 7.9\n",
    "\n",
    "The statement here is too wishy washy. The product state cobmines two vector spaces. Furthermore A, and B are operators in two different vector spaces so they cannot be multiplied. \n",
    "I suppose the author means to use $A\\otimes I$ and  $I\\otimes B$ as the operators on the product space. This requires additional care in re-interpreting the product AB.\n"
   ]
  },
  {
   "cell_type": "markdown",
   "id": "e7c94c9b",
   "metadata": {},
   "source": [
    "### Problem 7.10\n",
    "\n",
    "$$\n",
    "a_u\\ket{u,b}+a_d\\ket{d,b} = (a_u\\ket{u}+a_d\\ket{d})\\otimes\\ket{b}\n",
    "$$\n",
    "\n",
    "so it's a product state"
   ]
  }
 ],
 "metadata": {
  "kernelspec": {
   "display_name": "computational-physics",
   "language": "python",
   "name": "computational-physics"
  },
  "language_info": {
   "codemirror_mode": {
    "name": "ipython",
    "version": 3
   },
   "file_extension": ".py",
   "mimetype": "text/x-python",
   "name": "python",
   "nbconvert_exporter": "python",
   "pygments_lexer": "ipython3",
   "version": "3.10.6"
  },
  "latex_envs": {
   "LaTeX_envs_menu_present": true,
   "autoclose": false,
   "autocomplete": true,
   "bibliofile": "biblio.bib",
   "cite_by": "apalike",
   "current_citInitial": 1,
   "eqLabelWithNumbers": true,
   "eqNumInitial": 1,
   "hotkeys": {
    "equation": "Ctrl-E",
    "itemize": "Ctrl-I"
   },
   "labels_anchors": false,
   "latex_user_defs": false,
   "report_style_numbering": false,
   "user_envs_cfg": false
  }
 },
 "nbformat": 4,
 "nbformat_minor": 5
}
