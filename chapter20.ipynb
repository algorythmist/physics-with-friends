{
 "cells": [
  {
   "cell_type": "markdown",
   "id": "0a1e7f99",
   "metadata": {},
   "source": [
    "# Road to Reality Chapter 20"
   ]
  },
  {
   "cell_type": "markdown",
   "id": "9f4c897b",
   "metadata": {},
   "source": [
    "## Euler Lagrange Equations\n",
    "$\\frac{\\partial L}{\\partial q_i} = \\frac{d}{dt} \\frac{{\\partial L}}{{\\partial \\dot{q_i}}}$\n",
    "\n",
    "where $L = T - V$"
   ]
  },
  {
   "cell_type": "markdown",
   "id": "2e884f99",
   "metadata": {},
   "source": [
    "### Problem 20.1\n",
    "For a single particle, $T = \\frac{1}{2}mv^2 = \\frac{m}{2}(\\dot{x}^2 + \\dot{y}^2 + \\dot{z}^2)$\n",
    "\n",
    "The potential is 0 in the x and y directions, and $mgz$ in the z direction so\n",
    "\n",
    "$L = \\frac{m}{2}(\\dot{x}^2 + \\dot{y}^2 + \\dot{z}^2) -mgz$\n",
    "\n",
    "To obtain the parabolic motion, it suffices to solve on a plane perpendicular to the earth, say the x direction.\n",
    "\n",
    "The EL equation in the x direction yields\n",
    "\n",
    "$\\frac{\\partial L}{\\partial x} = 0 → m\\ddot{x} 0 → v = v_x(0)$\n",
    "\n",
    "In the z-direction the EL equation yields\n",
    "$ m\\ddot{z} = -mg \\rightarrow \\ddot{z} = -g$\n",
    "\n",
    "The system can be solved to produce a parabola in the x-z plane."
   ]
  },
  {
   "cell_type": "markdown",
   "id": "07475c63",
   "metadata": {},
   "source": [
    "### Problem 20.2\n",
    "$ dS = d(dp∧ dq) = d^2p∧ dq + dp ∧ d^2p = 0$ because $d^2 = 0 $\n"
   ]
  },
  {
   "cell_type": "markdown",
   "id": "4d13acd7",
   "metadata": {},
   "source": [
    "## Hamilton equations\n",
    "\n",
    "Define $p_i := \\frac{\\partial L}{\\partial q_i}$ (H1)\n",
    "\n",
    "Define $H := \\dot{q^i}\\frac{\\partial L}{\\partial \\dot{q_i}} - L$ (H2)\n",
    "\n",
    "Then\n",
    "\n",
    "$\\frac{dp_i}{dt} = -\\frac{\\partial{H}}{\\partial q^i}, \\frac{dq^i}{dt} = -\\frac{\\partial{H}}{\\partial p_i}$"
   ]
  },
  {
   "cell_type": "markdown",
   "id": "5f5dd344",
   "metadata": {},
   "source": [
    "### Problem 20.3\n",
    "Explain why a vector fields on $T^*(C)$ given by\n",
    "\n",
    "$$\n",
    "\\frac{\\partial{H}}{\\partial p_i}\\frac{\\partial}{\\partial q^i} - \\frac{\\partial{H}}{\\partial q^i}\\frac{\\partial}{\\partial p_i}\n",
    "$$\n",
    "\n",
    "TODO: I don't understand this because $T^*(C)$ has dimension N, whereas this \"vector field\" has dimension 2N"
   ]
  },
  {
   "cell_type": "markdown",
   "id": "7a116826",
   "metadata": {},
   "source": [
    "### Problem 20.4\n",
    "\n",
    "Using (H1) we find that the definition of p coincides with the \"normal\" definition $p_i = \\frac{\\dot{x^i}}{2m}$.\n",
    "Using (H2) we can simply obtain H from L:\n",
    "\n",
    "$ H = \\sum \\dot{x}^i x^i- L = \\sum (x^i)^2 - 1/2 \\sum \\dot{x^i}^2 + mgz = \\sum \\frac{p_i^2}{2m} + mgz$"
   ]
  },
  {
   "cell_type": "markdown",
   "id": "15dc7273",
   "metadata": {},
   "source": [
    "### Problem 20.5\n",
    "\n",
    "Simply plug in the general solution. $\\omega2\\pi$ is the frequency because $cos(2πn \\frac{\\omega}{2\\pi}) = cos(\\frac{\\omega}{2\\pi})$"
   ]
  },
  {
   "cell_type": "markdown",
   "id": "9747ad38",
   "metadata": {},
   "source": [
    "### Problem 20.6\n",
    "Derive the full equation for a pendulum\n",
    "\n",
    "TODO"
   ]
  },
  {
   "cell_type": "markdown",
   "id": "0e173ae2",
   "metadata": {},
   "source": [
    "### Problem 20.7\n",
    "Explain why for a stable equilibrium, $q^i = 0$ represents a local minumum of the potential energy.\n",
    "\n",
    "Explanation: The potential energy is proportional to position and not negative (in this problem). Therefore 0 is a local minimum.\n"
   ]
  },
  {
   "cell_type": "code",
   "execution_count": null,
   "id": "c269947a",
   "metadata": {},
   "outputs": [],
   "source": []
  }
 ],
 "metadata": {
  "kernelspec": {
   "display_name": "computational-physics",
   "language": "python",
   "name": "computational-physics"
  },
  "language_info": {
   "codemirror_mode": {
    "name": "ipython",
    "version": 3
   },
   "file_extension": ".py",
   "mimetype": "text/x-python",
   "name": "python",
   "nbconvert_exporter": "python",
   "pygments_lexer": "ipython3",
   "version": "3.9.7"
  }
 },
 "nbformat": 4,
 "nbformat_minor": 5
}
